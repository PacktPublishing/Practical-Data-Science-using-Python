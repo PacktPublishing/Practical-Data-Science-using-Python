{
 "cells": [
  {
   "cell_type": "markdown",
   "metadata": {
    "_uuid": "3334ba2e95b848f8f168b535846b480287a57f8c"
   },
   "source": [
    "# Logistic Regression: Telecom Churn Case Study"
   ]
  },
  {
   "cell_type": "markdown",
   "metadata": {
    "_uuid": "6ff8bafbc9d475de87e130c04cf1633339ff6bcf"
   },
   "source": [
    "#### A Telecom company is losing Customers to its competitors. With the historical customer churn information that they have, they want a ML Model to predict, which of their present customers may churn. \n",
    "\n",
    "We have decided to create a `Logistic Regression` model to solve the problem. The Logistic Regression model will be expected to output a `Churn Probability` for every data under test. "
   ]
  },
  {
   "cell_type": "markdown",
   "metadata": {},
   "source": [
    "The input data is spread over 3 separate files - `churn_data.csv`, `cust_data.csv` and `internet_data.csv`. \n",
    "\n",
    "The Data includes the following: \n",
    "\n",
    "- `Personal Data (gender, children, whether senior citizen, dependents...)`\n",
    "- `Services Related (Tenure with the provider, payment method, internet packs purchased, special offers...)`\n",
    "- `Charges being incurred (Amount of recharge done per month...)`"
   ]
  },
  {
   "cell_type": "markdown",
   "metadata": {},
   "source": [
    "### Import Libraries"
   ]
  },
  {
   "cell_type": "code",
   "execution_count": 1,
   "metadata": {
    "_uuid": "81da2023fe6d7a444c154d9d2b81c58a0f93bdc6"
   },
   "outputs": [],
   "source": [
    "import warnings\n",
    "warnings.filterwarnings('ignore')\n",
    "import numpy as np\n",
    "import pandas as pd\n",
    "import statsmodels.api as smd\n",
    "from sklearn.linear_model import LogisticRegression\n",
    "import scipy.stats as st\n",
    "import sklearn\n",
    "from sklearn.metrics import confusion_matrix\n",
    "import matplotlib.mlab as mlab\n",
    "import matplotlib.pyplot as plt \n",
    "import seaborn as sns"
   ]
  },
  {
   "cell_type": "markdown",
   "metadata": {},
   "source": [
    "### Import the three Input Datasets "
   ]
  },
  {
   "cell_type": "code",
   "execution_count": 2,
   "metadata": {
    "_uuid": "5e5a70e798948bc26c32e7b8324ee86db1331973"
   },
   "outputs": [
    {
     "data": {
      "text/html": [
       "<div>\n",
       "<style scoped>\n",
       "    .dataframe tbody tr th:only-of-type {\n",
       "        vertical-align: middle;\n",
       "    }\n",
       "\n",
       "    .dataframe tbody tr th {\n",
       "        vertical-align: top;\n",
       "    }\n",
       "\n",
       "    .dataframe thead th {\n",
       "        text-align: right;\n",
       "    }\n",
       "</style>\n",
       "<table border=\"1\" class=\"dataframe\">\n",
       "  <thead>\n",
       "    <tr style=\"text-align: right;\">\n",
       "      <th></th>\n",
       "      <th>customerID</th>\n",
       "      <th>tenure</th>\n",
       "      <th>PhoneService</th>\n",
       "      <th>Contract</th>\n",
       "      <th>PaperlessBilling</th>\n",
       "      <th>PaymentMethod</th>\n",
       "      <th>MonthlyCharges</th>\n",
       "      <th>TotalCharges</th>\n",
       "      <th>Churn</th>\n",
       "    </tr>\n",
       "  </thead>\n",
       "  <tbody>\n",
       "    <tr>\n",
       "      <th>0</th>\n",
       "      <td>7590-VHVEG</td>\n",
       "      <td>1</td>\n",
       "      <td>No</td>\n",
       "      <td>Month-to-month</td>\n",
       "      <td>Yes</td>\n",
       "      <td>Electronic check</td>\n",
       "      <td>29.85</td>\n",
       "      <td>29.85</td>\n",
       "      <td>No</td>\n",
       "    </tr>\n",
       "    <tr>\n",
       "      <th>1</th>\n",
       "      <td>5575-GNVDE</td>\n",
       "      <td>34</td>\n",
       "      <td>Yes</td>\n",
       "      <td>One year</td>\n",
       "      <td>No</td>\n",
       "      <td>Mailed check</td>\n",
       "      <td>56.95</td>\n",
       "      <td>1889.5</td>\n",
       "      <td>No</td>\n",
       "    </tr>\n",
       "    <tr>\n",
       "      <th>2</th>\n",
       "      <td>3668-QPYBK</td>\n",
       "      <td>2</td>\n",
       "      <td>Yes</td>\n",
       "      <td>Month-to-month</td>\n",
       "      <td>Yes</td>\n",
       "      <td>Mailed check</td>\n",
       "      <td>53.85</td>\n",
       "      <td>108.15</td>\n",
       "      <td>Yes</td>\n",
       "    </tr>\n",
       "    <tr>\n",
       "      <th>3</th>\n",
       "      <td>7795-CFOCW</td>\n",
       "      <td>45</td>\n",
       "      <td>No</td>\n",
       "      <td>One year</td>\n",
       "      <td>No</td>\n",
       "      <td>Bank transfer (automatic)</td>\n",
       "      <td>42.30</td>\n",
       "      <td>1840.75</td>\n",
       "      <td>No</td>\n",
       "    </tr>\n",
       "    <tr>\n",
       "      <th>4</th>\n",
       "      <td>9237-HQITU</td>\n",
       "      <td>2</td>\n",
       "      <td>Yes</td>\n",
       "      <td>Month-to-month</td>\n",
       "      <td>Yes</td>\n",
       "      <td>Electronic check</td>\n",
       "      <td>70.70</td>\n",
       "      <td>151.65</td>\n",
       "      <td>Yes</td>\n",
       "    </tr>\n",
       "  </tbody>\n",
       "</table>\n",
       "</div>"
      ],
      "text/plain": [
       "   customerID  tenure PhoneService        Contract PaperlessBilling  \\\n",
       "0  7590-VHVEG       1           No  Month-to-month              Yes   \n",
       "1  5575-GNVDE      34          Yes        One year               No   \n",
       "2  3668-QPYBK       2          Yes  Month-to-month              Yes   \n",
       "3  7795-CFOCW      45           No        One year               No   \n",
       "4  9237-HQITU       2          Yes  Month-to-month              Yes   \n",
       "\n",
       "               PaymentMethod  MonthlyCharges TotalCharges Churn  \n",
       "0           Electronic check           29.85        29.85    No  \n",
       "1               Mailed check           56.95       1889.5    No  \n",
       "2               Mailed check           53.85       108.15   Yes  \n",
       "3  Bank transfer (automatic)           42.30      1840.75    No  \n",
       "4           Electronic check           70.70       151.65   Yes  "
      ]
     },
     "execution_count": 2,
     "metadata": {},
     "output_type": "execute_result"
    }
   ],
   "source": [
    "churn_data = pd.read_csv('churn_data.csv')\n",
    "churn_data.head()"
   ]
  },
  {
   "cell_type": "code",
   "execution_count": 3,
   "metadata": {
    "_uuid": "67b661c09ad7d69331c7c3a690fa4545a9499e54"
   },
   "outputs": [
    {
     "data": {
      "text/html": [
       "<div>\n",
       "<style scoped>\n",
       "    .dataframe tbody tr th:only-of-type {\n",
       "        vertical-align: middle;\n",
       "    }\n",
       "\n",
       "    .dataframe tbody tr th {\n",
       "        vertical-align: top;\n",
       "    }\n",
       "\n",
       "    .dataframe thead th {\n",
       "        text-align: right;\n",
       "    }\n",
       "</style>\n",
       "<table border=\"1\" class=\"dataframe\">\n",
       "  <thead>\n",
       "    <tr style=\"text-align: right;\">\n",
       "      <th></th>\n",
       "      <th>customerID</th>\n",
       "      <th>gender</th>\n",
       "      <th>SeniorCitizen</th>\n",
       "      <th>Partner</th>\n",
       "      <th>Dependents</th>\n",
       "    </tr>\n",
       "  </thead>\n",
       "  <tbody>\n",
       "    <tr>\n",
       "      <th>0</th>\n",
       "      <td>7590-VHVEG</td>\n",
       "      <td>Female</td>\n",
       "      <td>0</td>\n",
       "      <td>Yes</td>\n",
       "      <td>No</td>\n",
       "    </tr>\n",
       "    <tr>\n",
       "      <th>1</th>\n",
       "      <td>5575-GNVDE</td>\n",
       "      <td>Male</td>\n",
       "      <td>0</td>\n",
       "      <td>No</td>\n",
       "      <td>No</td>\n",
       "    </tr>\n",
       "    <tr>\n",
       "      <th>2</th>\n",
       "      <td>3668-QPYBK</td>\n",
       "      <td>Male</td>\n",
       "      <td>0</td>\n",
       "      <td>No</td>\n",
       "      <td>No</td>\n",
       "    </tr>\n",
       "    <tr>\n",
       "      <th>3</th>\n",
       "      <td>7795-CFOCW</td>\n",
       "      <td>Male</td>\n",
       "      <td>0</td>\n",
       "      <td>No</td>\n",
       "      <td>No</td>\n",
       "    </tr>\n",
       "    <tr>\n",
       "      <th>4</th>\n",
       "      <td>9237-HQITU</td>\n",
       "      <td>Female</td>\n",
       "      <td>0</td>\n",
       "      <td>No</td>\n",
       "      <td>No</td>\n",
       "    </tr>\n",
       "  </tbody>\n",
       "</table>\n",
       "</div>"
      ],
      "text/plain": [
       "   customerID  gender  SeniorCitizen Partner Dependents\n",
       "0  7590-VHVEG  Female              0     Yes         No\n",
       "1  5575-GNVDE    Male              0      No         No\n",
       "2  3668-QPYBK    Male              0      No         No\n",
       "3  7795-CFOCW    Male              0      No         No\n",
       "4  9237-HQITU  Female              0      No         No"
      ]
     },
     "execution_count": 3,
     "metadata": {},
     "output_type": "execute_result"
    }
   ],
   "source": [
    "customer_data = pd.read_csv(\"customer_data.csv\")\n",
    "customer_data.head()"
   ]
  },
  {
   "cell_type": "code",
   "execution_count": 4,
   "metadata": {
    "_uuid": "cca1e1a1994dced73a4b252721b24452b508fad4"
   },
   "outputs": [
    {
     "data": {
      "text/html": [
       "<div>\n",
       "<style scoped>\n",
       "    .dataframe tbody tr th:only-of-type {\n",
       "        vertical-align: middle;\n",
       "    }\n",
       "\n",
       "    .dataframe tbody tr th {\n",
       "        vertical-align: top;\n",
       "    }\n",
       "\n",
       "    .dataframe thead th {\n",
       "        text-align: right;\n",
       "    }\n",
       "</style>\n",
       "<table border=\"1\" class=\"dataframe\">\n",
       "  <thead>\n",
       "    <tr style=\"text-align: right;\">\n",
       "      <th></th>\n",
       "      <th>customerID</th>\n",
       "      <th>MultipleLines</th>\n",
       "      <th>InternetService</th>\n",
       "      <th>OnlineSecurity</th>\n",
       "      <th>OnlineBackup</th>\n",
       "      <th>DeviceProtection</th>\n",
       "      <th>TechSupport</th>\n",
       "      <th>StreamingTV</th>\n",
       "      <th>StreamingMovies</th>\n",
       "    </tr>\n",
       "  </thead>\n",
       "  <tbody>\n",
       "    <tr>\n",
       "      <th>0</th>\n",
       "      <td>7590-VHVEG</td>\n",
       "      <td>No phone service</td>\n",
       "      <td>DSL</td>\n",
       "      <td>No</td>\n",
       "      <td>Yes</td>\n",
       "      <td>No</td>\n",
       "      <td>No</td>\n",
       "      <td>No</td>\n",
       "      <td>No</td>\n",
       "    </tr>\n",
       "    <tr>\n",
       "      <th>1</th>\n",
       "      <td>5575-GNVDE</td>\n",
       "      <td>No</td>\n",
       "      <td>DSL</td>\n",
       "      <td>Yes</td>\n",
       "      <td>No</td>\n",
       "      <td>Yes</td>\n",
       "      <td>No</td>\n",
       "      <td>No</td>\n",
       "      <td>No</td>\n",
       "    </tr>\n",
       "    <tr>\n",
       "      <th>2</th>\n",
       "      <td>3668-QPYBK</td>\n",
       "      <td>No</td>\n",
       "      <td>DSL</td>\n",
       "      <td>Yes</td>\n",
       "      <td>Yes</td>\n",
       "      <td>No</td>\n",
       "      <td>No</td>\n",
       "      <td>No</td>\n",
       "      <td>No</td>\n",
       "    </tr>\n",
       "    <tr>\n",
       "      <th>3</th>\n",
       "      <td>7795-CFOCW</td>\n",
       "      <td>No phone service</td>\n",
       "      <td>DSL</td>\n",
       "      <td>Yes</td>\n",
       "      <td>No</td>\n",
       "      <td>Yes</td>\n",
       "      <td>Yes</td>\n",
       "      <td>No</td>\n",
       "      <td>No</td>\n",
       "    </tr>\n",
       "    <tr>\n",
       "      <th>4</th>\n",
       "      <td>9237-HQITU</td>\n",
       "      <td>No</td>\n",
       "      <td>Fiber optic</td>\n",
       "      <td>No</td>\n",
       "      <td>No</td>\n",
       "      <td>No</td>\n",
       "      <td>No</td>\n",
       "      <td>No</td>\n",
       "      <td>No</td>\n",
       "    </tr>\n",
       "  </tbody>\n",
       "</table>\n",
       "</div>"
      ],
      "text/plain": [
       "   customerID     MultipleLines InternetService OnlineSecurity OnlineBackup  \\\n",
       "0  7590-VHVEG  No phone service             DSL             No          Yes   \n",
       "1  5575-GNVDE                No             DSL            Yes           No   \n",
       "2  3668-QPYBK                No             DSL            Yes          Yes   \n",
       "3  7795-CFOCW  No phone service             DSL            Yes           No   \n",
       "4  9237-HQITU                No     Fiber optic             No           No   \n",
       "\n",
       "  DeviceProtection TechSupport StreamingTV StreamingMovies  \n",
       "0               No          No          No              No  \n",
       "1              Yes          No          No              No  \n",
       "2               No          No          No              No  \n",
       "3              Yes         Yes          No              No  \n",
       "4               No          No          No              No  "
      ]
     },
     "execution_count": 4,
     "metadata": {},
     "output_type": "execute_result"
    }
   ],
   "source": [
    "internet_data = pd.read_csv(\"internet_data.csv\")\n",
    "internet_data.head()"
   ]
  },
  {
   "cell_type": "markdown",
   "metadata": {
    "_uuid": "1d0884d44d185b74641630539a5b6b67c558f6e5"
   },
   "source": [
    "### Merge the Input Datasets into one based on \"Customer Id\""
   ]
  },
  {
   "cell_type": "code",
   "execution_count": 5,
   "metadata": {
    "_uuid": "0b2d9b628d44c70b9f69ba9e0ec445631886194e"
   },
   "outputs": [],
   "source": [
    "# Merging on 'customerID'\n",
    "df_1 = pd.merge(churn_data, customer_data, how='inner', on='customerID')"
   ]
  },
  {
   "cell_type": "code",
   "execution_count": 6,
   "metadata": {
    "_uuid": "77d6f3403811cbbc2b94e1a67d38086dc3ba6d87"
   },
   "outputs": [],
   "source": [
    "# Final dataframe with all predictor variables\n",
    "telecom = pd.merge(df_1, internet_data, how='inner', on='customerID')"
   ]
  },
  {
   "cell_type": "code",
   "execution_count": 7,
   "metadata": {
    "_uuid": "b2677ab97a27f98104632692a401329431e56fbc"
   },
   "outputs": [
    {
     "data": {
      "text/html": [
       "<div>\n",
       "<style scoped>\n",
       "    .dataframe tbody tr th:only-of-type {\n",
       "        vertical-align: middle;\n",
       "    }\n",
       "\n",
       "    .dataframe tbody tr th {\n",
       "        vertical-align: top;\n",
       "    }\n",
       "\n",
       "    .dataframe thead th {\n",
       "        text-align: right;\n",
       "    }\n",
       "</style>\n",
       "<table border=\"1\" class=\"dataframe\">\n",
       "  <thead>\n",
       "    <tr style=\"text-align: right;\">\n",
       "      <th></th>\n",
       "      <th>customerID</th>\n",
       "      <th>tenure</th>\n",
       "      <th>PhoneService</th>\n",
       "      <th>Contract</th>\n",
       "      <th>PaperlessBilling</th>\n",
       "      <th>PaymentMethod</th>\n",
       "      <th>MonthlyCharges</th>\n",
       "      <th>TotalCharges</th>\n",
       "      <th>Churn</th>\n",
       "      <th>gender</th>\n",
       "      <th>...</th>\n",
       "      <th>Partner</th>\n",
       "      <th>Dependents</th>\n",
       "      <th>MultipleLines</th>\n",
       "      <th>InternetService</th>\n",
       "      <th>OnlineSecurity</th>\n",
       "      <th>OnlineBackup</th>\n",
       "      <th>DeviceProtection</th>\n",
       "      <th>TechSupport</th>\n",
       "      <th>StreamingTV</th>\n",
       "      <th>StreamingMovies</th>\n",
       "    </tr>\n",
       "  </thead>\n",
       "  <tbody>\n",
       "    <tr>\n",
       "      <th>0</th>\n",
       "      <td>7590-VHVEG</td>\n",
       "      <td>1</td>\n",
       "      <td>No</td>\n",
       "      <td>Month-to-month</td>\n",
       "      <td>Yes</td>\n",
       "      <td>Electronic check</td>\n",
       "      <td>29.85</td>\n",
       "      <td>29.85</td>\n",
       "      <td>No</td>\n",
       "      <td>Female</td>\n",
       "      <td>...</td>\n",
       "      <td>Yes</td>\n",
       "      <td>No</td>\n",
       "      <td>No phone service</td>\n",
       "      <td>DSL</td>\n",
       "      <td>No</td>\n",
       "      <td>Yes</td>\n",
       "      <td>No</td>\n",
       "      <td>No</td>\n",
       "      <td>No</td>\n",
       "      <td>No</td>\n",
       "    </tr>\n",
       "    <tr>\n",
       "      <th>1</th>\n",
       "      <td>5575-GNVDE</td>\n",
       "      <td>34</td>\n",
       "      <td>Yes</td>\n",
       "      <td>One year</td>\n",
       "      <td>No</td>\n",
       "      <td>Mailed check</td>\n",
       "      <td>56.95</td>\n",
       "      <td>1889.5</td>\n",
       "      <td>No</td>\n",
       "      <td>Male</td>\n",
       "      <td>...</td>\n",
       "      <td>No</td>\n",
       "      <td>No</td>\n",
       "      <td>No</td>\n",
       "      <td>DSL</td>\n",
       "      <td>Yes</td>\n",
       "      <td>No</td>\n",
       "      <td>Yes</td>\n",
       "      <td>No</td>\n",
       "      <td>No</td>\n",
       "      <td>No</td>\n",
       "    </tr>\n",
       "    <tr>\n",
       "      <th>2</th>\n",
       "      <td>3668-QPYBK</td>\n",
       "      <td>2</td>\n",
       "      <td>Yes</td>\n",
       "      <td>Month-to-month</td>\n",
       "      <td>Yes</td>\n",
       "      <td>Mailed check</td>\n",
       "      <td>53.85</td>\n",
       "      <td>108.15</td>\n",
       "      <td>Yes</td>\n",
       "      <td>Male</td>\n",
       "      <td>...</td>\n",
       "      <td>No</td>\n",
       "      <td>No</td>\n",
       "      <td>No</td>\n",
       "      <td>DSL</td>\n",
       "      <td>Yes</td>\n",
       "      <td>Yes</td>\n",
       "      <td>No</td>\n",
       "      <td>No</td>\n",
       "      <td>No</td>\n",
       "      <td>No</td>\n",
       "    </tr>\n",
       "    <tr>\n",
       "      <th>3</th>\n",
       "      <td>7795-CFOCW</td>\n",
       "      <td>45</td>\n",
       "      <td>No</td>\n",
       "      <td>One year</td>\n",
       "      <td>No</td>\n",
       "      <td>Bank transfer (automatic)</td>\n",
       "      <td>42.30</td>\n",
       "      <td>1840.75</td>\n",
       "      <td>No</td>\n",
       "      <td>Male</td>\n",
       "      <td>...</td>\n",
       "      <td>No</td>\n",
       "      <td>No</td>\n",
       "      <td>No phone service</td>\n",
       "      <td>DSL</td>\n",
       "      <td>Yes</td>\n",
       "      <td>No</td>\n",
       "      <td>Yes</td>\n",
       "      <td>Yes</td>\n",
       "      <td>No</td>\n",
       "      <td>No</td>\n",
       "    </tr>\n",
       "    <tr>\n",
       "      <th>4</th>\n",
       "      <td>9237-HQITU</td>\n",
       "      <td>2</td>\n",
       "      <td>Yes</td>\n",
       "      <td>Month-to-month</td>\n",
       "      <td>Yes</td>\n",
       "      <td>Electronic check</td>\n",
       "      <td>70.70</td>\n",
       "      <td>151.65</td>\n",
       "      <td>Yes</td>\n",
       "      <td>Female</td>\n",
       "      <td>...</td>\n",
       "      <td>No</td>\n",
       "      <td>No</td>\n",
       "      <td>No</td>\n",
       "      <td>Fiber optic</td>\n",
       "      <td>No</td>\n",
       "      <td>No</td>\n",
       "      <td>No</td>\n",
       "      <td>No</td>\n",
       "      <td>No</td>\n",
       "      <td>No</td>\n",
       "    </tr>\n",
       "  </tbody>\n",
       "</table>\n",
       "<p>5 rows × 21 columns</p>\n",
       "</div>"
      ],
      "text/plain": [
       "   customerID  tenure PhoneService        Contract PaperlessBilling  \\\n",
       "0  7590-VHVEG       1           No  Month-to-month              Yes   \n",
       "1  5575-GNVDE      34          Yes        One year               No   \n",
       "2  3668-QPYBK       2          Yes  Month-to-month              Yes   \n",
       "3  7795-CFOCW      45           No        One year               No   \n",
       "4  9237-HQITU       2          Yes  Month-to-month              Yes   \n",
       "\n",
       "               PaymentMethod  MonthlyCharges TotalCharges Churn  gender  ...  \\\n",
       "0           Electronic check           29.85        29.85    No  Female  ...   \n",
       "1               Mailed check           56.95       1889.5    No    Male  ...   \n",
       "2               Mailed check           53.85       108.15   Yes    Male  ...   \n",
       "3  Bank transfer (automatic)           42.30      1840.75    No    Male  ...   \n",
       "4           Electronic check           70.70       151.65   Yes  Female  ...   \n",
       "\n",
       "   Partner Dependents     MultipleLines InternetService OnlineSecurity  \\\n",
       "0      Yes         No  No phone service             DSL             No   \n",
       "1       No         No                No             DSL            Yes   \n",
       "2       No         No                No             DSL            Yes   \n",
       "3       No         No  No phone service             DSL            Yes   \n",
       "4       No         No                No     Fiber optic             No   \n",
       "\n",
       "  OnlineBackup DeviceProtection TechSupport StreamingTV StreamingMovies  \n",
       "0          Yes               No          No          No              No  \n",
       "1           No              Yes          No          No              No  \n",
       "2          Yes               No          No          No              No  \n",
       "3           No              Yes         Yes          No              No  \n",
       "4           No               No          No          No              No  \n",
       "\n",
       "[5 rows x 21 columns]"
      ]
     },
     "execution_count": 7,
     "metadata": {},
     "output_type": "execute_result"
    }
   ],
   "source": [
    "telecom.head()"
   ]
  },
  {
   "cell_type": "code",
   "execution_count": 8,
   "metadata": {},
   "outputs": [
    {
     "data": {
      "text/plain": [
       "Index(['customerID', 'tenure', 'PhoneService', 'Contract', 'PaperlessBilling',\n",
       "       'PaymentMethod', 'MonthlyCharges', 'TotalCharges', 'Churn', 'gender',\n",
       "       'SeniorCitizen', 'Partner', 'Dependents', 'MultipleLines',\n",
       "       'InternetService', 'OnlineSecurity', 'OnlineBackup', 'DeviceProtection',\n",
       "       'TechSupport', 'StreamingTV', 'StreamingMovies'],\n",
       "      dtype='object')"
      ]
     },
     "execution_count": 8,
     "metadata": {},
     "output_type": "execute_result"
    }
   ],
   "source": [
    "telecom.columns"
   ]
  },
  {
   "cell_type": "code",
   "execution_count": 9,
   "metadata": {
    "_uuid": "c16786a515bec0db7606def3f9d8906963f2ed42"
   },
   "outputs": [
    {
     "data": {
      "text/plain": [
       "(7043, 21)"
      ]
     },
     "execution_count": 9,
     "metadata": {},
     "output_type": "execute_result"
    }
   ],
   "source": [
    "# Let's check the dimensions of the dataframe\n",
    "telecom.shape"
   ]
  },
  {
   "cell_type": "code",
   "execution_count": 10,
   "metadata": {
    "_uuid": "68f9b02e40be8bca50b8bd06fc3f54665b37a3ff"
   },
   "outputs": [
    {
     "data": {
      "text/html": [
       "<div>\n",
       "<style scoped>\n",
       "    .dataframe tbody tr th:only-of-type {\n",
       "        vertical-align: middle;\n",
       "    }\n",
       "\n",
       "    .dataframe tbody tr th {\n",
       "        vertical-align: top;\n",
       "    }\n",
       "\n",
       "    .dataframe thead th {\n",
       "        text-align: right;\n",
       "    }\n",
       "</style>\n",
       "<table border=\"1\" class=\"dataframe\">\n",
       "  <thead>\n",
       "    <tr style=\"text-align: right;\">\n",
       "      <th></th>\n",
       "      <th>tenure</th>\n",
       "      <th>MonthlyCharges</th>\n",
       "      <th>SeniorCitizen</th>\n",
       "    </tr>\n",
       "  </thead>\n",
       "  <tbody>\n",
       "    <tr>\n",
       "      <th>count</th>\n",
       "      <td>7043.000000</td>\n",
       "      <td>7043.000000</td>\n",
       "      <td>7043.000000</td>\n",
       "    </tr>\n",
       "    <tr>\n",
       "      <th>mean</th>\n",
       "      <td>32.371149</td>\n",
       "      <td>64.761692</td>\n",
       "      <td>0.162147</td>\n",
       "    </tr>\n",
       "    <tr>\n",
       "      <th>std</th>\n",
       "      <td>24.559481</td>\n",
       "      <td>30.090047</td>\n",
       "      <td>0.368612</td>\n",
       "    </tr>\n",
       "    <tr>\n",
       "      <th>min</th>\n",
       "      <td>0.000000</td>\n",
       "      <td>18.250000</td>\n",
       "      <td>0.000000</td>\n",
       "    </tr>\n",
       "    <tr>\n",
       "      <th>25%</th>\n",
       "      <td>9.000000</td>\n",
       "      <td>35.500000</td>\n",
       "      <td>0.000000</td>\n",
       "    </tr>\n",
       "    <tr>\n",
       "      <th>50%</th>\n",
       "      <td>29.000000</td>\n",
       "      <td>70.350000</td>\n",
       "      <td>0.000000</td>\n",
       "    </tr>\n",
       "    <tr>\n",
       "      <th>75%</th>\n",
       "      <td>55.000000</td>\n",
       "      <td>89.850000</td>\n",
       "      <td>0.000000</td>\n",
       "    </tr>\n",
       "    <tr>\n",
       "      <th>max</th>\n",
       "      <td>72.000000</td>\n",
       "      <td>118.750000</td>\n",
       "      <td>1.000000</td>\n",
       "    </tr>\n",
       "  </tbody>\n",
       "</table>\n",
       "</div>"
      ],
      "text/plain": [
       "            tenure  MonthlyCharges  SeniorCitizen\n",
       "count  7043.000000     7043.000000    7043.000000\n",
       "mean     32.371149       64.761692       0.162147\n",
       "std      24.559481       30.090047       0.368612\n",
       "min       0.000000       18.250000       0.000000\n",
       "25%       9.000000       35.500000       0.000000\n",
       "50%      29.000000       70.350000       0.000000\n",
       "75%      55.000000       89.850000       0.000000\n",
       "max      72.000000      118.750000       1.000000"
      ]
     },
     "execution_count": 10,
     "metadata": {},
     "output_type": "execute_result"
    }
   ],
   "source": [
    "# let's look at the statistical aspects of the dataframe\n",
    "telecom.describe()"
   ]
  },
  {
   "cell_type": "code",
   "execution_count": 11,
   "metadata": {
    "_uuid": "bcffc85de07e37cf2aa862295aa2943be8ea2ab9"
   },
   "outputs": [
    {
     "name": "stdout",
     "output_type": "stream",
     "text": [
      "<class 'pandas.core.frame.DataFrame'>\n",
      "Int64Index: 7043 entries, 0 to 7042\n",
      "Data columns (total 21 columns):\n",
      " #   Column            Non-Null Count  Dtype  \n",
      "---  ------            --------------  -----  \n",
      " 0   customerID        7043 non-null   object \n",
      " 1   tenure            7043 non-null   int64  \n",
      " 2   PhoneService      7043 non-null   object \n",
      " 3   Contract          7043 non-null   object \n",
      " 4   PaperlessBilling  7043 non-null   object \n",
      " 5   PaymentMethod     7043 non-null   object \n",
      " 6   MonthlyCharges    7043 non-null   float64\n",
      " 7   TotalCharges      7043 non-null   object \n",
      " 8   Churn             7043 non-null   object \n",
      " 9   gender            7043 non-null   object \n",
      " 10  SeniorCitizen     7043 non-null   int64  \n",
      " 11  Partner           7043 non-null   object \n",
      " 12  Dependents        7043 non-null   object \n",
      " 13  MultipleLines     7043 non-null   object \n",
      " 14  InternetService   7043 non-null   object \n",
      " 15  OnlineSecurity    7043 non-null   object \n",
      " 16  OnlineBackup      7043 non-null   object \n",
      " 17  DeviceProtection  7043 non-null   object \n",
      " 18  TechSupport       7043 non-null   object \n",
      " 19  StreamingTV       7043 non-null   object \n",
      " 20  StreamingMovies   7043 non-null   object \n",
      "dtypes: float64(1), int64(2), object(18)\n",
      "memory usage: 1.2+ MB\n"
     ]
    }
   ],
   "source": [
    "# Let's see the type of each column\n",
    "telecom.info()"
   ]
  },
  {
   "cell_type": "markdown",
   "metadata": {
    "_uuid": "7c0c42d9cca25e1d88a2e754c0c691ae2ca1f8d2"
   },
   "source": [
    "### Data Pre-processing"
   ]
  },
  {
   "cell_type": "markdown",
   "metadata": {
    "_uuid": "452c0dafc57c9c3b2c9ffe8b0e02bc1948bb477b"
   },
   "source": [
    "#### Pre-process the Total Charges Feature"
   ]
  },
  {
   "cell_type": "code",
   "execution_count": 12,
   "metadata": {
    "_uuid": "ca6ed4936da13087cd9dd8b5f1cc0b4f773fb654"
   },
   "outputs": [],
   "source": [
    "telecom['TotalCharges'] = telecom['TotalCharges'].replace(' ', np.nan)\n",
    "telecom['TotalCharges'] = pd.to_numeric(telecom['TotalCharges'])"
   ]
  },
  {
   "cell_type": "code",
   "execution_count": 13,
   "metadata": {
    "_uuid": "acacb9967aa46cc7f4e1b7feecdf15b8d4f85d81"
   },
   "outputs": [],
   "source": [
    "# Total Charges will be related to Monthly Charges.\n",
    "# We will impute Total charges multiplied by median of the ratio of Total charges to monthly charges"
   ]
  },
  {
   "cell_type": "code",
   "execution_count": 14,
   "metadata": {},
   "outputs": [],
   "source": [
    "value = telecom['MonthlyCharges'] * telecom['tenure']"
   ]
  },
  {
   "cell_type": "code",
   "execution_count": 15,
   "metadata": {
    "_uuid": "78cb0f2c39c67bf14944079a6e1eeedcc330b5ad"
   },
   "outputs": [],
   "source": [
    "telecom['TotalCharges'] = value.where(telecom['TotalCharges'] == np.nan, other=telecom['TotalCharges'])"
   ]
  },
  {
   "cell_type": "code",
   "execution_count": 16,
   "metadata": {},
   "outputs": [
    {
     "data": {
      "text/plain": [
       "0         29.85\n",
       "1       1889.50\n",
       "2        108.15\n",
       "3       1840.75\n",
       "4        151.65\n",
       "         ...   \n",
       "7038    1990.50\n",
       "7039    7362.90\n",
       "7040     346.45\n",
       "7041     306.60\n",
       "7042    6844.50\n",
       "Name: TotalCharges, Length: 7043, dtype: float64"
      ]
     },
     "execution_count": 16,
     "metadata": {},
     "output_type": "execute_result"
    }
   ],
   "source": [
    "telecom['TotalCharges']"
   ]
  },
  {
   "cell_type": "markdown",
   "metadata": {
    "_uuid": "9ae5fce36fc4afba20feece0c1ebd06563cc167d"
   },
   "source": [
    "## Exploratory Data Analysis (EDA)\n",
    "The EDA process will comprise of Univariate and Multivariate Analysis alomg with abundant Visualisations.  "
   ]
  },
  {
   "cell_type": "markdown",
   "metadata": {
    "_uuid": "b092980a7e0ab231b72478c7a38a157fdb03b868"
   },
   "source": [
    "### Univariate Analysis"
   ]
  },
  {
   "cell_type": "code",
   "execution_count": 17,
   "metadata": {},
   "outputs": [
    {
     "data": {
      "text/plain": [
       "(array([2709., 1228.,  671.,  508.,  454.,  412.,  395.,  310.,  223.,\n",
       "         122.]),\n",
       " array([  18.8,  885.4, 1752. , 2618.6, 3485.2, 4351.8, 5218.4, 6085. ,\n",
       "        6951.6, 7818.2, 8684.8]),\n",
       " <BarContainer object of 10 artists>)"
      ]
     },
     "execution_count": 17,
     "metadata": {},
     "output_type": "execute_result"
    },
    {
     "data": {
      "image/png": "[encoded data removed]",
      "text/plain": [
       "<Figure size 432x288 with 1 Axes>"
      ]
     },
     "metadata": {
      "needs_background": "light"
     },
     "output_type": "display_data"
    }
   ],
   "source": [
    "# Distribution of Total Charges Field\n",
    "\n",
    "plt.hist(telecom['TotalCharges'])"
   ]
  },
  {
   "cell_type": "markdown",
   "metadata": {
    "_uuid": "9b2defe8c2dac972d72a52b3538575b7662846c0"
   },
   "source": [
    "#### Churn Split in terms of Counts"
   ]
  },
  {
   "cell_type": "code",
   "execution_count": 18,
   "metadata": {
    "_uuid": "1f27e6b73104175fd9399bc45ac474960484cc1d"
   },
   "outputs": [
    {
     "data": {
      "image/png": "[encoded data removed]",
      "text/plain": [
       "<Figure size 432x288 with 1 Axes>"
      ]
     },
     "metadata": {
      "needs_background": "light"
     },
     "output_type": "display_data"
    }
   ],
   "source": [
    "# Display the counts of Churns in the entire data. This provides an indication of whether the data is unbalanced.\n",
    "\n",
    "plt1 = sns.countplot(telecom['Churn'])"
   ]
  },
  {
   "cell_type": "markdown",
   "metadata": {
    "_uuid": "1373a4212115fd345c975008ae2ee4e86d074075"
   },
   "source": [
    "#### Tenure"
   ]
  },
  {
   "cell_type": "code",
   "execution_count": 19,
   "metadata": {
    "_uuid": "eccb066114b029df7e097190267f0b15e7fee686"
   },
   "outputs": [],
   "source": [
    "# The time for which a customer has been using the service."
   ]
  },
  {
   "cell_type": "code",
   "execution_count": 20,
   "metadata": {
    "_uuid": "2faa68e85a4b7899d5604b4081dd45ad12b27e9a"
   },
   "outputs": [
    {
     "data": {
      "image/png": "[encoded data removed]",
      "text/plain": [
       "<Figure size 432x288 with 1 Axes>"
      ]
     },
     "metadata": {
      "needs_background": "light"
     },
     "output_type": "display_data"
    }
   ],
   "source": [
    "sns.boxplot(x = 'tenure', y = 'Churn', data = telecom)\n",
    "plt.show()"
   ]
  },
  {
   "cell_type": "code",
   "execution_count": 21,
   "metadata": {
    "_uuid": "74e15d9add3d83f33655957f144f959e72c3897c"
   },
   "outputs": [],
   "source": [
    "# Customer with more tenure tends to churn less."
   ]
  },
  {
   "cell_type": "markdown",
   "metadata": {
    "_uuid": "7acc386fb2780770b54ee847c7a47cd9de317dcf"
   },
   "source": [
    "### Find for which kind of Contracts the churn probability is more"
   ]
  },
  {
   "cell_type": "code",
   "execution_count": 22,
   "metadata": {
    "_uuid": "86be54edd7f8519ed23b8e9c1d9f13d86bf7e5c0"
   },
   "outputs": [
    {
     "data": {
      "image/png": "[encoded data removed]",
      "text/plain": [
       "<Figure size 432x288 with 1 Axes>"
      ]
     },
     "metadata": {},
     "output_type": "display_data"
    },
    {
     "data": {
      "image/png": "[encoded data removed]",
      "text/plain": [
       "<Figure size 432x288 with 1 Axes>"
      ]
     },
     "metadata": {},
     "output_type": "display_data"
    },
    {
     "data": {
      "image/png": "[encoded data removed]",
      "text/plain": [
       "<Figure size 432x288 with 1 Axes>"
      ]
     },
     "metadata": {},
     "output_type": "display_data"
    }
   ],
   "source": [
    "pie_Contract_m2m = pd.DataFrame(telecom[telecom['Contract'] == \"Month-to-month\"]['Churn'].value_counts())\n",
    "pie_Contract_m2m.plot.pie(subplots=True, labels = pie_Contract_m2m.index.values, autopct='%1.1f%%', startangle= 75)\n",
    "plt.title('Month to Month Contract')\n",
    "plt.gca().set_aspect('equal')\n",
    "\n",
    "pie_Contract_1y = pd.DataFrame(telecom[telecom['Contract'] == \"One year\"]['Churn'].value_counts())\n",
    "pie_Contract_1y.plot.pie(subplots=True, labels = pie_Contract_1y.index.values, autopct='%1.1f%%', startangle= 20)\n",
    "plt.title('One Year Contract')\n",
    "plt.gca().set_aspect('equal')\n",
    "\n",
    "pie_Contract_2y = pd.DataFrame(telecom[telecom['Contract'] == \"Two year\"]['Churn'].value_counts())\n",
    "pie_Contract_2y.plot.pie(subplots=True, labels = pie_Contract_2y.index.values, autopct='%1.1f%%', startangle= 5)\n",
    "plt.title('Two Year Contract')\n",
    "plt.gca().set_aspect('equal')\n",
    "\n",
    "plt.show()"
   ]
  },
  {
   "cell_type": "code",
   "execution_count": 23,
   "metadata": {
    "_uuid": "3ab7ae6b16767092019988d6427123072cbe920e"
   },
   "outputs": [],
   "source": [
    "# Customers with One Year and Two year contract tends to Churn a lot lesser than month to month contract."
   ]
  },
  {
   "cell_type": "markdown",
   "metadata": {
    "_uuid": "8e53caf220dd6d9d1ac225cb8092551455a7333a"
   },
   "source": [
    "### Whether being on Monthly Charges is influencing Churn"
   ]
  },
  {
   "cell_type": "code",
   "execution_count": 24,
   "metadata": {
    "_uuid": "a6f19900487c4551d611edcf3183a8c37503cce7"
   },
   "outputs": [
    {
     "data": {
      "image/png": "[encoded data removed]",
      "text/plain": [
       "<Figure size 432x288 with 1 Axes>"
      ]
     },
     "metadata": {
      "needs_background": "light"
     },
     "output_type": "display_data"
    }
   ],
   "source": [
    "sns.boxplot(x = 'MonthlyCharges', y = 'Churn', data = telecom)\n",
    "plt.show()"
   ]
  },
  {
   "cell_type": "code",
   "execution_count": 25,
   "metadata": {
    "_uuid": "cb98a91441a5d322e0e71686d24e23d90062d5d6"
   },
   "outputs": [],
   "source": [
    "# Median monthly charges are higher for customers who have churned."
   ]
  },
  {
   "cell_type": "markdown",
   "metadata": {
    "_uuid": "23465e33bbe6c3a649457ba78ff1fc9a2d9a458d"
   },
   "source": [
    "### Whether TotalCharges amount has influence on Churn"
   ]
  },
  {
   "cell_type": "code",
   "execution_count": 26,
   "metadata": {
    "_uuid": "435e66aac382b936609117b47aa2bfddd291a6a8"
   },
   "outputs": [
    {
     "data": {
      "image/png": "[encoded data removed]",
      "text/plain": [
       "<Figure size 432x288 with 1 Axes>"
      ]
     },
     "metadata": {
      "needs_background": "light"
     },
     "output_type": "display_data"
    }
   ],
   "source": [
    "sns.boxplot(x = 'TotalCharges', y = 'Churn', data = telecom)\n",
    "plt.show()"
   ]
  },
  {
   "cell_type": "code",
   "execution_count": 27,
   "metadata": {
    "_uuid": "ea217f0bdc3e75484027287bf9ff0b4c3cd25b33"
   },
   "outputs": [],
   "source": [
    "# Median Total charges are low for customers who have churned."
   ]
  },
  {
   "cell_type": "markdown",
   "metadata": {
    "_uuid": "93b496e5a50eab09c46e0c8fa2f2b4d0e87125de"
   },
   "source": [
    "### Whether having Multiple Internet Connections have influence on Churn"
   ]
  },
  {
   "cell_type": "code",
   "execution_count": 28,
   "metadata": {
    "_uuid": "adc375caec0f0866b08e78e9a976cd016534a58f"
   },
   "outputs": [],
   "source": [
    "# Whether a customer has multiple lines of internet connectivity."
   ]
  },
  {
   "cell_type": "code",
   "execution_count": 29,
   "metadata": {
    "_uuid": "e477fb765858d3a32e2d864c73be480ef787ea24"
   },
   "outputs": [
    {
     "data": {
      "text/plain": [
       "<Figure size 1080x360 with 0 Axes>"
      ]
     },
     "metadata": {},
     "output_type": "display_data"
    },
    {
     "data": {
      "image/png": "[encoded data removed]",
      "text/plain": [
       "<Figure size 432x288 with 1 Axes>"
      ]
     },
     "metadata": {},
     "output_type": "display_data"
    },
    {
     "data": {
      "image/png": "[encoded data removed]",
      "text/plain": [
       "<Figure size 432x288 with 1 Axes>"
      ]
     },
     "metadata": {},
     "output_type": "display_data"
    }
   ],
   "source": [
    "plt.figure(figsize=(15,5))\n",
    "pie_MultipleLines_Y = pd.DataFrame(telecom[telecom['MultipleLines'] == 'Yes']['Churn'].value_counts())\n",
    "pie_MultipleLines_Y.plot.pie(subplots = True,  labels = pie_MultipleLines_Y.index.values, autopct='%1.1f%%', startangle= 50)\n",
    "plt.title('Multiple lines of internet connectivity')\n",
    "plt.gca().set_aspect('equal')\n",
    "\n",
    "pie_MultipleLines_N = pd.DataFrame(telecom[telecom['MultipleLines'] == 'No']['Churn'].value_counts())\n",
    "pie_MultipleLines_N.plot.pie(subplots = True,  labels = pie_MultipleLines_N.index.values, autopct='%1.1f%%', startangle= 45)\n",
    "plt.title('Single line of internet connectivity')\n",
    "\n",
    "plt.gca().set_aspect('equal')\n",
    "plt.show() "
   ]
  },
  {
   "cell_type": "code",
   "execution_count": 30,
   "metadata": {
    "_uuid": "8b53f214784ce64033c6d8d7b47e309937591020"
   },
   "outputs": [],
   "source": [
    "# Multiple lines of internet connectivity doesn't effect churn that much."
   ]
  },
  {
   "cell_type": "markdown",
   "metadata": {
    "_uuid": "9e097c3d460534b70dd8f7e91ae04d9be5341761"
   },
   "source": [
    "### Whether type of Internet Service has influence on Churn"
   ]
  },
  {
   "cell_type": "code",
   "execution_count": 31,
   "metadata": {
    "_uuid": "1d3e55915223fec547fb2b4c744f114ac8beb682"
   },
   "outputs": [
    {
     "data": {
      "text/plain": [
       "<Figure size 1080x360 with 0 Axes>"
      ]
     },
     "metadata": {},
     "output_type": "display_data"
    },
    {
     "data": {
      "image/png": "[encoded data removed]",
      "text/plain": [
       "<Figure size 432x288 with 1 Axes>"
      ]
     },
     "metadata": {},
     "output_type": "display_data"
    },
    {
     "data": {
      "image/png": "[encoded data removed]",
      "text/plain": [
       "<Figure size 432x288 with 1 Axes>"
      ]
     },
     "metadata": {},
     "output_type": "display_data"
    },
    {
     "data": {
      "image/png": "[encoded data removed]",
      "text/plain": [
       "<Figure size 432x288 with 1 Axes>"
      ]
     },
     "metadata": {},
     "output_type": "display_data"
    }
   ],
   "source": [
    "plt.figure(figsize=(15,5))\n",
    "pie_InternetService_fo = pd.DataFrame(telecom[telecom['InternetService'] == \"Fiber optic\"]['Churn'].value_counts())\n",
    "pie_InternetService_fo.plot.pie(subplots = True, labels = pie_InternetService_fo.index.values, autopct='%1.1f%%', startangle= 75)\n",
    "plt.title('Fiber Optic')\n",
    "plt.gca().set_aspect('equal')\n",
    "\n",
    "pie_InternetService_dsl = pd.DataFrame(telecom[telecom['InternetService'] == \"DSL\"]['Churn'].value_counts())\n",
    "pie_InternetService_dsl.plot.pie(subplots = True, labels = pie_InternetService_dsl.index.values, autopct='%1.1f%%', startangle= 35)\n",
    "plt.title('DSL')\n",
    "plt.gca().set_aspect('equal')\n",
    "\n",
    "pie_InternetService_no = pd.DataFrame(telecom[telecom['InternetService'] == \"No\"]['Churn'].value_counts())\n",
    "pie_InternetService_no.plot.pie(subplots = True, labels = pie_InternetService_no.index.values, autopct='%1.1f%%', startangle= 13)\n",
    "plt.title('No Internet Service')\n",
    "plt.gca().set_aspect('equal')\n",
    "\n",
    "plt.show()"
   ]
  },
  {
   "cell_type": "code",
   "execution_count": 32,
   "metadata": {
    "_uuid": "a289454de7d318542b990a835109ad4b35f30356"
   },
   "outputs": [],
   "source": [
    "# Customers with Fiber Optic Connection churn the most whereas least probability of churning for those with no internet service."
   ]
  },
  {
   "cell_type": "markdown",
   "metadata": {
    "_uuid": "84a02671b469051593ed7898f27a57b00b0ca004"
   },
   "source": [
    "## Data Pre-processing"
   ]
  },
  {
   "cell_type": "markdown",
   "metadata": {
    "_uuid": "d6a5ce28aa3dd83a50e7ee48a2dcfec836da7a27"
   },
   "source": [
    "### Convert Binary Categorical Features (Yes/No) to 0/1"
   ]
  },
  {
   "cell_type": "code",
   "execution_count": 33,
   "metadata": {
    "_uuid": "51a118e7e371894773ef04151f4c620900f34535"
   },
   "outputs": [],
   "source": [
    "# List of variables to map\n",
    "\n",
    "varlist =  ['PhoneService', 'PaperlessBilling', 'Churn', 'Partner', 'Dependents']\n",
    "\n",
    "# Defining the map function\n",
    "def binary_map(x):\n",
    "    return x.map({'Yes': 1, \"No\": 0})\n",
    "\n",
    "# Applying the function to the housing list\n",
    "telecom[varlist] = telecom[varlist].apply(binary_map)"
   ]
  },
  {
   "cell_type": "code",
   "execution_count": 34,
   "metadata": {
    "_uuid": "234a448174381a41b1a9072bbe3715f9a6e14c97"
   },
   "outputs": [
    {
     "data": {
      "text/html": [
       "<div>\n",
       "<style scoped>\n",
       "    .dataframe tbody tr th:only-of-type {\n",
       "        vertical-align: middle;\n",
       "    }\n",
       "\n",
       "    .dataframe tbody tr th {\n",
       "        vertical-align: top;\n",
       "    }\n",
       "\n",
       "    .dataframe thead th {\n",
       "        text-align: right;\n",
       "    }\n",
       "</style>\n",
       "<table border=\"1\" class=\"dataframe\">\n",
       "  <thead>\n",
       "    <tr style=\"text-align: right;\">\n",
       "      <th></th>\n",
       "      <th>customerID</th>\n",
       "      <th>tenure</th>\n",
       "      <th>PhoneService</th>\n",
       "      <th>Contract</th>\n",
       "      <th>PaperlessBilling</th>\n",
       "      <th>PaymentMethod</th>\n",
       "      <th>MonthlyCharges</th>\n",
       "      <th>TotalCharges</th>\n",
       "      <th>Churn</th>\n",
       "      <th>gender</th>\n",
       "      <th>...</th>\n",
       "      <th>Partner</th>\n",
       "      <th>Dependents</th>\n",
       "      <th>MultipleLines</th>\n",
       "      <th>InternetService</th>\n",
       "      <th>OnlineSecurity</th>\n",
       "      <th>OnlineBackup</th>\n",
       "      <th>DeviceProtection</th>\n",
       "      <th>TechSupport</th>\n",
       "      <th>StreamingTV</th>\n",
       "      <th>StreamingMovies</th>\n",
       "    </tr>\n",
       "  </thead>\n",
       "  <tbody>\n",
       "    <tr>\n",
       "      <th>0</th>\n",
       "      <td>7590-VHVEG</td>\n",
       "      <td>1</td>\n",
       "      <td>0</td>\n",
       "      <td>Month-to-month</td>\n",
       "      <td>1</td>\n",
       "      <td>Electronic check</td>\n",
       "      <td>29.85</td>\n",
       "      <td>29.85</td>\n",
       "      <td>0</td>\n",
       "      <td>Female</td>\n",
       "      <td>...</td>\n",
       "      <td>1</td>\n",
       "      <td>0</td>\n",
       "      <td>No phone service</td>\n",
       "      <td>DSL</td>\n",
       "      <td>No</td>\n",
       "      <td>Yes</td>\n",
       "      <td>No</td>\n",
       "      <td>No</td>\n",
       "      <td>No</td>\n",
       "      <td>No</td>\n",
       "    </tr>\n",
       "    <tr>\n",
       "      <th>1</th>\n",
       "      <td>5575-GNVDE</td>\n",
       "      <td>34</td>\n",
       "      <td>1</td>\n",
       "      <td>One year</td>\n",
       "      <td>0</td>\n",
       "      <td>Mailed check</td>\n",
       "      <td>56.95</td>\n",
       "      <td>1889.50</td>\n",
       "      <td>0</td>\n",
       "      <td>Male</td>\n",
       "      <td>...</td>\n",
       "      <td>0</td>\n",
       "      <td>0</td>\n",
       "      <td>No</td>\n",
       "      <td>DSL</td>\n",
       "      <td>Yes</td>\n",
       "      <td>No</td>\n",
       "      <td>Yes</td>\n",
       "      <td>No</td>\n",
       "      <td>No</td>\n",
       "      <td>No</td>\n",
       "    </tr>\n",
       "    <tr>\n",
       "      <th>2</th>\n",
       "      <td>3668-QPYBK</td>\n",
       "      <td>2</td>\n",
       "      <td>1</td>\n",
       "      <td>Month-to-month</td>\n",
       "      <td>1</td>\n",
       "      <td>Mailed check</td>\n",
       "      <td>53.85</td>\n",
       "      <td>108.15</td>\n",
       "      <td>1</td>\n",
       "      <td>Male</td>\n",
       "      <td>...</td>\n",
       "      <td>0</td>\n",
       "      <td>0</td>\n",
       "      <td>No</td>\n",
       "      <td>DSL</td>\n",
       "      <td>Yes</td>\n",
       "      <td>Yes</td>\n",
       "      <td>No</td>\n",
       "      <td>No</td>\n",
       "      <td>No</td>\n",
       "      <td>No</td>\n",
       "    </tr>\n",
       "    <tr>\n",
       "      <th>3</th>\n",
       "      <td>7795-CFOCW</td>\n",
       "      <td>45</td>\n",
       "      <td>0</td>\n",
       "      <td>One year</td>\n",
       "      <td>0</td>\n",
       "      <td>Bank transfer (automatic)</td>\n",
       "      <td>42.30</td>\n",
       "      <td>1840.75</td>\n",
       "      <td>0</td>\n",
       "      <td>Male</td>\n",
       "      <td>...</td>\n",
       "      <td>0</td>\n",
       "      <td>0</td>\n",
       "      <td>No phone service</td>\n",
       "      <td>DSL</td>\n",
       "      <td>Yes</td>\n",
       "      <td>No</td>\n",
       "      <td>Yes</td>\n",
       "      <td>Yes</td>\n",
       "      <td>No</td>\n",
       "      <td>No</td>\n",
       "    </tr>\n",
       "    <tr>\n",
       "      <th>4</th>\n",
       "      <td>9237-HQITU</td>\n",
       "      <td>2</td>\n",
       "      <td>1</td>\n",
       "      <td>Month-to-month</td>\n",
       "      <td>1</td>\n",
       "      <td>Electronic check</td>\n",
       "      <td>70.70</td>\n",
       "      <td>151.65</td>\n",
       "      <td>1</td>\n",
       "      <td>Female</td>\n",
       "      <td>...</td>\n",
       "      <td>0</td>\n",
       "      <td>0</td>\n",
       "      <td>No</td>\n",
       "      <td>Fiber optic</td>\n",
       "      <td>No</td>\n",
       "      <td>No</td>\n",
       "      <td>No</td>\n",
       "      <td>No</td>\n",
       "      <td>No</td>\n",
       "      <td>No</td>\n",
       "    </tr>\n",
       "  </tbody>\n",
       "</table>\n",
       "<p>5 rows × 21 columns</p>\n",
       "</div>"
      ],
      "text/plain": [
       "   customerID  tenure  PhoneService        Contract  PaperlessBilling  \\\n",
       "0  7590-VHVEG       1             0  Month-to-month                 1   \n",
       "1  5575-GNVDE      34             1        One year                 0   \n",
       "2  3668-QPYBK       2             1  Month-to-month                 1   \n",
       "3  7795-CFOCW      45             0        One year                 0   \n",
       "4  9237-HQITU       2             1  Month-to-month                 1   \n",
       "\n",
       "               PaymentMethod  MonthlyCharges  TotalCharges  Churn  gender  \\\n",
       "0           Electronic check           29.85         29.85      0  Female   \n",
       "1               Mailed check           56.95       1889.50      0    Male   \n",
       "2               Mailed check           53.85        108.15      1    Male   \n",
       "3  Bank transfer (automatic)           42.30       1840.75      0    Male   \n",
       "4           Electronic check           70.70        151.65      1  Female   \n",
       "\n",
       "   ...  Partner  Dependents     MultipleLines InternetService OnlineSecurity  \\\n",
       "0  ...        1           0  No phone service             DSL             No   \n",
       "1  ...        0           0                No             DSL            Yes   \n",
       "2  ...        0           0                No             DSL            Yes   \n",
       "3  ...        0           0  No phone service             DSL            Yes   \n",
       "4  ...        0           0                No     Fiber optic             No   \n",
       "\n",
       "  OnlineBackup DeviceProtection TechSupport StreamingTV StreamingMovies  \n",
       "0          Yes               No          No          No              No  \n",
       "1           No              Yes          No          No              No  \n",
       "2          Yes               No          No          No              No  \n",
       "3           No              Yes         Yes          No              No  \n",
       "4           No               No          No          No              No  \n",
       "\n",
       "[5 rows x 21 columns]"
      ]
     },
     "execution_count": 34,
     "metadata": {},
     "output_type": "execute_result"
    }
   ],
   "source": [
    "telecom.head()"
   ]
  },
  {
   "cell_type": "markdown",
   "metadata": {
    "_uuid": "c8aa8508f1e8980fba60bf594df216eb74332406"
   },
   "source": [
    "### For Nominal Categorical Features with multiple possible values, create dummy variable (one-hot encoding)"
   ]
  },
  {
   "cell_type": "code",
   "execution_count": 35,
   "metadata": {
    "_uuid": "f7debb8122f0a978aeaa6f6c45aafbb12d242701"
   },
   "outputs": [],
   "source": [
    "# Creating a dummy variable for some of the categorical variables and dropping the first one.\n",
    "dummy1 = pd.get_dummies(telecom[['Contract', 'PaymentMethod', 'gender', 'InternetService', 'MultipleLines', 'OnlineSecurity', 'OnlineBackup', 'DeviceProtection', 'TechSupport', 'StreamingTV', 'StreamingMovies']], drop_first=True)\n",
    "\n",
    "# Adding the results to the master dataframe\n",
    "telecom = pd.concat([telecom, dummy1], axis=1)"
   ]
  },
  {
   "cell_type": "markdown",
   "metadata": {
    "_uuid": "88ec64f311eaa28036828af6f59128088adb8d89"
   },
   "source": [
    "### Dropping the Original Features"
   ]
  },
  {
   "cell_type": "code",
   "execution_count": 36,
   "metadata": {
    "_uuid": "c6c3484386f23b1c1a5903cdd575f5d4a2382902"
   },
   "outputs": [],
   "source": [
    "# We have created dummies for the below variables, so we can drop them\n",
    "telecom = telecom.drop(['Contract','PaymentMethod','gender','MultipleLines','InternetService', 'OnlineSecurity', 'OnlineBackup', 'DeviceProtection',\n",
    "       'TechSupport', 'StreamingTV', 'StreamingMovies'], 1)"
   ]
  },
  {
   "cell_type": "code",
   "execution_count": 37,
   "metadata": {
    "_uuid": "ca8d9e7b1a8b24d1809a0856f6312a25bf81467d"
   },
   "outputs": [
    {
     "data": {
      "text/html": [
       "<div>\n",
       "<style scoped>\n",
       "    .dataframe tbody tr th:only-of-type {\n",
       "        vertical-align: middle;\n",
       "    }\n",
       "\n",
       "    .dataframe tbody tr th {\n",
       "        vertical-align: top;\n",
       "    }\n",
       "\n",
       "    .dataframe thead th {\n",
       "        text-align: right;\n",
       "    }\n",
       "</style>\n",
       "<table border=\"1\" class=\"dataframe\">\n",
       "  <thead>\n",
       "    <tr style=\"text-align: right;\">\n",
       "      <th></th>\n",
       "      <th>customerID</th>\n",
       "      <th>tenure</th>\n",
       "      <th>PhoneService</th>\n",
       "      <th>PaperlessBilling</th>\n",
       "      <th>MonthlyCharges</th>\n",
       "      <th>TotalCharges</th>\n",
       "      <th>Churn</th>\n",
       "      <th>SeniorCitizen</th>\n",
       "      <th>Partner</th>\n",
       "      <th>Dependents</th>\n",
       "      <th>...</th>\n",
       "      <th>OnlineBackup_No internet service</th>\n",
       "      <th>OnlineBackup_Yes</th>\n",
       "      <th>DeviceProtection_No internet service</th>\n",
       "      <th>DeviceProtection_Yes</th>\n",
       "      <th>TechSupport_No internet service</th>\n",
       "      <th>TechSupport_Yes</th>\n",
       "      <th>StreamingTV_No internet service</th>\n",
       "      <th>StreamingTV_Yes</th>\n",
       "      <th>StreamingMovies_No internet service</th>\n",
       "      <th>StreamingMovies_Yes</th>\n",
       "    </tr>\n",
       "  </thead>\n",
       "  <tbody>\n",
       "    <tr>\n",
       "      <th>0</th>\n",
       "      <td>7590-VHVEG</td>\n",
       "      <td>1</td>\n",
       "      <td>0</td>\n",
       "      <td>1</td>\n",
       "      <td>29.85</td>\n",
       "      <td>29.85</td>\n",
       "      <td>0</td>\n",
       "      <td>0</td>\n",
       "      <td>1</td>\n",
       "      <td>0</td>\n",
       "      <td>...</td>\n",
       "      <td>0</td>\n",
       "      <td>1</td>\n",
       "      <td>0</td>\n",
       "      <td>0</td>\n",
       "      <td>0</td>\n",
       "      <td>0</td>\n",
       "      <td>0</td>\n",
       "      <td>0</td>\n",
       "      <td>0</td>\n",
       "      <td>0</td>\n",
       "    </tr>\n",
       "    <tr>\n",
       "      <th>1</th>\n",
       "      <td>5575-GNVDE</td>\n",
       "      <td>34</td>\n",
       "      <td>1</td>\n",
       "      <td>0</td>\n",
       "      <td>56.95</td>\n",
       "      <td>1889.50</td>\n",
       "      <td>0</td>\n",
       "      <td>0</td>\n",
       "      <td>0</td>\n",
       "      <td>0</td>\n",
       "      <td>...</td>\n",
       "      <td>0</td>\n",
       "      <td>0</td>\n",
       "      <td>0</td>\n",
       "      <td>1</td>\n",
       "      <td>0</td>\n",
       "      <td>0</td>\n",
       "      <td>0</td>\n",
       "      <td>0</td>\n",
       "      <td>0</td>\n",
       "      <td>0</td>\n",
       "    </tr>\n",
       "    <tr>\n",
       "      <th>2</th>\n",
       "      <td>3668-QPYBK</td>\n",
       "      <td>2</td>\n",
       "      <td>1</td>\n",
       "      <td>1</td>\n",
       "      <td>53.85</td>\n",
       "      <td>108.15</td>\n",
       "      <td>1</td>\n",
       "      <td>0</td>\n",
       "      <td>0</td>\n",
       "      <td>0</td>\n",
       "      <td>...</td>\n",
       "      <td>0</td>\n",
       "      <td>1</td>\n",
       "      <td>0</td>\n",
       "      <td>0</td>\n",
       "      <td>0</td>\n",
       "      <td>0</td>\n",
       "      <td>0</td>\n",
       "      <td>0</td>\n",
       "      <td>0</td>\n",
       "      <td>0</td>\n",
       "    </tr>\n",
       "    <tr>\n",
       "      <th>3</th>\n",
       "      <td>7795-CFOCW</td>\n",
       "      <td>45</td>\n",
       "      <td>0</td>\n",
       "      <td>0</td>\n",
       "      <td>42.30</td>\n",
       "      <td>1840.75</td>\n",
       "      <td>0</td>\n",
       "      <td>0</td>\n",
       "      <td>0</td>\n",
       "      <td>0</td>\n",
       "      <td>...</td>\n",
       "      <td>0</td>\n",
       "      <td>0</td>\n",
       "      <td>0</td>\n",
       "      <td>1</td>\n",
       "      <td>0</td>\n",
       "      <td>1</td>\n",
       "      <td>0</td>\n",
       "      <td>0</td>\n",
       "      <td>0</td>\n",
       "      <td>0</td>\n",
       "    </tr>\n",
       "    <tr>\n",
       "      <th>4</th>\n",
       "      <td>9237-HQITU</td>\n",
       "      <td>2</td>\n",
       "      <td>1</td>\n",
       "      <td>1</td>\n",
       "      <td>70.70</td>\n",
       "      <td>151.65</td>\n",
       "      <td>1</td>\n",
       "      <td>0</td>\n",
       "      <td>0</td>\n",
       "      <td>0</td>\n",
       "      <td>...</td>\n",
       "      <td>0</td>\n",
       "      <td>0</td>\n",
       "      <td>0</td>\n",
       "      <td>0</td>\n",
       "      <td>0</td>\n",
       "      <td>0</td>\n",
       "      <td>0</td>\n",
       "      <td>0</td>\n",
       "      <td>0</td>\n",
       "      <td>0</td>\n",
       "    </tr>\n",
       "  </tbody>\n",
       "</table>\n",
       "<p>5 rows × 32 columns</p>\n",
       "</div>"
      ],
      "text/plain": [
       "   customerID  tenure  PhoneService  PaperlessBilling  MonthlyCharges  \\\n",
       "0  7590-VHVEG       1             0                 1           29.85   \n",
       "1  5575-GNVDE      34             1                 0           56.95   \n",
       "2  3668-QPYBK       2             1                 1           53.85   \n",
       "3  7795-CFOCW      45             0                 0           42.30   \n",
       "4  9237-HQITU       2             1                 1           70.70   \n",
       "\n",
       "   TotalCharges  Churn  SeniorCitizen  Partner  Dependents  ...  \\\n",
       "0         29.85      0              0        1           0  ...   \n",
       "1       1889.50      0              0        0           0  ...   \n",
       "2        108.15      1              0        0           0  ...   \n",
       "3       1840.75      0              0        0           0  ...   \n",
       "4        151.65      1              0        0           0  ...   \n",
       "\n",
       "   OnlineBackup_No internet service  OnlineBackup_Yes  \\\n",
       "0                                 0                 1   \n",
       "1                                 0                 0   \n",
       "2                                 0                 1   \n",
       "3                                 0                 0   \n",
       "4                                 0                 0   \n",
       "\n",
       "   DeviceProtection_No internet service  DeviceProtection_Yes  \\\n",
       "0                                     0                     0   \n",
       "1                                     0                     1   \n",
       "2                                     0                     0   \n",
       "3                                     0                     1   \n",
       "4                                     0                     0   \n",
       "\n",
       "   TechSupport_No internet service  TechSupport_Yes  \\\n",
       "0                                0                0   \n",
       "1                                0                0   \n",
       "2                                0                0   \n",
       "3                                0                1   \n",
       "4                                0                0   \n",
       "\n",
       "   StreamingTV_No internet service  StreamingTV_Yes  \\\n",
       "0                                0                0   \n",
       "1                                0                0   \n",
       "2                                0                0   \n",
       "3                                0                0   \n",
       "4                                0                0   \n",
       "\n",
       "   StreamingMovies_No internet service  StreamingMovies_Yes  \n",
       "0                                    0                    0  \n",
       "1                                    0                    0  \n",
       "2                                    0                    0  \n",
       "3                                    0                    0  \n",
       "4                                    0                    0  \n",
       "\n",
       "[5 rows x 32 columns]"
      ]
     },
     "execution_count": 37,
     "metadata": {},
     "output_type": "execute_result"
    }
   ],
   "source": [
    "telecom.head()"
   ]
  },
  {
   "cell_type": "code",
   "execution_count": 38,
   "metadata": {
    "_uuid": "5329de5267240652301631d0ec2040d0ebb62d15"
   },
   "outputs": [
    {
     "name": "stdout",
     "output_type": "stream",
     "text": [
      "<class 'pandas.core.frame.DataFrame'>\n",
      "Int64Index: 7043 entries, 0 to 7042\n",
      "Data columns (total 32 columns):\n",
      " #   Column                                 Non-Null Count  Dtype  \n",
      "---  ------                                 --------------  -----  \n",
      " 0   customerID                             7043 non-null   object \n",
      " 1   tenure                                 7043 non-null   int64  \n",
      " 2   PhoneService                           7043 non-null   int64  \n",
      " 3   PaperlessBilling                       7043 non-null   int64  \n",
      " 4   MonthlyCharges                         7043 non-null   float64\n",
      " 5   TotalCharges                           7032 non-null   float64\n",
      " 6   Churn                                  7043 non-null   int64  \n",
      " 7   SeniorCitizen                          7043 non-null   int64  \n",
      " 8   Partner                                7043 non-null   int64  \n",
      " 9   Dependents                             7043 non-null   int64  \n",
      " 10  Contract_One year                      7043 non-null   uint8  \n",
      " 11  Contract_Two year                      7043 non-null   uint8  \n",
      " 12  PaymentMethod_Credit card (automatic)  7043 non-null   uint8  \n",
      " 13  PaymentMethod_Electronic check         7043 non-null   uint8  \n",
      " 14  PaymentMethod_Mailed check             7043 non-null   uint8  \n",
      " 15  gender_Male                            7043 non-null   uint8  \n",
      " 16  InternetService_Fiber optic            7043 non-null   uint8  \n",
      " 17  InternetService_No                     7043 non-null   uint8  \n",
      " 18  MultipleLines_No phone service         7043 non-null   uint8  \n",
      " 19  MultipleLines_Yes                      7043 non-null   uint8  \n",
      " 20  OnlineSecurity_No internet service     7043 non-null   uint8  \n",
      " 21  OnlineSecurity_Yes                     7043 non-null   uint8  \n",
      " 22  OnlineBackup_No internet service       7043 non-null   uint8  \n",
      " 23  OnlineBackup_Yes                       7043 non-null   uint8  \n",
      " 24  DeviceProtection_No internet service   7043 non-null   uint8  \n",
      " 25  DeviceProtection_Yes                   7043 non-null   uint8  \n",
      " 26  TechSupport_No internet service        7043 non-null   uint8  \n",
      " 27  TechSupport_Yes                        7043 non-null   uint8  \n",
      " 28  StreamingTV_No internet service        7043 non-null   uint8  \n",
      " 29  StreamingTV_Yes                        7043 non-null   uint8  \n",
      " 30  StreamingMovies_No internet service    7043 non-null   uint8  \n",
      " 31  StreamingMovies_Yes                    7043 non-null   uint8  \n",
      "dtypes: float64(2), int64(7), object(1), uint8(22)\n",
      "memory usage: 1.1+ MB\n"
     ]
    }
   ],
   "source": [
    "telecom.info()"
   ]
  },
  {
   "cell_type": "markdown",
   "metadata": {
    "_uuid": "56e852c54ba7617d1bd40b941e7e5cfb12dc90cc"
   },
   "source": [
    "Now you can see that you have all variables as numeric."
   ]
  },
  {
   "cell_type": "markdown",
   "metadata": {
    "_uuid": "e81109236459ea7368de53c59677104fbc2fdf22"
   },
   "source": [
    "#### Checking for Missing Values and Inputing Them"
   ]
  },
  {
   "cell_type": "code",
   "execution_count": 39,
   "metadata": {
    "_uuid": "31b1d514cf34df5ad3e60ee73444dc645693ab07"
   },
   "outputs": [
    {
     "data": {
      "text/plain": [
       "customerID                                0\n",
       "tenure                                    0\n",
       "PhoneService                              0\n",
       "PaperlessBilling                          0\n",
       "MonthlyCharges                            0\n",
       "TotalCharges                             11\n",
       "Churn                                     0\n",
       "SeniorCitizen                             0\n",
       "Partner                                   0\n",
       "Dependents                                0\n",
       "Contract_One year                         0\n",
       "Contract_Two year                         0\n",
       "PaymentMethod_Credit card (automatic)     0\n",
       "PaymentMethod_Electronic check            0\n",
       "PaymentMethod_Mailed check                0\n",
       "gender_Male                               0\n",
       "InternetService_Fiber optic               0\n",
       "InternetService_No                        0\n",
       "MultipleLines_No phone service            0\n",
       "MultipleLines_Yes                         0\n",
       "OnlineSecurity_No internet service        0\n",
       "OnlineSecurity_Yes                        0\n",
       "OnlineBackup_No internet service          0\n",
       "OnlineBackup_Yes                          0\n",
       "DeviceProtection_No internet service      0\n",
       "DeviceProtection_Yes                      0\n",
       "TechSupport_No internet service           0\n",
       "TechSupport_Yes                           0\n",
       "StreamingTV_No internet service           0\n",
       "StreamingTV_Yes                           0\n",
       "StreamingMovies_No internet service       0\n",
       "StreamingMovies_Yes                       0\n",
       "dtype: int64"
      ]
     },
     "execution_count": 39,
     "metadata": {},
     "output_type": "execute_result"
    }
   ],
   "source": [
    "# Adding up the missing values (column-wise)\n",
    "telecom.isnull().sum()"
   ]
  },
  {
   "cell_type": "markdown",
   "metadata": {
    "_uuid": "38fa6d6c3442b1b13c58bdd9c831d9fec5403843"
   },
   "source": [
    "It means that 11/7043 = 0.001561834 i.e 0.1%, best is to remove these observations from the analysis"
   ]
  },
  {
   "cell_type": "code",
   "execution_count": 40,
   "metadata": {
    "_uuid": "d50e02e738039aa4bcbf7850dbfa81b827f926f0"
   },
   "outputs": [],
   "source": [
    "# Removing NaN TotalCharges rows\n",
    "telecom = telecom[~np.isnan(telecom['TotalCharges'])]"
   ]
  },
  {
   "cell_type": "code",
   "execution_count": 41,
   "metadata": {
    "_uuid": "102fbf688a6d2e51e930b93eb38ea20240d8de4e"
   },
   "outputs": [
    {
     "data": {
      "text/plain": [
       "customerID                               0.0\n",
       "tenure                                   0.0\n",
       "PhoneService                             0.0\n",
       "PaperlessBilling                         0.0\n",
       "MonthlyCharges                           0.0\n",
       "TotalCharges                             0.0\n",
       "Churn                                    0.0\n",
       "SeniorCitizen                            0.0\n",
       "Partner                                  0.0\n",
       "Dependents                               0.0\n",
       "Contract_One year                        0.0\n",
       "Contract_Two year                        0.0\n",
       "PaymentMethod_Credit card (automatic)    0.0\n",
       "PaymentMethod_Electronic check           0.0\n",
       "PaymentMethod_Mailed check               0.0\n",
       "gender_Male                              0.0\n",
       "InternetService_Fiber optic              0.0\n",
       "InternetService_No                       0.0\n",
       "MultipleLines_No phone service           0.0\n",
       "MultipleLines_Yes                        0.0\n",
       "OnlineSecurity_No internet service       0.0\n",
       "OnlineSecurity_Yes                       0.0\n",
       "OnlineBackup_No internet service         0.0\n",
       "OnlineBackup_Yes                         0.0\n",
       "DeviceProtection_No internet service     0.0\n",
       "DeviceProtection_Yes                     0.0\n",
       "TechSupport_No internet service          0.0\n",
       "TechSupport_Yes                          0.0\n",
       "StreamingTV_No internet service          0.0\n",
       "StreamingTV_Yes                          0.0\n",
       "StreamingMovies_No internet service      0.0\n",
       "StreamingMovies_Yes                      0.0\n",
       "dtype: float64"
      ]
     },
     "execution_count": 41,
     "metadata": {},
     "output_type": "execute_result"
    }
   ],
   "source": [
    "# Checking percentage of missing values after removing the missing values\n",
    "round(100 * (telecom.isnull().sum() / len(telecom.index)), 2)"
   ]
  },
  {
   "cell_type": "markdown",
   "metadata": {
    "_uuid": "9a1566e0b8dc69a6529027db94c622d537d61843"
   },
   "source": [
    "Now we don't have any missing values"
   ]
  },
  {
   "cell_type": "markdown",
   "metadata": {
    "_uuid": "deb40b406c82b157e8656bfb50d93fd79be60c8d"
   },
   "source": [
    "## Test-Train Split of Input Dataset"
   ]
  },
  {
   "cell_type": "code",
   "execution_count": 42,
   "metadata": {
    "_uuid": "fe21054fb829fdfed2c4f766877081c52e831ebf"
   },
   "outputs": [],
   "source": [
    "from sklearn.model_selection import train_test_split"
   ]
  },
  {
   "cell_type": "code",
   "execution_count": 43,
   "metadata": {
    "_uuid": "c23923f95a60e1a6d65d9d60a577957841674bf9"
   },
   "outputs": [],
   "source": [
    "# Putting feature variable to X\n",
    "X = telecom.drop(['customerID'], axis=1)\n",
    "y = X.pop('Churn')"
   ]
  },
  {
   "cell_type": "code",
   "execution_count": 44,
   "metadata": {
    "_uuid": "bae39d755264a1770cb5c4cdd4cde05e1642348a"
   },
   "outputs": [],
   "source": [
    "# Splitting the data into train and test\n",
    "X_train, X_test, y_train, y_test = train_test_split(X, y, train_size=0.7, test_size=0.3, random_state=100)"
   ]
  },
  {
   "cell_type": "markdown",
   "metadata": {
    "_uuid": "2ea5627bfdf786ec00432884d6ca5b98bd878b1d"
   },
   "source": [
    "## Feature Scaling"
   ]
  },
  {
   "cell_type": "code",
   "execution_count": 45,
   "metadata": {
    "_uuid": "284ef882b7f4cabd39ccbfcdcdae0ad3ec379e43"
   },
   "outputs": [],
   "source": [
    "from sklearn.preprocessing import StandardScaler"
   ]
  },
  {
   "cell_type": "code",
   "execution_count": 46,
   "metadata": {
    "_uuid": "ef2306c84461023060f0954686aa1ea282a32f7c"
   },
   "outputs": [
    {
     "data": {
      "text/html": [
       "<div>\n",
       "<style scoped>\n",
       "    .dataframe tbody tr th:only-of-type {\n",
       "        vertical-align: middle;\n",
       "    }\n",
       "\n",
       "    .dataframe tbody tr th {\n",
       "        vertical-align: top;\n",
       "    }\n",
       "\n",
       "    .dataframe thead th {\n",
       "        text-align: right;\n",
       "    }\n",
       "</style>\n",
       "<table border=\"1\" class=\"dataframe\">\n",
       "  <thead>\n",
       "    <tr style=\"text-align: right;\">\n",
       "      <th></th>\n",
       "      <th>tenure</th>\n",
       "      <th>PhoneService</th>\n",
       "      <th>PaperlessBilling</th>\n",
       "      <th>MonthlyCharges</th>\n",
       "      <th>TotalCharges</th>\n",
       "      <th>SeniorCitizen</th>\n",
       "      <th>Partner</th>\n",
       "      <th>Dependents</th>\n",
       "      <th>Contract_One year</th>\n",
       "      <th>Contract_Two year</th>\n",
       "      <th>...</th>\n",
       "      <th>OnlineBackup_No internet service</th>\n",
       "      <th>OnlineBackup_Yes</th>\n",
       "      <th>DeviceProtection_No internet service</th>\n",
       "      <th>DeviceProtection_Yes</th>\n",
       "      <th>TechSupport_No internet service</th>\n",
       "      <th>TechSupport_Yes</th>\n",
       "      <th>StreamingTV_No internet service</th>\n",
       "      <th>StreamingTV_Yes</th>\n",
       "      <th>StreamingMovies_No internet service</th>\n",
       "      <th>StreamingMovies_Yes</th>\n",
       "    </tr>\n",
       "  </thead>\n",
       "  <tbody>\n",
       "    <tr>\n",
       "      <th>879</th>\n",
       "      <td>0.019693</td>\n",
       "      <td>1</td>\n",
       "      <td>1</td>\n",
       "      <td>-0.338074</td>\n",
       "      <td>-0.276449</td>\n",
       "      <td>0</td>\n",
       "      <td>0</td>\n",
       "      <td>0</td>\n",
       "      <td>0</td>\n",
       "      <td>0</td>\n",
       "      <td>...</td>\n",
       "      <td>0</td>\n",
       "      <td>1</td>\n",
       "      <td>0</td>\n",
       "      <td>0</td>\n",
       "      <td>0</td>\n",
       "      <td>0</td>\n",
       "      <td>0</td>\n",
       "      <td>0</td>\n",
       "      <td>0</td>\n",
       "      <td>0</td>\n",
       "    </tr>\n",
       "    <tr>\n",
       "      <th>5790</th>\n",
       "      <td>0.305384</td>\n",
       "      <td>0</td>\n",
       "      <td>1</td>\n",
       "      <td>-0.464443</td>\n",
       "      <td>-0.112702</td>\n",
       "      <td>0</td>\n",
       "      <td>1</td>\n",
       "      <td>1</td>\n",
       "      <td>0</td>\n",
       "      <td>0</td>\n",
       "      <td>...</td>\n",
       "      <td>0</td>\n",
       "      <td>1</td>\n",
       "      <td>0</td>\n",
       "      <td>0</td>\n",
       "      <td>0</td>\n",
       "      <td>0</td>\n",
       "      <td>0</td>\n",
       "      <td>1</td>\n",
       "      <td>0</td>\n",
       "      <td>1</td>\n",
       "    </tr>\n",
       "    <tr>\n",
       "      <th>6498</th>\n",
       "      <td>-1.286319</td>\n",
       "      <td>1</td>\n",
       "      <td>1</td>\n",
       "      <td>0.581425</td>\n",
       "      <td>-0.974430</td>\n",
       "      <td>0</td>\n",
       "      <td>0</td>\n",
       "      <td>0</td>\n",
       "      <td>0</td>\n",
       "      <td>0</td>\n",
       "      <td>...</td>\n",
       "      <td>0</td>\n",
       "      <td>1</td>\n",
       "      <td>0</td>\n",
       "      <td>1</td>\n",
       "      <td>0</td>\n",
       "      <td>0</td>\n",
       "      <td>0</td>\n",
       "      <td>0</td>\n",
       "      <td>0</td>\n",
       "      <td>0</td>\n",
       "    </tr>\n",
       "    <tr>\n",
       "      <th>880</th>\n",
       "      <td>-0.919003</td>\n",
       "      <td>1</td>\n",
       "      <td>1</td>\n",
       "      <td>1.505913</td>\n",
       "      <td>-0.550676</td>\n",
       "      <td>0</td>\n",
       "      <td>0</td>\n",
       "      <td>0</td>\n",
       "      <td>0</td>\n",
       "      <td>0</td>\n",
       "      <td>...</td>\n",
       "      <td>0</td>\n",
       "      <td>1</td>\n",
       "      <td>0</td>\n",
       "      <td>1</td>\n",
       "      <td>0</td>\n",
       "      <td>1</td>\n",
       "      <td>0</td>\n",
       "      <td>1</td>\n",
       "      <td>0</td>\n",
       "      <td>1</td>\n",
       "    </tr>\n",
       "    <tr>\n",
       "      <th>2784</th>\n",
       "      <td>-1.163880</td>\n",
       "      <td>1</td>\n",
       "      <td>1</td>\n",
       "      <td>1.106854</td>\n",
       "      <td>-0.835971</td>\n",
       "      <td>0</td>\n",
       "      <td>0</td>\n",
       "      <td>1</td>\n",
       "      <td>0</td>\n",
       "      <td>0</td>\n",
       "      <td>...</td>\n",
       "      <td>0</td>\n",
       "      <td>0</td>\n",
       "      <td>0</td>\n",
       "      <td>1</td>\n",
       "      <td>0</td>\n",
       "      <td>1</td>\n",
       "      <td>0</td>\n",
       "      <td>1</td>\n",
       "      <td>0</td>\n",
       "      <td>1</td>\n",
       "    </tr>\n",
       "  </tbody>\n",
       "</table>\n",
       "<p>5 rows × 30 columns</p>\n",
       "</div>"
      ],
      "text/plain": [
       "        tenure  PhoneService  PaperlessBilling  MonthlyCharges  TotalCharges  \\\n",
       "879   0.019693             1                 1       -0.338074     -0.276449   \n",
       "5790  0.305384             0                 1       -0.464443     -0.112702   \n",
       "6498 -1.286319             1                 1        0.581425     -0.974430   \n",
       "880  -0.919003             1                 1        1.505913     -0.550676   \n",
       "2784 -1.163880             1                 1        1.106854     -0.835971   \n",
       "\n",
       "      SeniorCitizen  Partner  Dependents  Contract_One year  \\\n",
       "879               0        0           0                  0   \n",
       "5790              0        1           1                  0   \n",
       "6498              0        0           0                  0   \n",
       "880               0        0           0                  0   \n",
       "2784              0        0           1                  0   \n",
       "\n",
       "      Contract_Two year  ...  OnlineBackup_No internet service  \\\n",
       "879                   0  ...                                 0   \n",
       "5790                  0  ...                                 0   \n",
       "6498                  0  ...                                 0   \n",
       "880                   0  ...                                 0   \n",
       "2784                  0  ...                                 0   \n",
       "\n",
       "      OnlineBackup_Yes  DeviceProtection_No internet service  \\\n",
       "879                  1                                     0   \n",
       "5790                 1                                     0   \n",
       "6498                 1                                     0   \n",
       "880                  1                                     0   \n",
       "2784                 0                                     0   \n",
       "\n",
       "      DeviceProtection_Yes  TechSupport_No internet service  TechSupport_Yes  \\\n",
       "879                      0                                0                0   \n",
       "5790                     0                                0                0   \n",
       "6498                     1                                0                0   \n",
       "880                      1                                0                1   \n",
       "2784                     1                                0                1   \n",
       "\n",
       "      StreamingTV_No internet service  StreamingTV_Yes  \\\n",
       "879                                 0                0   \n",
       "5790                                0                1   \n",
       "6498                                0                0   \n",
       "880                                 0                1   \n",
       "2784                                0                1   \n",
       "\n",
       "      StreamingMovies_No internet service  StreamingMovies_Yes  \n",
       "879                                     0                    0  \n",
       "5790                                    0                    1  \n",
       "6498                                    0                    0  \n",
       "880                                     0                    1  \n",
       "2784                                    0                    1  \n",
       "\n",
       "[5 rows x 30 columns]"
      ]
     },
     "execution_count": 46,
     "metadata": {},
     "output_type": "execute_result"
    }
   ],
   "source": [
    "scaler = StandardScaler()\n",
    "\n",
    "X_train[['tenure','MonthlyCharges','TotalCharges']] = scaler.fit_transform(X_train[['tenure','MonthlyCharges','TotalCharges']])\n",
    "\n",
    "X_train.head()"
   ]
  },
  {
   "cell_type": "markdown",
   "metadata": {
    "_uuid": "2c07c51e09c95a6178237046eb939e5f44a7ddef"
   },
   "source": [
    "## Finding Correlations among Features"
   ]
  },
  {
   "cell_type": "code",
   "execution_count": 47,
   "metadata": {},
   "outputs": [
    {
     "data": {
      "text/html": [
       "<div>\n",
       "<style scoped>\n",
       "    .dataframe tbody tr th:only-of-type {\n",
       "        vertical-align: middle;\n",
       "    }\n",
       "\n",
       "    .dataframe tbody tr th {\n",
       "        vertical-align: top;\n",
       "    }\n",
       "\n",
       "    .dataframe thead th {\n",
       "        text-align: right;\n",
       "    }\n",
       "</style>\n",
       "<table border=\"1\" class=\"dataframe\">\n",
       "  <thead>\n",
       "    <tr style=\"text-align: right;\">\n",
       "      <th></th>\n",
       "      <th>tenure</th>\n",
       "      <th>PhoneService</th>\n",
       "      <th>PaperlessBilling</th>\n",
       "      <th>MonthlyCharges</th>\n",
       "      <th>TotalCharges</th>\n",
       "      <th>Churn</th>\n",
       "      <th>SeniorCitizen</th>\n",
       "      <th>Partner</th>\n",
       "      <th>Dependents</th>\n",
       "      <th>Contract_One year</th>\n",
       "      <th>...</th>\n",
       "      <th>OnlineBackup_No internet service</th>\n",
       "      <th>OnlineBackup_Yes</th>\n",
       "      <th>DeviceProtection_No internet service</th>\n",
       "      <th>DeviceProtection_Yes</th>\n",
       "      <th>TechSupport_No internet service</th>\n",
       "      <th>TechSupport_Yes</th>\n",
       "      <th>StreamingTV_No internet service</th>\n",
       "      <th>StreamingTV_Yes</th>\n",
       "      <th>StreamingMovies_No internet service</th>\n",
       "      <th>StreamingMovies_Yes</th>\n",
       "    </tr>\n",
       "  </thead>\n",
       "  <tbody>\n",
       "    <tr>\n",
       "      <th>tenure</th>\n",
       "      <td>1.000000</td>\n",
       "      <td>0.007877</td>\n",
       "      <td>0.004823</td>\n",
       "      <td>0.246862</td>\n",
       "      <td>0.825880</td>\n",
       "      <td>-0.354049</td>\n",
       "      <td>0.015683</td>\n",
       "      <td>0.381912</td>\n",
       "      <td>0.163386</td>\n",
       "      <td>0.202338</td>\n",
       "      <td>...</td>\n",
       "      <td>-0.037529</td>\n",
       "      <td>0.361138</td>\n",
       "      <td>-0.037529</td>\n",
       "      <td>0.361520</td>\n",
       "      <td>-0.037529</td>\n",
       "      <td>0.325288</td>\n",
       "      <td>-0.037529</td>\n",
       "      <td>0.280264</td>\n",
       "      <td>-0.037529</td>\n",
       "      <td>0.285402</td>\n",
       "    </tr>\n",
       "    <tr>\n",
       "      <th>PhoneService</th>\n",
       "      <td>0.007877</td>\n",
       "      <td>1.000000</td>\n",
       "      <td>0.016696</td>\n",
       "      <td>0.248033</td>\n",
       "      <td>0.113008</td>\n",
       "      <td>0.011691</td>\n",
       "      <td>0.008392</td>\n",
       "      <td>0.018397</td>\n",
       "      <td>-0.001078</td>\n",
       "      <td>-0.003142</td>\n",
       "      <td>...</td>\n",
       "      <td>0.171817</td>\n",
       "      <td>-0.052133</td>\n",
       "      <td>0.171817</td>\n",
       "      <td>-0.070076</td>\n",
       "      <td>0.171817</td>\n",
       "      <td>-0.095138</td>\n",
       "      <td>0.171817</td>\n",
       "      <td>-0.021383</td>\n",
       "      <td>0.171817</td>\n",
       "      <td>-0.033477</td>\n",
       "    </tr>\n",
       "    <tr>\n",
       "      <th>PaperlessBilling</th>\n",
       "      <td>0.004823</td>\n",
       "      <td>0.016696</td>\n",
       "      <td>1.000000</td>\n",
       "      <td>0.351930</td>\n",
       "      <td>0.157830</td>\n",
       "      <td>0.191454</td>\n",
       "      <td>0.156258</td>\n",
       "      <td>-0.013957</td>\n",
       "      <td>-0.110131</td>\n",
       "      <td>-0.052278</td>\n",
       "      <td>...</td>\n",
       "      <td>-0.320592</td>\n",
       "      <td>0.127056</td>\n",
       "      <td>-0.320592</td>\n",
       "      <td>0.104079</td>\n",
       "      <td>-0.320592</td>\n",
       "      <td>0.037536</td>\n",
       "      <td>-0.320592</td>\n",
       "      <td>0.224241</td>\n",
       "      <td>-0.320592</td>\n",
       "      <td>0.211583</td>\n",
       "    </tr>\n",
       "    <tr>\n",
       "      <th>MonthlyCharges</th>\n",
       "      <td>0.246862</td>\n",
       "      <td>0.248033</td>\n",
       "      <td>0.351930</td>\n",
       "      <td>1.000000</td>\n",
       "      <td>0.651065</td>\n",
       "      <td>0.192858</td>\n",
       "      <td>0.219874</td>\n",
       "      <td>0.097825</td>\n",
       "      <td>-0.112343</td>\n",
       "      <td>0.004810</td>\n",
       "      <td>...</td>\n",
       "      <td>-0.763191</td>\n",
       "      <td>0.441529</td>\n",
       "      <td>-0.763191</td>\n",
       "      <td>0.482607</td>\n",
       "      <td>-0.763191</td>\n",
       "      <td>0.338301</td>\n",
       "      <td>-0.763191</td>\n",
       "      <td>0.629668</td>\n",
       "      <td>-0.763191</td>\n",
       "      <td>0.627235</td>\n",
       "    </tr>\n",
       "    <tr>\n",
       "      <th>TotalCharges</th>\n",
       "      <td>0.825880</td>\n",
       "      <td>0.113008</td>\n",
       "      <td>0.157830</td>\n",
       "      <td>0.651065</td>\n",
       "      <td>1.000000</td>\n",
       "      <td>-0.199484</td>\n",
       "      <td>0.102411</td>\n",
       "      <td>0.319072</td>\n",
       "      <td>0.064653</td>\n",
       "      <td>0.170569</td>\n",
       "      <td>...</td>\n",
       "      <td>-0.374878</td>\n",
       "      <td>0.510100</td>\n",
       "      <td>-0.374878</td>\n",
       "      <td>0.522881</td>\n",
       "      <td>-0.374878</td>\n",
       "      <td>0.432868</td>\n",
       "      <td>-0.374878</td>\n",
       "      <td>0.515709</td>\n",
       "      <td>-0.374878</td>\n",
       "      <td>0.519867</td>\n",
       "    </tr>\n",
       "    <tr>\n",
       "      <th>Churn</th>\n",
       "      <td>-0.354049</td>\n",
       "      <td>0.011691</td>\n",
       "      <td>0.191454</td>\n",
       "      <td>0.192858</td>\n",
       "      <td>-0.199484</td>\n",
       "      <td>1.000000</td>\n",
       "      <td>0.150541</td>\n",
       "      <td>-0.149982</td>\n",
       "      <td>-0.163128</td>\n",
       "      <td>-0.178225</td>\n",
       "      <td>...</td>\n",
       "      <td>-0.227578</td>\n",
       "      <td>-0.082307</td>\n",
       "      <td>-0.227578</td>\n",
       "      <td>-0.066193</td>\n",
       "      <td>-0.227578</td>\n",
       "      <td>-0.164716</td>\n",
       "      <td>-0.227578</td>\n",
       "      <td>0.063254</td>\n",
       "      <td>-0.227578</td>\n",
       "      <td>0.060860</td>\n",
       "    </tr>\n",
       "    <tr>\n",
       "      <th>SeniorCitizen</th>\n",
       "      <td>0.015683</td>\n",
       "      <td>0.008392</td>\n",
       "      <td>0.156258</td>\n",
       "      <td>0.219874</td>\n",
       "      <td>0.102411</td>\n",
       "      <td>0.150541</td>\n",
       "      <td>1.000000</td>\n",
       "      <td>0.016957</td>\n",
       "      <td>-0.210550</td>\n",
       "      <td>-0.046491</td>\n",
       "      <td>...</td>\n",
       "      <td>-0.182519</td>\n",
       "      <td>0.066663</td>\n",
       "      <td>-0.182519</td>\n",
       "      <td>0.059514</td>\n",
       "      <td>-0.182519</td>\n",
       "      <td>-0.060577</td>\n",
       "      <td>-0.182519</td>\n",
       "      <td>0.105445</td>\n",
       "      <td>-0.182519</td>\n",
       "      <td>0.119842</td>\n",
       "    </tr>\n",
       "    <tr>\n",
       "      <th>Partner</th>\n",
       "      <td>0.381912</td>\n",
       "      <td>0.018397</td>\n",
       "      <td>-0.013957</td>\n",
       "      <td>0.097825</td>\n",
       "      <td>0.319072</td>\n",
       "      <td>-0.149982</td>\n",
       "      <td>0.016957</td>\n",
       "      <td>1.000000</td>\n",
       "      <td>0.452269</td>\n",
       "      <td>0.083067</td>\n",
       "      <td>...</td>\n",
       "      <td>-0.000286</td>\n",
       "      <td>0.141849</td>\n",
       "      <td>-0.000286</td>\n",
       "      <td>0.153556</td>\n",
       "      <td>-0.000286</td>\n",
       "      <td>0.120206</td>\n",
       "      <td>-0.000286</td>\n",
       "      <td>0.124483</td>\n",
       "      <td>-0.000286</td>\n",
       "      <td>0.118108</td>\n",
       "    </tr>\n",
       "    <tr>\n",
       "      <th>Dependents</th>\n",
       "      <td>0.163386</td>\n",
       "      <td>-0.001078</td>\n",
       "      <td>-0.110131</td>\n",
       "      <td>-0.112343</td>\n",
       "      <td>0.064653</td>\n",
       "      <td>-0.163128</td>\n",
       "      <td>-0.210550</td>\n",
       "      <td>0.452269</td>\n",
       "      <td>1.000000</td>\n",
       "      <td>0.069222</td>\n",
       "      <td>...</td>\n",
       "      <td>0.138383</td>\n",
       "      <td>0.023639</td>\n",
       "      <td>0.138383</td>\n",
       "      <td>0.013900</td>\n",
       "      <td>0.138383</td>\n",
       "      <td>0.063053</td>\n",
       "      <td>0.138383</td>\n",
       "      <td>-0.016499</td>\n",
       "      <td>0.138383</td>\n",
       "      <td>-0.038375</td>\n",
       "    </tr>\n",
       "    <tr>\n",
       "      <th>Contract_One year</th>\n",
       "      <td>0.202338</td>\n",
       "      <td>-0.003142</td>\n",
       "      <td>-0.052278</td>\n",
       "      <td>0.004810</td>\n",
       "      <td>0.170569</td>\n",
       "      <td>-0.178225</td>\n",
       "      <td>-0.046491</td>\n",
       "      <td>0.083067</td>\n",
       "      <td>0.069222</td>\n",
       "      <td>1.000000</td>\n",
       "      <td>...</td>\n",
       "      <td>0.038061</td>\n",
       "      <td>0.084113</td>\n",
       "      <td>0.038061</td>\n",
       "      <td>0.102911</td>\n",
       "      <td>0.038061</td>\n",
       "      <td>0.096258</td>\n",
       "      <td>0.038061</td>\n",
       "      <td>0.061930</td>\n",
       "      <td>0.038061</td>\n",
       "      <td>0.064780</td>\n",
       "    </tr>\n",
       "    <tr>\n",
       "      <th>Contract_Two year</th>\n",
       "      <td>0.563801</td>\n",
       "      <td>0.004442</td>\n",
       "      <td>-0.146281</td>\n",
       "      <td>-0.073256</td>\n",
       "      <td>0.358036</td>\n",
       "      <td>-0.301552</td>\n",
       "      <td>-0.116205</td>\n",
       "      <td>0.247334</td>\n",
       "      <td>0.201699</td>\n",
       "      <td>-0.288843</td>\n",
       "      <td>...</td>\n",
       "      <td>0.217542</td>\n",
       "      <td>0.111391</td>\n",
       "      <td>0.217542</td>\n",
       "      <td>0.165248</td>\n",
       "      <td>0.217542</td>\n",
       "      <td>0.240924</td>\n",
       "      <td>0.217542</td>\n",
       "      <td>0.072124</td>\n",
       "      <td>0.217542</td>\n",
       "      <td>0.075603</td>\n",
       "    </tr>\n",
       "    <tr>\n",
       "      <th>PaymentMethod_Credit card (automatic)</th>\n",
       "      <td>0.232800</td>\n",
       "      <td>-0.006916</td>\n",
       "      <td>-0.013726</td>\n",
       "      <td>0.030055</td>\n",
       "      <td>0.182663</td>\n",
       "      <td>-0.134687</td>\n",
       "      <td>-0.024359</td>\n",
       "      <td>0.082327</td>\n",
       "      <td>0.061134</td>\n",
       "      <td>0.067590</td>\n",
       "      <td>...</td>\n",
       "      <td>0.001870</td>\n",
       "      <td>0.090455</td>\n",
       "      <td>0.001870</td>\n",
       "      <td>0.111252</td>\n",
       "      <td>0.001870</td>\n",
       "      <td>0.117024</td>\n",
       "      <td>0.001870</td>\n",
       "      <td>0.040010</td>\n",
       "      <td>0.001870</td>\n",
       "      <td>0.048398</td>\n",
       "    </tr>\n",
       "    <tr>\n",
       "      <th>PaymentMethod_Electronic check</th>\n",
       "      <td>-0.210197</td>\n",
       "      <td>0.002747</td>\n",
       "      <td>0.208427</td>\n",
       "      <td>0.271117</td>\n",
       "      <td>-0.060436</td>\n",
       "      <td>0.301455</td>\n",
       "      <td>0.171322</td>\n",
       "      <td>-0.083207</td>\n",
       "      <td>-0.149274</td>\n",
       "      <td>-0.109546</td>\n",
       "      <td>...</td>\n",
       "      <td>-0.284608</td>\n",
       "      <td>-0.000364</td>\n",
       "      <td>-0.284608</td>\n",
       "      <td>-0.003308</td>\n",
       "      <td>-0.284608</td>\n",
       "      <td>-0.114807</td>\n",
       "      <td>-0.284608</td>\n",
       "      <td>0.144747</td>\n",
       "      <td>-0.284608</td>\n",
       "      <td>0.137420</td>\n",
       "    </tr>\n",
       "    <tr>\n",
       "      <th>PaymentMethod_Mailed check</th>\n",
       "      <td>-0.232181</td>\n",
       "      <td>-0.004463</td>\n",
       "      <td>-0.203981</td>\n",
       "      <td>-0.376568</td>\n",
       "      <td>-0.294708</td>\n",
       "      <td>-0.090773</td>\n",
       "      <td>-0.152987</td>\n",
       "      <td>-0.096948</td>\n",
       "      <td>0.056448</td>\n",
       "      <td>0.000197</td>\n",
       "      <td>...</td>\n",
       "      <td>0.319694</td>\n",
       "      <td>-0.174075</td>\n",
       "      <td>0.319694</td>\n",
       "      <td>-0.187325</td>\n",
       "      <td>0.319694</td>\n",
       "      <td>-0.084631</td>\n",
       "      <td>0.319694</td>\n",
       "      <td>-0.247712</td>\n",
       "      <td>0.319694</td>\n",
       "      <td>-0.250290</td>\n",
       "    </tr>\n",
       "    <tr>\n",
       "      <th>gender_Male</th>\n",
       "      <td>0.005285</td>\n",
       "      <td>-0.007515</td>\n",
       "      <td>-0.011902</td>\n",
       "      <td>-0.013779</td>\n",
       "      <td>0.000048</td>\n",
       "      <td>-0.008545</td>\n",
       "      <td>-0.001819</td>\n",
       "      <td>-0.001379</td>\n",
       "      <td>0.010349</td>\n",
       "      <td>0.007755</td>\n",
       "      <td>...</td>\n",
       "      <td>0.004745</td>\n",
       "      <td>-0.013093</td>\n",
       "      <td>0.004745</td>\n",
       "      <td>-0.000807</td>\n",
       "      <td>0.004745</td>\n",
       "      <td>-0.008507</td>\n",
       "      <td>0.004745</td>\n",
       "      <td>-0.007124</td>\n",
       "      <td>0.004745</td>\n",
       "      <td>-0.010105</td>\n",
       "    </tr>\n",
       "    <tr>\n",
       "      <th>InternetService_Fiber optic</th>\n",
       "      <td>0.017930</td>\n",
       "      <td>0.290183</td>\n",
       "      <td>0.326470</td>\n",
       "      <td>0.787195</td>\n",
       "      <td>0.360769</td>\n",
       "      <td>0.307463</td>\n",
       "      <td>0.254923</td>\n",
       "      <td>0.001235</td>\n",
       "      <td>-0.164101</td>\n",
       "      <td>-0.076809</td>\n",
       "      <td>...</td>\n",
       "      <td>-0.465736</td>\n",
       "      <td>0.165940</td>\n",
       "      <td>-0.465736</td>\n",
       "      <td>0.176356</td>\n",
       "      <td>-0.465736</td>\n",
       "      <td>-0.020299</td>\n",
       "      <td>-0.465736</td>\n",
       "      <td>0.329744</td>\n",
       "      <td>-0.465736</td>\n",
       "      <td>0.322457</td>\n",
       "    </tr>\n",
       "    <tr>\n",
       "      <th>InternetService_No</th>\n",
       "      <td>-0.037529</td>\n",
       "      <td>0.171817</td>\n",
       "      <td>-0.320592</td>\n",
       "      <td>-0.763191</td>\n",
       "      <td>-0.374878</td>\n",
       "      <td>-0.227578</td>\n",
       "      <td>-0.182519</td>\n",
       "      <td>-0.000286</td>\n",
       "      <td>0.138383</td>\n",
       "      <td>0.038061</td>\n",
       "      <td>...</td>\n",
       "      <td>1.000000</td>\n",
       "      <td>-0.380990</td>\n",
       "      <td>1.000000</td>\n",
       "      <td>-0.380151</td>\n",
       "      <td>1.000000</td>\n",
       "      <td>-0.335695</td>\n",
       "      <td>1.000000</td>\n",
       "      <td>-0.414951</td>\n",
       "      <td>1.000000</td>\n",
       "      <td>-0.418450</td>\n",
       "    </tr>\n",
       "    <tr>\n",
       "      <th>MultipleLines_No phone service</th>\n",
       "      <td>-0.007877</td>\n",
       "      <td>-1.000000</td>\n",
       "      <td>-0.016696</td>\n",
       "      <td>-0.248033</td>\n",
       "      <td>-0.113008</td>\n",
       "      <td>-0.011691</td>\n",
       "      <td>-0.008392</td>\n",
       "      <td>-0.018397</td>\n",
       "      <td>0.001078</td>\n",
       "      <td>0.003142</td>\n",
       "      <td>...</td>\n",
       "      <td>-0.171817</td>\n",
       "      <td>0.052133</td>\n",
       "      <td>-0.171817</td>\n",
       "      <td>0.070076</td>\n",
       "      <td>-0.171817</td>\n",
       "      <td>0.095138</td>\n",
       "      <td>-0.171817</td>\n",
       "      <td>0.021383</td>\n",
       "      <td>-0.171817</td>\n",
       "      <td>0.033477</td>\n",
       "    </tr>\n",
       "    <tr>\n",
       "      <th>MultipleLines_Yes</th>\n",
       "      <td>0.332399</td>\n",
       "      <td>0.279530</td>\n",
       "      <td>0.163746</td>\n",
       "      <td>0.490912</td>\n",
       "      <td>0.469042</td>\n",
       "      <td>0.040033</td>\n",
       "      <td>0.142996</td>\n",
       "      <td>0.142561</td>\n",
       "      <td>-0.024307</td>\n",
       "      <td>-0.003594</td>\n",
       "      <td>...</td>\n",
       "      <td>-0.210794</td>\n",
       "      <td>0.202228</td>\n",
       "      <td>-0.210794</td>\n",
       "      <td>0.201733</td>\n",
       "      <td>-0.210794</td>\n",
       "      <td>0.100421</td>\n",
       "      <td>-0.210794</td>\n",
       "      <td>0.257804</td>\n",
       "      <td>-0.210794</td>\n",
       "      <td>0.259194</td>\n",
       "    </tr>\n",
       "    <tr>\n",
       "      <th>OnlineSecurity_No internet service</th>\n",
       "      <td>-0.037529</td>\n",
       "      <td>0.171817</td>\n",
       "      <td>-0.320592</td>\n",
       "      <td>-0.763191</td>\n",
       "      <td>-0.374878</td>\n",
       "      <td>-0.227578</td>\n",
       "      <td>-0.182519</td>\n",
       "      <td>-0.000286</td>\n",
       "      <td>0.138383</td>\n",
       "      <td>0.038061</td>\n",
       "      <td>...</td>\n",
       "      <td>1.000000</td>\n",
       "      <td>-0.380990</td>\n",
       "      <td>1.000000</td>\n",
       "      <td>-0.380151</td>\n",
       "      <td>1.000000</td>\n",
       "      <td>-0.335695</td>\n",
       "      <td>1.000000</td>\n",
       "      <td>-0.414951</td>\n",
       "      <td>1.000000</td>\n",
       "      <td>-0.418450</td>\n",
       "    </tr>\n",
       "    <tr>\n",
       "      <th>OnlineSecurity_Yes</th>\n",
       "      <td>0.328297</td>\n",
       "      <td>-0.091676</td>\n",
       "      <td>-0.004051</td>\n",
       "      <td>0.296447</td>\n",
       "      <td>0.412619</td>\n",
       "      <td>-0.171270</td>\n",
       "      <td>-0.038576</td>\n",
       "      <td>0.143346</td>\n",
       "      <td>0.080786</td>\n",
       "      <td>0.100658</td>\n",
       "      <td>...</td>\n",
       "      <td>-0.332799</td>\n",
       "      <td>0.283285</td>\n",
       "      <td>-0.332799</td>\n",
       "      <td>0.274875</td>\n",
       "      <td>-0.332799</td>\n",
       "      <td>0.354458</td>\n",
       "      <td>-0.332799</td>\n",
       "      <td>0.175514</td>\n",
       "      <td>-0.332799</td>\n",
       "      <td>0.187426</td>\n",
       "    </tr>\n",
       "    <tr>\n",
       "      <th>OnlineBackup_No internet service</th>\n",
       "      <td>-0.037529</td>\n",
       "      <td>0.171817</td>\n",
       "      <td>-0.320592</td>\n",
       "      <td>-0.763191</td>\n",
       "      <td>-0.374878</td>\n",
       "      <td>-0.227578</td>\n",
       "      <td>-0.182519</td>\n",
       "      <td>-0.000286</td>\n",
       "      <td>0.138383</td>\n",
       "      <td>0.038061</td>\n",
       "      <td>...</td>\n",
       "      <td>1.000000</td>\n",
       "      <td>-0.380990</td>\n",
       "      <td>1.000000</td>\n",
       "      <td>-0.380151</td>\n",
       "      <td>1.000000</td>\n",
       "      <td>-0.335695</td>\n",
       "      <td>1.000000</td>\n",
       "      <td>-0.414951</td>\n",
       "      <td>1.000000</td>\n",
       "      <td>-0.418450</td>\n",
       "    </tr>\n",
       "    <tr>\n",
       "      <th>OnlineBackup_Yes</th>\n",
       "      <td>0.361138</td>\n",
       "      <td>-0.052133</td>\n",
       "      <td>0.127056</td>\n",
       "      <td>0.441529</td>\n",
       "      <td>0.510100</td>\n",
       "      <td>-0.082307</td>\n",
       "      <td>0.066663</td>\n",
       "      <td>0.141849</td>\n",
       "      <td>0.023639</td>\n",
       "      <td>0.084113</td>\n",
       "      <td>...</td>\n",
       "      <td>-0.380990</td>\n",
       "      <td>1.000000</td>\n",
       "      <td>-0.380990</td>\n",
       "      <td>0.303058</td>\n",
       "      <td>-0.380990</td>\n",
       "      <td>0.293705</td>\n",
       "      <td>-0.380990</td>\n",
       "      <td>0.281601</td>\n",
       "      <td>-0.380990</td>\n",
       "      <td>0.274523</td>\n",
       "    </tr>\n",
       "    <tr>\n",
       "      <th>DeviceProtection_No internet service</th>\n",
       "      <td>-0.037529</td>\n",
       "      <td>0.171817</td>\n",
       "      <td>-0.320592</td>\n",
       "      <td>-0.763191</td>\n",
       "      <td>-0.374878</td>\n",
       "      <td>-0.227578</td>\n",
       "      <td>-0.182519</td>\n",
       "      <td>-0.000286</td>\n",
       "      <td>0.138383</td>\n",
       "      <td>0.038061</td>\n",
       "      <td>...</td>\n",
       "      <td>1.000000</td>\n",
       "      <td>-0.380990</td>\n",
       "      <td>1.000000</td>\n",
       "      <td>-0.380151</td>\n",
       "      <td>1.000000</td>\n",
       "      <td>-0.335695</td>\n",
       "      <td>1.000000</td>\n",
       "      <td>-0.414951</td>\n",
       "      <td>1.000000</td>\n",
       "      <td>-0.418450</td>\n",
       "    </tr>\n",
       "    <tr>\n",
       "      <th>DeviceProtection_Yes</th>\n",
       "      <td>0.361520</td>\n",
       "      <td>-0.070076</td>\n",
       "      <td>0.104079</td>\n",
       "      <td>0.482607</td>\n",
       "      <td>0.522881</td>\n",
       "      <td>-0.066193</td>\n",
       "      <td>0.059514</td>\n",
       "      <td>0.153556</td>\n",
       "      <td>0.013900</td>\n",
       "      <td>0.102911</td>\n",
       "      <td>...</td>\n",
       "      <td>-0.380151</td>\n",
       "      <td>0.303058</td>\n",
       "      <td>-0.380151</td>\n",
       "      <td>1.000000</td>\n",
       "      <td>-0.380151</td>\n",
       "      <td>0.332850</td>\n",
       "      <td>-0.380151</td>\n",
       "      <td>0.389924</td>\n",
       "      <td>-0.380151</td>\n",
       "      <td>0.402309</td>\n",
       "    </tr>\n",
       "    <tr>\n",
       "      <th>TechSupport_No internet service</th>\n",
       "      <td>-0.037529</td>\n",
       "      <td>0.171817</td>\n",
       "      <td>-0.320592</td>\n",
       "      <td>-0.763191</td>\n",
       "      <td>-0.374878</td>\n",
       "      <td>-0.227578</td>\n",
       "      <td>-0.182519</td>\n",
       "      <td>-0.000286</td>\n",
       "      <td>0.138383</td>\n",
       "      <td>0.038061</td>\n",
       "      <td>...</td>\n",
       "      <td>1.000000</td>\n",
       "      <td>-0.380990</td>\n",
       "      <td>1.000000</td>\n",
       "      <td>-0.380151</td>\n",
       "      <td>1.000000</td>\n",
       "      <td>-0.335695</td>\n",
       "      <td>1.000000</td>\n",
       "      <td>-0.414951</td>\n",
       "      <td>1.000000</td>\n",
       "      <td>-0.418450</td>\n",
       "    </tr>\n",
       "    <tr>\n",
       "      <th>TechSupport_Yes</th>\n",
       "      <td>0.325288</td>\n",
       "      <td>-0.095138</td>\n",
       "      <td>0.037536</td>\n",
       "      <td>0.338301</td>\n",
       "      <td>0.432868</td>\n",
       "      <td>-0.164716</td>\n",
       "      <td>-0.060577</td>\n",
       "      <td>0.120206</td>\n",
       "      <td>0.063053</td>\n",
       "      <td>0.096258</td>\n",
       "      <td>...</td>\n",
       "      <td>-0.335695</td>\n",
       "      <td>0.293705</td>\n",
       "      <td>-0.335695</td>\n",
       "      <td>0.332850</td>\n",
       "      <td>-0.335695</td>\n",
       "      <td>1.000000</td>\n",
       "      <td>-0.335695</td>\n",
       "      <td>0.277549</td>\n",
       "      <td>-0.335695</td>\n",
       "      <td>0.280155</td>\n",
       "    </tr>\n",
       "    <tr>\n",
       "      <th>StreamingTV_No internet service</th>\n",
       "      <td>-0.037529</td>\n",
       "      <td>0.171817</td>\n",
       "      <td>-0.320592</td>\n",
       "      <td>-0.763191</td>\n",
       "      <td>-0.374878</td>\n",
       "      <td>-0.227578</td>\n",
       "      <td>-0.182519</td>\n",
       "      <td>-0.000286</td>\n",
       "      <td>0.138383</td>\n",
       "      <td>0.038061</td>\n",
       "      <td>...</td>\n",
       "      <td>1.000000</td>\n",
       "      <td>-0.380990</td>\n",
       "      <td>1.000000</td>\n",
       "      <td>-0.380151</td>\n",
       "      <td>1.000000</td>\n",
       "      <td>-0.335695</td>\n",
       "      <td>1.000000</td>\n",
       "      <td>-0.414951</td>\n",
       "      <td>1.000000</td>\n",
       "      <td>-0.418450</td>\n",
       "    </tr>\n",
       "    <tr>\n",
       "      <th>StreamingTV_Yes</th>\n",
       "      <td>0.280264</td>\n",
       "      <td>-0.021383</td>\n",
       "      <td>0.224241</td>\n",
       "      <td>0.629668</td>\n",
       "      <td>0.515709</td>\n",
       "      <td>0.063254</td>\n",
       "      <td>0.105445</td>\n",
       "      <td>0.124483</td>\n",
       "      <td>-0.016499</td>\n",
       "      <td>0.061930</td>\n",
       "      <td>...</td>\n",
       "      <td>-0.414951</td>\n",
       "      <td>0.281601</td>\n",
       "      <td>-0.414951</td>\n",
       "      <td>0.389924</td>\n",
       "      <td>-0.414951</td>\n",
       "      <td>0.277549</td>\n",
       "      <td>-0.414951</td>\n",
       "      <td>1.000000</td>\n",
       "      <td>-0.414951</td>\n",
       "      <td>0.533380</td>\n",
       "    </tr>\n",
       "    <tr>\n",
       "      <th>StreamingMovies_No internet service</th>\n",
       "      <td>-0.037529</td>\n",
       "      <td>0.171817</td>\n",
       "      <td>-0.320592</td>\n",
       "      <td>-0.763191</td>\n",
       "      <td>-0.374878</td>\n",
       "      <td>-0.227578</td>\n",
       "      <td>-0.182519</td>\n",
       "      <td>-0.000286</td>\n",
       "      <td>0.138383</td>\n",
       "      <td>0.038061</td>\n",
       "      <td>...</td>\n",
       "      <td>1.000000</td>\n",
       "      <td>-0.380990</td>\n",
       "      <td>1.000000</td>\n",
       "      <td>-0.380151</td>\n",
       "      <td>1.000000</td>\n",
       "      <td>-0.335695</td>\n",
       "      <td>1.000000</td>\n",
       "      <td>-0.414951</td>\n",
       "      <td>1.000000</td>\n",
       "      <td>-0.418450</td>\n",
       "    </tr>\n",
       "    <tr>\n",
       "      <th>StreamingMovies_Yes</th>\n",
       "      <td>0.285402</td>\n",
       "      <td>-0.033477</td>\n",
       "      <td>0.211583</td>\n",
       "      <td>0.627235</td>\n",
       "      <td>0.519867</td>\n",
       "      <td>0.060860</td>\n",
       "      <td>0.119842</td>\n",
       "      <td>0.118108</td>\n",
       "      <td>-0.038375</td>\n",
       "      <td>0.064780</td>\n",
       "      <td>...</td>\n",
       "      <td>-0.418450</td>\n",
       "      <td>0.274523</td>\n",
       "      <td>-0.418450</td>\n",
       "      <td>0.402309</td>\n",
       "      <td>-0.418450</td>\n",
       "      <td>0.280155</td>\n",
       "      <td>-0.418450</td>\n",
       "      <td>0.533380</td>\n",
       "      <td>-0.418450</td>\n",
       "      <td>1.000000</td>\n",
       "    </tr>\n",
       "  </tbody>\n",
       "</table>\n",
       "<p>31 rows × 31 columns</p>\n",
       "</div>"
      ],
      "text/plain": [
       "                                         tenure  PhoneService  \\\n",
       "tenure                                 1.000000      0.007877   \n",
       "PhoneService                           0.007877      1.000000   \n",
       "PaperlessBilling                       0.004823      0.016696   \n",
       "MonthlyCharges                         0.246862      0.248033   \n",
       "TotalCharges                           0.825880      0.113008   \n",
       "Churn                                 -0.354049      0.011691   \n",
       "SeniorCitizen                          0.015683      0.008392   \n",
       "Partner                                0.381912      0.018397   \n",
       "Dependents                             0.163386     -0.001078   \n",
       "Contract_One year                      0.202338     -0.003142   \n",
       "Contract_Two year                      0.563801      0.004442   \n",
       "PaymentMethod_Credit card (automatic)  0.232800     -0.006916   \n",
       "PaymentMethod_Electronic check        -0.210197      0.002747   \n",
       "PaymentMethod_Mailed check            -0.232181     -0.004463   \n",
       "gender_Male                            0.005285     -0.007515   \n",
       "InternetService_Fiber optic            0.017930      0.290183   \n",
       "InternetService_No                    -0.037529      0.171817   \n",
       "MultipleLines_No phone service        -0.007877     -1.000000   \n",
       "MultipleLines_Yes                      0.332399      0.279530   \n",
       "OnlineSecurity_No internet service    -0.037529      0.171817   \n",
       "OnlineSecurity_Yes                     0.328297     -0.091676   \n",
       "OnlineBackup_No internet service      -0.037529      0.171817   \n",
       "OnlineBackup_Yes                       0.361138     -0.052133   \n",
       "DeviceProtection_No internet service  -0.037529      0.171817   \n",
       "DeviceProtection_Yes                   0.361520     -0.070076   \n",
       "TechSupport_No internet service       -0.037529      0.171817   \n",
       "TechSupport_Yes                        0.325288     -0.095138   \n",
       "StreamingTV_No internet service       -0.037529      0.171817   \n",
       "StreamingTV_Yes                        0.280264     -0.021383   \n",
       "StreamingMovies_No internet service   -0.037529      0.171817   \n",
       "StreamingMovies_Yes                    0.285402     -0.033477   \n",
       "\n",
       "                                       PaperlessBilling  MonthlyCharges  \\\n",
       "tenure                                         0.004823        0.246862   \n",
       "PhoneService                                   0.016696        0.248033   \n",
       "PaperlessBilling                               1.000000        0.351930   \n",
       "MonthlyCharges                                 0.351930        1.000000   \n",
       "TotalCharges                                   0.157830        0.651065   \n",
       "Churn                                          0.191454        0.192858   \n",
       "SeniorCitizen                                  0.156258        0.219874   \n",
       "Partner                                       -0.013957        0.097825   \n",
       "Dependents                                    -0.110131       -0.112343   \n",
       "Contract_One year                             -0.052278        0.004810   \n",
       "Contract_Two year                             -0.146281       -0.073256   \n",
       "PaymentMethod_Credit card (automatic)         -0.013726        0.030055   \n",
       "PaymentMethod_Electronic check                 0.208427        0.271117   \n",
       "PaymentMethod_Mailed check                    -0.203981       -0.376568   \n",
       "gender_Male                                   -0.011902       -0.013779   \n",
       "InternetService_Fiber optic                    0.326470        0.787195   \n",
       "InternetService_No                            -0.320592       -0.763191   \n",
       "MultipleLines_No phone service                -0.016696       -0.248033   \n",
       "MultipleLines_Yes                              0.163746        0.490912   \n",
       "OnlineSecurity_No internet service            -0.320592       -0.763191   \n",
       "OnlineSecurity_Yes                            -0.004051        0.296447   \n",
       "OnlineBackup_No internet service              -0.320592       -0.763191   \n",
       "OnlineBackup_Yes                               0.127056        0.441529   \n",
       "DeviceProtection_No internet service          -0.320592       -0.763191   \n",
       "DeviceProtection_Yes                           0.104079        0.482607   \n",
       "TechSupport_No internet service               -0.320592       -0.763191   \n",
       "TechSupport_Yes                                0.037536        0.338301   \n",
       "StreamingTV_No internet service               -0.320592       -0.763191   \n",
       "StreamingTV_Yes                                0.224241        0.629668   \n",
       "StreamingMovies_No internet service           -0.320592       -0.763191   \n",
       "StreamingMovies_Yes                            0.211583        0.627235   \n",
       "\n",
       "                                       TotalCharges     Churn  SeniorCitizen  \\\n",
       "tenure                                     0.825880 -0.354049       0.015683   \n",
       "PhoneService                               0.113008  0.011691       0.008392   \n",
       "PaperlessBilling                           0.157830  0.191454       0.156258   \n",
       "MonthlyCharges                             0.651065  0.192858       0.219874   \n",
       "TotalCharges                               1.000000 -0.199484       0.102411   \n",
       "Churn                                     -0.199484  1.000000       0.150541   \n",
       "SeniorCitizen                              0.102411  0.150541       1.000000   \n",
       "Partner                                    0.319072 -0.149982       0.016957   \n",
       "Dependents                                 0.064653 -0.163128      -0.210550   \n",
       "Contract_One year                          0.170569 -0.178225      -0.046491   \n",
       "Contract_Two year                          0.358036 -0.301552      -0.116205   \n",
       "PaymentMethod_Credit card (automatic)      0.182663 -0.134687      -0.024359   \n",
       "PaymentMethod_Electronic check            -0.060436  0.301455       0.171322   \n",
       "PaymentMethod_Mailed check                -0.294708 -0.090773      -0.152987   \n",
       "gender_Male                                0.000048 -0.008545      -0.001819   \n",
       "InternetService_Fiber optic                0.360769  0.307463       0.254923   \n",
       "InternetService_No                        -0.374878 -0.227578      -0.182519   \n",
       "MultipleLines_No phone service            -0.113008 -0.011691      -0.008392   \n",
       "MultipleLines_Yes                          0.469042  0.040033       0.142996   \n",
       "OnlineSecurity_No internet service        -0.374878 -0.227578      -0.182519   \n",
       "OnlineSecurity_Yes                         0.412619 -0.171270      -0.038576   \n",
       "OnlineBackup_No internet service          -0.374878 -0.227578      -0.182519   \n",
       "OnlineBackup_Yes                           0.510100 -0.082307       0.066663   \n",
       "DeviceProtection_No internet service      -0.374878 -0.227578      -0.182519   \n",
       "DeviceProtection_Yes                       0.522881 -0.066193       0.059514   \n",
       "TechSupport_No internet service           -0.374878 -0.227578      -0.182519   \n",
       "TechSupport_Yes                            0.432868 -0.164716      -0.060577   \n",
       "StreamingTV_No internet service           -0.374878 -0.227578      -0.182519   \n",
       "StreamingTV_Yes                            0.515709  0.063254       0.105445   \n",
       "StreamingMovies_No internet service       -0.374878 -0.227578      -0.182519   \n",
       "StreamingMovies_Yes                        0.519867  0.060860       0.119842   \n",
       "\n",
       "                                        Partner  Dependents  \\\n",
       "tenure                                 0.381912    0.163386   \n",
       "PhoneService                           0.018397   -0.001078   \n",
       "PaperlessBilling                      -0.013957   -0.110131   \n",
       "MonthlyCharges                         0.097825   -0.112343   \n",
       "TotalCharges                           0.319072    0.064653   \n",
       "Churn                                 -0.149982   -0.163128   \n",
       "SeniorCitizen                          0.016957   -0.210550   \n",
       "Partner                                1.000000    0.452269   \n",
       "Dependents                             0.452269    1.000000   \n",
       "Contract_One year                      0.083067    0.069222   \n",
       "Contract_Two year                      0.247334    0.201699   \n",
       "PaymentMethod_Credit card (automatic)  0.082327    0.061134   \n",
       "PaymentMethod_Electronic check        -0.083207   -0.149274   \n",
       "PaymentMethod_Mailed check            -0.096948    0.056448   \n",
       "gender_Male                           -0.001379    0.010349   \n",
       "InternetService_Fiber optic            0.001235   -0.164101   \n",
       "InternetService_No                    -0.000286    0.138383   \n",
       "MultipleLines_No phone service        -0.018397    0.001078   \n",
       "MultipleLines_Yes                      0.142561   -0.024307   \n",
       "OnlineSecurity_No internet service    -0.000286    0.138383   \n",
       "OnlineSecurity_Yes                     0.143346    0.080786   \n",
       "OnlineBackup_No internet service      -0.000286    0.138383   \n",
       "OnlineBackup_Yes                       0.141849    0.023639   \n",
       "DeviceProtection_No internet service  -0.000286    0.138383   \n",
       "DeviceProtection_Yes                   0.153556    0.013900   \n",
       "TechSupport_No internet service       -0.000286    0.138383   \n",
       "TechSupport_Yes                        0.120206    0.063053   \n",
       "StreamingTV_No internet service       -0.000286    0.138383   \n",
       "StreamingTV_Yes                        0.124483   -0.016499   \n",
       "StreamingMovies_No internet service   -0.000286    0.138383   \n",
       "StreamingMovies_Yes                    0.118108   -0.038375   \n",
       "\n",
       "                                       Contract_One year  ...  \\\n",
       "tenure                                          0.202338  ...   \n",
       "PhoneService                                   -0.003142  ...   \n",
       "PaperlessBilling                               -0.052278  ...   \n",
       "MonthlyCharges                                  0.004810  ...   \n",
       "TotalCharges                                    0.170569  ...   \n",
       "Churn                                          -0.178225  ...   \n",
       "SeniorCitizen                                  -0.046491  ...   \n",
       "Partner                                         0.083067  ...   \n",
       "Dependents                                      0.069222  ...   \n",
       "Contract_One year                               1.000000  ...   \n",
       "Contract_Two year                              -0.288843  ...   \n",
       "PaymentMethod_Credit card (automatic)           0.067590  ...   \n",
       "PaymentMethod_Electronic check                 -0.109546  ...   \n",
       "PaymentMethod_Mailed check                      0.000197  ...   \n",
       "gender_Male                                     0.007755  ...   \n",
       "InternetService_Fiber optic                    -0.076809  ...   \n",
       "InternetService_No                              0.038061  ...   \n",
       "MultipleLines_No phone service                  0.003142  ...   \n",
       "MultipleLines_Yes                              -0.003594  ...   \n",
       "OnlineSecurity_No internet service              0.038061  ...   \n",
       "OnlineSecurity_Yes                              0.100658  ...   \n",
       "OnlineBackup_No internet service                0.038061  ...   \n",
       "OnlineBackup_Yes                                0.084113  ...   \n",
       "DeviceProtection_No internet service            0.038061  ...   \n",
       "DeviceProtection_Yes                            0.102911  ...   \n",
       "TechSupport_No internet service                 0.038061  ...   \n",
       "TechSupport_Yes                                 0.096258  ...   \n",
       "StreamingTV_No internet service                 0.038061  ...   \n",
       "StreamingTV_Yes                                 0.061930  ...   \n",
       "StreamingMovies_No internet service             0.038061  ...   \n",
       "StreamingMovies_Yes                             0.064780  ...   \n",
       "\n",
       "                                       OnlineBackup_No internet service  \\\n",
       "tenure                                                        -0.037529   \n",
       "PhoneService                                                   0.171817   \n",
       "PaperlessBilling                                              -0.320592   \n",
       "MonthlyCharges                                                -0.763191   \n",
       "TotalCharges                                                  -0.374878   \n",
       "Churn                                                         -0.227578   \n",
       "SeniorCitizen                                                 -0.182519   \n",
       "Partner                                                       -0.000286   \n",
       "Dependents                                                     0.138383   \n",
       "Contract_One year                                              0.038061   \n",
       "Contract_Two year                                              0.217542   \n",
       "PaymentMethod_Credit card (automatic)                          0.001870   \n",
       "PaymentMethod_Electronic check                                -0.284608   \n",
       "PaymentMethod_Mailed check                                     0.319694   \n",
       "gender_Male                                                    0.004745   \n",
       "InternetService_Fiber optic                                   -0.465736   \n",
       "InternetService_No                                             1.000000   \n",
       "MultipleLines_No phone service                                -0.171817   \n",
       "MultipleLines_Yes                                             -0.210794   \n",
       "OnlineSecurity_No internet service                             1.000000   \n",
       "OnlineSecurity_Yes                                            -0.332799   \n",
       "OnlineBackup_No internet service                               1.000000   \n",
       "OnlineBackup_Yes                                              -0.380990   \n",
       "DeviceProtection_No internet service                           1.000000   \n",
       "DeviceProtection_Yes                                          -0.380151   \n",
       "TechSupport_No internet service                                1.000000   \n",
       "TechSupport_Yes                                               -0.335695   \n",
       "StreamingTV_No internet service                                1.000000   \n",
       "StreamingTV_Yes                                               -0.414951   \n",
       "StreamingMovies_No internet service                            1.000000   \n",
       "StreamingMovies_Yes                                           -0.418450   \n",
       "\n",
       "                                       OnlineBackup_Yes  \\\n",
       "tenure                                         0.361138   \n",
       "PhoneService                                  -0.052133   \n",
       "PaperlessBilling                               0.127056   \n",
       "MonthlyCharges                                 0.441529   \n",
       "TotalCharges                                   0.510100   \n",
       "Churn                                         -0.082307   \n",
       "SeniorCitizen                                  0.066663   \n",
       "Partner                                        0.141849   \n",
       "Dependents                                     0.023639   \n",
       "Contract_One year                              0.084113   \n",
       "Contract_Two year                              0.111391   \n",
       "PaymentMethod_Credit card (automatic)          0.090455   \n",
       "PaymentMethod_Electronic check                -0.000364   \n",
       "PaymentMethod_Mailed check                    -0.174075   \n",
       "gender_Male                                   -0.013093   \n",
       "InternetService_Fiber optic                    0.165940   \n",
       "InternetService_No                            -0.380990   \n",
       "MultipleLines_No phone service                 0.052133   \n",
       "MultipleLines_Yes                              0.202228   \n",
       "OnlineSecurity_No internet service            -0.380990   \n",
       "OnlineSecurity_Yes                             0.283285   \n",
       "OnlineBackup_No internet service              -0.380990   \n",
       "OnlineBackup_Yes                               1.000000   \n",
       "DeviceProtection_No internet service          -0.380990   \n",
       "DeviceProtection_Yes                           0.303058   \n",
       "TechSupport_No internet service               -0.380990   \n",
       "TechSupport_Yes                                0.293705   \n",
       "StreamingTV_No internet service               -0.380990   \n",
       "StreamingTV_Yes                                0.281601   \n",
       "StreamingMovies_No internet service           -0.380990   \n",
       "StreamingMovies_Yes                            0.274523   \n",
       "\n",
       "                                       DeviceProtection_No internet service  \\\n",
       "tenure                                                            -0.037529   \n",
       "PhoneService                                                       0.171817   \n",
       "PaperlessBilling                                                  -0.320592   \n",
       "MonthlyCharges                                                    -0.763191   \n",
       "TotalCharges                                                      -0.374878   \n",
       "Churn                                                             -0.227578   \n",
       "SeniorCitizen                                                     -0.182519   \n",
       "Partner                                                           -0.000286   \n",
       "Dependents                                                         0.138383   \n",
       "Contract_One year                                                  0.038061   \n",
       "Contract_Two year                                                  0.217542   \n",
       "PaymentMethod_Credit card (automatic)                              0.001870   \n",
       "PaymentMethod_Electronic check                                    -0.284608   \n",
       "PaymentMethod_Mailed check                                         0.319694   \n",
       "gender_Male                                                        0.004745   \n",
       "InternetService_Fiber optic                                       -0.465736   \n",
       "InternetService_No                                                 1.000000   \n",
       "MultipleLines_No phone service                                    -0.171817   \n",
       "MultipleLines_Yes                                                 -0.210794   \n",
       "OnlineSecurity_No internet service                                 1.000000   \n",
       "OnlineSecurity_Yes                                                -0.332799   \n",
       "OnlineBackup_No internet service                                   1.000000   \n",
       "OnlineBackup_Yes                                                  -0.380990   \n",
       "DeviceProtection_No internet service                               1.000000   \n",
       "DeviceProtection_Yes                                              -0.380151   \n",
       "TechSupport_No internet service                                    1.000000   \n",
       "TechSupport_Yes                                                   -0.335695   \n",
       "StreamingTV_No internet service                                    1.000000   \n",
       "StreamingTV_Yes                                                   -0.414951   \n",
       "StreamingMovies_No internet service                                1.000000   \n",
       "StreamingMovies_Yes                                               -0.418450   \n",
       "\n",
       "                                       DeviceProtection_Yes  \\\n",
       "tenure                                             0.361520   \n",
       "PhoneService                                      -0.070076   \n",
       "PaperlessBilling                                   0.104079   \n",
       "MonthlyCharges                                     0.482607   \n",
       "TotalCharges                                       0.522881   \n",
       "Churn                                             -0.066193   \n",
       "SeniorCitizen                                      0.059514   \n",
       "Partner                                            0.153556   \n",
       "Dependents                                         0.013900   \n",
       "Contract_One year                                  0.102911   \n",
       "Contract_Two year                                  0.165248   \n",
       "PaymentMethod_Credit card (automatic)              0.111252   \n",
       "PaymentMethod_Electronic check                    -0.003308   \n",
       "PaymentMethod_Mailed check                        -0.187325   \n",
       "gender_Male                                       -0.000807   \n",
       "InternetService_Fiber optic                        0.176356   \n",
       "InternetService_No                                -0.380151   \n",
       "MultipleLines_No phone service                     0.070076   \n",
       "MultipleLines_Yes                                  0.201733   \n",
       "OnlineSecurity_No internet service                -0.380151   \n",
       "OnlineSecurity_Yes                                 0.274875   \n",
       "OnlineBackup_No internet service                  -0.380151   \n",
       "OnlineBackup_Yes                                   0.303058   \n",
       "DeviceProtection_No internet service              -0.380151   \n",
       "DeviceProtection_Yes                               1.000000   \n",
       "TechSupport_No internet service                   -0.380151   \n",
       "TechSupport_Yes                                    0.332850   \n",
       "StreamingTV_No internet service                   -0.380151   \n",
       "StreamingTV_Yes                                    0.389924   \n",
       "StreamingMovies_No internet service               -0.380151   \n",
       "StreamingMovies_Yes                                0.402309   \n",
       "\n",
       "                                       TechSupport_No internet service  \\\n",
       "tenure                                                       -0.037529   \n",
       "PhoneService                                                  0.171817   \n",
       "PaperlessBilling                                             -0.320592   \n",
       "MonthlyCharges                                               -0.763191   \n",
       "TotalCharges                                                 -0.374878   \n",
       "Churn                                                        -0.227578   \n",
       "SeniorCitizen                                                -0.182519   \n",
       "Partner                                                      -0.000286   \n",
       "Dependents                                                    0.138383   \n",
       "Contract_One year                                             0.038061   \n",
       "Contract_Two year                                             0.217542   \n",
       "PaymentMethod_Credit card (automatic)                         0.001870   \n",
       "PaymentMethod_Electronic check                               -0.284608   \n",
       "PaymentMethod_Mailed check                                    0.319694   \n",
       "gender_Male                                                   0.004745   \n",
       "InternetService_Fiber optic                                  -0.465736   \n",
       "InternetService_No                                            1.000000   \n",
       "MultipleLines_No phone service                               -0.171817   \n",
       "MultipleLines_Yes                                            -0.210794   \n",
       "OnlineSecurity_No internet service                            1.000000   \n",
       "OnlineSecurity_Yes                                           -0.332799   \n",
       "OnlineBackup_No internet service                              1.000000   \n",
       "OnlineBackup_Yes                                             -0.380990   \n",
       "DeviceProtection_No internet service                          1.000000   \n",
       "DeviceProtection_Yes                                         -0.380151   \n",
       "TechSupport_No internet service                               1.000000   \n",
       "TechSupport_Yes                                              -0.335695   \n",
       "StreamingTV_No internet service                               1.000000   \n",
       "StreamingTV_Yes                                              -0.414951   \n",
       "StreamingMovies_No internet service                           1.000000   \n",
       "StreamingMovies_Yes                                          -0.418450   \n",
       "\n",
       "                                       TechSupport_Yes  \\\n",
       "tenure                                        0.325288   \n",
       "PhoneService                                 -0.095138   \n",
       "PaperlessBilling                              0.037536   \n",
       "MonthlyCharges                                0.338301   \n",
       "TotalCharges                                  0.432868   \n",
       "Churn                                        -0.164716   \n",
       "SeniorCitizen                                -0.060577   \n",
       "Partner                                       0.120206   \n",
       "Dependents                                    0.063053   \n",
       "Contract_One year                             0.096258   \n",
       "Contract_Two year                             0.240924   \n",
       "PaymentMethod_Credit card (automatic)         0.117024   \n",
       "PaymentMethod_Electronic check               -0.114807   \n",
       "PaymentMethod_Mailed check                   -0.084631   \n",
       "gender_Male                                  -0.008507   \n",
       "InternetService_Fiber optic                  -0.020299   \n",
       "InternetService_No                           -0.335695   \n",
       "MultipleLines_No phone service                0.095138   \n",
       "MultipleLines_Yes                             0.100421   \n",
       "OnlineSecurity_No internet service           -0.335695   \n",
       "OnlineSecurity_Yes                            0.354458   \n",
       "OnlineBackup_No internet service             -0.335695   \n",
       "OnlineBackup_Yes                              0.293705   \n",
       "DeviceProtection_No internet service         -0.335695   \n",
       "DeviceProtection_Yes                          0.332850   \n",
       "TechSupport_No internet service              -0.335695   \n",
       "TechSupport_Yes                               1.000000   \n",
       "StreamingTV_No internet service              -0.335695   \n",
       "StreamingTV_Yes                               0.277549   \n",
       "StreamingMovies_No internet service          -0.335695   \n",
       "StreamingMovies_Yes                           0.280155   \n",
       "\n",
       "                                       StreamingTV_No internet service  \\\n",
       "tenure                                                       -0.037529   \n",
       "PhoneService                                                  0.171817   \n",
       "PaperlessBilling                                             -0.320592   \n",
       "MonthlyCharges                                               -0.763191   \n",
       "TotalCharges                                                 -0.374878   \n",
       "Churn                                                        -0.227578   \n",
       "SeniorCitizen                                                -0.182519   \n",
       "Partner                                                      -0.000286   \n",
       "Dependents                                                    0.138383   \n",
       "Contract_One year                                             0.038061   \n",
       "Contract_Two year                                             0.217542   \n",
       "PaymentMethod_Credit card (automatic)                         0.001870   \n",
       "PaymentMethod_Electronic check                               -0.284608   \n",
       "PaymentMethod_Mailed check                                    0.319694   \n",
       "gender_Male                                                   0.004745   \n",
       "InternetService_Fiber optic                                  -0.465736   \n",
       "InternetService_No                                            1.000000   \n",
       "MultipleLines_No phone service                               -0.171817   \n",
       "MultipleLines_Yes                                            -0.210794   \n",
       "OnlineSecurity_No internet service                            1.000000   \n",
       "OnlineSecurity_Yes                                           -0.332799   \n",
       "OnlineBackup_No internet service                              1.000000   \n",
       "OnlineBackup_Yes                                             -0.380990   \n",
       "DeviceProtection_No internet service                          1.000000   \n",
       "DeviceProtection_Yes                                         -0.380151   \n",
       "TechSupport_No internet service                               1.000000   \n",
       "TechSupport_Yes                                              -0.335695   \n",
       "StreamingTV_No internet service                               1.000000   \n",
       "StreamingTV_Yes                                              -0.414951   \n",
       "StreamingMovies_No internet service                           1.000000   \n",
       "StreamingMovies_Yes                                          -0.418450   \n",
       "\n",
       "                                       StreamingTV_Yes  \\\n",
       "tenure                                        0.280264   \n",
       "PhoneService                                 -0.021383   \n",
       "PaperlessBilling                              0.224241   \n",
       "MonthlyCharges                                0.629668   \n",
       "TotalCharges                                  0.515709   \n",
       "Churn                                         0.063254   \n",
       "SeniorCitizen                                 0.105445   \n",
       "Partner                                       0.124483   \n",
       "Dependents                                   -0.016499   \n",
       "Contract_One year                             0.061930   \n",
       "Contract_Two year                             0.072124   \n",
       "PaymentMethod_Credit card (automatic)         0.040010   \n",
       "PaymentMethod_Electronic check                0.144747   \n",
       "PaymentMethod_Mailed check                   -0.247712   \n",
       "gender_Male                                  -0.007124   \n",
       "InternetService_Fiber optic                   0.329744   \n",
       "InternetService_No                           -0.414951   \n",
       "MultipleLines_No phone service                0.021383   \n",
       "MultipleLines_Yes                             0.257804   \n",
       "OnlineSecurity_No internet service           -0.414951   \n",
       "OnlineSecurity_Yes                            0.175514   \n",
       "OnlineBackup_No internet service             -0.414951   \n",
       "OnlineBackup_Yes                              0.281601   \n",
       "DeviceProtection_No internet service         -0.414951   \n",
       "DeviceProtection_Yes                          0.389924   \n",
       "TechSupport_No internet service              -0.414951   \n",
       "TechSupport_Yes                               0.277549   \n",
       "StreamingTV_No internet service              -0.414951   \n",
       "StreamingTV_Yes                               1.000000   \n",
       "StreamingMovies_No internet service          -0.414951   \n",
       "StreamingMovies_Yes                           0.533380   \n",
       "\n",
       "                                       StreamingMovies_No internet service  \\\n",
       "tenure                                                           -0.037529   \n",
       "PhoneService                                                      0.171817   \n",
       "PaperlessBilling                                                 -0.320592   \n",
       "MonthlyCharges                                                   -0.763191   \n",
       "TotalCharges                                                     -0.374878   \n",
       "Churn                                                            -0.227578   \n",
       "SeniorCitizen                                                    -0.182519   \n",
       "Partner                                                          -0.000286   \n",
       "Dependents                                                        0.138383   \n",
       "Contract_One year                                                 0.038061   \n",
       "Contract_Two year                                                 0.217542   \n",
       "PaymentMethod_Credit card (automatic)                             0.001870   \n",
       "PaymentMethod_Electronic check                                   -0.284608   \n",
       "PaymentMethod_Mailed check                                        0.319694   \n",
       "gender_Male                                                       0.004745   \n",
       "InternetService_Fiber optic                                      -0.465736   \n",
       "InternetService_No                                                1.000000   \n",
       "MultipleLines_No phone service                                   -0.171817   \n",
       "MultipleLines_Yes                                                -0.210794   \n",
       "OnlineSecurity_No internet service                                1.000000   \n",
       "OnlineSecurity_Yes                                               -0.332799   \n",
       "OnlineBackup_No internet service                                  1.000000   \n",
       "OnlineBackup_Yes                                                 -0.380990   \n",
       "DeviceProtection_No internet service                              1.000000   \n",
       "DeviceProtection_Yes                                             -0.380151   \n",
       "TechSupport_No internet service                                   1.000000   \n",
       "TechSupport_Yes                                                  -0.335695   \n",
       "StreamingTV_No internet service                                   1.000000   \n",
       "StreamingTV_Yes                                                  -0.414951   \n",
       "StreamingMovies_No internet service                               1.000000   \n",
       "StreamingMovies_Yes                                              -0.418450   \n",
       "\n",
       "                                       StreamingMovies_Yes  \n",
       "tenure                                            0.285402  \n",
       "PhoneService                                     -0.033477  \n",
       "PaperlessBilling                                  0.211583  \n",
       "MonthlyCharges                                    0.627235  \n",
       "TotalCharges                                      0.519867  \n",
       "Churn                                             0.060860  \n",
       "SeniorCitizen                                     0.119842  \n",
       "Partner                                           0.118108  \n",
       "Dependents                                       -0.038375  \n",
       "Contract_One year                                 0.064780  \n",
       "Contract_Two year                                 0.075603  \n",
       "PaymentMethod_Credit card (automatic)             0.048398  \n",
       "PaymentMethod_Electronic check                    0.137420  \n",
       "PaymentMethod_Mailed check                       -0.250290  \n",
       "gender_Male                                      -0.010105  \n",
       "InternetService_Fiber optic                       0.322457  \n",
       "InternetService_No                               -0.418450  \n",
       "MultipleLines_No phone service                    0.033477  \n",
       "MultipleLines_Yes                                 0.259194  \n",
       "OnlineSecurity_No internet service               -0.418450  \n",
       "OnlineSecurity_Yes                                0.187426  \n",
       "OnlineBackup_No internet service                 -0.418450  \n",
       "OnlineBackup_Yes                                  0.274523  \n",
       "DeviceProtection_No internet service             -0.418450  \n",
       "DeviceProtection_Yes                              0.402309  \n",
       "TechSupport_No internet service                  -0.418450  \n",
       "TechSupport_Yes                                   0.280155  \n",
       "StreamingTV_No internet service                  -0.418450  \n",
       "StreamingTV_Yes                                   0.533380  \n",
       "StreamingMovies_No internet service              -0.418450  \n",
       "StreamingMovies_Yes                               1.000000  \n",
       "\n",
       "[31 rows x 31 columns]"
      ]
     },
     "execution_count": 47,
     "metadata": {},
     "output_type": "execute_result"
    }
   ],
   "source": [
    "# Check the corr values of final list of variables\n",
    "cor = telecom.corr()\n",
    "cor"
   ]
  },
  {
   "cell_type": "code",
   "execution_count": 48,
   "metadata": {},
   "outputs": [
    {
     "name": "stdout",
     "output_type": "stream",
     "text": [
      "0.8258804609332043 -- 4 -- 0 -- TotalCharges -- tenure\n",
      "0.7871948529419629 -- 15 -- 3 -- InternetService_Fiber optic -- MonthlyCharges\n",
      "0.7631910615169594 -- 16 -- 3 -- InternetService_No -- MonthlyCharges\n",
      "1.0 -- 17 -- 1 -- MultipleLines_No phone service -- PhoneService\n",
      "0.7631910615169594 -- 19 -- 3 -- OnlineSecurity_No internet service -- MonthlyCharges\n",
      "1.0 -- 19 -- 16 -- OnlineSecurity_No internet service -- InternetService_No\n",
      "0.7631910615169594 -- 21 -- 3 -- OnlineBackup_No internet service -- MonthlyCharges\n",
      "1.0 -- 21 -- 16 -- OnlineBackup_No internet service -- InternetService_No\n",
      "1.0 -- 21 -- 19 -- OnlineBackup_No internet service -- OnlineSecurity_No internet service\n",
      "0.7631910615169594 -- 23 -- 3 -- DeviceProtection_No internet service -- MonthlyCharges\n",
      "1.0 -- 23 -- 16 -- DeviceProtection_No internet service -- InternetService_No\n",
      "1.0 -- 23 -- 19 -- DeviceProtection_No internet service -- OnlineSecurity_No internet service\n",
      "1.0 -- 23 -- 21 -- DeviceProtection_No internet service -- OnlineBackup_No internet service\n",
      "0.7631910615169594 -- 25 -- 3 -- TechSupport_No internet service -- MonthlyCharges\n",
      "1.0 -- 25 -- 16 -- TechSupport_No internet service -- InternetService_No\n",
      "1.0 -- 25 -- 19 -- TechSupport_No internet service -- OnlineSecurity_No internet service\n",
      "1.0 -- 25 -- 21 -- TechSupport_No internet service -- OnlineBackup_No internet service\n",
      "1.0 -- 25 -- 23 -- TechSupport_No internet service -- DeviceProtection_No internet service\n",
      "0.7631910615169594 -- 27 -- 3 -- StreamingTV_No internet service -- MonthlyCharges\n",
      "1.0 -- 27 -- 16 -- StreamingTV_No internet service -- InternetService_No\n",
      "1.0 -- 27 -- 19 -- StreamingTV_No internet service -- OnlineSecurity_No internet service\n",
      "1.0 -- 27 -- 21 -- StreamingTV_No internet service -- OnlineBackup_No internet service\n",
      "1.0 -- 27 -- 23 -- StreamingTV_No internet service -- DeviceProtection_No internet service\n",
      "1.0 -- 27 -- 25 -- StreamingTV_No internet service -- TechSupport_No internet service\n",
      "0.7631910615169594 -- 29 -- 3 -- StreamingMovies_No internet service -- MonthlyCharges\n",
      "1.0 -- 29 -- 16 -- StreamingMovies_No internet service -- InternetService_No\n",
      "1.0 -- 29 -- 19 -- StreamingMovies_No internet service -- OnlineSecurity_No internet service\n",
      "1.0 -- 29 -- 21 -- StreamingMovies_No internet service -- OnlineBackup_No internet service\n",
      "1.0 -- 29 -- 23 -- StreamingMovies_No internet service -- DeviceProtection_No internet service\n",
      "1.0 -- 29 -- 25 -- StreamingMovies_No internet service -- TechSupport_No internet service\n",
      "1.0 -- 29 -- 27 -- StreamingMovies_No internet service -- StreamingTV_No internet service\n"
     ]
    }
   ],
   "source": [
    "# Find out the Fields with high correlation\n",
    "\n",
    "correlated_features = set()\n",
    "for i in range(len(cor.columns)):\n",
    "    for j in range(i):\n",
    "        if abs(cor.iloc[i, j]) > 0.7:\n",
    "            colname1 = cor.columns[i]\n",
    "            colname2 = cor.columns[j]\n",
    "            print(abs(cor.iloc[i, j]), \"--\", i, '--', j, '--', colname1, '--', colname2)\n",
    "            correlated_features.add(colname1)\n",
    "            correlated_features.add(colname2)"
   ]
  },
  {
   "cell_type": "code",
   "execution_count": 49,
   "metadata": {},
   "outputs": [
    {
     "name": "stdout",
     "output_type": "stream",
     "text": [
      "Index(['tenure', 'PhoneService', 'PaperlessBilling', 'MonthlyCharges',\n",
      "       'TotalCharges', 'Churn', 'SeniorCitizen', 'Partner', 'Dependents',\n",
      "       'Contract_One year', 'Contract_Two year',\n",
      "       'PaymentMethod_Credit card (automatic)',\n",
      "       'PaymentMethod_Electronic check', 'PaymentMethod_Mailed check',\n",
      "       'gender_Male', 'InternetService_Fiber optic', 'InternetService_No',\n",
      "       'MultipleLines_No phone service', 'MultipleLines_Yes',\n",
      "       'OnlineSecurity_No internet service', 'OnlineSecurity_Yes',\n",
      "       'OnlineBackup_No internet service', 'OnlineBackup_Yes',\n",
      "       'DeviceProtection_No internet service', 'DeviceProtection_Yes',\n",
      "       'TechSupport_No internet service', 'TechSupport_Yes',\n",
      "       'StreamingTV_No internet service', 'StreamingTV_Yes',\n",
      "       'StreamingMovies_No internet service', 'StreamingMovies_Yes'],\n",
      "      dtype='object')\n",
      "------\n",
      "{'StreamingTV_No internet service', 'MonthlyCharges', 'StreamingMovies_No internet service', 'TechSupport_No internet service', 'TotalCharges', 'OnlineSecurity_No internet service', 'DeviceProtection_No internet service', 'PhoneService', 'OnlineBackup_No internet service', 'InternetService_No', 'InternetService_Fiber optic', 'tenure', 'MultipleLines_No phone service'}\n"
     ]
    }
   ],
   "source": [
    "print(cor.columns)\n",
    "print('------')\n",
    "print(correlated_features)"
   ]
  },
  {
   "cell_type": "markdown",
   "metadata": {
    "_uuid": "d0f098b6c74fd1da00de60a89fd2fc8ab76d1a16"
   },
   "source": [
    "#### Dropping highly correlated dummy variables"
   ]
  },
  {
   "cell_type": "code",
   "execution_count": 50,
   "metadata": {
    "_uuid": "a760465580abffd70e9c3f392c663bf3df309aab"
   },
   "outputs": [],
   "source": [
    "X_test = X_test.drop(['TotalCharges', 'InternetService_Fiber optic', 'OnlineSecurity_No internet service', 'OnlineBackup_No internet service', 'StreamingMovies_No internet service', \n",
    "                'TechSupport_No internet service', 'StreamingTV_No internet service', 'StreamingMovies_No internet service', 'DeviceProtection_No internet service'], 1)\n",
    "X_train = X_train.drop(['TotalCharges', 'InternetService_Fiber optic', 'OnlineSecurity_No internet service', 'OnlineBackup_No internet service', 'StreamingMovies_No internet service', \n",
    "                'TechSupport_No internet service', 'StreamingTV_No internet service', 'StreamingMovies_No internet service', 'DeviceProtection_No internet service'], 1)"
   ]
  },
  {
   "cell_type": "markdown",
   "metadata": {
    "_uuid": "aef274a2a692ffbcfcef25b65045fe2b453a84ce"
   },
   "source": [
    "### Repeat the Correlation Matrix/Heatmap"
   ]
  },
  {
   "cell_type": "code",
   "execution_count": 51,
   "metadata": {
    "_uuid": "cb850b656137120792e1c87579e256241b18761c"
   },
   "outputs": [
    {
     "data": {
      "image/png": "[encoded data removed]",
      "text/plain": [
       "<Figure size 1440x720 with 2 Axes>"
      ]
     },
     "metadata": {
      "needs_background": "light"
     },
     "output_type": "display_data"
    }
   ],
   "source": [
    "plt.figure(figsize = (20,10))\n",
    "sns.heatmap(X_train.corr(),annot = True)\n",
    "plt.show()"
   ]
  },
  {
   "cell_type": "markdown",
   "metadata": {},
   "source": [
    "## Create our Logistic Regression Model"
   ]
  },
  {
   "cell_type": "markdown",
   "metadata": {},
   "source": [
    "### `add_constant()`\n",
    "By default, statsmodels fits a line passing through the origin, i.e. it doesn't fit an intercept. Hence, you need to use thecommand 'add_constant' so that it also fits an intercept."
   ]
  },
  {
   "cell_type": "code",
   "execution_count": 52,
   "metadata": {},
   "outputs": [
    {
     "data": {
      "text/html": [
       "<div>\n",
       "<style scoped>\n",
       "    .dataframe tbody tr th:only-of-type {\n",
       "        vertical-align: middle;\n",
       "    }\n",
       "\n",
       "    .dataframe tbody tr th {\n",
       "        vertical-align: top;\n",
       "    }\n",
       "\n",
       "    .dataframe thead th {\n",
       "        text-align: right;\n",
       "    }\n",
       "</style>\n",
       "<table border=\"1\" class=\"dataframe\">\n",
       "  <thead>\n",
       "    <tr style=\"text-align: right;\">\n",
       "      <th></th>\n",
       "      <th>const</th>\n",
       "      <th>tenure</th>\n",
       "      <th>PhoneService</th>\n",
       "      <th>PaperlessBilling</th>\n",
       "      <th>MonthlyCharges</th>\n",
       "      <th>SeniorCitizen</th>\n",
       "      <th>Partner</th>\n",
       "      <th>Dependents</th>\n",
       "      <th>Contract_One year</th>\n",
       "      <th>Contract_Two year</th>\n",
       "      <th>...</th>\n",
       "      <th>gender_Male</th>\n",
       "      <th>InternetService_No</th>\n",
       "      <th>MultipleLines_No phone service</th>\n",
       "      <th>MultipleLines_Yes</th>\n",
       "      <th>OnlineSecurity_Yes</th>\n",
       "      <th>OnlineBackup_Yes</th>\n",
       "      <th>DeviceProtection_Yes</th>\n",
       "      <th>TechSupport_Yes</th>\n",
       "      <th>StreamingTV_Yes</th>\n",
       "      <th>StreamingMovies_Yes</th>\n",
       "    </tr>\n",
       "  </thead>\n",
       "  <tbody>\n",
       "    <tr>\n",
       "      <th>879</th>\n",
       "      <td>1.0</td>\n",
       "      <td>0.019693</td>\n",
       "      <td>1</td>\n",
       "      <td>1</td>\n",
       "      <td>-0.338074</td>\n",
       "      <td>0</td>\n",
       "      <td>0</td>\n",
       "      <td>0</td>\n",
       "      <td>0</td>\n",
       "      <td>0</td>\n",
       "      <td>...</td>\n",
       "      <td>1</td>\n",
       "      <td>0</td>\n",
       "      <td>0</td>\n",
       "      <td>1</td>\n",
       "      <td>0</td>\n",
       "      <td>1</td>\n",
       "      <td>0</td>\n",
       "      <td>0</td>\n",
       "      <td>0</td>\n",
       "      <td>0</td>\n",
       "    </tr>\n",
       "    <tr>\n",
       "      <th>5790</th>\n",
       "      <td>1.0</td>\n",
       "      <td>0.305384</td>\n",
       "      <td>0</td>\n",
       "      <td>1</td>\n",
       "      <td>-0.464443</td>\n",
       "      <td>0</td>\n",
       "      <td>1</td>\n",
       "      <td>1</td>\n",
       "      <td>0</td>\n",
       "      <td>0</td>\n",
       "      <td>...</td>\n",
       "      <td>0</td>\n",
       "      <td>0</td>\n",
       "      <td>1</td>\n",
       "      <td>0</td>\n",
       "      <td>0</td>\n",
       "      <td>1</td>\n",
       "      <td>0</td>\n",
       "      <td>0</td>\n",
       "      <td>1</td>\n",
       "      <td>1</td>\n",
       "    </tr>\n",
       "    <tr>\n",
       "      <th>6498</th>\n",
       "      <td>1.0</td>\n",
       "      <td>-1.286319</td>\n",
       "      <td>1</td>\n",
       "      <td>1</td>\n",
       "      <td>0.581425</td>\n",
       "      <td>0</td>\n",
       "      <td>0</td>\n",
       "      <td>0</td>\n",
       "      <td>0</td>\n",
       "      <td>0</td>\n",
       "      <td>...</td>\n",
       "      <td>0</td>\n",
       "      <td>0</td>\n",
       "      <td>0</td>\n",
       "      <td>0</td>\n",
       "      <td>0</td>\n",
       "      <td>1</td>\n",
       "      <td>1</td>\n",
       "      <td>0</td>\n",
       "      <td>0</td>\n",
       "      <td>0</td>\n",
       "    </tr>\n",
       "    <tr>\n",
       "      <th>880</th>\n",
       "      <td>1.0</td>\n",
       "      <td>-0.919003</td>\n",
       "      <td>1</td>\n",
       "      <td>1</td>\n",
       "      <td>1.505913</td>\n",
       "      <td>0</td>\n",
       "      <td>0</td>\n",
       "      <td>0</td>\n",
       "      <td>0</td>\n",
       "      <td>0</td>\n",
       "      <td>...</td>\n",
       "      <td>1</td>\n",
       "      <td>0</td>\n",
       "      <td>0</td>\n",
       "      <td>0</td>\n",
       "      <td>1</td>\n",
       "      <td>1</td>\n",
       "      <td>1</td>\n",
       "      <td>1</td>\n",
       "      <td>1</td>\n",
       "      <td>1</td>\n",
       "    </tr>\n",
       "    <tr>\n",
       "      <th>2784</th>\n",
       "      <td>1.0</td>\n",
       "      <td>-1.163880</td>\n",
       "      <td>1</td>\n",
       "      <td>1</td>\n",
       "      <td>1.106854</td>\n",
       "      <td>0</td>\n",
       "      <td>0</td>\n",
       "      <td>1</td>\n",
       "      <td>0</td>\n",
       "      <td>0</td>\n",
       "      <td>...</td>\n",
       "      <td>0</td>\n",
       "      <td>0</td>\n",
       "      <td>0</td>\n",
       "      <td>0</td>\n",
       "      <td>0</td>\n",
       "      <td>0</td>\n",
       "      <td>1</td>\n",
       "      <td>1</td>\n",
       "      <td>1</td>\n",
       "      <td>1</td>\n",
       "    </tr>\n",
       "  </tbody>\n",
       "</table>\n",
       "<p>5 rows × 23 columns</p>\n",
       "</div>"
      ],
      "text/plain": [
       "      const    tenure  PhoneService  PaperlessBilling  MonthlyCharges  \\\n",
       "879     1.0  0.019693             1                 1       -0.338074   \n",
       "5790    1.0  0.305384             0                 1       -0.464443   \n",
       "6498    1.0 -1.286319             1                 1        0.581425   \n",
       "880     1.0 -0.919003             1                 1        1.505913   \n",
       "2784    1.0 -1.163880             1                 1        1.106854   \n",
       "\n",
       "      SeniorCitizen  Partner  Dependents  Contract_One year  \\\n",
       "879               0        0           0                  0   \n",
       "5790              0        1           1                  0   \n",
       "6498              0        0           0                  0   \n",
       "880               0        0           0                  0   \n",
       "2784              0        0           1                  0   \n",
       "\n",
       "      Contract_Two year  ...  gender_Male  InternetService_No  \\\n",
       "879                   0  ...            1                   0   \n",
       "5790                  0  ...            0                   0   \n",
       "6498                  0  ...            0                   0   \n",
       "880                   0  ...            1                   0   \n",
       "2784                  0  ...            0                   0   \n",
       "\n",
       "      MultipleLines_No phone service  MultipleLines_Yes  OnlineSecurity_Yes  \\\n",
       "879                                0                  1                   0   \n",
       "5790                               1                  0                   0   \n",
       "6498                               0                  0                   0   \n",
       "880                                0                  0                   1   \n",
       "2784                               0                  0                   0   \n",
       "\n",
       "      OnlineBackup_Yes  DeviceProtection_Yes  TechSupport_Yes  \\\n",
       "879                  1                     0                0   \n",
       "5790                 1                     0                0   \n",
       "6498                 1                     1                0   \n",
       "880                  1                     1                1   \n",
       "2784                 0                     1                1   \n",
       "\n",
       "      StreamingTV_Yes  StreamingMovies_Yes  \n",
       "879                 0                    0  \n",
       "5790                1                    1  \n",
       "6498                0                    0  \n",
       "880                 1                    1  \n",
       "2784                1                    1  \n",
       "\n",
       "[5 rows x 23 columns]"
      ]
     },
     "execution_count": 52,
     "metadata": {},
     "output_type": "execute_result"
    }
   ],
   "source": [
    "from statsmodels.tools import add_constant as add_constant\n",
    "X_train_constant = add_constant(X_train)\n",
    "X_train_constant.head()"
   ]
  },
  {
   "cell_type": "code",
   "execution_count": 53,
   "metadata": {},
   "outputs": [
    {
     "name": "stdout",
     "output_type": "stream",
     "text": [
      "Optimization terminated successfully.\n",
      "         Current function value: 0.409390\n",
      "         Iterations 8\n"
     ]
    },
    {
     "data": {
      "text/html": [
       "<table class=\"simpletable\">\n",
       "<caption>Logit Regression Results</caption>\n",
       "<tr>\n",
       "  <th>Dep. Variable:</th>         <td>Churn</td>      <th>  No. Observations:  </th>  <td>  4922</td> \n",
       "</tr>\n",
       "<tr>\n",
       "  <th>Model:</th>                 <td>Logit</td>      <th>  Df Residuals:      </th>  <td>  4900</td> \n",
       "</tr>\n",
       "<tr>\n",
       "  <th>Method:</th>                 <td>MLE</td>       <th>  Df Model:          </th>  <td>    21</td> \n",
       "</tr>\n",
       "<tr>\n",
       "  <th>Date:</th>            <td>Thu, 23 Sep 2021</td> <th>  Pseudo R-squ.:     </th>  <td>0.2875</td> \n",
       "</tr>\n",
       "<tr>\n",
       "  <th>Time:</th>                <td>16:15:30</td>     <th>  Log-Likelihood:    </th> <td> -2015.0</td>\n",
       "</tr>\n",
       "<tr>\n",
       "  <th>converged:</th>             <td>True</td>       <th>  LL-Null:           </th> <td> -2828.2</td>\n",
       "</tr>\n",
       "<tr>\n",
       "  <th>Covariance Type:</th>     <td>nonrobust</td>    <th>  LLR p-value:       </th>  <td> 0.000</td> \n",
       "</tr>\n",
       "</table>\n",
       "<table class=\"simpletable\">\n",
       "<tr>\n",
       "                    <td></td>                       <th>coef</th>     <th>std err</th>      <th>z</th>      <th>P>|z|</th>  <th>[0.025</th>    <th>0.975]</th>  \n",
       "</tr>\n",
       "<tr>\n",
       "  <th>const</th>                                 <td>   -0.3258</td> <td> 4.76e+06</td> <td>-6.85e-08</td> <td> 1.000</td> <td>-9.33e+06</td> <td> 9.33e+06</td>\n",
       "</tr>\n",
       "<tr>\n",
       "  <th>tenure</th>                                <td>   -0.8802</td> <td>    0.071</td> <td>  -12.391</td> <td> 0.000</td> <td>   -1.019</td> <td>   -0.741</td>\n",
       "</tr>\n",
       "<tr>\n",
       "  <th>PhoneService</th>                          <td>   -0.6654</td> <td> 4.76e+06</td> <td> -1.4e-07</td> <td> 1.000</td> <td>-9.33e+06</td> <td> 9.33e+06</td>\n",
       "</tr>\n",
       "<tr>\n",
       "  <th>PaperlessBilling</th>                      <td>    0.3230</td> <td>    0.090</td> <td>    3.600</td> <td> 0.000</td> <td>    0.147</td> <td>    0.499</td>\n",
       "</tr>\n",
       "<tr>\n",
       "  <th>MonthlyCharges</th>                        <td>    1.0009</td> <td>    0.131</td> <td>    7.626</td> <td> 0.000</td> <td>    0.744</td> <td>    1.258</td>\n",
       "</tr>\n",
       "<tr>\n",
       "  <th>SeniorCitizen</th>                         <td>    0.4013</td> <td>    0.102</td> <td>    3.940</td> <td> 0.000</td> <td>    0.202</td> <td>    0.601</td>\n",
       "</tr>\n",
       "<tr>\n",
       "  <th>Partner</th>                               <td>    0.0453</td> <td>    0.093</td> <td>    0.485</td> <td> 0.628</td> <td>   -0.138</td> <td>    0.228</td>\n",
       "</tr>\n",
       "<tr>\n",
       "  <th>Dependents</th>                            <td>   -0.1650</td> <td>    0.107</td> <td>   -1.542</td> <td> 0.123</td> <td>   -0.375</td> <td>    0.045</td>\n",
       "</tr>\n",
       "<tr>\n",
       "  <th>Contract_One year</th>                     <td>   -0.6685</td> <td>    0.128</td> <td>   -5.231</td> <td> 0.000</td> <td>   -0.919</td> <td>   -0.418</td>\n",
       "</tr>\n",
       "<tr>\n",
       "  <th>Contract_Two year</th>                     <td>   -1.2156</td> <td>    0.210</td> <td>   -5.800</td> <td> 0.000</td> <td>   -1.626</td> <td>   -0.805</td>\n",
       "</tr>\n",
       "<tr>\n",
       "  <th>PaymentMethod_Credit card (automatic)</th> <td>   -0.2565</td> <td>    0.137</td> <td>   -1.877</td> <td> 0.061</td> <td>   -0.524</td> <td>    0.011</td>\n",
       "</tr>\n",
       "<tr>\n",
       "  <th>PaymentMethod_Electronic check</th>        <td>    0.1743</td> <td>    0.113</td> <td>    1.548</td> <td> 0.122</td> <td>   -0.046</td> <td>    0.395</td>\n",
       "</tr>\n",
       "<tr>\n",
       "  <th>PaymentMethod_Mailed check</th>            <td>   -0.1972</td> <td>    0.136</td> <td>   -1.453</td> <td> 0.146</td> <td>   -0.463</td> <td>    0.069</td>\n",
       "</tr>\n",
       "<tr>\n",
       "  <th>gender_Male</th>                           <td>   -0.0342</td> <td>    0.078</td> <td>   -0.437</td> <td> 0.662</td> <td>   -0.188</td> <td>    0.119</td>\n",
       "</tr>\n",
       "<tr>\n",
       "  <th>InternetService_No</th>                    <td>   -0.1717</td> <td>    0.228</td> <td>   -0.752</td> <td> 0.452</td> <td>   -0.619</td> <td>    0.276</td>\n",
       "</tr>\n",
       "<tr>\n",
       "  <th>MultipleLines_No phone service</th>        <td>    0.3396</td> <td> 4.76e+06</td> <td> 7.14e-08</td> <td> 1.000</td> <td>-9.33e+06</td> <td> 9.33e+06</td>\n",
       "</tr>\n",
       "<tr>\n",
       "  <th>MultipleLines_Yes</th>                     <td>    0.0917</td> <td>    0.100</td> <td>    0.919</td> <td> 0.358</td> <td>   -0.104</td> <td>    0.287</td>\n",
       "</tr>\n",
       "<tr>\n",
       "  <th>OnlineSecurity_Yes</th>                    <td>   -0.5086</td> <td>    0.103</td> <td>   -4.961</td> <td> 0.000</td> <td>   -0.710</td> <td>   -0.308</td>\n",
       "</tr>\n",
       "<tr>\n",
       "  <th>OnlineBackup_Yes</th>                      <td>   -0.2920</td> <td>    0.094</td> <td>   -3.116</td> <td> 0.002</td> <td>   -0.476</td> <td>   -0.108</td>\n",
       "</tr>\n",
       "<tr>\n",
       "  <th>DeviceProtection_Yes</th>                  <td>   -0.1599</td> <td>    0.097</td> <td>   -1.645</td> <td> 0.100</td> <td>   -0.350</td> <td>    0.031</td>\n",
       "</tr>\n",
       "<tr>\n",
       "  <th>TechSupport_Yes</th>                       <td>   -0.5195</td> <td>    0.101</td> <td>   -5.136</td> <td> 0.000</td> <td>   -0.718</td> <td>   -0.321</td>\n",
       "</tr>\n",
       "<tr>\n",
       "  <th>StreamingTV_Yes</th>                       <td>   -0.0122</td> <td>    0.108</td> <td>   -0.113</td> <td> 0.910</td> <td>   -0.224</td> <td>    0.199</td>\n",
       "</tr>\n",
       "<tr>\n",
       "  <th>StreamingMovies_Yes</th>                   <td>   -0.1224</td> <td>    0.108</td> <td>   -1.139</td> <td> 0.255</td> <td>   -0.333</td> <td>    0.088</td>\n",
       "</tr>\n",
       "</table>"
      ],
      "text/plain": [
       "<class 'statsmodels.iolib.summary.Summary'>\n",
       "\"\"\"\n",
       "                           Logit Regression Results                           \n",
       "==============================================================================\n",
       "Dep. Variable:                  Churn   No. Observations:                 4922\n",
       "Model:                          Logit   Df Residuals:                     4900\n",
       "Method:                           MLE   Df Model:                           21\n",
       "Date:                Thu, 23 Sep 2021   Pseudo R-squ.:                  0.2875\n",
       "Time:                        16:15:30   Log-Likelihood:                -2015.0\n",
       "converged:                       True   LL-Null:                       -2828.2\n",
       "Covariance Type:            nonrobust   LLR p-value:                     0.000\n",
       "=========================================================================================================\n",
       "                                            coef    std err          z      P>|z|      [0.025      0.975]\n",
       "---------------------------------------------------------------------------------------------------------\n",
       "const                                    -0.3258   4.76e+06  -6.85e-08      1.000   -9.33e+06    9.33e+06\n",
       "tenure                                   -0.8802      0.071    -12.391      0.000      -1.019      -0.741\n",
       "PhoneService                             -0.6654   4.76e+06   -1.4e-07      1.000   -9.33e+06    9.33e+06\n",
       "PaperlessBilling                          0.3230      0.090      3.600      0.000       0.147       0.499\n",
       "MonthlyCharges                            1.0009      0.131      7.626      0.000       0.744       1.258\n",
       "SeniorCitizen                             0.4013      0.102      3.940      0.000       0.202       0.601\n",
       "Partner                                   0.0453      0.093      0.485      0.628      -0.138       0.228\n",
       "Dependents                               -0.1650      0.107     -1.542      0.123      -0.375       0.045\n",
       "Contract_One year                        -0.6685      0.128     -5.231      0.000      -0.919      -0.418\n",
       "Contract_Two year                        -1.2156      0.210     -5.800      0.000      -1.626      -0.805\n",
       "PaymentMethod_Credit card (automatic)    -0.2565      0.137     -1.877      0.061      -0.524       0.011\n",
       "PaymentMethod_Electronic check            0.1743      0.113      1.548      0.122      -0.046       0.395\n",
       "PaymentMethod_Mailed check               -0.1972      0.136     -1.453      0.146      -0.463       0.069\n",
       "gender_Male                              -0.0342      0.078     -0.437      0.662      -0.188       0.119\n",
       "InternetService_No                       -0.1717      0.228     -0.752      0.452      -0.619       0.276\n",
       "MultipleLines_No phone service            0.3396   4.76e+06   7.14e-08      1.000   -9.33e+06    9.33e+06\n",
       "MultipleLines_Yes                         0.0917      0.100      0.919      0.358      -0.104       0.287\n",
       "OnlineSecurity_Yes                       -0.5086      0.103     -4.961      0.000      -0.710      -0.308\n",
       "OnlineBackup_Yes                         -0.2920      0.094     -3.116      0.002      -0.476      -0.108\n",
       "DeviceProtection_Yes                     -0.1599      0.097     -1.645      0.100      -0.350       0.031\n",
       "TechSupport_Yes                          -0.5195      0.101     -5.136      0.000      -0.718      -0.321\n",
       "StreamingTV_Yes                          -0.0122      0.108     -0.113      0.910      -0.224       0.199\n",
       "StreamingMovies_Yes                      -0.1224      0.108     -1.139      0.255      -0.333       0.088\n",
       "=========================================================================================================\n",
       "\"\"\""
      ]
     },
     "execution_count": 53,
     "metadata": {},
     "output_type": "execute_result"
    }
   ],
   "source": [
    "cols = X_train_constant.columns\n",
    "model = smd.Logit(y_train, X_train_constant[cols])\n",
    "result = model.fit()\n",
    "result.summary()"
   ]
  },
  {
   "cell_type": "markdown",
   "metadata": {},
   "source": [
    "### Feature Selection: Drop Features with P-Value > 0.05"
   ]
  },
  {
   "cell_type": "code",
   "execution_count": 54,
   "metadata": {},
   "outputs": [],
   "source": [
    "drop_cols = ['PhoneService', 'Partner', 'Dependents', 'PaymentMethod_Electronic check', \n",
    "             'PaymentMethod_Mailed check', 'gender_Male', 'InternetService_No', 'MultipleLines_No phone service', \n",
    "             'MultipleLines_Yes', 'DeviceProtection_Yes', 'StreamingTV_Yes']"
   ]
  },
  {
   "cell_type": "code",
   "execution_count": 55,
   "metadata": {},
   "outputs": [],
   "source": [
    "X_train_constant.drop(drop_cols, axis=1, inplace=True)"
   ]
  },
  {
   "cell_type": "markdown",
   "metadata": {},
   "source": [
    "### Recreate the Logit Model with updated set of columns"
   ]
  },
  {
   "cell_type": "code",
   "execution_count": 56,
   "metadata": {},
   "outputs": [
    {
     "name": "stdout",
     "output_type": "stream",
     "text": [
      "Optimization terminated successfully.\n",
      "         Current function value: 0.416361\n",
      "         Iterations 8\n"
     ]
    }
   ],
   "source": [
    "model = smd.Logit(y_train, X_train_constant)\n",
    "result = model.fit()"
   ]
  },
  {
   "cell_type": "code",
   "execution_count": 57,
   "metadata": {},
   "outputs": [
    {
     "data": {
      "text/html": [
       "<table class=\"simpletable\">\n",
       "<caption>Logit Regression Results</caption>\n",
       "<tr>\n",
       "  <th>Dep. Variable:</th>         <td>Churn</td>      <th>  No. Observations:  </th>  <td>  4922</td> \n",
       "</tr>\n",
       "<tr>\n",
       "  <th>Model:</th>                 <td>Logit</td>      <th>  Df Residuals:      </th>  <td>  4910</td> \n",
       "</tr>\n",
       "<tr>\n",
       "  <th>Method:</th>                 <td>MLE</td>       <th>  Df Model:          </th>  <td>    11</td> \n",
       "</tr>\n",
       "<tr>\n",
       "  <th>Date:</th>            <td>Thu, 23 Sep 2021</td> <th>  Pseudo R-squ.:     </th>  <td>0.2754</td> \n",
       "</tr>\n",
       "<tr>\n",
       "  <th>Time:</th>                <td>16:15:30</td>     <th>  Log-Likelihood:    </th> <td> -2049.3</td>\n",
       "</tr>\n",
       "<tr>\n",
       "  <th>converged:</th>             <td>True</td>       <th>  LL-Null:           </th> <td> -2828.2</td>\n",
       "</tr>\n",
       "<tr>\n",
       "  <th>Covariance Type:</th>     <td>nonrobust</td>    <th>  LLR p-value:       </th>  <td> 0.000</td> \n",
       "</tr>\n",
       "</table>\n",
       "<table class=\"simpletable\">\n",
       "<tr>\n",
       "                    <td></td>                       <th>coef</th>     <th>std err</th>      <th>z</th>      <th>P>|z|</th>  <th>[0.025</th>    <th>0.975]</th>  \n",
       "</tr>\n",
       "<tr>\n",
       "  <th>const</th>                                 <td>   -1.0526</td> <td>    0.107</td> <td>   -9.807</td> <td> 0.000</td> <td>   -1.263</td> <td>   -0.842</td>\n",
       "</tr>\n",
       "<tr>\n",
       "  <th>tenure</th>                                <td>   -0.8509</td> <td>    0.065</td> <td>  -13.127</td> <td> 0.000</td> <td>   -0.978</td> <td>   -0.724</td>\n",
       "</tr>\n",
       "<tr>\n",
       "  <th>PaperlessBilling</th>                      <td>    0.4084</td> <td>    0.088</td> <td>    4.629</td> <td> 0.000</td> <td>    0.235</td> <td>    0.581</td>\n",
       "</tr>\n",
       "<tr>\n",
       "  <th>MonthlyCharges</th>                        <td>    0.8798</td> <td>    0.061</td> <td>   14.428</td> <td> 0.000</td> <td>    0.760</td> <td>    0.999</td>\n",
       "</tr>\n",
       "<tr>\n",
       "  <th>SeniorCitizen</th>                         <td>    0.5129</td> <td>    0.099</td> <td>    5.174</td> <td> 0.000</td> <td>    0.319</td> <td>    0.707</td>\n",
       "</tr>\n",
       "<tr>\n",
       "  <th>Contract_One year</th>                     <td>   -0.8013</td> <td>    0.125</td> <td>   -6.415</td> <td> 0.000</td> <td>   -1.046</td> <td>   -0.556</td>\n",
       "</tr>\n",
       "<tr>\n",
       "  <th>Contract_Two year</th>                     <td>   -1.4307</td> <td>    0.206</td> <td>   -6.955</td> <td> 0.000</td> <td>   -1.834</td> <td>   -1.027</td>\n",
       "</tr>\n",
       "<tr>\n",
       "  <th>PaymentMethod_Credit card (automatic)</th> <td>   -0.3065</td> <td>    0.110</td> <td>   -2.779</td> <td> 0.005</td> <td>   -0.523</td> <td>   -0.090</td>\n",
       "</tr>\n",
       "<tr>\n",
       "  <th>OnlineSecurity_Yes</th>                    <td>   -0.4558</td> <td>    0.101</td> <td>   -4.501</td> <td> 0.000</td> <td>   -0.654</td> <td>   -0.257</td>\n",
       "</tr>\n",
       "<tr>\n",
       "  <th>OnlineBackup_Yes</th>                      <td>   -0.2126</td> <td>    0.093</td> <td>   -2.292</td> <td> 0.022</td> <td>   -0.394</td> <td>   -0.031</td>\n",
       "</tr>\n",
       "<tr>\n",
       "  <th>TechSupport_Yes</th>                       <td>   -0.5082</td> <td>    0.100</td> <td>   -5.064</td> <td> 0.000</td> <td>   -0.705</td> <td>   -0.312</td>\n",
       "</tr>\n",
       "<tr>\n",
       "  <th>StreamingMovies_Yes</th>                   <td>    0.0435</td> <td>    0.098</td> <td>    0.442</td> <td> 0.658</td> <td>   -0.149</td> <td>    0.236</td>\n",
       "</tr>\n",
       "</table>"
      ],
      "text/plain": [
       "<class 'statsmodels.iolib.summary.Summary'>\n",
       "\"\"\"\n",
       "                           Logit Regression Results                           \n",
       "==============================================================================\n",
       "Dep. Variable:                  Churn   No. Observations:                 4922\n",
       "Model:                          Logit   Df Residuals:                     4910\n",
       "Method:                           MLE   Df Model:                           11\n",
       "Date:                Thu, 23 Sep 2021   Pseudo R-squ.:                  0.2754\n",
       "Time:                        16:15:30   Log-Likelihood:                -2049.3\n",
       "converged:                       True   LL-Null:                       -2828.2\n",
       "Covariance Type:            nonrobust   LLR p-value:                     0.000\n",
       "=========================================================================================================\n",
       "                                            coef    std err          z      P>|z|      [0.025      0.975]\n",
       "---------------------------------------------------------------------------------------------------------\n",
       "const                                    -1.0526      0.107     -9.807      0.000      -1.263      -0.842\n",
       "tenure                                   -0.8509      0.065    -13.127      0.000      -0.978      -0.724\n",
       "PaperlessBilling                          0.4084      0.088      4.629      0.000       0.235       0.581\n",
       "MonthlyCharges                            0.8798      0.061     14.428      0.000       0.760       0.999\n",
       "SeniorCitizen                             0.5129      0.099      5.174      0.000       0.319       0.707\n",
       "Contract_One year                        -0.8013      0.125     -6.415      0.000      -1.046      -0.556\n",
       "Contract_Two year                        -1.4307      0.206     -6.955      0.000      -1.834      -1.027\n",
       "PaymentMethod_Credit card (automatic)    -0.3065      0.110     -2.779      0.005      -0.523      -0.090\n",
       "OnlineSecurity_Yes                       -0.4558      0.101     -4.501      0.000      -0.654      -0.257\n",
       "OnlineBackup_Yes                         -0.2126      0.093     -2.292      0.022      -0.394      -0.031\n",
       "TechSupport_Yes                          -0.5082      0.100     -5.064      0.000      -0.705      -0.312\n",
       "StreamingMovies_Yes                       0.0435      0.098      0.442      0.658      -0.149       0.236\n",
       "=========================================================================================================\n",
       "\"\"\""
      ]
     },
     "execution_count": 57,
     "metadata": {},
     "output_type": "execute_result"
    }
   ],
   "source": [
    "result.summary()"
   ]
  },
  {
   "cell_type": "markdown",
   "metadata": {},
   "source": [
    "### Now that we Optimized our model using Statsmodel Logit(), we will create a corresponding model using ScikitLearn LogisticRegression()\n",
    "#### Some Differences between Logit and LogisticRegression\n",
    "- ScikitLearn LogisticRegression: Uses L2 regularization by default, but regularization can be turned off using penalty=’none’.\n",
    "StatsModel Logit: Does not use regularization by default.\n",
    "- ScikitLearn LogisticRegression: Includes intercept by default.\n",
    "StatsModel Logit: Use the add_constant method to include an intercept.\n"
   ]
  },
  {
   "cell_type": "code",
   "execution_count": 58,
   "metadata": {},
   "outputs": [],
   "source": [
    "cols_model = ['tenure', 'PaperlessBilling', 'MonthlyCharges',  \n",
    "             'SeniorCitizen', 'Contract_One year', 'Contract_Two year', \n",
    "             'PaymentMethod_Credit card (automatic)', 'OnlineSecurity_Yes', 'OnlineBackup_Yes', \n",
    "             'TechSupport_Yes', 'StreamingMovies_Yes']"
   ]
  },
  {
   "cell_type": "code",
   "execution_count": 59,
   "metadata": {},
   "outputs": [],
   "source": [
    "X_train1 = X_train_constant[cols_model]"
   ]
  },
  {
   "cell_type": "code",
   "execution_count": 60,
   "metadata": {},
   "outputs": [
    {
     "data": {
      "text/plain": [
       "LogisticRegression()"
      ]
     },
     "execution_count": 60,
     "metadata": {},
     "output_type": "execute_result"
    }
   ],
   "source": [
    "logreg = LogisticRegression()\n",
    "logreg.fit(X_train1, y_train)"
   ]
  },
  {
   "cell_type": "markdown",
   "metadata": {},
   "source": [
    "### Predict using Training Data"
   ]
  },
  {
   "cell_type": "code",
   "execution_count": 61,
   "metadata": {},
   "outputs": [],
   "source": [
    "y_train_pred = logreg.predict(X_train1)"
   ]
  },
  {
   "cell_type": "code",
   "execution_count": 62,
   "metadata": {},
   "outputs": [
    {
     "data": {
      "text/plain": [
       "0.8033319788703779"
      ]
     },
     "execution_count": 62,
     "metadata": {},
     "output_type": "execute_result"
    }
   ],
   "source": [
    "sklearn.metrics.accuracy_score(y_train, y_train_pred)"
   ]
  },
  {
   "cell_type": "code",
   "execution_count": 63,
   "metadata": {},
   "outputs": [
    {
     "data": {
      "text/plain": [
       "<AxesSubplot:>"
      ]
     },
     "execution_count": 63,
     "metadata": {},
     "output_type": "execute_result"
    },
    {
     "data": {
      "image/png": "[encoded data removed]",
      "text/plain": [
       "<Figure size 576x360 with 2 Axes>"
      ]
     },
     "metadata": {
      "needs_background": "light"
     },
     "output_type": "display_data"
    }
   ],
   "source": [
    "# Create the Confusion Matrix \n",
    "\n",
    "from sklearn.metrics import confusion_matrix\n",
    "cm = confusion_matrix(y_train, y_train_pred)\n",
    "conf_matrix = pd.DataFrame(data=cm,columns=['Predicted:0','Predicted:1'],index=['Actual:0','Actual:1'])\n",
    "plt.figure(figsize = (8,5))\n",
    "sns.heatmap(conf_matrix, annot=True,fmt='d',cmap=\"YlGnBu\")"
   ]
  },
  {
   "cell_type": "markdown",
   "metadata": {},
   "source": [
    "### Other Classification Statistics"
   ]
  },
  {
   "cell_type": "code",
   "execution_count": 64,
   "metadata": {},
   "outputs": [],
   "source": [
    "TN=cm[0,0]\n",
    "TP=cm[1,1]\n",
    "FN=cm[1,0]\n",
    "FP=cm[0,1]\n",
    "sensitivity=TP/float(TP+FN)\n",
    "specificity=TN/float(TN+FP)"
   ]
  },
  {
   "cell_type": "code",
   "execution_count": 65,
   "metadata": {},
   "outputs": [
    {
     "name": "stdout",
     "output_type": "stream",
     "text": [
      "The acuuracy of the model = TP+TN/(TP+TN+FP+FN) =  0.8033319788703779 \n",
      " Missclassifications = 1-Accuracy =  0.19666802112962212 \n",
      " Sensitivity/Recall or True Positive Rate = TP/(TP+FN) =  0.5236985236985237 \n",
      " Specificity or True Negative Rate = TN/(TN+FP) =  0.9023383768913342 \n",
      " Precision/Positive Predictive value = TP/(TP+FP) =  0.6550048590864918 \n",
      " Negative predictive Value = TN/(TN+FN) =  0.8425378885178526 \n",
      " Positive Likelihood Ratio = Sensitivity/(1-Specificity) =  5.362377841251079 \n",
      " Negative likelihood Ratio = (1-Sensitivity)/Specificity =  0.5278523982792276\n"
     ]
    }
   ],
   "source": [
    "print('The acuuracy of the model = TP+TN/(TP+TN+FP+FN) = ',(TP+TN)/float(TP+TN+FP+FN),'\\n',\n",
    "\n",
    "'Missclassifications = 1-Accuracy = ',1-((TP+TN)/float(TP+TN+FP+FN)),'\\n',\n",
    "\n",
    "'Sensitivity/Recall or True Positive Rate = TP/(TP+FN) = ',TP/float(TP+FN),'\\n',\n",
    "\n",
    "'Specificity or True Negative Rate = TN/(TN+FP) = ',TN/float(TN+FP),'\\n',\n",
    "\n",
    "'Precision/Positive Predictive value = TP/(TP+FP) = ',TP/float(TP+FP),'\\n',\n",
    "\n",
    "'Negative predictive Value = TN/(TN+FN) = ',TN/float(TN+FN),'\\n',\n",
    "\n",
    "'Positive Likelihood Ratio = Sensitivity/(1-Specificity) = ',sensitivity/(1-specificity),'\\n',\n",
    "\n",
    "'Negative likelihood Ratio = (1-Sensitivity)/Specificity = ',(1-sensitivity)/specificity)"
   ]
  },
  {
   "cell_type": "markdown",
   "metadata": {},
   "source": [
    "### Some Pointers from the above Classification Metrics:\n",
    "- `Sensitivity/Recall`: In the example of Churn prediction, it gives us the percentage of Correctly Predicted Churns from the pool of Actual Churns.\n",
    "- `Specificity`: Gives us the percentage of Correctly Predicted Non-Churns from the pool of Actual Non-Churns.\n",
    "- `Precision`: Gives us the percentage of Correctly Predicted Churns from the pool of Total Predicted Churns."
   ]
  },
  {
   "cell_type": "markdown",
   "metadata": {},
   "source": [
    "### Plot the ROC Curve and AUC\n",
    "The `ROC (Receiver Operating Characteristic)` Curve is an useful tool when predicting the probability of a binary outcome.\n",
    "\n",
    "It is a plot of the `false positive rate (x-axis)` versus the `true positive rate (y-axis)` for a number of different candidate threshold values (probability) between 0.0 and 1.0. Put another way, it plots the false alarm rate versus the hit rate.\n",
    "\n",
    "An ROC curve demonstrates several things:\n",
    "\n",
    "- It shows the `tradeoff between sensitivity and specificity` (any increase in sensitivity should be accompanied by a decrease in specificity).\n",
    "- The closer the curve follows the left-hand border and then the top border of the ROC space, the more accurate the test (higher AUC).\n",
    "- The closer the curve comes to the 45-degree diagonal of the ROC space, the less accurate the test."
   ]
  },
  {
   "cell_type": "code",
   "execution_count": 66,
   "metadata": {},
   "outputs": [
    {
     "name": "stdout",
     "output_type": "stream",
     "text": [
      "[[0.76439597 0.23560403]\n",
      " [0.81607017 0.18392983]\n",
      " [0.32087972 0.67912028]\n",
      " ...\n",
      " [0.93634741 0.06365259]\n",
      " [0.8899493  0.1100507 ]\n",
      " [0.91576122 0.08423878]]\n",
      "Logistic: ROC AUC = 0.843\n"
     ]
    },
    {
     "data": {
      "image/png": "[encoded data removed]",
      "text/plain": [
       "<Figure size 432x288 with 1 Axes>"
      ]
     },
     "metadata": {
      "needs_background": "light"
     },
     "output_type": "display_data"
    }
   ],
   "source": [
    "from sklearn.metrics import roc_curve\n",
    "from sklearn.metrics import roc_auc_score\n",
    "\n",
    "# predict probabilities\n",
    "lr_probs = logreg.predict_proba(X_train1)\n",
    "print(lr_probs)\n",
    "\n",
    "# keep probabilities for the positive outcome only\n",
    "lr_probs = lr_probs[:, 1]\n",
    "\n",
    "# calculate scores\n",
    "lr_auc = roc_auc_score(y_train, lr_probs)\n",
    "\n",
    "# summarize scores\n",
    "print('Logistic: ROC AUC = %.3f' % (lr_auc))\n",
    "\n",
    "# calculate roc curves\n",
    "lr_fpr, lr_tpr, _ = roc_curve(y_train, lr_probs)\n",
    "\n",
    "plt.plot(lr_fpr, lr_tpr, marker='.')\n",
    "\n",
    "plt.xlabel('False Positive Rate')\n",
    "plt.ylabel('True Positive Rate')\n",
    "plt.show()"
   ]
  },
  {
   "cell_type": "code",
   "execution_count": 67,
   "metadata": {},
   "outputs": [
    {
     "data": {
      "text/html": [
       "<div>\n",
       "<style scoped>\n",
       "    .dataframe tbody tr th:only-of-type {\n",
       "        vertical-align: middle;\n",
       "    }\n",
       "\n",
       "    .dataframe tbody tr th {\n",
       "        vertical-align: top;\n",
       "    }\n",
       "\n",
       "    .dataframe thead th {\n",
       "        text-align: right;\n",
       "    }\n",
       "</style>\n",
       "<table border=\"1\" class=\"dataframe\">\n",
       "  <thead>\n",
       "    <tr style=\"text-align: right;\">\n",
       "      <th></th>\n",
       "      <th>FPR</th>\n",
       "      <th>TPR</th>\n",
       "    </tr>\n",
       "  </thead>\n",
       "  <tbody>\n",
       "    <tr>\n",
       "      <th>0</th>\n",
       "      <td>0.000000</td>\n",
       "      <td>0.000000</td>\n",
       "    </tr>\n",
       "    <tr>\n",
       "      <th>1</th>\n",
       "      <td>0.000000</td>\n",
       "      <td>0.000777</td>\n",
       "    </tr>\n",
       "    <tr>\n",
       "      <th>2</th>\n",
       "      <td>0.000000</td>\n",
       "      <td>0.006216</td>\n",
       "    </tr>\n",
       "    <tr>\n",
       "      <th>3</th>\n",
       "      <td>0.000275</td>\n",
       "      <td>0.006216</td>\n",
       "    </tr>\n",
       "    <tr>\n",
       "      <th>4</th>\n",
       "      <td>0.000275</td>\n",
       "      <td>0.023310</td>\n",
       "    </tr>\n",
       "    <tr>\n",
       "      <th>...</th>\n",
       "      <td>...</td>\n",
       "      <td>...</td>\n",
       "    </tr>\n",
       "    <tr>\n",
       "      <th>1430</th>\n",
       "      <td>0.994498</td>\n",
       "      <td>1.000000</td>\n",
       "    </tr>\n",
       "    <tr>\n",
       "      <th>1431</th>\n",
       "      <td>0.995048</td>\n",
       "      <td>1.000000</td>\n",
       "    </tr>\n",
       "    <tr>\n",
       "      <th>1432</th>\n",
       "      <td>0.997799</td>\n",
       "      <td>1.000000</td>\n",
       "    </tr>\n",
       "    <tr>\n",
       "      <th>1433</th>\n",
       "      <td>0.998349</td>\n",
       "      <td>1.000000</td>\n",
       "    </tr>\n",
       "    <tr>\n",
       "      <th>1434</th>\n",
       "      <td>1.000000</td>\n",
       "      <td>1.000000</td>\n",
       "    </tr>\n",
       "  </tbody>\n",
       "</table>\n",
       "<p>1435 rows × 2 columns</p>\n",
       "</div>"
      ],
      "text/plain": [
       "           FPR       TPR\n",
       "0     0.000000  0.000000\n",
       "1     0.000000  0.000777\n",
       "2     0.000000  0.006216\n",
       "3     0.000275  0.006216\n",
       "4     0.000275  0.023310\n",
       "...        ...       ...\n",
       "1430  0.994498  1.000000\n",
       "1431  0.995048  1.000000\n",
       "1432  0.997799  1.000000\n",
       "1433  0.998349  1.000000\n",
       "1434  1.000000  1.000000\n",
       "\n",
       "[1435 rows x 2 columns]"
      ]
     },
     "execution_count": 67,
     "metadata": {},
     "output_type": "execute_result"
    }
   ],
   "source": [
    "pd.DataFrame(zip(lr_fpr, lr_tpr), columns=('FPR', 'TPR'))"
   ]
  },
  {
   "cell_type": "markdown",
   "metadata": {},
   "source": [
    "### Creating a dataframe with the actual churn flag and the predicted probabilities"
   ]
  },
  {
   "cell_type": "code",
   "execution_count": 68,
   "metadata": {},
   "outputs": [
    {
     "data": {
      "text/html": [
       "<div>\n",
       "<style scoped>\n",
       "    .dataframe tbody tr th:only-of-type {\n",
       "        vertical-align: middle;\n",
       "    }\n",
       "\n",
       "    .dataframe tbody tr th {\n",
       "        vertical-align: top;\n",
       "    }\n",
       "\n",
       "    .dataframe thead th {\n",
       "        text-align: right;\n",
       "    }\n",
       "</style>\n",
       "<table border=\"1\" class=\"dataframe\">\n",
       "  <thead>\n",
       "    <tr style=\"text-align: right;\">\n",
       "      <th></th>\n",
       "      <th>Churn</th>\n",
       "      <th>Churn_Prob</th>\n",
       "      <th>CustID</th>\n",
       "    </tr>\n",
       "  </thead>\n",
       "  <tbody>\n",
       "    <tr>\n",
       "      <th>0</th>\n",
       "      <td>0</td>\n",
       "      <td>0.235604</td>\n",
       "      <td>879</td>\n",
       "    </tr>\n",
       "    <tr>\n",
       "      <th>1</th>\n",
       "      <td>0</td>\n",
       "      <td>0.183930</td>\n",
       "      <td>5790</td>\n",
       "    </tr>\n",
       "    <tr>\n",
       "      <th>2</th>\n",
       "      <td>1</td>\n",
       "      <td>0.679120</td>\n",
       "      <td>6498</td>\n",
       "    </tr>\n",
       "    <tr>\n",
       "      <th>3</th>\n",
       "      <td>1</td>\n",
       "      <td>0.581322</td>\n",
       "      <td>880</td>\n",
       "    </tr>\n",
       "    <tr>\n",
       "      <th>4</th>\n",
       "      <td>1</td>\n",
       "      <td>0.701117</td>\n",
       "      <td>2784</td>\n",
       "    </tr>\n",
       "    <tr>\n",
       "      <th>5</th>\n",
       "      <td>0</td>\n",
       "      <td>0.390385</td>\n",
       "      <td>3874</td>\n",
       "    </tr>\n",
       "    <tr>\n",
       "      <th>6</th>\n",
       "      <td>0</td>\n",
       "      <td>0.171457</td>\n",
       "      <td>5387</td>\n",
       "    </tr>\n",
       "    <tr>\n",
       "      <th>7</th>\n",
       "      <td>1</td>\n",
       "      <td>0.786112</td>\n",
       "      <td>6623</td>\n",
       "    </tr>\n",
       "    <tr>\n",
       "      <th>8</th>\n",
       "      <td>0</td>\n",
       "      <td>0.145279</td>\n",
       "      <td>4465</td>\n",
       "    </tr>\n",
       "    <tr>\n",
       "      <th>9</th>\n",
       "      <td>1</td>\n",
       "      <td>0.586667</td>\n",
       "      <td>5364</td>\n",
       "    </tr>\n",
       "    <tr>\n",
       "      <th>10</th>\n",
       "      <td>0</td>\n",
       "      <td>0.213203</td>\n",
       "      <td>3022</td>\n",
       "    </tr>\n",
       "    <tr>\n",
       "      <th>11</th>\n",
       "      <td>1</td>\n",
       "      <td>0.537653</td>\n",
       "      <td>1251</td>\n",
       "    </tr>\n",
       "    <tr>\n",
       "      <th>12</th>\n",
       "      <td>1</td>\n",
       "      <td>0.683649</td>\n",
       "      <td>3494</td>\n",
       "    </tr>\n",
       "    <tr>\n",
       "      <th>13</th>\n",
       "      <td>0</td>\n",
       "      <td>0.014545</td>\n",
       "      <td>266</td>\n",
       "    </tr>\n",
       "    <tr>\n",
       "      <th>14</th>\n",
       "      <td>0</td>\n",
       "      <td>0.007743</td>\n",
       "      <td>2772</td>\n",
       "    </tr>\n",
       "    <tr>\n",
       "      <th>15</th>\n",
       "      <td>0</td>\n",
       "      <td>0.064864</td>\n",
       "      <td>242</td>\n",
       "    </tr>\n",
       "    <tr>\n",
       "      <th>16</th>\n",
       "      <td>0</td>\n",
       "      <td>0.435965</td>\n",
       "      <td>738</td>\n",
       "    </tr>\n",
       "    <tr>\n",
       "      <th>17</th>\n",
       "      <td>0</td>\n",
       "      <td>0.031208</td>\n",
       "      <td>4066</td>\n",
       "    </tr>\n",
       "    <tr>\n",
       "      <th>18</th>\n",
       "      <td>0</td>\n",
       "      <td>0.205986</td>\n",
       "      <td>3214</td>\n",
       "    </tr>\n",
       "    <tr>\n",
       "      <th>19</th>\n",
       "      <td>0</td>\n",
       "      <td>0.015375</td>\n",
       "      <td>2408</td>\n",
       "    </tr>\n",
       "  </tbody>\n",
       "</table>\n",
       "</div>"
      ],
      "text/plain": [
       "    Churn  Churn_Prob  CustID\n",
       "0       0    0.235604     879\n",
       "1       0    0.183930    5790\n",
       "2       1    0.679120    6498\n",
       "3       1    0.581322     880\n",
       "4       1    0.701117    2784\n",
       "5       0    0.390385    3874\n",
       "6       0    0.171457    5387\n",
       "7       1    0.786112    6623\n",
       "8       0    0.145279    4465\n",
       "9       1    0.586667    5364\n",
       "10      0    0.213203    3022\n",
       "11      1    0.537653    1251\n",
       "12      1    0.683649    3494\n",
       "13      0    0.014545     266\n",
       "14      0    0.007743    2772\n",
       "15      0    0.064864     242\n",
       "16      0    0.435965     738\n",
       "17      0    0.031208    4066\n",
       "18      0    0.205986    3214\n",
       "19      0    0.015375    2408"
      ]
     },
     "execution_count": 68,
     "metadata": {},
     "output_type": "execute_result"
    }
   ],
   "source": [
    "y_train_pred_final = pd.DataFrame({'Churn':y_train.values, 'Churn_Prob':lr_probs})\n",
    "y_train_pred_final['CustID'] = y_train.index\n",
    "y_train_pred_final.head(20)"
   ]
  },
  {
   "cell_type": "markdown",
   "metadata": {},
   "source": [
    "#### Observation from above Data: The 1's are assigned higher probability to the 0's. A good classification model will always try to assign higher numbers to the positive cases and assign lower numbers to negatives. \n"
   ]
  },
  {
   "cell_type": "markdown",
   "metadata": {},
   "source": [
    "### Creating new column 'predicted' with `1 if Churn_Prob > 0.5 else 0`"
   ]
  },
  {
   "cell_type": "code",
   "execution_count": 69,
   "metadata": {},
   "outputs": [
    {
     "data": {
      "text/html": [
       "<div>\n",
       "<style scoped>\n",
       "    .dataframe tbody tr th:only-of-type {\n",
       "        vertical-align: middle;\n",
       "    }\n",
       "\n",
       "    .dataframe tbody tr th {\n",
       "        vertical-align: top;\n",
       "    }\n",
       "\n",
       "    .dataframe thead th {\n",
       "        text-align: right;\n",
       "    }\n",
       "</style>\n",
       "<table border=\"1\" class=\"dataframe\">\n",
       "  <thead>\n",
       "    <tr style=\"text-align: right;\">\n",
       "      <th></th>\n",
       "      <th>Churn</th>\n",
       "      <th>Churn_Prob</th>\n",
       "      <th>CustID</th>\n",
       "      <th>predicted</th>\n",
       "    </tr>\n",
       "  </thead>\n",
       "  <tbody>\n",
       "    <tr>\n",
       "      <th>0</th>\n",
       "      <td>0</td>\n",
       "      <td>0.235604</td>\n",
       "      <td>879</td>\n",
       "      <td>0</td>\n",
       "    </tr>\n",
       "    <tr>\n",
       "      <th>1</th>\n",
       "      <td>0</td>\n",
       "      <td>0.183930</td>\n",
       "      <td>5790</td>\n",
       "      <td>0</td>\n",
       "    </tr>\n",
       "    <tr>\n",
       "      <th>2</th>\n",
       "      <td>1</td>\n",
       "      <td>0.679120</td>\n",
       "      <td>6498</td>\n",
       "      <td>1</td>\n",
       "    </tr>\n",
       "    <tr>\n",
       "      <th>3</th>\n",
       "      <td>1</td>\n",
       "      <td>0.581322</td>\n",
       "      <td>880</td>\n",
       "      <td>1</td>\n",
       "    </tr>\n",
       "    <tr>\n",
       "      <th>4</th>\n",
       "      <td>1</td>\n",
       "      <td>0.701117</td>\n",
       "      <td>2784</td>\n",
       "      <td>1</td>\n",
       "    </tr>\n",
       "  </tbody>\n",
       "</table>\n",
       "</div>"
      ],
      "text/plain": [
       "   Churn  Churn_Prob  CustID  predicted\n",
       "0      0    0.235604     879          0\n",
       "1      0    0.183930    5790          0\n",
       "2      1    0.679120    6498          1\n",
       "3      1    0.581322     880          1\n",
       "4      1    0.701117    2784          1"
      ]
     },
     "execution_count": 69,
     "metadata": {},
     "output_type": "execute_result"
    }
   ],
   "source": [
    "y_train_pred_final['predicted'] = y_train_pred_final.Churn_Prob.map(lambda x: 1 if x > 0.5 else 0)\n",
    "y_train_pred_final.head()"
   ]
  },
  {
   "cell_type": "code",
   "execution_count": 70,
   "metadata": {},
   "outputs": [
    {
     "name": "stdout",
     "output_type": "stream",
     "text": [
      "[[3280  355]\n",
      " [ 613  674]]\n"
     ]
    }
   ],
   "source": [
    "from sklearn import metrics\n",
    "# Create Confusion matrix \n",
    "confusion = metrics.confusion_matrix(y_train_pred_final.Churn, y_train_pred_final.predicted )\n",
    "print(confusion)"
   ]
  },
  {
   "cell_type": "code",
   "execution_count": 71,
   "metadata": {},
   "outputs": [
    {
     "name": "stdout",
     "output_type": "stream",
     "text": [
      "0.8033319788703779\n"
     ]
    }
   ],
   "source": [
    "# Let's check the overall accuracy.\n",
    "print(metrics.accuracy_score(y_train_pred_final.Churn, y_train_pred_final.predicted))"
   ]
  },
  {
   "cell_type": "markdown",
   "metadata": {},
   "source": [
    "### Is our probability threshold of 0.5 good? Finding Optimal Cutoff Point...\n",
    "Optimal cutoff probability is that prob where we get balanced sensitivity and specificity"
   ]
  },
  {
   "cell_type": "code",
   "execution_count": 72,
   "metadata": {},
   "outputs": [
    {
     "data": {
      "text/html": [
       "<div>\n",
       "<style scoped>\n",
       "    .dataframe tbody tr th:only-of-type {\n",
       "        vertical-align: middle;\n",
       "    }\n",
       "\n",
       "    .dataframe tbody tr th {\n",
       "        vertical-align: top;\n",
       "    }\n",
       "\n",
       "    .dataframe thead th {\n",
       "        text-align: right;\n",
       "    }\n",
       "</style>\n",
       "<table border=\"1\" class=\"dataframe\">\n",
       "  <thead>\n",
       "    <tr style=\"text-align: right;\">\n",
       "      <th></th>\n",
       "      <th>Churn</th>\n",
       "      <th>Churn_Prob</th>\n",
       "      <th>CustID</th>\n",
       "      <th>predicted</th>\n",
       "      <th>0.0</th>\n",
       "      <th>0.1</th>\n",
       "      <th>0.2</th>\n",
       "      <th>0.3</th>\n",
       "      <th>0.4</th>\n",
       "      <th>0.5</th>\n",
       "      <th>0.6</th>\n",
       "      <th>0.7</th>\n",
       "      <th>0.8</th>\n",
       "      <th>0.9</th>\n",
       "    </tr>\n",
       "  </thead>\n",
       "  <tbody>\n",
       "    <tr>\n",
       "      <th>0</th>\n",
       "      <td>0</td>\n",
       "      <td>0.235604</td>\n",
       "      <td>879</td>\n",
       "      <td>0</td>\n",
       "      <td>1</td>\n",
       "      <td>1</td>\n",
       "      <td>1</td>\n",
       "      <td>0</td>\n",
       "      <td>0</td>\n",
       "      <td>0</td>\n",
       "      <td>0</td>\n",
       "      <td>0</td>\n",
       "      <td>0</td>\n",
       "      <td>0</td>\n",
       "    </tr>\n",
       "    <tr>\n",
       "      <th>1</th>\n",
       "      <td>0</td>\n",
       "      <td>0.183930</td>\n",
       "      <td>5790</td>\n",
       "      <td>0</td>\n",
       "      <td>1</td>\n",
       "      <td>1</td>\n",
       "      <td>0</td>\n",
       "      <td>0</td>\n",
       "      <td>0</td>\n",
       "      <td>0</td>\n",
       "      <td>0</td>\n",
       "      <td>0</td>\n",
       "      <td>0</td>\n",
       "      <td>0</td>\n",
       "    </tr>\n",
       "    <tr>\n",
       "      <th>2</th>\n",
       "      <td>1</td>\n",
       "      <td>0.679120</td>\n",
       "      <td>6498</td>\n",
       "      <td>1</td>\n",
       "      <td>1</td>\n",
       "      <td>1</td>\n",
       "      <td>1</td>\n",
       "      <td>1</td>\n",
       "      <td>1</td>\n",
       "      <td>1</td>\n",
       "      <td>1</td>\n",
       "      <td>0</td>\n",
       "      <td>0</td>\n",
       "      <td>0</td>\n",
       "    </tr>\n",
       "    <tr>\n",
       "      <th>3</th>\n",
       "      <td>1</td>\n",
       "      <td>0.581322</td>\n",
       "      <td>880</td>\n",
       "      <td>1</td>\n",
       "      <td>1</td>\n",
       "      <td>1</td>\n",
       "      <td>1</td>\n",
       "      <td>1</td>\n",
       "      <td>1</td>\n",
       "      <td>1</td>\n",
       "      <td>0</td>\n",
       "      <td>0</td>\n",
       "      <td>0</td>\n",
       "      <td>0</td>\n",
       "    </tr>\n",
       "    <tr>\n",
       "      <th>4</th>\n",
       "      <td>1</td>\n",
       "      <td>0.701117</td>\n",
       "      <td>2784</td>\n",
       "      <td>1</td>\n",
       "      <td>1</td>\n",
       "      <td>1</td>\n",
       "      <td>1</td>\n",
       "      <td>1</td>\n",
       "      <td>1</td>\n",
       "      <td>1</td>\n",
       "      <td>1</td>\n",
       "      <td>1</td>\n",
       "      <td>0</td>\n",
       "      <td>0</td>\n",
       "    </tr>\n",
       "  </tbody>\n",
       "</table>\n",
       "</div>"
      ],
      "text/plain": [
       "   Churn  Churn_Prob  CustID  predicted  0.0  0.1  0.2  0.3  0.4  0.5  0.6  \\\n",
       "0      0    0.235604     879          0    1    1    1    0    0    0    0   \n",
       "1      0    0.183930    5790          0    1    1    0    0    0    0    0   \n",
       "2      1    0.679120    6498          1    1    1    1    1    1    1    1   \n",
       "3      1    0.581322     880          1    1    1    1    1    1    1    0   \n",
       "4      1    0.701117    2784          1    1    1    1    1    1    1    1   \n",
       "\n",
       "   0.7  0.8  0.9  \n",
       "0    0    0    0  \n",
       "1    0    0    0  \n",
       "2    0    0    0  \n",
       "3    0    0    0  \n",
       "4    1    0    0  "
      ]
     },
     "execution_count": 72,
     "metadata": {},
     "output_type": "execute_result"
    }
   ],
   "source": [
    "# Let's create columns with different probability cutoffs \n",
    "numbers = [float(x)/10 for x in range(10)]\n",
    "for i in numbers:\n",
    "    y_train_pred_final[i]= y_train_pred_final.Churn_Prob.map(lambda x: 1 if x > i else 0)\n",
    "y_train_pred_final.head()"
   ]
  },
  {
   "cell_type": "code",
   "execution_count": 73,
   "metadata": {},
   "outputs": [
    {
     "data": {
      "text/plain": [
       "[0.0, 0.1, 0.2, 0.3, 0.4, 0.5, 0.6, 0.7, 0.8, 0.9]"
      ]
     },
     "execution_count": 73,
     "metadata": {},
     "output_type": "execute_result"
    }
   ],
   "source": [
    "numbers"
   ]
  },
  {
   "cell_type": "code",
   "execution_count": 74,
   "metadata": {},
   "outputs": [
    {
     "name": "stdout",
     "output_type": "stream",
     "text": [
      "     prob  accuracy     sensi     speci\n",
      "0.0   0.0  0.261479  1.000000  0.000000\n",
      "0.1   0.1  0.609102  0.940948  0.491609\n",
      "0.2   0.2  0.704185  0.867910  0.646217\n",
      "0.3   0.3  0.768184  0.751360  0.774140\n",
      "0.4   0.4  0.793377  0.642580  0.846768\n",
      "0.5   0.5  0.803332  0.523699  0.902338\n",
      "0.6   0.6  0.794596  0.365190  0.946630\n",
      "0.7   0.7  0.775498  0.188811  0.983219\n",
      "0.8   0.8  0.747054  0.039627  0.997524\n",
      "0.9   0.9  0.738521  0.000000  1.000000\n"
     ]
    }
   ],
   "source": [
    "# Now let's calculate accuracy sensitivity and specificity for various probability cutoffs.\n",
    "cutoff_df = pd.DataFrame( columns = ['prob','accuracy','sensi','speci'])\n",
    "from sklearn.metrics import confusion_matrix\n",
    "\n",
    "# TP = confusion[1,1] # true positive \n",
    "# TN = confusion[0,0] # true negatives\n",
    "# FP = confusion[0,1] # false positives\n",
    "# FN = confusion[1,0] # false negatives\n",
    "\n",
    "num = [0.0,0.1,0.2,0.3,0.4,0.5,0.6,0.7,0.8,0.9]\n",
    "for i in num:\n",
    "    cm1 = metrics.confusion_matrix(y_train_pred_final.Churn, y_train_pred_final[i] )\n",
    "    total1=sum(sum(cm1))\n",
    "    accuracy = (cm1[0,0]+cm1[1,1])/total1\n",
    "    \n",
    "    speci = cm1[0,0]/(cm1[0,0]+cm1[0,1])\n",
    "    sensi = cm1[1,1]/(cm1[1,0]+cm1[1,1])\n",
    "    cutoff_df.loc[i] =[ i ,accuracy,sensi,speci]\n",
    "print(cutoff_df)"
   ]
  },
  {
   "cell_type": "markdown",
   "metadata": {},
   "source": [
    "### Plot `accuracy - sensitivity - specificity` against various probabilities."
   ]
  },
  {
   "cell_type": "code",
   "execution_count": 75,
   "metadata": {},
   "outputs": [
    {
     "data": {
      "image/png": "[encoded data removed]",
      "text/plain": [
       "<Figure size 432x288 with 1 Axes>"
      ]
     },
     "metadata": {
      "needs_background": "light"
     },
     "output_type": "display_data"
    }
   ],
   "source": [
    "cutoff_df.plot.line(x='prob', y=['accuracy','sensi','speci'])\n",
    "plt.xlabel('Probability')\n",
    "plt.ylabel('Accuracy/Sensitivity/Sepecificity')\n",
    "plt.show()"
   ]
  },
  {
   "cell_type": "markdown",
   "metadata": {},
   "source": [
    "### From the plot above, probability threshold of about `0.3` appears to be optimum"
   ]
  },
  {
   "cell_type": "code",
   "execution_count": 76,
   "metadata": {},
   "outputs": [
    {
     "data": {
      "text/html": [
       "<div>\n",
       "<style scoped>\n",
       "    .dataframe tbody tr th:only-of-type {\n",
       "        vertical-align: middle;\n",
       "    }\n",
       "\n",
       "    .dataframe tbody tr th {\n",
       "        vertical-align: top;\n",
       "    }\n",
       "\n",
       "    .dataframe thead th {\n",
       "        text-align: right;\n",
       "    }\n",
       "</style>\n",
       "<table border=\"1\" class=\"dataframe\">\n",
       "  <thead>\n",
       "    <tr style=\"text-align: right;\">\n",
       "      <th></th>\n",
       "      <th>Churn</th>\n",
       "      <th>Churn_Prob</th>\n",
       "      <th>CustID</th>\n",
       "      <th>predicted</th>\n",
       "      <th>0.0</th>\n",
       "      <th>0.1</th>\n",
       "      <th>0.2</th>\n",
       "      <th>0.3</th>\n",
       "      <th>0.4</th>\n",
       "      <th>0.5</th>\n",
       "      <th>0.6</th>\n",
       "      <th>0.7</th>\n",
       "      <th>0.8</th>\n",
       "      <th>0.9</th>\n",
       "      <th>final_predicted</th>\n",
       "    </tr>\n",
       "  </thead>\n",
       "  <tbody>\n",
       "    <tr>\n",
       "      <th>0</th>\n",
       "      <td>0</td>\n",
       "      <td>0.235604</td>\n",
       "      <td>879</td>\n",
       "      <td>0</td>\n",
       "      <td>1</td>\n",
       "      <td>1</td>\n",
       "      <td>1</td>\n",
       "      <td>0</td>\n",
       "      <td>0</td>\n",
       "      <td>0</td>\n",
       "      <td>0</td>\n",
       "      <td>0</td>\n",
       "      <td>0</td>\n",
       "      <td>0</td>\n",
       "      <td>0</td>\n",
       "    </tr>\n",
       "    <tr>\n",
       "      <th>1</th>\n",
       "      <td>0</td>\n",
       "      <td>0.183930</td>\n",
       "      <td>5790</td>\n",
       "      <td>0</td>\n",
       "      <td>1</td>\n",
       "      <td>1</td>\n",
       "      <td>0</td>\n",
       "      <td>0</td>\n",
       "      <td>0</td>\n",
       "      <td>0</td>\n",
       "      <td>0</td>\n",
       "      <td>0</td>\n",
       "      <td>0</td>\n",
       "      <td>0</td>\n",
       "      <td>0</td>\n",
       "    </tr>\n",
       "    <tr>\n",
       "      <th>2</th>\n",
       "      <td>1</td>\n",
       "      <td>0.679120</td>\n",
       "      <td>6498</td>\n",
       "      <td>1</td>\n",
       "      <td>1</td>\n",
       "      <td>1</td>\n",
       "      <td>1</td>\n",
       "      <td>1</td>\n",
       "      <td>1</td>\n",
       "      <td>1</td>\n",
       "      <td>1</td>\n",
       "      <td>0</td>\n",
       "      <td>0</td>\n",
       "      <td>0</td>\n",
       "      <td>1</td>\n",
       "    </tr>\n",
       "    <tr>\n",
       "      <th>3</th>\n",
       "      <td>1</td>\n",
       "      <td>0.581322</td>\n",
       "      <td>880</td>\n",
       "      <td>1</td>\n",
       "      <td>1</td>\n",
       "      <td>1</td>\n",
       "      <td>1</td>\n",
       "      <td>1</td>\n",
       "      <td>1</td>\n",
       "      <td>1</td>\n",
       "      <td>0</td>\n",
       "      <td>0</td>\n",
       "      <td>0</td>\n",
       "      <td>0</td>\n",
       "      <td>1</td>\n",
       "    </tr>\n",
       "    <tr>\n",
       "      <th>4</th>\n",
       "      <td>1</td>\n",
       "      <td>0.701117</td>\n",
       "      <td>2784</td>\n",
       "      <td>1</td>\n",
       "      <td>1</td>\n",
       "      <td>1</td>\n",
       "      <td>1</td>\n",
       "      <td>1</td>\n",
       "      <td>1</td>\n",
       "      <td>1</td>\n",
       "      <td>1</td>\n",
       "      <td>1</td>\n",
       "      <td>0</td>\n",
       "      <td>0</td>\n",
       "      <td>1</td>\n",
       "    </tr>\n",
       "  </tbody>\n",
       "</table>\n",
       "</div>"
      ],
      "text/plain": [
       "   Churn  Churn_Prob  CustID  predicted  0.0  0.1  0.2  0.3  0.4  0.5  0.6  \\\n",
       "0      0    0.235604     879          0    1    1    1    0    0    0    0   \n",
       "1      0    0.183930    5790          0    1    1    0    0    0    0    0   \n",
       "2      1    0.679120    6498          1    1    1    1    1    1    1    1   \n",
       "3      1    0.581322     880          1    1    1    1    1    1    1    0   \n",
       "4      1    0.701117    2784          1    1    1    1    1    1    1    1   \n",
       "\n",
       "   0.7  0.8  0.9  final_predicted  \n",
       "0    0    0    0                0  \n",
       "1    0    0    0                0  \n",
       "2    0    0    0                1  \n",
       "3    0    0    0                1  \n",
       "4    1    0    0                1  "
      ]
     },
     "execution_count": 76,
     "metadata": {},
     "output_type": "execute_result"
    }
   ],
   "source": [
    "y_train_pred_final['final_predicted'] = y_train_pred_final.Churn_Prob.map(lambda x: 1 if x > 0.3 else 0)\n",
    "y_train_pred_final.head()"
   ]
  },
  {
   "cell_type": "code",
   "execution_count": 77,
   "metadata": {},
   "outputs": [
    {
     "data": {
      "text/plain": [
       "0.7681836651767574"
      ]
     },
     "execution_count": 77,
     "metadata": {},
     "output_type": "execute_result"
    }
   ],
   "source": [
    "# Let's check the overall accuracy.\n",
    "metrics.accuracy_score(y_train_pred_final.Churn, y_train_pred_final.final_predicted)"
   ]
  },
  {
   "cell_type": "code",
   "execution_count": 78,
   "metadata": {},
   "outputs": [
    {
     "data": {
      "text/plain": [
       "array([[2814,  821],\n",
       "       [ 320,  967]])"
      ]
     },
     "execution_count": 78,
     "metadata": {},
     "output_type": "execute_result"
    }
   ],
   "source": [
    "confusion2 = metrics.confusion_matrix(y_train_pred_final.Churn, y_train_pred_final.final_predicted )\n",
    "confusion2"
   ]
  },
  {
   "cell_type": "code",
   "execution_count": 79,
   "metadata": {},
   "outputs": [],
   "source": [
    "TP = confusion2[1,1] # true positive \n",
    "TN = confusion2[0,0] # true negatives\n",
    "FP = confusion2[0,1] # false positives\n",
    "FN = confusion2[1,0] # false negatives"
   ]
  },
  {
   "cell_type": "code",
   "execution_count": 80,
   "metadata": {},
   "outputs": [
    {
     "data": {
      "text/plain": [
       "0.7513597513597513"
      ]
     },
     "execution_count": 80,
     "metadata": {},
     "output_type": "execute_result"
    }
   ],
   "source": [
    "# Let's see the sensitivity of our logistic regression model\n",
    "TP / float(TP+FN)"
   ]
  },
  {
   "cell_type": "code",
   "execution_count": 81,
   "metadata": {},
   "outputs": [
    {
     "data": {
      "text/plain": [
       "0.7741403026134801"
      ]
     },
     "execution_count": 81,
     "metadata": {},
     "output_type": "execute_result"
    }
   ],
   "source": [
    "# Let us calculate specificity\n",
    "TN / float(TN+FP)"
   ]
  },
  {
   "cell_type": "code",
   "execution_count": 82,
   "metadata": {},
   "outputs": [
    {
     "name": "stdout",
     "output_type": "stream",
     "text": [
      "0.22585969738651995\n"
     ]
    }
   ],
   "source": [
    "# Calculate false postive rate - predicting churn when customer does not have churned\n",
    "print(FP/ float(TN+FP))"
   ]
  },
  {
   "cell_type": "code",
   "execution_count": 83,
   "metadata": {},
   "outputs": [
    {
     "name": "stdout",
     "output_type": "stream",
     "text": [
      "0.54082774049217\n"
     ]
    }
   ],
   "source": [
    "# Positive predictive value \n",
    "print (TP / float(TP+FP))"
   ]
  },
  {
   "cell_type": "code",
   "execution_count": 84,
   "metadata": {},
   "outputs": [
    {
     "name": "stdout",
     "output_type": "stream",
     "text": [
      "0.8978940650925336\n"
     ]
    }
   ],
   "source": [
    "# Negative predictive value\n",
    "print (TN / float(TN+ FN))"
   ]
  },
  {
   "cell_type": "markdown",
   "metadata": {},
   "source": [
    "### Calculate Precision and Recall"
   ]
  },
  {
   "cell_type": "code",
   "execution_count": 85,
   "metadata": {
    "_uuid": "fe02696cfc7f726344091be69a256694792cc8d6"
   },
   "outputs": [
    {
     "data": {
      "text/plain": [
       "array([[3280,  355],\n",
       "       [ 613,  674]])"
      ]
     },
     "execution_count": 85,
     "metadata": {},
     "output_type": "execute_result"
    }
   ],
   "source": [
    "confusion = metrics.confusion_matrix(y_train_pred_final.Churn, y_train_pred_final.predicted )\n",
    "confusion"
   ]
  },
  {
   "cell_type": "markdown",
   "metadata": {
    "_uuid": "56401196905cc30bc415104f18bd3e3f55b6a632"
   },
   "source": [
    "##### Precision\n",
    "TP / TP + FP"
   ]
  },
  {
   "cell_type": "code",
   "execution_count": 86,
   "metadata": {
    "_uuid": "3ea6844759463a78e30cd982347e91f50331d2b7"
   },
   "outputs": [
    {
     "data": {
      "text/plain": [
       "0.6550048590864918"
      ]
     },
     "execution_count": 86,
     "metadata": {},
     "output_type": "execute_result"
    }
   ],
   "source": [
    "confusion[1,1]/(confusion[0,1]+confusion[1,1])"
   ]
  },
  {
   "cell_type": "markdown",
   "metadata": {
    "_uuid": "34e402799cfe5229b7c72b481b4d616def9c80da"
   },
   "source": [
    "##### Recall\n",
    "TP / TP + FN"
   ]
  },
  {
   "cell_type": "code",
   "execution_count": 87,
   "metadata": {
    "_uuid": "466dccb626a1dc80d856d682c061c8c4e3dae096"
   },
   "outputs": [
    {
     "data": {
      "text/plain": [
       "0.5236985236985237"
      ]
     },
     "execution_count": 87,
     "metadata": {},
     "output_type": "execute_result"
    }
   ],
   "source": [
    "confusion[1,1]/(confusion[1,0]+confusion[1,1])"
   ]
  },
  {
   "cell_type": "markdown",
   "metadata": {
    "_uuid": "724fa242ef1d31a7de4ab23c6c21ac75abf5a20f"
   },
   "source": [
    "Using sklearn utilities for the same"
   ]
  },
  {
   "cell_type": "code",
   "execution_count": 88,
   "metadata": {
    "_uuid": "c0bc7fe62d2d37f74c31be28e99b7a7f6e47d191"
   },
   "outputs": [],
   "source": [
    "from sklearn.metrics import precision_score, recall_score"
   ]
  },
  {
   "cell_type": "code",
   "execution_count": 89,
   "metadata": {
    "_uuid": "217b418388a87d4ecc828fa31faf296e1fa5a8a3"
   },
   "outputs": [
    {
     "data": {
      "text/plain": [
       "0.6550048590864918"
      ]
     },
     "execution_count": 89,
     "metadata": {},
     "output_type": "execute_result"
    }
   ],
   "source": [
    "precision_score(y_train_pred_final.Churn, y_train_pred_final.predicted)"
   ]
  },
  {
   "cell_type": "code",
   "execution_count": 90,
   "metadata": {
    "_uuid": "1b60034f598ad58755c04c08b8d224d2392afec3"
   },
   "outputs": [
    {
     "data": {
      "text/plain": [
       "0.5236985236985237"
      ]
     },
     "execution_count": 90,
     "metadata": {},
     "output_type": "execute_result"
    }
   ],
   "source": [
    "recall_score(y_train_pred_final.Churn, y_train_pred_final.predicted)"
   ]
  },
  {
   "cell_type": "markdown",
   "metadata": {
    "_uuid": "3ff6c9d7e0b242b692f55bacac3c052eacc35376"
   },
   "source": [
    "## Precision and recall tradeoff"
   ]
  },
  {
   "cell_type": "code",
   "execution_count": 91,
   "metadata": {
    "_uuid": "59c36e27db7c1af5a3f2703c220b4d7c526e2302"
   },
   "outputs": [],
   "source": [
    "from sklearn.metrics import precision_recall_curve"
   ]
  },
  {
   "cell_type": "code",
   "execution_count": 92,
   "metadata": {
    "_uuid": "74efee2cfdbe129528898796e956d2bcd75a08c3"
   },
   "outputs": [
    {
     "data": {
      "text/html": [
       "<div>\n",
       "<style scoped>\n",
       "    .dataframe tbody tr th:only-of-type {\n",
       "        vertical-align: middle;\n",
       "    }\n",
       "\n",
       "    .dataframe tbody tr th {\n",
       "        vertical-align: top;\n",
       "    }\n",
       "\n",
       "    .dataframe thead th {\n",
       "        text-align: right;\n",
       "    }\n",
       "</style>\n",
       "<table border=\"1\" class=\"dataframe\">\n",
       "  <thead>\n",
       "    <tr style=\"text-align: right;\">\n",
       "      <th></th>\n",
       "      <th>0</th>\n",
       "      <th>1</th>\n",
       "    </tr>\n",
       "  </thead>\n",
       "  <tbody>\n",
       "    <tr>\n",
       "      <th>0</th>\n",
       "      <td>0</td>\n",
       "      <td>0</td>\n",
       "    </tr>\n",
       "    <tr>\n",
       "      <th>1</th>\n",
       "      <td>0</td>\n",
       "      <td>0</td>\n",
       "    </tr>\n",
       "    <tr>\n",
       "      <th>2</th>\n",
       "      <td>1</td>\n",
       "      <td>1</td>\n",
       "    </tr>\n",
       "    <tr>\n",
       "      <th>3</th>\n",
       "      <td>1</td>\n",
       "      <td>1</td>\n",
       "    </tr>\n",
       "    <tr>\n",
       "      <th>4</th>\n",
       "      <td>1</td>\n",
       "      <td>1</td>\n",
       "    </tr>\n",
       "    <tr>\n",
       "      <th>...</th>\n",
       "      <td>...</td>\n",
       "      <td>...</td>\n",
       "    </tr>\n",
       "    <tr>\n",
       "      <th>4917</th>\n",
       "      <td>0</td>\n",
       "      <td>0</td>\n",
       "    </tr>\n",
       "    <tr>\n",
       "      <th>4918</th>\n",
       "      <td>0</td>\n",
       "      <td>0</td>\n",
       "    </tr>\n",
       "    <tr>\n",
       "      <th>4919</th>\n",
       "      <td>0</td>\n",
       "      <td>0</td>\n",
       "    </tr>\n",
       "    <tr>\n",
       "      <th>4920</th>\n",
       "      <td>0</td>\n",
       "      <td>0</td>\n",
       "    </tr>\n",
       "    <tr>\n",
       "      <th>4921</th>\n",
       "      <td>0</td>\n",
       "      <td>0</td>\n",
       "    </tr>\n",
       "  </tbody>\n",
       "</table>\n",
       "<p>4922 rows × 2 columns</p>\n",
       "</div>"
      ],
      "text/plain": [
       "      0  1\n",
       "0     0  0\n",
       "1     0  0\n",
       "2     1  1\n",
       "3     1  1\n",
       "4     1  1\n",
       "...  .. ..\n",
       "4917  0  0\n",
       "4918  0  0\n",
       "4919  0  0\n",
       "4920  0  0\n",
       "4921  0  0\n",
       "\n",
       "[4922 rows x 2 columns]"
      ]
     },
     "execution_count": 92,
     "metadata": {},
     "output_type": "execute_result"
    }
   ],
   "source": [
    "pd.DataFrame(zip(y_train_pred_final.Churn, y_train_pred_final.predicted))"
   ]
  },
  {
   "cell_type": "code",
   "execution_count": 93,
   "metadata": {
    "_uuid": "72319de2bb6ef72acee16c26e369c426b2239d14"
   },
   "outputs": [],
   "source": [
    "p, r, thresholds = precision_recall_curve(y_train_pred_final.Churn, y_train_pred_final.Churn_Prob)"
   ]
  },
  {
   "cell_type": "code",
   "execution_count": 94,
   "metadata": {},
   "outputs": [
    {
     "data": {
      "text/html": [
       "<div>\n",
       "<style scoped>\n",
       "    .dataframe tbody tr th:only-of-type {\n",
       "        vertical-align: middle;\n",
       "    }\n",
       "\n",
       "    .dataframe tbody tr th {\n",
       "        vertical-align: top;\n",
       "    }\n",
       "\n",
       "    .dataframe thead th {\n",
       "        text-align: right;\n",
       "    }\n",
       "</style>\n",
       "<table border=\"1\" class=\"dataframe\">\n",
       "  <thead>\n",
       "    <tr style=\"text-align: right;\">\n",
       "      <th></th>\n",
       "      <th>Precision</th>\n",
       "      <th>Recall</th>\n",
       "      <th>thesholds</th>\n",
       "    </tr>\n",
       "  </thead>\n",
       "  <tbody>\n",
       "    <tr>\n",
       "      <th>0</th>\n",
       "      <td>0.267012</td>\n",
       "      <td>1.000000</td>\n",
       "      <td>0.006686</td>\n",
       "    </tr>\n",
       "    <tr>\n",
       "      <th>1</th>\n",
       "      <td>0.266860</td>\n",
       "      <td>0.999223</td>\n",
       "      <td>0.006699</td>\n",
       "    </tr>\n",
       "    <tr>\n",
       "      <th>2</th>\n",
       "      <td>0.266916</td>\n",
       "      <td>0.999223</td>\n",
       "      <td>0.006707</td>\n",
       "    </tr>\n",
       "    <tr>\n",
       "      <th>3</th>\n",
       "      <td>0.266971</td>\n",
       "      <td>0.999223</td>\n",
       "      <td>0.006738</td>\n",
       "    </tr>\n",
       "    <tr>\n",
       "      <th>4</th>\n",
       "      <td>0.267027</td>\n",
       "      <td>0.999223</td>\n",
       "      <td>0.006746</td>\n",
       "    </tr>\n",
       "    <tr>\n",
       "      <th>5</th>\n",
       "      <td>0.267082</td>\n",
       "      <td>0.999223</td>\n",
       "      <td>0.006762</td>\n",
       "    </tr>\n",
       "    <tr>\n",
       "      <th>6</th>\n",
       "      <td>0.267138</td>\n",
       "      <td>0.999223</td>\n",
       "      <td>0.006766</td>\n",
       "    </tr>\n",
       "    <tr>\n",
       "      <th>7</th>\n",
       "      <td>0.267249</td>\n",
       "      <td>0.999223</td>\n",
       "      <td>0.006782</td>\n",
       "    </tr>\n",
       "    <tr>\n",
       "      <th>8</th>\n",
       "      <td>0.267304</td>\n",
       "      <td>0.999223</td>\n",
       "      <td>0.006796</td>\n",
       "    </tr>\n",
       "    <tr>\n",
       "      <th>9</th>\n",
       "      <td>0.267360</td>\n",
       "      <td>0.999223</td>\n",
       "      <td>0.006815</td>\n",
       "    </tr>\n",
       "  </tbody>\n",
       "</table>\n",
       "</div>"
      ],
      "text/plain": [
       "   Precision    Recall  thesholds\n",
       "0   0.267012  1.000000   0.006686\n",
       "1   0.266860  0.999223   0.006699\n",
       "2   0.266916  0.999223   0.006707\n",
       "3   0.266971  0.999223   0.006738\n",
       "4   0.267027  0.999223   0.006746\n",
       "5   0.267082  0.999223   0.006762\n",
       "6   0.267138  0.999223   0.006766\n",
       "7   0.267249  0.999223   0.006782\n",
       "8   0.267304  0.999223   0.006796\n",
       "9   0.267360  0.999223   0.006815"
      ]
     },
     "execution_count": 94,
     "metadata": {},
     "output_type": "execute_result"
    }
   ],
   "source": [
    "pd.DataFrame(zip(p, r, thresholds), columns=('Precision', 'Recall', 'thesholds')).head(10)"
   ]
  },
  {
   "cell_type": "markdown",
   "metadata": {},
   "source": [
    "### Plotting the Precision-Recall Curve\n",
    "- `Precision` is a ratio of the number of true positives divided by the sum of the true positives and false positives. It describes how good a model is at predicting the positive class. Precision is referred to as the positive predictive value.\n",
    "- `Recall` is calculated as the ratio of the number of true positives divided by the sum of the true positives and the false negatives. Recall is the same as sensitivity."
   ]
  },
  {
   "cell_type": "code",
   "execution_count": 95,
   "metadata": {
    "_uuid": "bb8989d7d692162b3abb234c9143e86bf454ca90",
    "scrolled": true
   },
   "outputs": [
    {
     "data": {
      "image/png": "[encoded data removed]",
      "text/plain": [
       "<Figure size 432x288 with 1 Axes>"
      ]
     },
     "metadata": {
      "needs_background": "light"
     },
     "output_type": "display_data"
    }
   ],
   "source": [
    "plt.plot(r[:-1], p[:-1], \"g-\")\n",
    "plt.xlabel('Recall')\n",
    "plt.ylabel('Precision')\n",
    "plt.show()"
   ]
  },
  {
   "cell_type": "markdown",
   "metadata": {},
   "source": [
    "### Plotting Precision and Recall against Thresholds"
   ]
  },
  {
   "cell_type": "code",
   "execution_count": 96,
   "metadata": {},
   "outputs": [
    {
     "data": {
      "image/png": "[encoded data removed]",
      "text/plain": [
       "<Figure size 432x288 with 1 Axes>"
      ]
     },
     "metadata": {
      "needs_background": "light"
     },
     "output_type": "display_data"
    }
   ],
   "source": [
    "plt.plot(thresholds, p[:-1], \"g-\")\n",
    "plt.plot(thresholds, r[:-1], \"r-\")\n",
    "plt.xlabel('Thresholds')\n",
    "plt.ylabel('Precision (Green) / Recall (Red)')\n",
    "plt.show()"
   ]
  },
  {
   "cell_type": "markdown",
   "metadata": {},
   "source": [
    "### When to use ROC vs Precision-Recall Curve\n",
    "\n",
    "- `ROC curves` should be used when there are roughly equal numbers of observations for each class.\n",
    "- `Precision-Recall` curves should be used when there is a moderate to large class imbalance.\n"
   ]
  },
  {
   "cell_type": "markdown",
   "metadata": {},
   "source": [
    "### >>> At this point, update our Threshold and recalculate"
   ]
  },
  {
   "cell_type": "markdown",
   "metadata": {
    "_uuid": "7cedce01a9c68228e25fa65a8bc36b5e601c2660"
   },
   "source": [
    "## Making predictions on the Test Data"
   ]
  },
  {
   "cell_type": "code",
   "execution_count": 97,
   "metadata": {},
   "outputs": [
    {
     "data": {
      "text/html": [
       "<div>\n",
       "<style scoped>\n",
       "    .dataframe tbody tr th:only-of-type {\n",
       "        vertical-align: middle;\n",
       "    }\n",
       "\n",
       "    .dataframe tbody tr th {\n",
       "        vertical-align: top;\n",
       "    }\n",
       "\n",
       "    .dataframe thead th {\n",
       "        text-align: right;\n",
       "    }\n",
       "</style>\n",
       "<table border=\"1\" class=\"dataframe\">\n",
       "  <thead>\n",
       "    <tr style=\"text-align: right;\">\n",
       "      <th></th>\n",
       "      <th>tenure</th>\n",
       "      <th>PaperlessBilling</th>\n",
       "      <th>MonthlyCharges</th>\n",
       "      <th>SeniorCitizen</th>\n",
       "      <th>Contract_One year</th>\n",
       "      <th>Contract_Two year</th>\n",
       "      <th>PaymentMethod_Credit card (automatic)</th>\n",
       "      <th>OnlineSecurity_Yes</th>\n",
       "      <th>OnlineBackup_Yes</th>\n",
       "      <th>TechSupport_Yes</th>\n",
       "      <th>StreamingMovies_Yes</th>\n",
       "    </tr>\n",
       "  </thead>\n",
       "  <tbody>\n",
       "    <tr>\n",
       "      <th>942</th>\n",
       "      <td>24</td>\n",
       "      <td>1</td>\n",
       "      <td>79.85</td>\n",
       "      <td>0</td>\n",
       "      <td>0</td>\n",
       "      <td>0</td>\n",
       "      <td>1</td>\n",
       "      <td>0</td>\n",
       "      <td>0</td>\n",
       "      <td>0</td>\n",
       "      <td>1</td>\n",
       "    </tr>\n",
       "    <tr>\n",
       "      <th>3730</th>\n",
       "      <td>57</td>\n",
       "      <td>1</td>\n",
       "      <td>104.50</td>\n",
       "      <td>0</td>\n",
       "      <td>0</td>\n",
       "      <td>0</td>\n",
       "      <td>1</td>\n",
       "      <td>0</td>\n",
       "      <td>1</td>\n",
       "      <td>0</td>\n",
       "      <td>1</td>\n",
       "    </tr>\n",
       "    <tr>\n",
       "      <th>1761</th>\n",
       "      <td>58</td>\n",
       "      <td>1</td>\n",
       "      <td>24.45</td>\n",
       "      <td>0</td>\n",
       "      <td>0</td>\n",
       "      <td>1</td>\n",
       "      <td>1</td>\n",
       "      <td>0</td>\n",
       "      <td>0</td>\n",
       "      <td>0</td>\n",
       "      <td>0</td>\n",
       "    </tr>\n",
       "    <tr>\n",
       "      <th>2283</th>\n",
       "      <td>1</td>\n",
       "      <td>1</td>\n",
       "      <td>71.55</td>\n",
       "      <td>0</td>\n",
       "      <td>0</td>\n",
       "      <td>0</td>\n",
       "      <td>0</td>\n",
       "      <td>0</td>\n",
       "      <td>0</td>\n",
       "      <td>0</td>\n",
       "      <td>0</td>\n",
       "    </tr>\n",
       "    <tr>\n",
       "      <th>1872</th>\n",
       "      <td>41</td>\n",
       "      <td>0</td>\n",
       "      <td>19.70</td>\n",
       "      <td>0</td>\n",
       "      <td>0</td>\n",
       "      <td>1</td>\n",
       "      <td>0</td>\n",
       "      <td>0</td>\n",
       "      <td>0</td>\n",
       "      <td>0</td>\n",
       "      <td>0</td>\n",
       "    </tr>\n",
       "    <tr>\n",
       "      <th>...</th>\n",
       "      <td>...</td>\n",
       "      <td>...</td>\n",
       "      <td>...</td>\n",
       "      <td>...</td>\n",
       "      <td>...</td>\n",
       "      <td>...</td>\n",
       "      <td>...</td>\n",
       "      <td>...</td>\n",
       "      <td>...</td>\n",
       "      <td>...</td>\n",
       "      <td>...</td>\n",
       "    </tr>\n",
       "    <tr>\n",
       "      <th>1289</th>\n",
       "      <td>63</td>\n",
       "      <td>0</td>\n",
       "      <td>68.80</td>\n",
       "      <td>0</td>\n",
       "      <td>1</td>\n",
       "      <td>0</td>\n",
       "      <td>0</td>\n",
       "      <td>1</td>\n",
       "      <td>1</td>\n",
       "      <td>1</td>\n",
       "      <td>0</td>\n",
       "    </tr>\n",
       "    <tr>\n",
       "      <th>3508</th>\n",
       "      <td>70</td>\n",
       "      <td>1</td>\n",
       "      <td>113.65</td>\n",
       "      <td>0</td>\n",
       "      <td>0</td>\n",
       "      <td>1</td>\n",
       "      <td>0</td>\n",
       "      <td>1</td>\n",
       "      <td>1</td>\n",
       "      <td>1</td>\n",
       "      <td>1</td>\n",
       "    </tr>\n",
       "    <tr>\n",
       "      <th>6765</th>\n",
       "      <td>69</td>\n",
       "      <td>1</td>\n",
       "      <td>25.60</td>\n",
       "      <td>0</td>\n",
       "      <td>0</td>\n",
       "      <td>1</td>\n",
       "      <td>0</td>\n",
       "      <td>0</td>\n",
       "      <td>0</td>\n",
       "      <td>0</td>\n",
       "      <td>0</td>\n",
       "    </tr>\n",
       "    <tr>\n",
       "      <th>3598</th>\n",
       "      <td>1</td>\n",
       "      <td>0</td>\n",
       "      <td>46.30</td>\n",
       "      <td>1</td>\n",
       "      <td>0</td>\n",
       "      <td>0</td>\n",
       "      <td>0</td>\n",
       "      <td>0</td>\n",
       "      <td>0</td>\n",
       "      <td>0</td>\n",
       "      <td>0</td>\n",
       "    </tr>\n",
       "    <tr>\n",
       "      <th>4987</th>\n",
       "      <td>71</td>\n",
       "      <td>0</td>\n",
       "      <td>24.45</td>\n",
       "      <td>0</td>\n",
       "      <td>0</td>\n",
       "      <td>1</td>\n",
       "      <td>0</td>\n",
       "      <td>0</td>\n",
       "      <td>0</td>\n",
       "      <td>0</td>\n",
       "      <td>0</td>\n",
       "    </tr>\n",
       "  </tbody>\n",
       "</table>\n",
       "<p>2110 rows × 11 columns</p>\n",
       "</div>"
      ],
      "text/plain": [
       "      tenure  PaperlessBilling  MonthlyCharges  SeniorCitizen  \\\n",
       "942       24                 1           79.85              0   \n",
       "3730      57                 1          104.50              0   \n",
       "1761      58                 1           24.45              0   \n",
       "2283       1                 1           71.55              0   \n",
       "1872      41                 0           19.70              0   \n",
       "...      ...               ...             ...            ...   \n",
       "1289      63                 0           68.80              0   \n",
       "3508      70                 1          113.65              0   \n",
       "6765      69                 1           25.60              0   \n",
       "3598       1                 0           46.30              1   \n",
       "4987      71                 0           24.45              0   \n",
       "\n",
       "      Contract_One year  Contract_Two year  \\\n",
       "942                   0                  0   \n",
       "3730                  0                  0   \n",
       "1761                  0                  1   \n",
       "2283                  0                  0   \n",
       "1872                  0                  1   \n",
       "...                 ...                ...   \n",
       "1289                  1                  0   \n",
       "3508                  0                  1   \n",
       "6765                  0                  1   \n",
       "3598                  0                  0   \n",
       "4987                  0                  1   \n",
       "\n",
       "      PaymentMethod_Credit card (automatic)  OnlineSecurity_Yes  \\\n",
       "942                                       1                   0   \n",
       "3730                                      1                   0   \n",
       "1761                                      1                   0   \n",
       "2283                                      0                   0   \n",
       "1872                                      0                   0   \n",
       "...                                     ...                 ...   \n",
       "1289                                      0                   1   \n",
       "3508                                      0                   1   \n",
       "6765                                      0                   0   \n",
       "3598                                      0                   0   \n",
       "4987                                      0                   0   \n",
       "\n",
       "      OnlineBackup_Yes  TechSupport_Yes  StreamingMovies_Yes  \n",
       "942                  0                0                    1  \n",
       "3730                 1                0                    1  \n",
       "1761                 0                0                    0  \n",
       "2283                 0                0                    0  \n",
       "1872                 0                0                    0  \n",
       "...                ...              ...                  ...  \n",
       "1289                 1                1                    0  \n",
       "3508                 1                1                    1  \n",
       "6765                 0                0                    0  \n",
       "3598                 0                0                    0  \n",
       "4987                 0                0                    0  \n",
       "\n",
       "[2110 rows x 11 columns]"
      ]
     },
     "execution_count": 97,
     "metadata": {},
     "output_type": "execute_result"
    }
   ],
   "source": [
    "X_test = X_test[cols_model]\n",
    "X_test"
   ]
  },
  {
   "cell_type": "code",
   "execution_count": 98,
   "metadata": {
    "_uuid": "0d93a82e132acb8a85f62ef16a7dd5c2d12cd8d6"
   },
   "outputs": [
    {
     "data": {
      "text/html": [
       "<div>\n",
       "<style scoped>\n",
       "    .dataframe tbody tr th:only-of-type {\n",
       "        vertical-align: middle;\n",
       "    }\n",
       "\n",
       "    .dataframe tbody tr th {\n",
       "        vertical-align: top;\n",
       "    }\n",
       "\n",
       "    .dataframe thead th {\n",
       "        text-align: right;\n",
       "    }\n",
       "</style>\n",
       "<table border=\"1\" class=\"dataframe\">\n",
       "  <thead>\n",
       "    <tr style=\"text-align: right;\">\n",
       "      <th></th>\n",
       "      <th>tenure</th>\n",
       "      <th>PaperlessBilling</th>\n",
       "      <th>MonthlyCharges</th>\n",
       "      <th>SeniorCitizen</th>\n",
       "      <th>Contract_One year</th>\n",
       "      <th>Contract_Two year</th>\n",
       "      <th>PaymentMethod_Credit card (automatic)</th>\n",
       "      <th>OnlineSecurity_Yes</th>\n",
       "      <th>OnlineBackup_Yes</th>\n",
       "      <th>TechSupport_Yes</th>\n",
       "      <th>StreamingMovies_Yes</th>\n",
       "    </tr>\n",
       "  </thead>\n",
       "  <tbody>\n",
       "    <tr>\n",
       "      <th>942</th>\n",
       "      <td>-0.332755</td>\n",
       "      <td>1</td>\n",
       "      <td>0.501209</td>\n",
       "      <td>0</td>\n",
       "      <td>0</td>\n",
       "      <td>0</td>\n",
       "      <td>1</td>\n",
       "      <td>0</td>\n",
       "      <td>0</td>\n",
       "      <td>0</td>\n",
       "      <td>1</td>\n",
       "    </tr>\n",
       "    <tr>\n",
       "      <th>3730</th>\n",
       "      <td>1.006613</td>\n",
       "      <td>1</td>\n",
       "      <td>1.319754</td>\n",
       "      <td>0</td>\n",
       "      <td>0</td>\n",
       "      <td>0</td>\n",
       "      <td>1</td>\n",
       "      <td>0</td>\n",
       "      <td>1</td>\n",
       "      <td>0</td>\n",
       "      <td>1</td>\n",
       "    </tr>\n",
       "    <tr>\n",
       "      <th>1761</th>\n",
       "      <td>1.047200</td>\n",
       "      <td>1</td>\n",
       "      <td>-1.338442</td>\n",
       "      <td>0</td>\n",
       "      <td>0</td>\n",
       "      <td>1</td>\n",
       "      <td>1</td>\n",
       "      <td>0</td>\n",
       "      <td>0</td>\n",
       "      <td>0</td>\n",
       "      <td>0</td>\n",
       "    </tr>\n",
       "    <tr>\n",
       "      <th>2283</th>\n",
       "      <td>-1.266254</td>\n",
       "      <td>1</td>\n",
       "      <td>0.225593</td>\n",
       "      <td>0</td>\n",
       "      <td>0</td>\n",
       "      <td>0</td>\n",
       "      <td>0</td>\n",
       "      <td>0</td>\n",
       "      <td>0</td>\n",
       "      <td>0</td>\n",
       "      <td>0</td>\n",
       "    </tr>\n",
       "    <tr>\n",
       "      <th>1872</th>\n",
       "      <td>0.357223</td>\n",
       "      <td>0</td>\n",
       "      <td>-1.496174</td>\n",
       "      <td>0</td>\n",
       "      <td>0</td>\n",
       "      <td>1</td>\n",
       "      <td>0</td>\n",
       "      <td>0</td>\n",
       "      <td>0</td>\n",
       "      <td>0</td>\n",
       "      <td>0</td>\n",
       "    </tr>\n",
       "    <tr>\n",
       "      <th>...</th>\n",
       "      <td>...</td>\n",
       "      <td>...</td>\n",
       "      <td>...</td>\n",
       "      <td>...</td>\n",
       "      <td>...</td>\n",
       "      <td>...</td>\n",
       "      <td>...</td>\n",
       "      <td>...</td>\n",
       "      <td>...</td>\n",
       "      <td>...</td>\n",
       "      <td>...</td>\n",
       "    </tr>\n",
       "    <tr>\n",
       "      <th>1289</th>\n",
       "      <td>1.250135</td>\n",
       "      <td>0</td>\n",
       "      <td>0.134275</td>\n",
       "      <td>0</td>\n",
       "      <td>1</td>\n",
       "      <td>0</td>\n",
       "      <td>0</td>\n",
       "      <td>1</td>\n",
       "      <td>1</td>\n",
       "      <td>1</td>\n",
       "      <td>0</td>\n",
       "    </tr>\n",
       "    <tr>\n",
       "      <th>3508</th>\n",
       "      <td>1.534243</td>\n",
       "      <td>1</td>\n",
       "      <td>1.623595</td>\n",
       "      <td>0</td>\n",
       "      <td>0</td>\n",
       "      <td>1</td>\n",
       "      <td>0</td>\n",
       "      <td>1</td>\n",
       "      <td>1</td>\n",
       "      <td>1</td>\n",
       "      <td>1</td>\n",
       "    </tr>\n",
       "    <tr>\n",
       "      <th>6765</th>\n",
       "      <td>1.493656</td>\n",
       "      <td>1</td>\n",
       "      <td>-1.300255</td>\n",
       "      <td>0</td>\n",
       "      <td>0</td>\n",
       "      <td>1</td>\n",
       "      <td>0</td>\n",
       "      <td>0</td>\n",
       "      <td>0</td>\n",
       "      <td>0</td>\n",
       "      <td>0</td>\n",
       "    </tr>\n",
       "    <tr>\n",
       "      <th>3598</th>\n",
       "      <td>-1.266254</td>\n",
       "      <td>0</td>\n",
       "      <td>-0.612876</td>\n",
       "      <td>1</td>\n",
       "      <td>0</td>\n",
       "      <td>0</td>\n",
       "      <td>0</td>\n",
       "      <td>0</td>\n",
       "      <td>0</td>\n",
       "      <td>0</td>\n",
       "      <td>0</td>\n",
       "    </tr>\n",
       "    <tr>\n",
       "      <th>4987</th>\n",
       "      <td>1.574830</td>\n",
       "      <td>0</td>\n",
       "      <td>-1.338442</td>\n",
       "      <td>0</td>\n",
       "      <td>0</td>\n",
       "      <td>1</td>\n",
       "      <td>0</td>\n",
       "      <td>0</td>\n",
       "      <td>0</td>\n",
       "      <td>0</td>\n",
       "      <td>0</td>\n",
       "    </tr>\n",
       "  </tbody>\n",
       "</table>\n",
       "<p>2110 rows × 11 columns</p>\n",
       "</div>"
      ],
      "text/plain": [
       "        tenure  PaperlessBilling  MonthlyCharges  SeniorCitizen  \\\n",
       "942  -0.332755                 1        0.501209              0   \n",
       "3730  1.006613                 1        1.319754              0   \n",
       "1761  1.047200                 1       -1.338442              0   \n",
       "2283 -1.266254                 1        0.225593              0   \n",
       "1872  0.357223                 0       -1.496174              0   \n",
       "...        ...               ...             ...            ...   \n",
       "1289  1.250135                 0        0.134275              0   \n",
       "3508  1.534243                 1        1.623595              0   \n",
       "6765  1.493656                 1       -1.300255              0   \n",
       "3598 -1.266254                 0       -0.612876              1   \n",
       "4987  1.574830                 0       -1.338442              0   \n",
       "\n",
       "      Contract_One year  Contract_Two year  \\\n",
       "942                   0                  0   \n",
       "3730                  0                  0   \n",
       "1761                  0                  1   \n",
       "2283                  0                  0   \n",
       "1872                  0                  1   \n",
       "...                 ...                ...   \n",
       "1289                  1                  0   \n",
       "3508                  0                  1   \n",
       "6765                  0                  1   \n",
       "3598                  0                  0   \n",
       "4987                  0                  1   \n",
       "\n",
       "      PaymentMethod_Credit card (automatic)  OnlineSecurity_Yes  \\\n",
       "942                                       1                   0   \n",
       "3730                                      1                   0   \n",
       "1761                                      1                   0   \n",
       "2283                                      0                   0   \n",
       "1872                                      0                   0   \n",
       "...                                     ...                 ...   \n",
       "1289                                      0                   1   \n",
       "3508                                      0                   1   \n",
       "6765                                      0                   0   \n",
       "3598                                      0                   0   \n",
       "4987                                      0                   0   \n",
       "\n",
       "      OnlineBackup_Yes  TechSupport_Yes  StreamingMovies_Yes  \n",
       "942                  0                0                    1  \n",
       "3730                 1                0                    1  \n",
       "1761                 0                0                    0  \n",
       "2283                 0                0                    0  \n",
       "1872                 0                0                    0  \n",
       "...                ...              ...                  ...  \n",
       "1289                 1                1                    0  \n",
       "3508                 1                1                    1  \n",
       "6765                 0                0                    0  \n",
       "3598                 0                0                    0  \n",
       "4987                 0                0                    0  \n",
       "\n",
       "[2110 rows x 11 columns]"
      ]
     },
     "execution_count": 98,
     "metadata": {},
     "output_type": "execute_result"
    }
   ],
   "source": [
    "scaler = StandardScaler()\n",
    "\n",
    "X_test[['tenure','MonthlyCharges']] = scaler.fit_transform(X_test[['tenure','MonthlyCharges']])\n",
    "\n",
    "X_test"
   ]
  },
  {
   "cell_type": "code",
   "execution_count": 99,
   "metadata": {},
   "outputs": [
    {
     "data": {
      "text/plain": [
       "[('tenure', 'tenure'),\n",
       " ('PaperlessBilling', 'PaperlessBilling'),\n",
       " ('MonthlyCharges', 'MonthlyCharges'),\n",
       " ('SeniorCitizen', 'SeniorCitizen'),\n",
       " ('Contract_One year', 'Contract_One year'),\n",
       " ('Contract_Two year', 'Contract_Two year'),\n",
       " ('PaymentMethod_Credit card (automatic)',\n",
       "  'PaymentMethod_Credit card (automatic)'),\n",
       " ('OnlineSecurity_Yes', 'OnlineSecurity_Yes'),\n",
       " ('OnlineBackup_Yes', 'OnlineBackup_Yes'),\n",
       " ('TechSupport_Yes', 'TechSupport_Yes'),\n",
       " ('StreamingMovies_Yes', 'StreamingMovies_Yes')]"
      ]
     },
     "execution_count": 99,
     "metadata": {},
     "output_type": "execute_result"
    }
   ],
   "source": [
    "list(zip(X_train1.columns, X_test.columns))"
   ]
  },
  {
   "cell_type": "markdown",
   "metadata": {
    "_uuid": "8aac6a21364faeaaeb9e4b1d01ce179d7112ba0b"
   },
   "source": [
    "### Predict"
   ]
  },
  {
   "cell_type": "code",
   "execution_count": 100,
   "metadata": {
    "_uuid": "4da01082af62f158a5a207f0c05a90f522740947"
   },
   "outputs": [],
   "source": [
    "y_test_pred = logreg.predict(X_test)"
   ]
  },
  {
   "cell_type": "code",
   "execution_count": 101,
   "metadata": {
    "_uuid": "e0309c774ad02f75af455810068803ed000d2552"
   },
   "outputs": [
    {
     "data": {
      "text/plain": [
       "[(0, 0),\n",
       " (0, 1),\n",
       " (0, 0),\n",
       " (1, 1),\n",
       " (0, 0),\n",
       " (1, 1),\n",
       " (0, 0),\n",
       " (0, 0),\n",
       " (1, 1),\n",
       " (0, 0)]"
      ]
     },
     "execution_count": 101,
     "metadata": {},
     "output_type": "execute_result"
    }
   ],
   "source": [
    "list(zip(y_test_pred[:10], y_test[:10]))"
   ]
  },
  {
   "cell_type": "code",
   "execution_count": 102,
   "metadata": {
    "_uuid": "a859c1f5071eac6ad361ec5cc694da21c5f9cacf"
   },
   "outputs": [],
   "source": [
    "# Converting y_pred to a dataframe which is an array\n",
    "y_pred_1 = pd.DataFrame(y_test_pred)"
   ]
  },
  {
   "cell_type": "code",
   "execution_count": 103,
   "metadata": {
    "_uuid": "77dcaca1a3bbcb24a5876c4c442e9cef1a86deae"
   },
   "outputs": [
    {
     "data": {
      "text/html": [
       "<div>\n",
       "<style scoped>\n",
       "    .dataframe tbody tr th:only-of-type {\n",
       "        vertical-align: middle;\n",
       "    }\n",
       "\n",
       "    .dataframe tbody tr th {\n",
       "        vertical-align: top;\n",
       "    }\n",
       "\n",
       "    .dataframe thead th {\n",
       "        text-align: right;\n",
       "    }\n",
       "</style>\n",
       "<table border=\"1\" class=\"dataframe\">\n",
       "  <thead>\n",
       "    <tr style=\"text-align: right;\">\n",
       "      <th></th>\n",
       "      <th>0</th>\n",
       "    </tr>\n",
       "  </thead>\n",
       "  <tbody>\n",
       "    <tr>\n",
       "      <th>0</th>\n",
       "      <td>0</td>\n",
       "    </tr>\n",
       "    <tr>\n",
       "      <th>1</th>\n",
       "      <td>0</td>\n",
       "    </tr>\n",
       "    <tr>\n",
       "      <th>2</th>\n",
       "      <td>0</td>\n",
       "    </tr>\n",
       "    <tr>\n",
       "      <th>3</th>\n",
       "      <td>1</td>\n",
       "    </tr>\n",
       "    <tr>\n",
       "      <th>4</th>\n",
       "      <td>0</td>\n",
       "    </tr>\n",
       "  </tbody>\n",
       "</table>\n",
       "</div>"
      ],
      "text/plain": [
       "   0\n",
       "0  0\n",
       "1  0\n",
       "2  0\n",
       "3  1\n",
       "4  0"
      ]
     },
     "execution_count": 103,
     "metadata": {},
     "output_type": "execute_result"
    }
   ],
   "source": [
    "# Let's see the head\n",
    "y_pred_1.head()"
   ]
  },
  {
   "cell_type": "code",
   "execution_count": 104,
   "metadata": {
    "_uuid": "6b2c062e71978d219de9b1c5360156daa77ec3db"
   },
   "outputs": [],
   "source": [
    "# Converting y_test to dataframe\n",
    "y_test_df = pd.DataFrame(y_test)"
   ]
  },
  {
   "cell_type": "code",
   "execution_count": 105,
   "metadata": {
    "_uuid": "de6911d7be0f90d681fd657413edef58b56d70d5"
   },
   "outputs": [],
   "source": [
    "# Putting CustID to index\n",
    "y_test_df['CustID'] = y_test_df.index"
   ]
  },
  {
   "cell_type": "code",
   "execution_count": 106,
   "metadata": {
    "_uuid": "87ae92fb2fa2b3952fe11751584beda7220b8727"
   },
   "outputs": [],
   "source": [
    "# Removing index for both dataframes to append them side by side \n",
    "y_pred_1.reset_index(drop=True, inplace=True)\n",
    "y_test_df.reset_index(drop=True, inplace=True)"
   ]
  },
  {
   "cell_type": "code",
   "execution_count": 107,
   "metadata": {
    "_uuid": "9c301a2ea3c0af6b22545d0b414587426038d1a5"
   },
   "outputs": [],
   "source": [
    "# Appending y_test_df and y_pred_1\n",
    "y_pred_final = pd.concat([y_test_df, y_pred_1],axis=1)"
   ]
  },
  {
   "cell_type": "code",
   "execution_count": 108,
   "metadata": {
    "_uuid": "8049953c8896640393fd2075b8db75d76a612326"
   },
   "outputs": [],
   "source": [
    "# Renaming the column \n",
    "lr_probs_test = logreg.predict_proba(X_test)\n",
    "lr_probs_test = lr_probs_test[:, 1]\n",
    "y_pred_final['Churn_Prob'] = lr_probs_test\n",
    "# y_pred_final.rename(columns={ 0 : 'Churn_Prob'})"
   ]
  },
  {
   "cell_type": "code",
   "execution_count": 109,
   "metadata": {},
   "outputs": [
    {
     "data": {
      "text/plain": [
       "array([0.45305907, 0.30434225, 0.01203912, ..., 0.01153043, 0.49917365,\n",
       "       0.00694314])"
      ]
     },
     "execution_count": 109,
     "metadata": {},
     "output_type": "execute_result"
    }
   ],
   "source": [
    "lr_probs_test"
   ]
  },
  {
   "cell_type": "code",
   "execution_count": 110,
   "metadata": {
    "_uuid": "966b02e39b81c41380bf1fba465a82fa817c5c2e"
   },
   "outputs": [
    {
     "data": {
      "text/html": [
       "<div>\n",
       "<style scoped>\n",
       "    .dataframe tbody tr th:only-of-type {\n",
       "        vertical-align: middle;\n",
       "    }\n",
       "\n",
       "    .dataframe tbody tr th {\n",
       "        vertical-align: top;\n",
       "    }\n",
       "\n",
       "    .dataframe thead th {\n",
       "        text-align: right;\n",
       "    }\n",
       "</style>\n",
       "<table border=\"1\" class=\"dataframe\">\n",
       "  <thead>\n",
       "    <tr style=\"text-align: right;\">\n",
       "      <th></th>\n",
       "      <th>Churn</th>\n",
       "      <th>CustID</th>\n",
       "      <th>0</th>\n",
       "      <th>Churn_Prob</th>\n",
       "    </tr>\n",
       "  </thead>\n",
       "  <tbody>\n",
       "    <tr>\n",
       "      <th>0</th>\n",
       "      <td>0</td>\n",
       "      <td>942</td>\n",
       "      <td>0</td>\n",
       "      <td>0.453059</td>\n",
       "    </tr>\n",
       "    <tr>\n",
       "      <th>1</th>\n",
       "      <td>1</td>\n",
       "      <td>3730</td>\n",
       "      <td>0</td>\n",
       "      <td>0.304342</td>\n",
       "    </tr>\n",
       "    <tr>\n",
       "      <th>2</th>\n",
       "      <td>0</td>\n",
       "      <td>1761</td>\n",
       "      <td>0</td>\n",
       "      <td>0.012039</td>\n",
       "    </tr>\n",
       "    <tr>\n",
       "      <th>3</th>\n",
       "      <td>1</td>\n",
       "      <td>2283</td>\n",
       "      <td>1</td>\n",
       "      <td>0.652705</td>\n",
       "    </tr>\n",
       "    <tr>\n",
       "      <th>4</th>\n",
       "      <td>0</td>\n",
       "      <td>1872</td>\n",
       "      <td>0</td>\n",
       "      <td>0.016971</td>\n",
       "    </tr>\n",
       "    <tr>\n",
       "      <th>...</th>\n",
       "      <td>...</td>\n",
       "      <td>...</td>\n",
       "      <td>...</td>\n",
       "      <td>...</td>\n",
       "    </tr>\n",
       "    <tr>\n",
       "      <th>2105</th>\n",
       "      <td>0</td>\n",
       "      <td>1289</td>\n",
       "      <td>0</td>\n",
       "      <td>0.018505</td>\n",
       "    </tr>\n",
       "    <tr>\n",
       "      <th>2106</th>\n",
       "      <td>0</td>\n",
       "      <td>3508</td>\n",
       "      <td>0</td>\n",
       "      <td>0.045375</td>\n",
       "    </tr>\n",
       "    <tr>\n",
       "      <th>2107</th>\n",
       "      <td>0</td>\n",
       "      <td>6765</td>\n",
       "      <td>0</td>\n",
       "      <td>0.011530</td>\n",
       "    </tr>\n",
       "    <tr>\n",
       "      <th>2108</th>\n",
       "      <td>0</td>\n",
       "      <td>3598</td>\n",
       "      <td>0</td>\n",
       "      <td>0.499174</td>\n",
       "    </tr>\n",
       "    <tr>\n",
       "      <th>2109</th>\n",
       "      <td>0</td>\n",
       "      <td>4987</td>\n",
       "      <td>0</td>\n",
       "      <td>0.006943</td>\n",
       "    </tr>\n",
       "  </tbody>\n",
       "</table>\n",
       "<p>2110 rows × 4 columns</p>\n",
       "</div>"
      ],
      "text/plain": [
       "      Churn  CustID  0  Churn_Prob\n",
       "0         0     942  0    0.453059\n",
       "1         1    3730  0    0.304342\n",
       "2         0    1761  0    0.012039\n",
       "3         1    2283  1    0.652705\n",
       "4         0    1872  0    0.016971\n",
       "...     ...     ... ..         ...\n",
       "2105      0    1289  0    0.018505\n",
       "2106      0    3508  0    0.045375\n",
       "2107      0    6765  0    0.011530\n",
       "2108      0    3598  0    0.499174\n",
       "2109      0    4987  0    0.006943\n",
       "\n",
       "[2110 rows x 4 columns]"
      ]
     },
     "execution_count": 110,
     "metadata": {},
     "output_type": "execute_result"
    }
   ],
   "source": [
    "# Let's see the head of y_pred_final\n",
    "y_pred_final"
   ]
  },
  {
   "cell_type": "code",
   "execution_count": 111,
   "metadata": {
    "_uuid": "bd68e2844e85384ccdb495381269336cb07575b0"
   },
   "outputs": [],
   "source": [
    "y_pred_final['final_predicted'] = y_pred_final.Churn_Prob.map(lambda x: 1 if x > 0.42 else 0)"
   ]
  },
  {
   "cell_type": "code",
   "execution_count": 112,
   "metadata": {
    "_uuid": "bf010bf223c34fc298bb973e80d1321fe0c4aef7"
   },
   "outputs": [
    {
     "data": {
      "text/html": [
       "<div>\n",
       "<style scoped>\n",
       "    .dataframe tbody tr th:only-of-type {\n",
       "        vertical-align: middle;\n",
       "    }\n",
       "\n",
       "    .dataframe tbody tr th {\n",
       "        vertical-align: top;\n",
       "    }\n",
       "\n",
       "    .dataframe thead th {\n",
       "        text-align: right;\n",
       "    }\n",
       "</style>\n",
       "<table border=\"1\" class=\"dataframe\">\n",
       "  <thead>\n",
       "    <tr style=\"text-align: right;\">\n",
       "      <th></th>\n",
       "      <th>Churn</th>\n",
       "      <th>CustID</th>\n",
       "      <th>0</th>\n",
       "      <th>Churn_Prob</th>\n",
       "      <th>final_predicted</th>\n",
       "    </tr>\n",
       "  </thead>\n",
       "  <tbody>\n",
       "    <tr>\n",
       "      <th>0</th>\n",
       "      <td>0</td>\n",
       "      <td>942</td>\n",
       "      <td>0</td>\n",
       "      <td>0.453059</td>\n",
       "      <td>1</td>\n",
       "    </tr>\n",
       "    <tr>\n",
       "      <th>1</th>\n",
       "      <td>1</td>\n",
       "      <td>3730</td>\n",
       "      <td>0</td>\n",
       "      <td>0.304342</td>\n",
       "      <td>0</td>\n",
       "    </tr>\n",
       "    <tr>\n",
       "      <th>2</th>\n",
       "      <td>0</td>\n",
       "      <td>1761</td>\n",
       "      <td>0</td>\n",
       "      <td>0.012039</td>\n",
       "      <td>0</td>\n",
       "    </tr>\n",
       "    <tr>\n",
       "      <th>3</th>\n",
       "      <td>1</td>\n",
       "      <td>2283</td>\n",
       "      <td>1</td>\n",
       "      <td>0.652705</td>\n",
       "      <td>1</td>\n",
       "    </tr>\n",
       "    <tr>\n",
       "      <th>4</th>\n",
       "      <td>0</td>\n",
       "      <td>1872</td>\n",
       "      <td>0</td>\n",
       "      <td>0.016971</td>\n",
       "      <td>0</td>\n",
       "    </tr>\n",
       "  </tbody>\n",
       "</table>\n",
       "</div>"
      ],
      "text/plain": [
       "   Churn  CustID  0  Churn_Prob  final_predicted\n",
       "0      0     942  0    0.453059                1\n",
       "1      1    3730  0    0.304342                0\n",
       "2      0    1761  0    0.012039                0\n",
       "3      1    2283  1    0.652705                1\n",
       "4      0    1872  0    0.016971                0"
      ]
     },
     "execution_count": 112,
     "metadata": {},
     "output_type": "execute_result"
    }
   ],
   "source": [
    "y_pred_final.head()"
   ]
  },
  {
   "cell_type": "code",
   "execution_count": 113,
   "metadata": {
    "_uuid": "2257635f18d447104d50f148927b44914b92ee44",
    "scrolled": true
   },
   "outputs": [
    {
     "data": {
      "text/plain": [
       "0.7796208530805687"
      ]
     },
     "execution_count": 113,
     "metadata": {},
     "output_type": "execute_result"
    }
   ],
   "source": [
    "# Let's check the overall accuracy.\n",
    "metrics.accuracy_score(y_pred_final.Churn, y_pred_final.final_predicted)"
   ]
  },
  {
   "cell_type": "code",
   "execution_count": 114,
   "metadata": {
    "_uuid": "0cdb384811913f392b9d0b0798daadc70ca9dcef",
    "scrolled": true
   },
   "outputs": [
    {
     "data": {
      "text/plain": [
       "array([[1302,  226],\n",
       "       [ 239,  343]])"
      ]
     },
     "execution_count": 114,
     "metadata": {},
     "output_type": "execute_result"
    }
   ],
   "source": [
    "confusion2 = metrics.confusion_matrix(y_pred_final.Churn, y_pred_final.final_predicted )\n",
    "confusion2"
   ]
  },
  {
   "cell_type": "code",
   "execution_count": 115,
   "metadata": {
    "_uuid": "b8a36f361e2929723e6acae890e9eaf093401706"
   },
   "outputs": [],
   "source": [
    "TP = confusion2[1,1] # true positive \n",
    "TN = confusion2[0,0] # true negatives\n",
    "FP = confusion2[0,1] # false positives\n",
    "FN = confusion2[1,0] # false negatives"
   ]
  },
  {
   "cell_type": "code",
   "execution_count": 116,
   "metadata": {
    "_uuid": "fa6fa1d9fa0913389ae03fa0b71c787b8304975f"
   },
   "outputs": [
    {
     "data": {
      "text/plain": [
       "0.5893470790378007"
      ]
     },
     "execution_count": 116,
     "metadata": {},
     "output_type": "execute_result"
    }
   ],
   "source": [
    "# Let's see the sensitivity of our logistic regression model\n",
    "TP / float(TP+FN)"
   ]
  },
  {
   "cell_type": "code",
   "execution_count": 117,
   "metadata": {
    "_uuid": "b62cddb18e469f679f0f4d2652d1f6899e539af0"
   },
   "outputs": [
    {
     "data": {
      "text/plain": [
       "0.8520942408376964"
      ]
     },
     "execution_count": 117,
     "metadata": {},
     "output_type": "execute_result"
    }
   ],
   "source": [
    "# Let us calculate specificity\n",
    "TN / float(TN+FP)"
   ]
  },
  {
   "cell_type": "code",
   "execution_count": null,
   "metadata": {},
   "outputs": [],
   "source": []
  },
  {
   "cell_type": "code",
   "execution_count": null,
   "metadata": {},
   "outputs": [],
   "source": []
  }
 ],
 "metadata": {
  "kernelspec": {
   "display_name": "Python 3",
   "language": "python",
   "name": "python3"
  },
  "language_info": {
   "codemirror_mode": {
    "name": "ipython",
    "version": 3
   },
   "file_extension": ".py",
   "mimetype": "text/x-python",
   "name": "python",
   "nbconvert_exporter": "python",
   "pygments_lexer": "ipython3",
   "version": "3.8.5"
  }
 },
 "nbformat": 4,
 "nbformat_minor": 1
}
