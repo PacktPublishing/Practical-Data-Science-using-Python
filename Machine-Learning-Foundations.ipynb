{
 "cells": [
  {
   "cell_type": "markdown",
   "metadata": {},
   "source": [
    "## This notebook is to learn Gradient Descent, Regression techniques, Regularization and Logistic Regression\n",
    "#### Manas Dasgupta, 12th July, 2021"
   ]
  },
  {
   "cell_type": "code",
   "execution_count": 1,
   "metadata": {},
   "outputs": [],
   "source": [
    "## import all libraries\n",
    "\n",
    "import numpy as np\n",
    "import pandas as pd\n",
    "import matplotlib.pyplot as plt \n",
    "import seaborn as sns"
   ]
  },
  {
   "cell_type": "code",
   "execution_count": 2,
   "metadata": {},
   "outputs": [],
   "source": [
    "import warnings\n",
    "warnings.filterwarnings(\"ignore\")"
   ]
  },
  {
   "cell_type": "markdown",
   "metadata": {},
   "source": [
    "#### Generate a Linear looking dataset to test the Closed-form Normal Equation"
   ]
  },
  {
   "cell_type": "code",
   "execution_count": 3,
   "metadata": {},
   "outputs": [
    {
     "data": {
      "text/plain": [
       "<matplotlib.collections.PathCollection at 0x7fcb95a46ee0>"
      ]
     },
     "execution_count": 3,
     "metadata": {},
     "output_type": "execute_result"
    },
    {
     "data": {
      "image/png": "[encoded data removed]",
      "text/plain": [
       "<Figure size 432x288 with 1 Axes>"
      ]
     },
     "metadata": {
      "needs_background": "light"
     },
     "output_type": "display_data"
    }
   ],
   "source": [
    "X = 2 * np.random.rand(100, 1)\n",
    "y = 4 + 3 * X + np.random.randn(100, 1)\n",
    "plt.scatter(X, y)"
   ]
  },
  {
   "cell_type": "code",
   "execution_count": 4,
   "metadata": {},
   "outputs": [
    {
     "data": {
      "text/plain": [
       "array([[4.12426174],\n",
       "       [2.83864649]])"
      ]
     },
     "execution_count": 4,
     "metadata": {},
     "output_type": "execute_result"
    }
   ],
   "source": [
    "# We apply the closed form Normal Equation \n",
    "\n",
    "X_b = np.c_[np.ones((100,1)), X] # add x0 = 1 to eah instance\n",
    "theta_best = np.linalg.inv(X_b.T.dot(X_b)).dot(X_b.T).dot(y)\n",
    "theta_best\n",
    "\n",
    "# The actual function that we used to generate the data is y = 4 + 3x1 + Gaussian noise."
   ]
  },
  {
   "cell_type": "code",
   "execution_count": 5,
   "metadata": {
    "scrolled": true
   },
   "outputs": [
    {
     "data": {
      "text/plain": [
       "array([[4.12426174],\n",
       "       [9.80155473]])"
      ]
     },
     "execution_count": 5,
     "metadata": {},
     "output_type": "execute_result"
    }
   ],
   "source": [
    "# Making Predictions using the equation using derived θ values\n",
    "\n",
    "X_new = np.array([[0], [2]])\n",
    "X_new_b = np.c_[np.ones((2, 1)), X_new] # add x0 = 1 to each instance\n",
    "y_predict = X_new_b.dot(theta_best)\n",
    "y_predict   # y_predict is predicted values of 'y' using derived 0. "
   ]
  },
  {
   "cell_type": "code",
   "execution_count": 6,
   "metadata": {},
   "outputs": [
    {
     "data": {
      "image/png": "[encoded data removed]",
      "text/plain": [
       "<Figure size 432x288 with 1 Axes>"
      ]
     },
     "metadata": {
      "needs_background": "light"
     },
     "output_type": "display_data"
    }
   ],
   "source": [
    "# Compare the distribution of the original X/y values vis-a-vis the predicted values (line)\n",
    "\n",
    "plt.plot(X_new, y_predict, \"r--\") \n",
    "plt.plot(X, y, \"b.\")\n",
    "plt.show()"
   ]
  },
  {
   "cell_type": "markdown",
   "metadata": {},
   "source": [
    "### Linear Regression using scikit-learn "
   ]
  },
  {
   "cell_type": "code",
   "execution_count": 7,
   "metadata": {},
   "outputs": [
    {
     "data": {
      "text/plain": [
       "(array([4.12426174]), array([[2.83864649]]))"
      ]
     },
     "execution_count": 7,
     "metadata": {},
     "output_type": "execute_result"
    }
   ],
   "source": [
    "from sklearn.linear_model import LinearRegression \n",
    "\n",
    "# Create an object of LinearRegression and fit with X, y values from above\n",
    "\n",
    "lin_reg = LinearRegression()\n",
    "lin_reg.fit(X, y)\n",
    "\n",
    "# Display the obtained intercept and coefficient values \n",
    "\n",
    "lin_reg.intercept_, lin_reg.coef_   "
   ]
  },
  {
   "cell_type": "code",
   "execution_count": 8,
   "metadata": {},
   "outputs": [
    {
     "data": {
      "text/plain": [
       "array([[4.12426174],\n",
       "       [9.80155473]])"
      ]
     },
     "execution_count": 8,
     "metadata": {},
     "output_type": "execute_result"
    }
   ],
   "source": [
    "# Predict using the obtained intercept and coefficients\n",
    "\n",
    "y_predict_lr = lin_reg.predict(X_new)\n",
    "y_predict_lr"
   ]
  },
  {
   "cell_type": "code",
   "execution_count": 9,
   "metadata": {},
   "outputs": [
    {
     "data": {
      "image/png": "[encoded data removed]",
      "text/plain": [
       "<Figure size 432x288 with 1 Axes>"
      ]
     },
     "metadata": {
      "needs_background": "light"
     },
     "output_type": "display_data"
    }
   ],
   "source": [
    "# Compare the distribution of the original X/y values vis-a-vis the predicted values (line)\n",
    "\n",
    "plt.plot(X_new, y_predict_lr, \"r--\") \n",
    "plt.plot(X, y, \"b.\")\n",
    "plt.show()"
   ]
  },
  {
   "cell_type": "markdown",
   "metadata": {},
   "source": [
    "## Learning Gradient Descent"
   ]
  },
  {
   "cell_type": "markdown",
   "metadata": {},
   "source": [
    "### Batch Gradient Descent\n",
    "Batch Gradient Descent uses the whole batch of training data at every step. As a result it is terribly slow on very large training sets (but we will see much faster Gradient Descent algorithms shortly). Batch Gradient Descent scales well with the increase in number of features; training a Linear Regression model when there are hundreds of thousands of features is much faster using Gradient Descent than using the Normal Equation or SVD decomposition."
   ]
  },
  {
   "cell_type": "code",
   "execution_count": 10,
   "metadata": {},
   "outputs": [],
   "source": [
    "eta = 0.1    # learning rate \n",
    "\n",
    "n_iterations = 1000 \n",
    "m = 100"
   ]
  },
  {
   "cell_type": "code",
   "execution_count": 11,
   "metadata": {
    "scrolled": true
   },
   "outputs": [
    {
     "name": "stdout",
     "output_type": "stream",
     "text": [
      "[[0.28255645]\n",
      " [2.66893762]]\n"
     ]
    },
    {
     "data": {
      "text/plain": [
       "[<matplotlib.lines.Line2D at 0x7fcb9726deb0>]"
      ]
     },
     "execution_count": 11,
     "metadata": {},
     "output_type": "execute_result"
    },
    {
     "data": {
      "image/png": "[encoded data removed]",
      "text/plain": [
       "<Figure size 432x288 with 1 Axes>"
      ]
     },
     "metadata": {
      "needs_background": "light"
     },
     "output_type": "display_data"
    }
   ],
   "source": [
    "# Observe Gradient Descent process visually plotting \n",
    "\n",
    "theta = np.random.randn(2,1)  # random initialization\n",
    "print(theta)\n",
    "plt.scatter(X, y)\n",
    "\n",
    "for iteration in range(n_iterations):\n",
    "    gradients = 2/m * X_b.T.dot(X_b.dot(theta) - y) \n",
    "    theta = theta - eta * gradients\n",
    "    # Plot Gradient line for x and y using each value of theta and observe how it changes from\n",
    "    # a randomly initialised value to the optimised value. \n",
    "    plt.plot(X_new, X_new_b.dot(theta), \"r--\")\n",
    "\n",
    "# Distictinctly show the final best fit line    \n",
    "plt.plot(X_new, X_new_b.dot(theta), \"g--\")\n"
   ]
  },
  {
   "cell_type": "code",
   "execution_count": 12,
   "metadata": {},
   "outputs": [
    {
     "name": "stdout",
     "output_type": "stream",
     "text": [
      "[[-0.45451024]\n",
      " [-0.34374816]]\n"
     ]
    },
    {
     "data": {
      "text/plain": [
       "[<matplotlib.lines.Line2D at 0x7fcb97fcca30>]"
      ]
     },
     "execution_count": 12,
     "metadata": {},
     "output_type": "execute_result"
    },
    {
     "data": {
      "image/png": "[encoded data removed]",
      "text/plain": [
       "<Figure size 432x288 with 1 Axes>"
      ]
     },
     "metadata": {
      "needs_background": "light"
     },
     "output_type": "display_data"
    }
   ],
   "source": [
    "theta = np.random.randn(2,1)  # random initialization\n",
    "print(theta)\n",
    "eta = 0.01\n",
    "plt.scatter(X, y)\n",
    "\n",
    "for iteration in range(n_iterations):\n",
    "    gradients = 2/m * X_b.T.dot(X_b.dot(theta) - y) \n",
    "    theta = theta - eta * gradients\n",
    "    # Plot Gradient line for x and y using each value of theta and observe how it changes from\n",
    "    # a randomly initialised value to the optimised value. \n",
    "    plt.plot(X_new, X_new_b.dot(theta), \"r--\")\n",
    "\n",
    "# Distictinctly show the final best fit line     \n",
    "plt.plot(X_new, X_new_b.dot(theta), \"g--\")\n"
   ]
  },
  {
   "cell_type": "code",
   "execution_count": 13,
   "metadata": {},
   "outputs": [
    {
     "name": "stdout",
     "output_type": "stream",
     "text": [
      "[[0.47051053]\n",
      " [1.21994993]]\n"
     ]
    },
    {
     "data": {
      "text/plain": [
       "[<matplotlib.lines.Line2D at 0x7fcb99d75760>]"
      ]
     },
     "execution_count": 13,
     "metadata": {},
     "output_type": "execute_result"
    },
    {
     "data": {
      "image/png": "[encoded data removed]",
      "text/plain": [
       "<Figure size 432x288 with 1 Axes>"
      ]
     },
     "metadata": {
      "needs_background": "light"
     },
     "output_type": "display_data"
    }
   ],
   "source": [
    "theta = np.random.randn(2,1)  # random initialization\n",
    "print(theta)\n",
    "eta = 0.5\n",
    "plt.scatter(X, y)\n",
    "\n",
    "for iteration in range(n_iterations):\n",
    "    gradients = 2/m * X_b.T.dot(X_b.dot(theta) - y) \n",
    "    theta = theta - eta * gradients\n",
    "    # Plot Gradient line for x and y using each value of theta and observe how it changes from\n",
    "    # a randomly initialised value to the optimised value. \n",
    "    plt.plot(X_new, X_new_b.dot(theta), \"r--\")\n",
    "\n",
    "# Distictinctly show the final best fit line     \n",
    "plt.plot(X_new, X_new_b.dot(theta), \"g--\")\n"
   ]
  },
  {
   "cell_type": "markdown",
   "metadata": {},
   "source": [
    "### Stochastic Gradient Descent"
   ]
  },
  {
   "cell_type": "markdown",
   "metadata": {},
   "source": [
    "Stochastic Gradient Descent picks a random instance in the training set at every step and computes the gradients based only on that single instance. This makes the algorithm much faster since it has very little data to manipulate at every iteration. It also makes it possible to train on huge training sets, since only one instance needs to be in memory at each iteration (SGD can be implemented as an out-of-core algorithm.)"
   ]
  },
  {
   "cell_type": "code",
   "execution_count": 14,
   "metadata": {},
   "outputs": [],
   "source": [
    "n_epochs = 50\n",
    "t0, t1 = 5, 50 # learning schedule hyperparameters"
   ]
  },
  {
   "cell_type": "code",
   "execution_count": 15,
   "metadata": {},
   "outputs": [],
   "source": [
    "def learning_schedule(t): \n",
    "    return t0/(t + t1)"
   ]
  },
  {
   "cell_type": "code",
   "execution_count": 16,
   "metadata": {},
   "outputs": [],
   "source": [
    "theta = np.random.randn(2,1) # random initialization"
   ]
  },
  {
   "cell_type": "code",
   "execution_count": 17,
   "metadata": {},
   "outputs": [],
   "source": [
    "for epoch in range(n_epochs): \n",
    "    for i in range(m):    # For every data instance\n",
    "        random_index = np.random.randint(m)\n",
    "        xi = X_b[random_index:random_index+1]\n",
    "        yi = y[random_index:random_index+1] \n",
    "        gradients = 2 * xi.T.dot(xi.dot(theta) - yi) \n",
    "        eta = learning_schedule(epoch * m + i) \n",
    "        theta = theta - eta * gradients\n",
    "    "
   ]
  },
  {
   "cell_type": "code",
   "execution_count": 18,
   "metadata": {},
   "outputs": [
    {
     "data": {
      "text/plain": [
       "array([[4.12760935],\n",
       "       [2.80364194]])"
      ]
     },
     "execution_count": 18,
     "metadata": {},
     "output_type": "execute_result"
    }
   ],
   "source": [
    "theta"
   ]
  },
  {
   "cell_type": "code",
   "execution_count": 19,
   "metadata": {},
   "outputs": [
    {
     "data": {
      "text/plain": [
       "[<matplotlib.lines.Line2D at 0x7fcb9a2008e0>]"
      ]
     },
     "execution_count": 19,
     "metadata": {},
     "output_type": "execute_result"
    },
    {
     "data": {
      "image/png": "[encoded data removed]",
      "text/plain": [
       "<Figure size 432x288 with 1 Axes>"
      ]
     },
     "metadata": {
      "needs_background": "light"
     },
     "output_type": "display_data"
    }
   ],
   "source": [
    "# Observe Stochastic Gradient Descent Visually\n",
    "\n",
    "plt.scatter(X, y)\n",
    "eta = 0.05\n",
    "\n",
    "for epoch in range(n_epochs): \n",
    "    for i in range(m):    # For every data instance\n",
    "        random_index = np.random.randint(m)\n",
    "        xi = X_b[random_index:random_index+1]\n",
    "        yi = y[random_index:random_index+1] \n",
    "        gradients = 2 * xi.T.dot(xi.dot(theta) - yi) \n",
    "        eta = learning_schedule(epoch * m + i) \n",
    "        theta = theta - eta * gradients\n",
    "    plt.plot(X_new, X_new_b.dot(theta), \"r--\") # Plot after each epoch\n",
    "\n",
    "# Distictinctly show the final best fit line     \n",
    "plt.plot(X_new, X_new_b.dot(theta), \"g--\")"
   ]
  },
  {
   "cell_type": "markdown",
   "metadata": {},
   "source": [
    "### Linear Regression using Stochastic Gradient Descent using scikit-learn library"
   ]
  },
  {
   "cell_type": "code",
   "execution_count": 20,
   "metadata": {},
   "outputs": [
    {
     "data": {
      "text/plain": [
       "SGDRegressor(eta0=0.1, penalty=None)"
      ]
     },
     "execution_count": 20,
     "metadata": {},
     "output_type": "execute_result"
    }
   ],
   "source": [
    "from sklearn.linear_model import SGDRegressor\n",
    "sgd_reg = SGDRegressor(max_iter=1000, tol=1e-3, penalty=None, eta0=0.1) \n",
    "sgd_reg.fit(X, y.ravel())"
   ]
  },
  {
   "cell_type": "code",
   "execution_count": 21,
   "metadata": {},
   "outputs": [
    {
     "data": {
      "text/plain": [
       "(array([4.17366062]), array([2.93263381]))"
      ]
     },
     "execution_count": 21,
     "metadata": {},
     "output_type": "execute_result"
    }
   ],
   "source": [
    "sgd_reg.intercept_, sgd_reg.coef_"
   ]
  },
  {
   "cell_type": "code",
   "execution_count": 22,
   "metadata": {},
   "outputs": [
    {
     "data": {
      "text/plain": [
       "array([[4.12426174],\n",
       "       [9.80155473]])"
      ]
     },
     "execution_count": 22,
     "metadata": {},
     "output_type": "execute_result"
    }
   ],
   "source": [
    "# Predict using the obtained intercept and coefficients\n",
    "\n",
    "y_predict_sgd = lin_reg.predict(X_new)\n",
    "y_predict_sgd\n",
    "\n",
    "# Observation: this is same as what we obtained through LinearRegression() method "
   ]
  },
  {
   "cell_type": "markdown",
   "metadata": {},
   "source": [
    "## Mini-Batch Gradient Descent\n",
    "In a Mini-batch Gradient Descent, at each step, instead of computing the gradients based on the full training set (as in Batch GD) or based on just one instance (as in Stochastic GD), Mini- batch GD computes the gradients on small random sets of instances called mini-batches. The main advantage of Mini-batch GD over Stochastic GD is that you can get a performance boost from hardware optimization of matrix operations, especially when using GPUs."
   ]
  },
  {
   "cell_type": "markdown",
   "metadata": {},
   "source": [
    "### CODE???"
   ]
  },
  {
   "cell_type": "markdown",
   "metadata": {},
   "source": [
    "## Polynomial Regression"
   ]
  },
  {
   "cell_type": "markdown",
   "metadata": {},
   "source": [
    "What if your data is actually more complex than a simple straight line, you can still use a linear model to fit nonlinear data. A simple way to do this is to add powers of each feature as new features, then train a linear model on this extended set of features. This technique is called Polynomial Regression."
   ]
  },
  {
   "cell_type": "code",
   "execution_count": 23,
   "metadata": {},
   "outputs": [],
   "source": [
    "# Example of a Quadratic equation\n",
    "\n",
    "m = 100\n",
    "X = 4 * np.random.rand(m, 1) - 3\n",
    "y = 3 * X**2 + X + 2 + np.random.randn(m, 1)"
   ]
  },
  {
   "cell_type": "code",
   "execution_count": 24,
   "metadata": {},
   "outputs": [
    {
     "data": {
      "text/plain": [
       "<matplotlib.collections.PathCollection at 0x7fcb98ec8a60>"
      ]
     },
     "execution_count": 24,
     "metadata": {},
     "output_type": "execute_result"
    },
    {
     "data": {
      "image/png": "[encoded data removed]",
      "text/plain": [
       "<Figure size 432x288 with 1 Axes>"
      ]
     },
     "metadata": {
      "needs_background": "light"
     },
     "output_type": "display_data"
    }
   ],
   "source": [
    "plt.scatter(X, y)"
   ]
  },
  {
   "cell_type": "code",
   "execution_count": 25,
   "metadata": {},
   "outputs": [],
   "source": [
    "from sklearn.preprocessing import PolynomialFeatures\n",
    "poly_features = PolynomialFeatures(degree=2, include_bias=False)\n",
    "X_poly = poly_features.fit_transform(X)"
   ]
  },
  {
   "cell_type": "code",
   "execution_count": 26,
   "metadata": {},
   "outputs": [
    {
     "name": "stdout",
     "output_type": "stream",
     "text": [
      "[0.00631248]\n",
      "[6.31247903e-03 3.98473915e-05]\n"
     ]
    }
   ],
   "source": [
    "print(X[0])\n",
    "print(X_poly[0])"
   ]
  },
  {
   "cell_type": "code",
   "execution_count": 27,
   "metadata": {},
   "outputs": [
    {
     "data": {
      "text/plain": [
       "(array([2.05526418]), array([[1.11845053, 3.03004708]]))"
      ]
     },
     "execution_count": 27,
     "metadata": {},
     "output_type": "execute_result"
    }
   ],
   "source": [
    "pol_reg = LinearRegression()\n",
    "pol_reg.fit(X_poly, y)\n",
    "pol_reg.intercept_, pol_reg.coef_"
   ]
  },
  {
   "cell_type": "code",
   "execution_count": 28,
   "metadata": {},
   "outputs": [],
   "source": [
    "# Predict using the obtained intercept and coefficients\n",
    "\n",
    "y_predict_pol = pol_reg.predict(X_poly)\n",
    "df = pd.DataFrame(list(zip(y_predict_pol, X)))"
   ]
  },
  {
   "cell_type": "code",
   "execution_count": 29,
   "metadata": {},
   "outputs": [],
   "source": [
    "df = df.sort_values(by=1) "
   ]
  },
  {
   "cell_type": "code",
   "execution_count": 30,
   "metadata": {},
   "outputs": [
    {
     "data": {
      "text/html": [
       "<div>\n",
       "<style scoped>\n",
       "    .dataframe tbody tr th:only-of-type {\n",
       "        vertical-align: middle;\n",
       "    }\n",
       "\n",
       "    .dataframe tbody tr th {\n",
       "        vertical-align: top;\n",
       "    }\n",
       "\n",
       "    .dataframe thead th {\n",
       "        text-align: right;\n",
       "    }\n",
       "</style>\n",
       "<table border=\"1\" class=\"dataframe\">\n",
       "  <thead>\n",
       "    <tr style=\"text-align: right;\">\n",
       "      <th></th>\n",
       "      <th>0</th>\n",
       "      <th>1</th>\n",
       "    </tr>\n",
       "  </thead>\n",
       "  <tbody>\n",
       "    <tr>\n",
       "      <th>94</th>\n",
       "      <td>[25.504415909397984]</td>\n",
       "      <td>[-2.972558508572029]</td>\n",
       "    </tr>\n",
       "    <tr>\n",
       "      <th>72</th>\n",
       "      <td>[24.976571246104456]</td>\n",
       "      <td>[-2.9411398075853024]</td>\n",
       "    </tr>\n",
       "    <tr>\n",
       "      <th>95</th>\n",
       "      <td>[24.922229519627123]</td>\n",
       "      <td>[-2.93788489029611]</td>\n",
       "    </tr>\n",
       "    <tr>\n",
       "      <th>23</th>\n",
       "      <td>[24.85415905537074]</td>\n",
       "      <td>[-2.9338022231262264]</td>\n",
       "    </tr>\n",
       "    <tr>\n",
       "      <th>66</th>\n",
       "      <td>[24.851397264649066]</td>\n",
       "      <td>[-2.933636451014031]</td>\n",
       "    </tr>\n",
       "    <tr>\n",
       "      <th>...</th>\n",
       "      <td>...</td>\n",
       "      <td>...</td>\n",
       "    </tr>\n",
       "    <tr>\n",
       "      <th>59</th>\n",
       "      <td>[5.559361152877981]</td>\n",
       "      <td>[0.9065459552216231]</td>\n",
       "    </tr>\n",
       "    <tr>\n",
       "      <th>2</th>\n",
       "      <td>[5.567798372430441]</td>\n",
       "      <td>[0.9078212170445328]</td>\n",
       "    </tr>\n",
       "    <tr>\n",
       "      <th>53</th>\n",
       "      <td>[5.6328240606997175]</td>\n",
       "      <td>[0.9176001582993853]</td>\n",
       "    </tr>\n",
       "    <tr>\n",
       "      <th>99</th>\n",
       "      <td>[5.765383035722779]</td>\n",
       "      <td>[0.9372711701594456]</td>\n",
       "    </tr>\n",
       "    <tr>\n",
       "      <th>42</th>\n",
       "      <td>[5.888080661735035]</td>\n",
       "      <td>[0.955176291348478]</td>\n",
       "    </tr>\n",
       "  </tbody>\n",
       "</table>\n",
       "<p>100 rows × 2 columns</p>\n",
       "</div>"
      ],
      "text/plain": [
       "                       0                      1\n",
       "94  [25.504415909397984]   [-2.972558508572029]\n",
       "72  [24.976571246104456]  [-2.9411398075853024]\n",
       "95  [24.922229519627123]    [-2.93788489029611]\n",
       "23   [24.85415905537074]  [-2.9338022231262264]\n",
       "66  [24.851397264649066]   [-2.933636451014031]\n",
       "..                   ...                    ...\n",
       "59   [5.559361152877981]   [0.9065459552216231]\n",
       "2    [5.567798372430441]   [0.9078212170445328]\n",
       "53  [5.6328240606997175]   [0.9176001582993853]\n",
       "99   [5.765383035722779]   [0.9372711701594456]\n",
       "42   [5.888080661735035]    [0.955176291348478]\n",
       "\n",
       "[100 rows x 2 columns]"
      ]
     },
     "execution_count": 30,
     "metadata": {},
     "output_type": "execute_result"
    }
   ],
   "source": [
    "df"
   ]
  },
  {
   "cell_type": "code",
   "execution_count": 31,
   "metadata": {},
   "outputs": [
    {
     "data": {
      "text/plain": [
       "[<matplotlib.lines.Line2D at 0x7fcb99e032e0>]"
      ]
     },
     "execution_count": 31,
     "metadata": {},
     "output_type": "execute_result"
    },
    {
     "data": {
      "image/png": "[encoded data removed]",
      "text/plain": [
       "<Figure size 432x288 with 1 Axes>"
      ]
     },
     "metadata": {
      "needs_background": "light"
     },
     "output_type": "display_data"
    }
   ],
   "source": [
    "# Plot Polynomial Regression - original points vs predicted line\n",
    "\n",
    "plt.scatter(X, y)\n",
    "plt.plot(df[1], df[0], c='r')"
   ]
  },
  {
   "cell_type": "markdown",
   "metadata": {},
   "source": [
    "## Learning Curves\n",
    "learning curves are model’s performance on the training set and the validation set as a function of the training set size (or the training iteration). To generate the plots, simply train the model several times on different sized subsets of the training set. The following code defines a function that plots the learning curves of a model given some training data:"
   ]
  },
  {
   "cell_type": "code",
   "execution_count": 32,
   "metadata": {},
   "outputs": [],
   "source": [
    "from sklearn.metrics import mean_squared_error\n",
    "from sklearn.model_selection import train_test_split"
   ]
  },
  {
   "cell_type": "code",
   "execution_count": 33,
   "metadata": {},
   "outputs": [],
   "source": [
    "def plot_learning_curves(model, X, y):\n",
    "    X_train, X_val, y_train, y_val = train_test_split(X, y, test_size=0.2) \n",
    "    train_errors, val_errors = [], []\n",
    "    for m in range(1, len(X_train)):\n",
    "        model.fit(X_train[:m], y_train[:m]) \n",
    "        y_train_predict = model.predict(X_train[:m])\n",
    "        y_val_predict = model.predict(X_val) \n",
    "        train_errors.append(mean_squared_error(y_train[:m], y_train_predict)) \n",
    "        val_errors.append(mean_squared_error(y_val, y_val_predict))\n",
    "        \n",
    "    plt.plot(np.sqrt(train_errors), \"r-+\", linewidth=2, label=\"train\") \n",
    "    plt.plot(np.sqrt(val_errors), \"b-\", linewidth=3, label=\"val\")\n",
    "    plt.legend()"
   ]
  },
  {
   "cell_type": "code",
   "execution_count": 34,
   "metadata": {},
   "outputs": [
    {
     "data": {
      "image/png": "[encoded data removed]",
      "text/plain": [
       "<Figure size 432x288 with 1 Axes>"
      ]
     },
     "metadata": {
      "needs_background": "light"
     },
     "output_type": "display_data"
    }
   ],
   "source": [
    "lin_reg = LinearRegression() \n",
    "plot_learning_curves(lin_reg, X, y)"
   ]
  },
  {
   "cell_type": "markdown",
   "metadata": {},
   "source": [
    "#### Now let’s look at the learning curves of a 10th-degree polynomial model on the same data"
   ]
  },
  {
   "cell_type": "code",
   "execution_count": 35,
   "metadata": {},
   "outputs": [
    {
     "data": {
      "text/plain": [
       "<matplotlib.legend.Legend at 0x7fcb7a592f10>"
      ]
     },
     "execution_count": 35,
     "metadata": {},
     "output_type": "execute_result"
    },
    {
     "data": {
      "image/png": "[encoded data removed]",
      "text/plain": [
       "<Figure size 432x288 with 1 Axes>"
      ]
     },
     "metadata": {
      "needs_background": "light"
     },
     "output_type": "display_data"
    }
   ],
   "source": [
    "from sklearn.pipeline import Pipeline\n",
    "\n",
    "polynomial_regression = Pipeline([\n",
    "        (\"poly_features\", PolynomialFeatures(degree=10, include_bias=False)), \n",
    "        (\"lin_reg\", LinearRegression()),]) \n",
    "\n",
    "plot_learning_curves(polynomial_regression, X, y)\n",
    "plt.legend()"
   ]
  },
  {
   "cell_type": "markdown",
   "metadata": {},
   "source": [
    "## Ridge Regression\n",
    "Ridge Regression (also called Tikhonov regularization) is a regularized version of Linear Regression: a regularization term equal to α∑n θ 2 is added to the cost function."
   ]
  },
  {
   "cell_type": "code",
   "execution_count": 36,
   "metadata": {},
   "outputs": [
    {
     "data": {
      "text/plain": [
       "array([[ 0.00631248],\n",
       "       [-2.74333837],\n",
       "       [ 0.90782122],\n",
       "       [ 0.06773682],\n",
       "       [-0.51775615],\n",
       "       [-0.44285249],\n",
       "       [-0.26931173],\n",
       "       [-2.80115368],\n",
       "       [-0.75050676],\n",
       "       [-2.88098495],\n",
       "       [ 0.25985878],\n",
       "       [-0.38134939],\n",
       "       [-2.56458109],\n",
       "       [-2.06901712],\n",
       "       [ 0.6179895 ],\n",
       "       [ 0.45916366],\n",
       "       [-1.9848249 ],\n",
       "       [-1.88960324],\n",
       "       [-0.47202373],\n",
       "       [-1.8317762 ],\n",
       "       [ 0.63138385],\n",
       "       [-1.31562798],\n",
       "       [-1.1153901 ],\n",
       "       [-2.93380222],\n",
       "       [ 0.43440476],\n",
       "       [-1.09072986],\n",
       "       [-1.89283863],\n",
       "       [-1.86262938],\n",
       "       [-0.90230086],\n",
       "       [ 0.41725777],\n",
       "       [-1.04857424],\n",
       "       [-0.43726145],\n",
       "       [-2.35697562],\n",
       "       [-2.91671856],\n",
       "       [-0.88964012],\n",
       "       [-0.78134712],\n",
       "       [-0.81191468],\n",
       "       [-2.88994926],\n",
       "       [-2.16623943],\n",
       "       [-0.75421941],\n",
       "       [-1.29641661],\n",
       "       [-1.12584929],\n",
       "       [ 0.95517629],\n",
       "       [ 0.69225817],\n",
       "       [ 0.40115539],\n",
       "       [-2.30739628],\n",
       "       [-0.16995326],\n",
       "       [-1.70618639],\n",
       "       [-2.55878525],\n",
       "       [-2.28526242],\n",
       "       [-0.20710364],\n",
       "       [ 0.68277661],\n",
       "       [-2.80153918],\n",
       "       [ 0.91760016],\n",
       "       [-0.35072585],\n",
       "       [-0.21497714],\n",
       "       [-2.06089109],\n",
       "       [-0.61079622],\n",
       "       [-0.38093367],\n",
       "       [ 0.90654596],\n",
       "       [-0.37473714],\n",
       "       [-0.72028197],\n",
       "       [ 0.22332893],\n",
       "       [-2.35971691],\n",
       "       [-0.96354071],\n",
       "       [-0.23311452],\n",
       "       [-2.93363645],\n",
       "       [-1.88678143],\n",
       "       [-1.54085825],\n",
       "       [-1.64665597],\n",
       "       [ 0.66633097],\n",
       "       [-0.45595513],\n",
       "       [-2.94113981],\n",
       "       [-1.05506464],\n",
       "       [-1.54811547],\n",
       "       [-1.20319667],\n",
       "       [-1.66309621],\n",
       "       [-2.78306544],\n",
       "       [-0.15154983],\n",
       "       [-0.80465847],\n",
       "       [ 0.19312198],\n",
       "       [-2.04760555],\n",
       "       [-1.79109013],\n",
       "       [-1.35013792],\n",
       "       [-0.99563099],\n",
       "       [ 0.44833344],\n",
       "       [ 0.09009147],\n",
       "       [-0.89724068],\n",
       "       [-1.26151089],\n",
       "       [-2.20940804],\n",
       "       [-2.16846185],\n",
       "       [-1.34442282],\n",
       "       [-1.50883459],\n",
       "       [ 0.27682908],\n",
       "       [-2.97255851],\n",
       "       [-2.93788489],\n",
       "       [-2.75481765],\n",
       "       [-1.73636058],\n",
       "       [-2.26826864],\n",
       "       [ 0.93727117]])"
      ]
     },
     "execution_count": 36,
     "metadata": {},
     "output_type": "execute_result"
    }
   ],
   "source": [
    "X"
   ]
  },
  {
   "cell_type": "code",
   "execution_count": 37,
   "metadata": {},
   "outputs": [
    {
     "data": {
      "text/plain": [
       "array([[ 0.38173636],\n",
       "       [20.61148893],\n",
       "       [ 5.9378011 ],\n",
       "       [ 3.76798152],\n",
       "       [ 0.15442645],\n",
       "       [ 3.35053167],\n",
       "       [ 3.32791469],\n",
       "       [24.44128344],\n",
       "       [ 3.22823791],\n",
       "       [23.61909765],\n",
       "       [ 1.49853363],\n",
       "       [ 1.96930567],\n",
       "       [18.27331038],\n",
       "       [14.52501286],\n",
       "       [ 3.33441085],\n",
       "       [ 3.39091917],\n",
       "       [11.84176502],\n",
       "       [11.47978385],\n",
       "       [ 2.83529562],\n",
       "       [ 9.86809748],\n",
       "       [ 5.05661218],\n",
       "       [ 5.97352629],\n",
       "       [ 3.95996693],\n",
       "       [25.2712759 ],\n",
       "       [ 1.76839877],\n",
       "       [ 5.18801642],\n",
       "       [11.57299985],\n",
       "       [ 8.28438128],\n",
       "       [ 4.67132779],\n",
       "       [ 5.04722617],\n",
       "       [ 4.50861517],\n",
       "       [ 3.61604284],\n",
       "       [15.41974172],\n",
       "       [24.01513623],\n",
       "       [ 3.19740091],\n",
       "       [ 3.28393113],\n",
       "       [ 4.18268682],\n",
       "       [25.51762425],\n",
       "       [13.66249101],\n",
       "       [ 2.07555599],\n",
       "       [ 8.11320002],\n",
       "       [ 5.67484872],\n",
       "       [ 4.54730142],\n",
       "       [ 4.29017344],\n",
       "       [ 3.34215117],\n",
       "       [15.5704993 ],\n",
       "       [ 4.18734038],\n",
       "       [ 9.14029458],\n",
       "       [16.91817252],\n",
       "       [14.00687692],\n",
       "       [ 2.12881174],\n",
       "       [ 1.3081124 ],\n",
       "       [24.58394017],\n",
       "       [ 6.31316066],\n",
       "       [ 1.26857801],\n",
       "       [ 2.80042479],\n",
       "       [11.68157026],\n",
       "       [ 3.09362602],\n",
       "       [ 2.06180898],\n",
       "       [ 7.65325365],\n",
       "       [ 1.45144645],\n",
       "       [ 3.10961318],\n",
       "       [ 0.07912402],\n",
       "       [16.16077823],\n",
       "       [ 2.03870961],\n",
       "       [ 1.71467575],\n",
       "       [24.97269567],\n",
       "       [12.25923388],\n",
       "       [ 7.61193289],\n",
       "       [ 7.96583723],\n",
       "       [ 4.35407312],\n",
       "       [ 0.73179554],\n",
       "       [27.00527137],\n",
       "       [ 4.04242147],\n",
       "       [ 6.66927575],\n",
       "       [ 2.96832199],\n",
       "       [ 8.67389145],\n",
       "       [21.88894369],\n",
       "       [ 0.69000136],\n",
       "       [ 3.25282338],\n",
       "       [ 4.09241828],\n",
       "       [13.28237001],\n",
       "       [10.84852359],\n",
       "       [ 5.88221426],\n",
       "       [ 4.46703392],\n",
       "       [ 3.38523501],\n",
       "       [ 2.20747996],\n",
       "       [ 4.43390035],\n",
       "       [ 4.20815851],\n",
       "       [14.93557937],\n",
       "       [14.64255353],\n",
       "       [ 5.88749878],\n",
       "       [ 6.2992317 ],\n",
       "       [ 1.6792561 ],\n",
       "       [25.00760369],\n",
       "       [24.10175129],\n",
       "       [20.96843581],\n",
       "       [ 8.11741366],\n",
       "       [14.64432064],\n",
       "       [ 5.334842  ]])"
      ]
     },
     "execution_count": 37,
     "metadata": {},
     "output_type": "execute_result"
    }
   ],
   "source": [
    "y"
   ]
  },
  {
   "cell_type": "code",
   "execution_count": 38,
   "metadata": {},
   "outputs": [
    {
     "data": {
      "text/plain": [
       "array([[-5.3323148]])"
      ]
     },
     "execution_count": 38,
     "metadata": {},
     "output_type": "execute_result"
    }
   ],
   "source": [
    "from sklearn.linear_model import Ridge\n",
    "ridge_reg = Ridge(alpha=1, solver=\"cholesky\")\n",
    "ridge_reg.fit(X, y)\n",
    "ridge_reg.predict([[1.5]])"
   ]
  },
  {
   "cell_type": "code",
   "execution_count": 39,
   "metadata": {},
   "outputs": [
    {
     "data": {
      "text/plain": [
       "array([-5.38912854])"
      ]
     },
     "execution_count": 39,
     "metadata": {},
     "output_type": "execute_result"
    }
   ],
   "source": [
    "sgd_reg = SGDRegressor(penalty=\"l2\")\n",
    "sgd_reg.fit(X, y.ravel())   # ravel() returns a flattened array\n",
    "sgd_reg.predict([[1.5]])"
   ]
  },
  {
   "cell_type": "code",
   "execution_count": 40,
   "metadata": {},
   "outputs": [
    {
     "data": {
      "image/png": "[encoded data removed]",
      "text/plain": [
       "<Figure size 432x288 with 1 Axes>"
      ]
     },
     "metadata": {
      "needs_background": "light"
     },
     "output_type": "display_data"
    }
   ],
   "source": [
    "# Observe Ridge Regression Visually\n",
    "\n",
    "X = 2 * np.random.rand(100, 1)\n",
    "y = 4 + 3 * X + np.random.randn(100, 1)\n",
    "\n",
    "plt.scatter(X, y)\n",
    "alpha = [0, 10, 100, 0.1, 0.001]\n",
    "color = ['b', 'r', 'g', 'c', 'k']\n",
    "for c, e in enumerate(alpha):\n",
    "    ridge_reg = Ridge(alpha=e, solver=\"cholesky\")\n",
    "    ridge_reg.fit(X, y)\n",
    "    yi = np.array([])\n",
    "    \n",
    "    for i, x in enumerate(X):\n",
    "        yi = np.append(yi, ridge_reg.predict([x]))\n",
    "    \n",
    "    plt.plot(X, yi, c=color[c])"
   ]
  },
  {
   "cell_type": "code",
   "execution_count": 41,
   "metadata": {},
   "outputs": [
    {
     "data": {
      "text/plain": [
       "array([1.14837997])"
      ]
     },
     "execution_count": 41,
     "metadata": {},
     "output_type": "execute_result"
    }
   ],
   "source": [
    "x"
   ]
  },
  {
   "cell_type": "markdown",
   "metadata": {},
   "source": [
    "## Lasso Regression\n",
    "Least Absolute Shrinkage and Selection Operator Regression (simply called Lasso Regression) is another regularized version of Linear Regression: just like Ridge Regression, it adds a regularization term to the cost function, but it uses the l1 norm of the weight vector instead of half the square of the l2 norm.\n",
    "Lasso Regression cost function Jθ =MSEθ +α∑n θ i=1 i"
   ]
  },
  {
   "cell_type": "code",
   "execution_count": 42,
   "metadata": {},
   "outputs": [
    {
     "data": {
      "text/plain": [
       "array([8.61756593])"
      ]
     },
     "execution_count": 42,
     "metadata": {},
     "output_type": "execute_result"
    }
   ],
   "source": [
    "from sklearn.linear_model import Lasso \n",
    "lasso_reg = Lasso(alpha=0.1)\n",
    "lasso_reg.fit(X, y)\n",
    "lasso_reg.predict([[1.5]])"
   ]
  },
  {
   "cell_type": "code",
   "execution_count": 43,
   "metadata": {},
   "outputs": [
    {
     "data": {
      "text/plain": [
       "array([8.85715987])"
      ]
     },
     "execution_count": 43,
     "metadata": {},
     "output_type": "execute_result"
    }
   ],
   "source": [
    "# Using SGDRegressor \n",
    "\n",
    "lasso_sgd = SGDRegressor(penalty=\"l1\")\n",
    "lasso_sgd.fit(X, y.ravel())   # ravel() returns a flattened array\n",
    "lasso_sgd.predict([[1.5]])"
   ]
  },
  {
   "cell_type": "code",
   "execution_count": 44,
   "metadata": {},
   "outputs": [
    {
     "data": {
      "image/png": "[encoded data removed]",
      "text/plain": [
       "<Figure size 432x288 with 1 Axes>"
      ]
     },
     "metadata": {
      "needs_background": "light"
     },
     "output_type": "display_data"
    }
   ],
   "source": [
    "# Observe Lasso Regression Visually\n",
    "\n",
    "X = 2 * np.random.rand(100, 1)\n",
    "y = 4 + 3 * X + np.random.randn(100, 1)\n",
    "\n",
    "plt.scatter(X, y)\n",
    "alpha = [0, 10, 100, 0.1, 0.001]\n",
    "color = ['b', 'r', 'g', 'c', 'k']\n",
    "for c, e in enumerate(alpha):\n",
    "    lasso_reg = Lasso(alpha=e)\n",
    "    lasso_reg.fit(X, y)\n",
    "    yi = np.array([])\n",
    "    \n",
    "    for i, x in enumerate(X):\n",
    "        yi = np.append(yi, lasso_reg.predict([x]))\n",
    "    \n",
    "    plt.plot(X, yi, c=color[c])"
   ]
  },
  {
   "cell_type": "markdown",
   "metadata": {},
   "source": [
    "## Elastic Net"
   ]
  },
  {
   "cell_type": "markdown",
   "metadata": {},
   "source": [
    "#### Elastic Net is a middle ground between Ridge Regression and Lasso Regression. The regularization term is a simple mix of both Ridge and Lasso’s regularization terms, and you can control the mix ratio r. When r = 0, Elastic Net is equivalent to Ridge Regression, and when r = 1, it is equivalent to Lasso Regression"
   ]
  },
  {
   "cell_type": "code",
   "execution_count": 45,
   "metadata": {},
   "outputs": [
    {
     "data": {
      "text/plain": [
       "array([8.22853856])"
      ]
     },
     "execution_count": 45,
     "metadata": {},
     "output_type": "execute_result"
    }
   ],
   "source": [
    "from sklearn.linear_model import ElasticNet\n",
    "elastic_net = ElasticNet(alpha=0.1, l1_ratio=0.5) \n",
    "elastic_net.fit(X, y)\n",
    "elastic_net.predict([[1.5]])"
   ]
  },
  {
   "cell_type": "markdown",
   "metadata": {},
   "source": [
    "## Early Stopping"
   ]
  },
  {
   "cell_type": "markdown",
   "metadata": {},
   "source": [
    "#### A very different way to regularize iterative learning algorithms such as Gradient Descent is to stop training as soon as the validation error reaches a minimum. This is called early stopping. With early stop‐ ping you just stop training as soon as the validation error reaches the minimum."
   ]
  },
  {
   "cell_type": "code",
   "execution_count": 46,
   "metadata": {},
   "outputs": [
    {
     "name": "stdout",
     "output_type": "stream",
     "text": [
      "50.217270588416625\n",
      "68.36570848940916\n",
      "88.84470745463231\n",
      "64.00985733829748\n",
      "64.71826689130555\n",
      "50.6800887580083\n",
      "39.67719875123575\n",
      "35.71642086483207\n",
      "25.793388747937804\n",
      "23.72524245041551\n",
      "21.619838338813018\n",
      "24.05859862877293\n",
      "34.004572083213475\n",
      "44.8128407230041\n",
      "46.1002237261729\n",
      "58.85330050299159\n",
      "81.44727779933292\n",
      "98.84274477543829\n",
      "106.81638281342796\n",
      "110.27240971246897\n",
      "149.72170212812208\n",
      "254.24752754327247\n",
      "327.00198407316987\n",
      "385.62069391428946\n",
      "490.38338301008787\n",
      "535.5334752199416\n",
      "717.8518940956668\n",
      "975.7594344762556\n",
      "1220.9990254244965\n",
      "2881.5859028123477\n",
      "2296.5071550917633\n",
      "2780.194681120888\n",
      "4729.73898363648\n",
      "4822.756784836866\n",
      "5887.158248807682\n",
      "11969.716056356654\n",
      "11371.395502082181\n",
      "13439.775514228677\n",
      "17074.661918572732\n",
      "28871.732530898465\n",
      "32590.24004221689\n",
      "38916.084578278\n",
      "55614.278796653714\n",
      "57637.32889886155\n",
      "75267.76875843335\n",
      "90411.54396164532\n",
      "119414.9190557518\n",
      "148493.74133864793\n",
      "219369.06869638484\n",
      "234695.73208558667\n",
      "313691.71897121577\n",
      "463203.0418270047\n",
      "502471.11926397757\n",
      "833640.8039272747\n",
      "943209.1917581593\n",
      "1229839.0819645482\n",
      "1447025.8882029343\n",
      "1950839.7842799134\n",
      "2149628.487214918\n",
      "2934593.2046748167\n",
      "3235269.1165496395\n",
      "4473940.5419390295\n",
      "5269787.954794096\n",
      "12136211.946158122\n",
      "12722545.134971168\n",
      "32259274.805054564\n",
      "26387809.6787846\n",
      "34508427.770686574\n",
      "41310267.40810262\n",
      "75515083.86963281\n",
      "77774162.86733076\n",
      "204326631.7847886\n",
      "186011654.06632045\n",
      "264704027.5894968\n",
      "363405179.4039714\n",
      "462188763.80960274\n",
      "487934034.0983815\n",
      "714159514.0332117\n",
      "894772527.4636717\n",
      "1010664011.7593149\n",
      "2037480890.633778\n",
      "1906655428.3767657\n",
      "3968650779.5766745\n",
      "3831798974.4878106\n",
      "4500129017.226016\n",
      "6312425945.210198\n",
      "8374252337.654207\n",
      "9887729515.427792\n",
      "12981951691.025139\n",
      "14221595328.481949\n",
      "29386549790.42092\n",
      "27270210854.997765\n",
      "42201832352.01571\n",
      "44601044237.057724\n",
      "57574753777.35162\n",
      "65017650243.03259\n",
      "116864478479.24727\n",
      "119348234621.84555\n",
      "164430661679.96625\n",
      "237434885554.02734\n",
      "270096295129.6686\n",
      "305964421067.577\n",
      "444982021790.6375\n",
      "499966250048.10254\n",
      "729594819203.1301\n",
      "897793127855.0613\n",
      "1375957528086.94\n",
      "1557001508361.283\n",
      "3773069701898.25\n",
      "3883759301663.0312\n",
      "6310970833912.389\n",
      "6639558351252.787\n",
      "12653266778987.031\n",
      "13160584384261.572\n",
      "19975936187812.58\n",
      "21834165643315.227\n",
      "45158747655833.75\n",
      "40599813730260.74\n",
      "49665626818086.984\n",
      "85931743615205.8\n",
      "94049148777691.64\n",
      "107892888588011.66\n",
      "233236271711698.75\n",
      "211449000089009.3\n",
      "286152331208783.25\n",
      "343404157570553.1\n",
      "398576276877589.2\n",
      "819356030544164.5\n",
      "859865116610611.1\n",
      "1995709610871674.5\n",
      "1788510421359683.2\n",
      "2146682625723276.0\n",
      "2829443536364938.5\n",
      "3465847325738473.5\n",
      "4145560567037836.0\n",
      "8719622462401219.0\n",
      "9122307787721588.0\n",
      "1.4819166417794524e+16\n",
      "1.590367963573578e+16\n",
      "3.1356460533582104e+16\n",
      "2.8978367225360344e+16\n",
      "4.158042424020959e+16\n",
      "5.59473857644868e+16\n",
      "6.790647973261211e+16\n",
      "8.669414014582218e+16\n",
      "9.985249658874538e+16\n",
      "1.3665610142268547e+17\n",
      "2.050715067390375e+17\n",
      "2.1583270142495866e+17\n",
      "5.049682392456655e+17\n",
      "5.3702330414590854e+17\n",
      "7.490573526689686e+17\n",
      "1.1997088952044127e+18\n",
      "1.3556855966744468e+18\n",
      "2.0053345776032735e+18\n",
      "2.306516335731435e+18\n",
      "4.951269222809017e+18\n",
      "4.628436958859894e+18\n",
      "5.463681838246851e+18\n",
      "1.0136243555806435e+19\n",
      "1.061158079814581e+19\n",
      "1.4720929348804071e+19\n",
      "2.0359993421353083e+19\n",
      "2.220676185210966e+19\n",
      "3.0019908826974413e+19\n",
      "3.5641200783026225e+19\n",
      "7.8100770110676e+19\n",
      "7.46097984537749e+19\n",
      "1.78469645835788e+20\n",
      "1.5001016762248354e+20\n",
      "3.02682753619769e+20\n",
      "2.8866599595979702e+20\n",
      "4.445152262071366e+20\n",
      "5.91757057970438e+20\n",
      "6.600702972852776e+20\n",
      "1.435832846632325e+21\n",
      "1.3117892712669955e+21\n",
      "1.7250481435335443e+21\n",
      "1.9164113752759001e+21\n",
      "3.420287206528749e+21\n",
      "3.634994743618295e+21\n",
      "4.288229234464594e+21\n",
      "7.908127317385746e+21\n",
      "8.814398536586002e+21\n",
      "2.3516409116717195e+22\n",
      "2.1587686337058177e+22\n",
      "1.8562378515928079e+22\n",
      "2.5573871396159104e+22\n",
      "2.4984081851160275e+22\n",
      "5.0345470095482e+22\n",
      "4.76136365108168e+22\n",
      "5.579062179468572e+22\n",
      "5.2361164372482344e+22\n",
      "1.6531799413776234e+22\n",
      "2.3108330863579344e+22\n",
      "2.4580377309813332e+22\n",
      "4.104883036501414e+22\n",
      "1.8210099388531643e+22\n",
      "2.1764836452673383e+22\n",
      "2.4959968808294093e+22\n",
      "5.0399034579962395e+22\n",
      "4.650450230928306e+22\n",
      "4.525049007392312e+22\n",
      "1.4322164944587282e+22\n",
      "2.9021390777076047e+22\n",
      "2.117230117172886e+22\n",
      "5.28604762302345e+22\n",
      "4.285987069224734e+22\n",
      "6.293154021322692e+22\n",
      "9.950145021835917e+21\n",
      "2.2578229526859493e+22\n",
      "1.7604711423329505e+22\n",
      "2.8699969685176638e+22\n",
      "2.099617857190973e+22\n",
      "2.0626851554129107e+22\n",
      "2.5413455532080157e+22\n",
      "3.1849785055665034e+22\n",
      "3.936468050401203e+22\n",
      "4.859983256077873e+22\n",
      "5.31563876814065e+22\n",
      "5.2898767327953955e+22\n",
      "5.747263819350203e+22\n",
      "1.2394602192127144e+22\n",
      "2.2132731159086056e+22\n",
      "2.222767413707255e+22\n",
      "4.586576759326246e+22\n",
      "2.3761942938751357e+22\n",
      "1.8151953042579101e+22\n",
      "2.1179799802347277e+22\n",
      "3.366180113928185e+22\n",
      "3.987840502645091e+22\n",
      "1.7037618643922005e+22\n",
      "2.338746469053934e+22\n",
      "3.4386549234677714e+22\n",
      "3.7437606688547234e+22\n",
      "5.741537930240094e+22\n",
      "5.0892553286352e+22\n",
      "1.3928428101701428e+22\n",
      "1.857457338617143e+22\n",
      "2.881663044107989e+22\n",
      "2.3520967377779752e+22\n",
      "2.9565544876964506e+22\n",
      "3.1897521550739202e+22\n",
      "4.460285865364985e+22\n",
      "5.199439374310845e+22\n",
      "1.1227618722130724e+22\n",
      "2.6607765010306487e+22\n",
      "2.2927478451228887e+22\n",
      "4.478526483967482e+22\n",
      "2.2945222781896816e+22\n",
      "5.1174995648439896e+22\n",
      "1.8147514117728147e+22\n",
      "2.2285434622378676e+22\n",
      "2.31064640828003e+22\n",
      "5.6881146855495555e+22\n",
      "4.611268357860344e+22\n",
      "1.158199580107663e+22\n",
      "1.2183269558060954e+22\n",
      "2.9830551247090235e+22\n",
      "2.663001889664247e+22\n",
      "6.886072269039708e+22\n",
      "5.48025260171039e+22\n",
      "4.959492997115128e+22\n",
      "4.370933134078892e+22\n",
      "1.3904768387743102e+22\n",
      "1.6961995635293149e+22\n",
      "3.166259066524385e+22\n",
      "2.8046544449541983e+22\n",
      "2.274454178718744e+22\n",
      "2.234338706570459e+22\n",
      "4.403692743724425e+22\n",
      "1.722294326008097e+22\n",
      "2.228824108500517e+22\n",
      "2.5242358596185623e+22\n",
      "2.2775302551950347e+22\n",
      "1.9146185634708692e+22\n",
      "3.663107303824334e+22\n",
      "2.2482881524758657e+22\n",
      "5.995187421176709e+22\n",
      "1.2801719710155308e+22\n",
      "2.475720207427266e+22\n",
      "2.3522782562097153e+22\n",
      "1.899522309891804e+22\n",
      "2.1839835773851763e+22\n",
      "2.460525820340077e+22\n",
      "5.205106628736012e+22\n",
      "1.942593633183791e+22\n",
      "4.785092825588978e+22\n",
      "1.8390718533977034e+22\n",
      "2.2341405793913393e+22\n",
      "2.4388573096042287e+22\n",
      "3.874842460925686e+22\n",
      "3.907406206246401e+22\n",
      "6.6865787479726165e+22\n",
      "1.0415970903486234e+22\n",
      "2.556722820059353e+22\n",
      "2.436606380158603e+22\n",
      "6.4774086435943e+22\n",
      "1.4940942280793031e+22\n",
      "5.091495022938933e+22\n",
      "3.723076649741602e+22\n",
      "4.836387568705674e+22\n",
      "3.9637650700650074e+22\n",
      "1.3053778221986893e+22\n",
      "1.4656331976720553e+22\n",
      "3.3606066453395026e+22\n",
      "2.8210447208755197e+22\n",
      "1.7015950699815215e+22\n",
      "2.1117639741280413e+22\n",
      "3.3944028908121043e+22\n",
      "3.9460782443561986e+22\n",
      "1.7344963384895775e+22\n",
      "2.2184008390203264e+22\n",
      "2.242471948888098e+22\n",
      "2.5260265911631955e+22\n",
      "2.3532454416586285e+22\n",
      "4.237004757013886e+22\n",
      "4.058951389725577e+22\n",
      "1.464145979900958e+22\n",
      "2.3067671954264427e+22\n",
      "2.6456593827809087e+22\n",
      "3.4230356698450293e+22\n",
      "1.9966852771208797e+22\n",
      "4.2779661097787286e+22\n",
      "2.2214730007538253e+22\n",
      "2.2268118174414156e+22\n",
      "2.481505538231959e+22\n",
      "2.4646954865363423e+22\n",
      "2.1885737604137552e+22\n",
      "3.4774991734069193e+22\n",
      "3.757775294158253e+22\n",
      "4.65607307635383e+22\n",
      "4.388654309266041e+22\n",
      "5.7360230167029825e+22\n",
      "5.305928618403432e+22\n",
      "4.689882285298877e+22\n",
      "1.2443741868113009e+22\n",
      "1.8091086069693122e+22\n",
      "2.3258152184271256e+22\n",
      "2.5796591241648763e+22\n",
      "2.074096639529652e+22\n",
      "2.348742419733142e+22\n",
      "2.3034432335597313e+22\n",
      "3.442497847483747e+22\n",
      "1.9008581528261113e+22\n",
      "4.776123156273784e+22\n",
      "3.7593966742894864e+22\n",
      "1.6093150881586342e+22\n",
      "1.909454271223301e+22\n",
      "2.4404320898967933e+22\n",
      "2.0969429436315713e+22\n",
      "2.1934720546389566e+22\n",
      "2.6619843387242058e+22\n",
      "2.7725568994533416e+22\n",
      "3.7544843302286534e+22\n",
      "2.100405950017297e+22\n",
      "4.296963872348448e+22\n",
      "3.808058669834685e+22\n",
      "1.6697823882342253e+22\n",
      "1.999378480919583e+22\n",
      "4.268004631204052e+22\n",
      "2.23344382203206e+22\n",
      "2.1789024034445714e+22\n",
      "2.3475128574988794e+22\n",
      "3.936170047716657e+22\n",
      "1.725761466488072e+22\n",
      "2.3713250662640096e+22\n",
      "3.3002406686087157e+22\n",
      "1.919017309931984e+22\n",
      "2.138560961895539e+22\n",
      "2.560007111452963e+22\n",
      "5.194507616440884e+22\n",
      "1.3766327282130538e+22\n",
      "3.6642493915046884e+22\n",
      "2.8754345091255966e+22\n",
      "1.5308832576144906e+22\n",
      "1.8678454213430697e+22\n",
      "2.21297118410538e+22\n",
      "1.9591233976039285e+22\n",
      "2.415610033899536e+22\n",
      "3.5523532528505227e+22\n",
      "4.274920514701263e+22\n",
      "4.366586351345341e+22\n",
      "6.1193296353332665e+22\n",
      "1.2577688747578222e+22\n",
      "2.627950079113973e+22\n",
      "2.4264248022952042e+22\n",
      "5.3453869475016145e+22\n",
      "4.586114121503505e+22\n",
      "1.1118963151521498e+22\n",
      "1.2440778878970965e+22\n",
      "2.53534057306192e+22\n",
      "2.4470969151962978e+22\n",
      "3.4111360265636995e+22\n",
      "1.818180078396918e+22\n",
      "2.788667027633006e+22\n",
      "2.0179063854531583e+22\n",
      "5.101321822423876e+22\n",
      "4.2213750528997725e+22\n",
      "6.391312371898945e+22\n",
      "9.532831050547063e+21\n",
      "3.6407645450722876e+22\n",
      "2.424155147433761e+22\n",
      "4.991755683692723e+22\n",
      "1.3698936239286053e+22\n",
      "2.2550767544455823e+22\n",
      "2.344820752919446e+22\n",
      "1.8460870323351214e+22\n",
      "1.9671268576944953e+22\n",
      "4.436676333835887e+22\n",
      "3.6262950836943697e+22\n",
      "1.557006176913753e+22\n",
      "1.8895699443036092e+22\n",
      "2.4152694733417155e+22\n",
      "2.6675869299129813e+22\n",
      "3.5077385096089286e+22\n",
      "2.2132258027532886e+22\n",
      "4.654566813045417e+22\n",
      "1.5899650309862392e+22\n",
      "2.4611790946196143e+22\n",
      "2.7539744479364793e+22\n",
      "4.02417991433912e+22\n",
      "4.198034356673179e+22\n",
      "1.5475275510977296e+22\n",
      "3.076103957295648e+22\n",
      "2.5014248027485058e+22\n",
      "6.331231942426312e+22\n",
      "1.2180764554884333e+22\n",
      "2.254275918976481e+22\n",
      "2.22634608620624e+22\n",
      "2.3461529273768956e+22\n",
      "4.828784541250891e+22\n",
      "1.586798299354866e+22\n",
      "2.569276824128179e+22\n",
      "2.6804276118171398e+22\n",
      "4.924616271287961e+22\n",
      "1.5430615600318044e+22\n",
      "4.390860502646794e+22\n",
      "3.4117489236220507e+22\n",
      "1.4068122701307547e+22\n",
      "1.5270084141914404e+22\n",
      "3.675307418811379e+22\n",
      "3.1386437726058513e+22\n",
      "1.9034295684556044e+22\n",
      "2.5347903260199045e+22\n",
      "4.156991326195032e+22\n",
      "1.894134553513444e+22\n",
      "4.2813221991896765e+22\n",
      "3.814735902151129e+22\n",
      "6.477151958226896e+22\n",
      "1.1873478884851481e+22\n",
      "2.0976031613206602e+22\n",
      "2.249946892125427e+22\n",
      "2.5833615831246165e+22\n",
      "4.459118620494925e+22\n",
      "2.0271421558785487e+22\n",
      "4.005412843560158e+22\n",
      "1.9922993523317145e+22\n",
      "2.1228930381099657e+22\n",
      "2.4330619846063416e+22\n",
      "2.4016326576741684e+22\n",
      "3.667838332407051e+22\n",
      "2.3325821386649525e+22\n",
      "2.343419915546217e+22\n",
      "2.5833929967044068e+22\n",
      "5.871642173705122e+22\n",
      "1.2800393204282014e+22\n",
      "4.05125016950869e+22\n",
      "2.998423139371095e+22\n",
      "5.5736340262357414e+22\n",
      "1.3610069340467065e+22\n",
      "3.236967434608491e+22\n",
      "2.17024460786821e+22\n",
      "6.6230124931767985e+22\n",
      "4.904022367434815e+22\n",
      "4.1537512379114475e+22\n",
      "1.909373475525482e+22\n",
      "2.87687263069578e+22\n",
      "3.3170822702581334e+22\n",
      "4.565543907566745e+22\n",
      "1.3515994987955097e+22\n",
      "2.543554656837352e+22\n",
      "2.4853480475214205e+22\n",
      "3.80262658409117e+22\n",
      "2.2281891913708157e+22\n",
      "4.868609193278416e+22\n",
      "2.3225586262561314e+22\n",
      "2.0705174110891797e+22\n",
      "2.225691024901786e+22\n",
      "2.1511689809145566e+22\n",
      "2.3523376883852227e+22\n",
      "4.686377134579643e+22\n",
      "1.8290453419769274e+22\n",
      "5.338721942492501e+22\n",
      "3.855175888922318e+22\n",
      "6.733704974532842e+22\n",
      "1.2562508657345295e+22\n",
      "5.064607794791509e+22\n",
      "3.123181352763434e+22\n",
      "1.598072089992352e+22\n",
      "1.9903351939488285e+22\n",
      "2.2570591815382426e+22\n",
      "3.6146165938332486e+22\n",
      "1.95673612325508e+22\n",
      "2.254975809394293e+22\n",
      "3.5257355957015316e+22\n",
      "3.4934352118131414e+22\n",
      "5.14694981276668e+22\n",
      "6.199123255293959e+22\n",
      "9.864559653070391e+21\n",
      "1.8671861374068118e+22\n",
      "2.080251778620318e+22\n",
      "4.155166100574718e+22\n",
      "2.044533178671118e+22\n",
      "2.1104205045248865e+22\n",
      "2.721926907692861e+22\n",
      "2.287871967375971e+22\n",
      "4.838732271900969e+22\n",
      "1.85492388040694e+22\n",
      "4.561226263790773e+22\n",
      "3.669147014985925e+22\n",
      "1.6827495221984487e+22\n",
      "1.920110482716694e+22\n",
      "2.5516507654187964e+22\n",
      "2.2999134519832804e+22\n",
      "3.950129399717191e+22\n",
      "2.353763304876255e+22\n",
      "5.144393183621455e+22\n",
      "2.024330727664924e+22\n",
      "2.305468409584247e+22\n",
      "2.4688449717446078e+22\n",
      "4.7620487610236425e+22\n",
      "4.490850050550382e+22\n",
      "1.3812138423323694e+22\n",
      "2.183113831275887e+22\n",
      "2.6171019231580383e+22\n",
      "2.081942743695318e+22\n",
      "2.133800064777224e+22\n",
      "2.318665483230713e+22\n",
      "2.547079573254346e+22\n",
      "4.80758041705737e+22\n",
      "2.0049027122905114e+22\n",
      "2.8771485970690535e+22\n",
      "2.7839173616410435e+22\n",
      "5.384860331770817e+22\n",
      "4.774919070536058e+22\n",
      "1.204348658022417e+22\n",
      "1.8001229108654268e+22\n",
      "1.975665887402984e+22\n",
      "2.5902881243436442e+22\n",
      "3.6744375078234597e+22\n",
      "4.273377929115571e+22\n",
      "1.8620988009688592e+22\n",
      "2.4328791947018257e+22\n",
      "4.327006456428983e+22\n",
      "4.6262798174195e+22\n",
      "1.1931800291474615e+22\n",
      "1.6725140558232815e+22\n",
      "2.9557869166929558e+22\n",
      "3.0652660126491867e+22\n",
      "4.568969695912592e+22\n",
      "1.923625099058776e+22\n",
      "3.3448620351860135e+22\n",
      "3.6318694085356643e+22\n",
      "5.008860274097371e+22\n",
      "1.298307149280336e+22\n",
      "1.7701323605362703e+22\n",
      "2.4024931564475317e+22\n",
      "2.782770917697213e+22\n",
      "3.963934243485857e+22\n",
      "4.4594265428647165e+22\n",
      "1.3752069162894142e+22\n",
      "1.992821322217328e+22\n",
      "2.7281221355202226e+22\n",
      "2.080007839114544e+22\n",
      "2.2495137827443135e+22\n",
      "2.540997561036791e+22\n",
      "4.040577645670702e+22\n",
      "1.966545471702773e+22\n",
      "3.5859124436606816e+22\n",
      "3.367474335257322e+22\n",
      "6.379153536907001e+22\n"
     ]
    },
    {
     "name": "stdout",
     "output_type": "stream",
     "text": [
      "1.018158558721572e+22\n",
      "1.775714831955487e+22\n",
      "1.7510941454536639e+22\n",
      "2.183522196136298e+22\n",
      "2.842443049278735e+22\n",
      "3.823502783251328e+22\n",
      "1.6173785800228039e+22\n",
      "4.516562752823219e+22\n",
      "1.7911703344583012e+22\n",
      "2.0578168090562023e+22\n",
      "2.104282263761789e+22\n",
      "5.012783714143193e+22\n",
      "1.4705507361690187e+22\n",
      "2.5141922391410115e+22\n",
      "2.6157387011252564e+22\n",
      "3.766875540655831e+22\n",
      "3.962299128495628e+22\n",
      "5.60880679714002e+22\n",
      "5.886578591942165e+22\n",
      "5.551518860880634e+22\n",
      "4.303651687345875e+22\n",
      "6.146044426693552e+22\n",
      "1.0821796556610162e+22\n",
      "3.4148787964264315e+22\n",
      "2.164048733184506e+22\n",
      "2.0748749839027986e+22\n",
      "1.7795672285568385e+22\n",
      "3.176836055220321e+22\n",
      "2.9611890285347177e+22\n",
      "1.988634264722621e+22\n",
      "4.028284278693409e+22\n",
      "3.80319714600686e+22\n",
      "1.7412257919107043e+22\n",
      "3.5727777989980343e+22\n",
      "3.041169869949223e+22\n",
      "5.3665926168565976e+22\n",
      "1.1883919811063518e+22\n",
      "2.989303878631968e+22\n",
      "2.185406072227609e+22\n",
      "1.8155071506678607e+22\n",
      "1.953387574648013e+22\n",
      "2.731982224609873e+22\n",
      "2.311156901279394e+22\n",
      "2.090712187934718e+22\n",
      "2.202268880871713e+22\n",
      "2.3742787394376313e+22\n",
      "2.3039568148746415e+22\n",
      "4.902895645661559e+22\n",
      "2.0562227774750456e+22\n",
      "5.331655254613226e+22\n",
      "4.114808648598566e+22\n",
      "1.6543254814674647e+22\n",
      "1.819725219301176e+22\n",
      "2.510772849659273e+22\n",
      "4.088728867499596e+22\n",
      "1.978433822852807e+22\n",
      "4.0002134076400645e+22\n",
      "4.0075657682392965e+22\n",
      "2.181365275747389e+22\n",
      "3.85368009125329e+22\n",
      "1.8703643010211925e+22\n",
      "5.49781295972485e+22\n",
      "4.142135373680857e+22\n",
      "4.937951847076071e+22\n",
      "1.4817479589698405e+22\n",
      "2.212450032230729e+22\n",
      "3.229813530216789e+22\n",
      "2.7707957092720935e+22\n",
      "1.9102773907599447e+22\n",
      "2.932234234140832e+22\n",
      "3.01212173365032e+22\n",
      "1.7022127065543515e+22\n",
      "1.975004254257819e+22\n",
      "3.578752187016957e+22\n",
      "1.867719893866376e+22\n",
      "4.504308519995527e+22\n",
      "1.5295403732748609e+22\n",
      "5.221026050205277e+22\n",
      "1.4968954622378366e+22\n",
      "2.7756648583991394e+22\n",
      "2.4553751786969713e+22\n",
      "5.354741862344934e+22\n",
      "1.60450590846944e+22\n",
      "2.9273271154158084e+22\n",
      "2.063370095122122e+22\n",
      "5.4674716999416094e+22\n",
      "1.4510604733816492e+22\n",
      "2.586046464156091e+22\n",
      "2.5457570351014245e+22\n",
      "4.014763558787031e+22\n",
      "3.5244002502687683e+22\n",
      "1.7381692843442747e+22\n",
      "1.7915289683395554e+22\n",
      "2.5413974520762986e+22\n",
      "2.0120877254169053e+22\n",
      "4.860662384731607e+22\n",
      "3.721520011276316e+22\n",
      "6.419560280003935e+22\n",
      "3.6862936129225475e+22\n",
      "4.677757878589179e+22\n",
      "1.8364207701746424e+22\n",
      "5.2590888728503125e+22\n",
      "3.796466494734372e+22\n",
      "1.2069383989424671e+22\n",
      "1.1531235203551448e+22\n",
      "2.9563919080709366e+22\n",
      "2.2180083474086037e+22\n",
      "2.4505002721058855e+22\n",
      "3.2217130048084708e+22\n",
      "4.02366215379938e+22\n",
      "1.7453603234246619e+22\n",
      "3.403653336344568e+22\n",
      "3.1064822776301976e+22\n",
      "4.499488167775428e+22\n",
      "5.711529311834046e+22\n",
      "1.215257178526071e+22\n",
      "1.9855682215848196e+22\n",
      "2.3061769724916543e+22\n",
      "3.0155568945922864e+22\n",
      "3.7593559955330587e+22\n",
      "4.444217308215422e+22\n",
      "2.090261103440266e+22\n",
      "2.9668520001054045e+22\n",
      "3.427164034929423e+22\n",
      "1.6625785204870872e+22\n",
      "2.2709918252525903e+22\n",
      "2.130085922746011e+22\n",
      "4.531588220278094e+22\n",
      "1.570801184613272e+22\n",
      "2.1637549146104417e+22\n",
      "2.2261900322442605e+22\n",
      "1.9878269452235273e+22\n",
      "2.3271384461350716e+22\n",
      "3.4803457640269204e+22\n",
      "3.7247988933596144e+22\n",
      "5.785651132564186e+22\n",
      "1.704633048030642e+22\n",
      "4.086535707323779e+22\n",
      "3.2955781436372932e+22\n",
      "5.44683614168596e+22\n",
      "5.805726281076186e+22\n",
      "1.0592150123883656e+22\n",
      "1.6178693537572957e+22\n",
      "1.8790645519131332e+22\n",
      "3.894016789542809e+22\n",
      "3.70162962130833e+22\n",
      "1.8649851379721819e+22\n",
      "2.363773405200167e+22\n",
      "1.9945427100887564e+22\n",
      "2.5732756385983992e+22\n",
      "2.1346626980782056e+22\n",
      "2.8103676946782802e+22\n",
      "2.7037526265901145e+22\n",
      "2.599223935944441e+22\n",
      "3.520716807948064e+22\n",
      "2.4475634328524026e+22\n",
      "2.4803817779912203e+22\n",
      "2.6064047532032305e+22\n",
      "4.350664723253422e+22\n",
      "1.4713464209817146e+22\n",
      "2.1257844910431574e+22\n",
      "3.1003130150555946e+22\n",
      "3.0032049091734705e+22\n",
      "4.798795649393009e+22\n",
      "4.698641257655489e+22\n",
      "1.529433154701249e+22\n",
      "1.8061883119630467e+22\n",
      "2.2819448666448472e+22\n",
      "4.201137737556976e+22\n",
      "2.0400102510212237e+22\n",
      "3.782272542547119e+22\n",
      "2.1151778077341605e+22\n",
      "2.7910548613896662e+22\n",
      "3.14219813527529e+22\n",
      "4.617560159733163e+22\n",
      "5.130320364581419e+22\n",
      "4.031135323655556e+22\n",
      "1.6898919908498884e+22\n",
      "3.3264962169511023e+22\n",
      "2.1672963946909413e+22\n",
      "2.8255486991681903e+22\n",
      "2.7973985148309026e+22\n",
      "4.018072925403544e+22\n",
      "1.6369352545258785e+22\n",
      "3.3650469720366516e+22\n",
      "2.8079734638717484e+22\n",
      "2.004889074256043e+22\n",
      "2.1174210753222014e+22\n",
      "2.0356951592327858e+22\n",
      "2.284483542702213e+22\n",
      "2.4719361501581845e+22\n",
      "3.4034373145328276e+22\n",
      "1.8655600607825098e+22\n",
      "4.471964176743468e+22\n",
      "1.7890408898051613e+22\n",
      "2.1036767219130915e+22\n",
      "2.435501845245845e+22\n",
      "3.449901247146747e+22\n",
      "2.0261096836190993e+22\n",
      "2.1631219779152007e+22\n",
      "2.4768155790998306e+22\n",
      "3.972448113571437e+22\n",
      "1.7730189361035908e+22\n",
      "2.4518776418710606e+22\n",
      "3.7705769405443687e+22\n",
      "1.9230927135545443e+22\n",
      "4.674199700666411e+22\n",
      "1.8141261159430342e+22\n",
      "2.681711415731257e+22\n",
      "2.1836330961114367e+22\n",
      "1.9003731944647743e+22\n",
      "2.664190272332116e+22\n",
      "2.4403732180541425e+22\n",
      "5.254006429703642e+22\n",
      "1.5225652211912653e+22\n",
      "2.7551087597949397e+22\n",
      "2.758777813389154e+22\n",
      "2.190021490559756e+22\n",
      "3.972979750234736e+22\n",
      "3.8003773853550145e+22\n",
      "1.6010151801910012e+22\n",
      "1.9195062297733095e+22\n",
      "2.739719171291362e+22\n",
      "2.135607842486631e+22\n",
      "2.0330130856898376e+22\n",
      "2.820988713031908e+22\n",
      "2.0939766544976e+22\n",
      "2.323303953532125e+22\n",
      "2.4896965533378995e+22\n",
      "2.0487087640160368e+22\n",
      "2.561846477141167e+22\n",
      "3.983005244242436e+22\n",
      "4.13988894886145e+22\n",
      "6.416585883790238e+22\n",
      "4.62445100208684e+22\n",
      "4.057733246882159e+22\n",
      "2.094286149098696e+22\n",
      "2.286324389961996e+22\n",
      "4.541491841150606e+22\n",
      "1.8800021111776335e+22\n",
      "2.768003406844627e+22\n",
      "3.3918468413468963e+22\n",
      "2.0867215048037408e+22\n",
      "2.5371955515892387e+22\n",
      "2.472317963877552e+22\n",
      "2.8330418933138e+22\n",
      "3.997263314345852e+22\n",
      "2.408839702340992e+22\n",
      "3.0487660376921494e+22\n",
      "1.8531373664630024e+22\n",
      "4.628341808167386e+22\n",
      "1.604533660012846e+22\n",
      "2.066333811478672e+22\n",
      "2.2784070360443612e+22\n",
      "1.8392544880121602e+22\n",
      "2.069786035781007e+22\n",
      "2.419597507921296e+22\n",
      "4.318319952623522e+22\n",
      "1.8445596419282633e+22\n",
      "2.118832422282815e+22\n",
      "3.1642367186255472e+22\n",
      "2.305425819417553e+22\n",
      "2.34164955551443e+22\n",
      "2.972503759927025e+22\n",
      "1.9253011665118015e+22\n",
      "2.2689124678788165e+22\n",
      "3.129556639308772e+22\n",
      "3.7589735714177012e+22\n",
      "4.480883543473324e+22\n",
      "4.8657351530524615e+22\n",
      "1.2866384031676138e+22\n",
      "2.7660520731075297e+22\n",
      "2.6092575079503803e+22\n",
      "5.8116998586869265e+22\n",
      "4.61178686083424e+22\n",
      "5.429303084753835e+22\n",
      "1.3903499477688273e+22\n",
      "2.287440682449597e+22\n",
      "2.363466481886217e+22\n",
      "5.023043600275196e+22\n",
      "1.350378170405593e+22\n",
      "4.251924782002331e+22\n",
      "1.9859900388591905e+22\n",
      "1.951363429796023e+22\n",
      "1.8817108573997654e+22\n",
      "3.0088346795127666e+22\n",
      "2.912869655277346e+22\n",
      "2.44940806575644e+22\n",
      "2.6455966738794345e+22\n",
      "3.5934764762546955e+22\n",
      "3.922097486292313e+22\n",
      "6.331438660544398e+22\n",
      "5.2172807603899205e+22\n",
      "6.016193523917159e+22\n",
      "5.040585120519176e+22\n",
      "4.456132340156983e+22\n",
      "1.3385125254969451e+22\n",
      "1.9674526665923275e+22\n",
      "2.68195634083949e+22\n",
      "3.243503377790867e+22\n",
      "2.5367363786477924e+22\n",
      "4.8390245493405854e+22\n",
      "1.4689922569477976e+22\n",
      "4.113805785421677e+22\n",
      "3.309425026731325e+22\n",
      "1.940344013817175e+22\n",
      "3.032310330993997e+22\n",
      "3.5250816528444895e+22\n",
      "4.364939786823651e+22\n",
      "5.614398569296343e+22\n",
      "4.669323576652715e+22\n",
      "5.598662846861956e+22\n",
      "4.622424406871386e+22\n",
      "1.725274611083288e+22\n",
      "3.1062651069342295e+22\n",
      "2.6275376800458156e+22\n",
      "5.920234185526887e+22\n",
      "1.3316900926837062e+22\n",
      "4.064175989085205e+22\n",
      "3.2037376465855213e+22\n",
      "5.498967107749805e+22\n",
      "6.0541755363457895e+22\n",
      "1.3724535653284211e+22\n",
      "2.5599489146883414e+22\n",
      "2.43557871448681e+22\n",
      "4.3190580719839995e+22\n",
      "4.127191575471106e+22\n",
      "4.718659965812781e+22\n",
      "1.6249004798683686e+22\n",
      "2.31234491918836e+22\n",
      "2.628150763153591e+22\n",
      "2.1754210935931507e+22\n",
      "2.9832222961455054e+22\n",
      "2.1651300027926288e+22\n",
      "2.479786937745854e+22\n",
      "3.44966676549446e+22\n",
      "2.3858425438451135e+22\n",
      "4.5328514356752e+22\n",
      "1.7340926277450457e+22\n",
      "4.807795477061039e+22\n",
      "3.7381352471110166e+22\n",
      "6.44361152633699e+22\n",
      "9.318437587798033e+21\n",
      "1.8789505762941425e+22\n",
      "1.7770382259011914e+22\n",
      "4.375700796711651e+22\n",
      "3.670683534728806e+22\n",
      "1.6102846023397083e+22\n",
      "1.8890129818328744e+22\n",
      "2.5492547197241156e+22\n",
      "2.556594899505949e+22\n",
      "2.0025272158817763e+22\n",
      "2.2974706968534794e+22\n",
      "2.341304151394704e+22\n",
      "3.877224674337207e+22\n",
      "4.209819105459176e+22\n",
      "5.458219253198545e+22\n",
      "1.1891626345895786e+22\n",
      "1.507087906293363e+22\n",
      "1.8327251601563692e+22\n",
      "3.5516524731051375e+22\n",
      "2.297559374327929e+22\n",
      "5.322729388217689e+22\n",
      "4.5965889648471075e+22\n",
      "1.0883385342637086e+22\n",
      "1.4580154233785325e+22\n",
      "1.6216797481422253e+22\n",
      "2.4134830378789097e+22\n",
      "2.1326934649281897e+22\n",
      "2.273192224664562e+22\n",
      "2.914736685841599e+22\n",
      "3.452448123119085e+22\n",
      "4.43053928675366e+22\n",
      "6.02850508056489e+22\n",
      "1.6121344425797509e+22\n",
      "3.1340297859585372e+22\n",
      "2.8288198967301155e+22\n",
      "4.538601678738942e+22\n",
      "1.7600529986091508e+22\n",
      "2.6432505639172552e+22\n",
      "3.4371978669334544e+22\n",
      "4.430996858898345e+22\n",
      "5.2433250019480705e+22\n",
      "1.1271472511937671e+22\n",
      "1.68810632989103e+22\n",
      "2.114038991946777e+22\n",
      "2.3680362756361433e+22\n",
      "2.5199738114480674e+22\n",
      "2.2560673813645687e+22\n",
      "2.80226261121966e+22\n",
      "3.2269018514035485e+22\n",
      "2.194796237348519e+22\n",
      "3.2813681492296213e+22\n",
      "2.425606492809092e+22\n",
      "5.003183151092306e+22\n",
      "4.466587256343044e+22\n",
      "1.8199275015875414e+22\n",
      "3.0143431638236912e+22\n",
      "2.7466424561302747e+22\n",
      "1.620349390564467e+22\n",
      "1.8797547854584546e+22\n",
      "3.462068447175412e+22\n",
      "3.3100098883878245e+22\n",
      "2.1830917693766623e+22\n",
      "2.946187212802749e+22\n",
      "3.892337675982583e+22\n",
      "4.83402959800344e+22\n",
      "1.4121197145006669e+22\n",
      "2.8788766309591426e+22\n",
      "2.7645533297663084e+22\n",
      "4.043005951146441e+22\n",
      "1.773236349054054e+22\n",
      "2.2981887300101193e+22\n",
      "3.577076178093331e+22\n",
      "3.6558158788457933e+22\n",
      "5.406154673144937e+22\n",
      "1.300318393682275e+22\n",
      "2.1085777545249168e+22\n"
     ]
    }
   ],
   "source": [
    "from sklearn.base import clone\n",
    "from sklearn.preprocessing import StandardScaler\n",
    "X_train, X_val, y_train, y_val = train_test_split(X, y, test_size=0.2) \n",
    "\n",
    "# prepare the data\n",
    "poly_scaler = Pipeline([\n",
    "    (\"poly_features\", PolynomialFeatures(degree=90, include_bias=False)), (\"std_scaler\", StandardScaler())])\n",
    "\n",
    "X_train_poly_scaled = poly_scaler.fit_transform(X_train) \n",
    "X_val_poly_scaled = poly_scaler.transform(X_val)\n",
    "\n",
    "sgd_reg = SGDRegressor(max_iter=1, tol=-np.infty, warm_start=True, penalty=None, \n",
    "                       learning_rate=\"constant\", eta0=0.0005)\n",
    "\n",
    "minimum_val_error = float(\"inf\") \n",
    "best_epoch = None\n",
    "best_model = None\n",
    "\n",
    "for epoch in range(1000):\n",
    "    sgd_reg.fit(X_train_poly_scaled, y_train) \n",
    "    y_val_predict = sgd_reg.predict(X_val_poly_scaled)\n",
    "    val_error = mean_squared_error(y_val, y_val_predict)\n",
    "    print(val_error)   # Observe the gradual minimisation of MSE\n",
    "    if val_error < minimum_val_error:\n",
    "        minimum_val_error = val_error \n",
    "        best_epoch = epoch \n",
    "        best_model = clone(sgd_reg)"
   ]
  },
  {
   "cell_type": "code",
   "execution_count": 47,
   "metadata": {},
   "outputs": [
    {
     "data": {
      "text/plain": [
       "<matplotlib.collections.PathCollection at 0x7fcb7a9623a0>"
      ]
     },
     "execution_count": 47,
     "metadata": {},
     "output_type": "execute_result"
    },
    {
     "data": {
      "image/png": "[encoded data removed]",
      "text/plain": [
       "<Figure size 432x288 with 1 Axes>"
      ]
     },
     "metadata": {
      "needs_background": "light"
     },
     "output_type": "display_data"
    }
   ],
   "source": [
    "plt.scatter(X, y)"
   ]
  },
  {
   "cell_type": "code",
   "execution_count": 48,
   "metadata": {},
   "outputs": [],
   "source": [
    "best_model.fit(X_train_poly_scaled, y_train)\n",
    "predo = best_model.predict(X_val_poly_scaled)"
   ]
  },
  {
   "cell_type": "code",
   "execution_count": 49,
   "metadata": {},
   "outputs": [
    {
     "data": {
      "text/plain": [
       "<matplotlib.collections.PathCollection at 0x7fcb7ab527c0>"
      ]
     },
     "execution_count": 49,
     "metadata": {},
     "output_type": "execute_result"
    },
    {
     "data": {
      "image/png": "[encoded data removed]",
      "text/plain": [
       "<Figure size 432x288 with 1 Axes>"
      ]
     },
     "metadata": {
      "needs_background": "light"
     },
     "output_type": "display_data"
    }
   ],
   "source": [
    "plt.scatter(X_val, predo)"
   ]
  },
  {
   "cell_type": "markdown",
   "metadata": {},
   "source": [
    "## Logistic Regression\n",
    "Logistic Regression (also called Logit Regression) is commonly used to estimate the probability that an instance belongs to a particular class. If the estimated probability is greater than 50%, then the model predicts that the instance belongs to that class (called the positive class, labeled “1”), or else it predicts that it does not (i.e., it belongs to the negative class, labeled “0”)."
   ]
  },
  {
   "cell_type": "markdown",
   "metadata": {},
   "source": [
    "#### The Iris dataset experiment"
   ]
  },
  {
   "cell_type": "code",
   "execution_count": 50,
   "metadata": {},
   "outputs": [],
   "source": [
    "from sklearn import datasets\n",
    "iris = datasets.load_iris()\n",
    "list(iris.keys())\n",
    "\n",
    "X = iris[\"data\"][:, 3:] # petal width\n",
    "y = (iris[\"target\"] == 2).astype(np.int) # 1 if Iris-Virginica, else 0"
   ]
  },
  {
   "cell_type": "code",
   "execution_count": 51,
   "metadata": {
    "scrolled": true
   },
   "outputs": [
    {
     "data": {
      "text/plain": [
       "array([0, 0, 0, 0, 0, 0, 0, 0, 0, 0, 0, 0, 0, 0, 0, 0, 0, 0, 0, 0, 0, 0,\n",
       "       0, 0, 0, 0, 0, 0, 0, 0, 0, 0, 0, 0, 0, 0, 0, 0, 0, 0, 0, 0, 0, 0,\n",
       "       0, 0, 0, 0, 0, 0, 0, 0, 0, 0, 0, 0, 0, 0, 0, 0, 0, 0, 0, 0, 0, 0,\n",
       "       0, 0, 0, 0, 0, 0, 0, 0, 0, 0, 0, 0, 0, 0, 0, 0, 0, 0, 0, 0, 0, 0,\n",
       "       0, 0, 0, 0, 0, 0, 0, 0, 0, 0, 0, 0, 1, 1, 1, 1, 1, 1, 1, 1, 1, 1,\n",
       "       1, 1, 1, 1, 1, 1, 1, 1, 1, 1, 1, 1, 1, 1, 1, 1, 1, 1, 1, 1, 1, 1,\n",
       "       1, 1, 1, 1, 1, 1, 1, 1, 1, 1, 1, 1, 1, 1, 1, 1, 1, 1])"
      ]
     },
     "execution_count": 51,
     "metadata": {},
     "output_type": "execute_result"
    }
   ],
   "source": [
    "y"
   ]
  },
  {
   "cell_type": "code",
   "execution_count": 52,
   "metadata": {
    "scrolled": true
   },
   "outputs": [
    {
     "data": {
      "text/plain": [
       "LogisticRegression()"
      ]
     },
     "execution_count": 52,
     "metadata": {},
     "output_type": "execute_result"
    }
   ],
   "source": [
    "from sklearn.linear_model import LogisticRegression \n",
    "log_reg = LogisticRegression()\n",
    "log_reg.fit(X, y)"
   ]
  },
  {
   "cell_type": "code",
   "execution_count": 53,
   "metadata": {},
   "outputs": [
    {
     "data": {
      "text/plain": [
       "[<matplotlib.lines.Line2D at 0x7fcb7ad85040>]"
      ]
     },
     "execution_count": 53,
     "metadata": {},
     "output_type": "execute_result"
    },
    {
     "data": {
      "image/png": "[encoded data removed]",
      "text/plain": [
       "<Figure size 432x288 with 1 Axes>"
      ]
     },
     "metadata": {
      "needs_background": "light"
     },
     "output_type": "display_data"
    }
   ],
   "source": [
    "X_new = np.linspace(0, 3, 1000).reshape(-1, 1)\n",
    "y_proba = log_reg.predict_proba(X_new)\n",
    "plt.plot(X_new, y_proba[:, 1], \"g-\", label=\"Iris-Virginica\")\n",
    "plt.plot(X_new, y_proba[:, 0], \"b--\", label=\"Not Iris-Virginica\")"
   ]
  },
  {
   "cell_type": "code",
   "execution_count": 54,
   "metadata": {},
   "outputs": [
    {
     "data": {
      "text/plain": [
       "array([1, 0])"
      ]
     },
     "execution_count": 54,
     "metadata": {},
     "output_type": "execute_result"
    }
   ],
   "source": [
    "log_reg.predict([[1.7], [1.5]])"
   ]
  },
  {
   "cell_type": "markdown",
   "metadata": {},
   "source": [
    "### Softmax\n",
    "Let’s use Softmax Regression to classify the iris flowers into all three classes. Scikit-Learn’s LogisticRegression uses one-versus-all by default when you train it on more than two classes, but you can set the multi_class hyperparameter to \"multinomial\" to switch it to Softmax Regression instead."
   ]
  },
  {
   "cell_type": "code",
   "execution_count": 55,
   "metadata": {},
   "outputs": [
    {
     "data": {
      "text/plain": [
       "LogisticRegression(C=10, multi_class='multinomial')"
      ]
     },
     "execution_count": 55,
     "metadata": {},
     "output_type": "execute_result"
    }
   ],
   "source": [
    "X = iris[\"data\"][:, (2, 3)] # petal length, petal width \n",
    "y = iris[\"target\"]\n",
    "\n",
    "softmax_reg = LogisticRegression(multi_class=\"multinomial\",solver=\"lbfgs\", C=10) \n",
    "softmax_reg.fit(X, y)"
   ]
  },
  {
   "cell_type": "code",
   "execution_count": 56,
   "metadata": {},
   "outputs": [
    {
     "data": {
      "text/plain": [
       "array([2])"
      ]
     },
     "execution_count": 56,
     "metadata": {},
     "output_type": "execute_result"
    }
   ],
   "source": [
    "softmax_reg.predict([[5, 2]])"
   ]
  },
  {
   "cell_type": "code",
   "execution_count": 57,
   "metadata": {},
   "outputs": [
    {
     "data": {
      "text/plain": [
       "array([[6.38014896e-07, 5.74929995e-02, 9.42506362e-01]])"
      ]
     },
     "execution_count": 57,
     "metadata": {},
     "output_type": "execute_result"
    }
   ],
   "source": [
    "softmax_reg.predict_proba([[5, 2]]) "
   ]
  },
  {
   "cell_type": "markdown",
   "metadata": {},
   "source": [
    "## Support Vector Machine (SVM)\n",
    "The following Scikit-Learn code loads the iris dataset, scales the features, and then trains a linear SVM model (using the LinearSVC class with C = 1 and the hinge loss function) to detect Iris-Virginica flowers."
   ]
  },
  {
   "cell_type": "code",
   "execution_count": 58,
   "metadata": {},
   "outputs": [],
   "source": [
    "import numpy as np\n",
    "from sklearn import datasets\n",
    "from sklearn.pipeline import Pipeline\n",
    "from sklearn.preprocessing import StandardScaler \n",
    "from sklearn.svm import LinearSVC"
   ]
  },
  {
   "cell_type": "code",
   "execution_count": 59,
   "metadata": {},
   "outputs": [
    {
     "data": {
      "text/html": [
       "<div>\n",
       "<style scoped>\n",
       "    .dataframe tbody tr th:only-of-type {\n",
       "        vertical-align: middle;\n",
       "    }\n",
       "\n",
       "    .dataframe tbody tr th {\n",
       "        vertical-align: top;\n",
       "    }\n",
       "\n",
       "    .dataframe thead th {\n",
       "        text-align: right;\n",
       "    }\n",
       "</style>\n",
       "<table border=\"1\" class=\"dataframe\">\n",
       "  <thead>\n",
       "    <tr style=\"text-align: right;\">\n",
       "      <th></th>\n",
       "      <th>petallength</th>\n",
       "      <th>petalwidth</th>\n",
       "      <th>target</th>\n",
       "    </tr>\n",
       "  </thead>\n",
       "  <tbody>\n",
       "    <tr>\n",
       "      <th>0</th>\n",
       "      <td>1.4</td>\n",
       "      <td>0.2</td>\n",
       "      <td>0</td>\n",
       "    </tr>\n",
       "    <tr>\n",
       "      <th>1</th>\n",
       "      <td>1.4</td>\n",
       "      <td>0.2</td>\n",
       "      <td>0</td>\n",
       "    </tr>\n",
       "    <tr>\n",
       "      <th>2</th>\n",
       "      <td>1.3</td>\n",
       "      <td>0.2</td>\n",
       "      <td>0</td>\n",
       "    </tr>\n",
       "    <tr>\n",
       "      <th>3</th>\n",
       "      <td>1.5</td>\n",
       "      <td>0.2</td>\n",
       "      <td>0</td>\n",
       "    </tr>\n",
       "    <tr>\n",
       "      <th>4</th>\n",
       "      <td>1.4</td>\n",
       "      <td>0.2</td>\n",
       "      <td>0</td>\n",
       "    </tr>\n",
       "    <tr>\n",
       "      <th>...</th>\n",
       "      <td>...</td>\n",
       "      <td>...</td>\n",
       "      <td>...</td>\n",
       "    </tr>\n",
       "    <tr>\n",
       "      <th>145</th>\n",
       "      <td>5.2</td>\n",
       "      <td>2.3</td>\n",
       "      <td>2</td>\n",
       "    </tr>\n",
       "    <tr>\n",
       "      <th>146</th>\n",
       "      <td>5.0</td>\n",
       "      <td>1.9</td>\n",
       "      <td>2</td>\n",
       "    </tr>\n",
       "    <tr>\n",
       "      <th>147</th>\n",
       "      <td>5.2</td>\n",
       "      <td>2.0</td>\n",
       "      <td>2</td>\n",
       "    </tr>\n",
       "    <tr>\n",
       "      <th>148</th>\n",
       "      <td>5.4</td>\n",
       "      <td>2.3</td>\n",
       "      <td>2</td>\n",
       "    </tr>\n",
       "    <tr>\n",
       "      <th>149</th>\n",
       "      <td>5.1</td>\n",
       "      <td>1.8</td>\n",
       "      <td>2</td>\n",
       "    </tr>\n",
       "  </tbody>\n",
       "</table>\n",
       "<p>150 rows × 3 columns</p>\n",
       "</div>"
      ],
      "text/plain": [
       "     petallength  petalwidth  target\n",
       "0            1.4         0.2       0\n",
       "1            1.4         0.2       0\n",
       "2            1.3         0.2       0\n",
       "3            1.5         0.2       0\n",
       "4            1.4         0.2       0\n",
       "..           ...         ...     ...\n",
       "145          5.2         2.3       2\n",
       "146          5.0         1.9       2\n",
       "147          5.2         2.0       2\n",
       "148          5.4         2.3       2\n",
       "149          5.1         1.8       2\n",
       "\n",
       "[150 rows x 3 columns]"
      ]
     },
     "execution_count": 59,
     "metadata": {},
     "output_type": "execute_result"
    }
   ],
   "source": [
    "iris = datasets.load_iris()\n",
    "irispetals = pd.DataFrame(iris[\"data\"][:, (2, 3)], columns=(\"petallength\", \"petalwidth\"))\n",
    "irispetals[\"target\"] = iris[\"target\"]\n",
    "irispetals"
   ]
  },
  {
   "cell_type": "code",
   "execution_count": 60,
   "metadata": {},
   "outputs": [
    {
     "data": {
      "text/plain": [
       "<seaborn.axisgrid.FacetGrid at 0x7fcb7ae1c640>"
      ]
     },
     "execution_count": 60,
     "metadata": {},
     "output_type": "execute_result"
    },
    {
     "data": {
      "image/png": "[encoded data removed]",
      "text/plain": [
       "<Figure size 402.375x360 with 1 Axes>"
      ]
     },
     "metadata": {
      "needs_background": "light"
     },
     "output_type": "display_data"
    }
   ],
   "source": [
    "sns.FacetGrid(irispetals, hue=\"target\", palette=\"hls\", size=5) \\\n",
    "   .map(plt.scatter, \"petallength\", \"petalwidth\") \\\n",
    "   .add_legend()"
   ]
  },
  {
   "cell_type": "code",
   "execution_count": 61,
   "metadata": {},
   "outputs": [
    {
     "data": {
      "text/plain": [
       "array([0., 0., 0., 0., 0., 0., 0., 0., 0., 0., 0., 0., 0., 0., 0., 0., 0.,\n",
       "       0., 0., 0., 0., 0., 0., 0., 0., 0., 0., 0., 0., 0., 0., 0., 0., 0.,\n",
       "       0., 0., 0., 0., 0., 0., 0., 0., 0., 0., 0., 0., 0., 0., 0., 0., 0.,\n",
       "       0., 0., 0., 0., 0., 0., 0., 0., 0., 0., 0., 0., 0., 0., 0., 0., 0.,\n",
       "       0., 0., 0., 0., 0., 0., 0., 0., 0., 0., 0., 0., 0., 0., 0., 0., 0.,\n",
       "       0., 0., 0., 0., 0., 0., 0., 0., 0., 0., 0., 0., 0., 0., 0., 1., 1.,\n",
       "       1., 1., 1., 1., 1., 1., 1., 1., 1., 1., 1., 1., 1., 1., 1., 1., 1.,\n",
       "       1., 1., 1., 1., 1., 1., 1., 1., 1., 1., 1., 1., 1., 1., 1., 1., 1.,\n",
       "       1., 1., 1., 1., 1., 1., 1., 1., 1., 1., 1., 1., 1., 1.])"
      ]
     },
     "execution_count": 61,
     "metadata": {},
     "output_type": "execute_result"
    }
   ],
   "source": [
    "X = iris[\"data\"][:, (2, 3)] # petal length, petal width\n",
    "y = (iris[\"target\"] == 2).astype(np.float64) # Iris-Virginica\n",
    "y"
   ]
  },
  {
   "cell_type": "markdown",
   "metadata": {},
   "source": [
    "### Create a Pipeline with StandardScaler and LinearSVC Objects"
   ]
  },
  {
   "cell_type": "code",
   "execution_count": 62,
   "metadata": {},
   "outputs": [
    {
     "data": {
      "text/plain": [
       "Pipeline(steps=[('scaler', StandardScaler()),\n",
       "                ('linear_svc', LinearSVC(C=1, loss='hinge'))])"
      ]
     },
     "execution_count": 62,
     "metadata": {},
     "output_type": "execute_result"
    }
   ],
   "source": [
    "svm_clf = Pipeline([\n",
    "    (\"scaler\", StandardScaler()),\n",
    "    (\"linear_svc\", LinearSVC(C=1, loss=\"hinge\")), ])\n",
    "svm_clf.fit(X, y)"
   ]
  },
  {
   "cell_type": "markdown",
   "metadata": {},
   "source": [
    "### Predict "
   ]
  },
  {
   "cell_type": "code",
   "execution_count": 63,
   "metadata": {},
   "outputs": [
    {
     "name": "stdout",
     "output_type": "stream",
     "text": [
      "[1.]\n",
      "[0.]\n",
      "[0.]\n"
     ]
    }
   ],
   "source": [
    "# Test for Iris-Virginica and Other\n",
    "\n",
    "print(svm_clf.predict([[5.5, 1.7]]))\n",
    "print(svm_clf.predict([[4.4, 1.2]]))\n",
    "print(svm_clf.predict([[2.1, 0.4]]))"
   ]
  },
  {
   "cell_type": "markdown",
   "metadata": {},
   "source": [
    "### Some Alternatives"
   ]
  },
  {
   "cell_type": "markdown",
   "metadata": {},
   "source": [
    "- Alternatively, you could use the SVC class, using SVC(kernel=\"linear\", C=1), but it is much slower, especially with large training sets, so it is not recommended. \n",
    "- Another option is to use the SGDClassifier class, with SGDClassifier(loss=\"hinge\", alpha=1/(m*C)). This applies regular Stochastic Gradient Descent (see Chapter 4) to train a linear SVM classifier. It does not converge as fast as the LinearSVC class, but it can be useful to handle huge datasets that do not fit in memory (out-of-core train‐ ing), or to handle online classification tasks."
   ]
  },
  {
   "cell_type": "markdown",
   "metadata": {},
   "source": [
    "### Non-linear-SVC Classification"
   ]
  },
  {
   "cell_type": "code",
   "execution_count": 64,
   "metadata": {},
   "outputs": [],
   "source": [
    "from sklearn.datasets import make_moons\n",
    "from sklearn.pipeline import Pipeline\n",
    "from sklearn.preprocessing import PolynomialFeatures"
   ]
  },
  {
   "cell_type": "markdown",
   "metadata": {},
   "source": [
    "### Import the Moons Dataset"
   ]
  },
  {
   "cell_type": "code",
   "execution_count": 113,
   "metadata": {},
   "outputs": [],
   "source": [
    "X, y = datasets.make_moons(n_samples=100, noise=0.1)"
   ]
  },
  {
   "cell_type": "code",
   "execution_count": 114,
   "metadata": {},
   "outputs": [
    {
     "data": {
      "image/png": "[encoded data removed]",
      "text/plain": [
       "<Figure size 432x288 with 1 Axes>"
      ]
     },
     "metadata": {
      "needs_background": "light"
     },
     "output_type": "display_data"
    }
   ],
   "source": [
    "plt.plot(X[:, 0][y==1], X[:, 1][y==1], \"b.\")\n",
    "plt.plot(X[:, 0][y==0], X[:, 1][y==0], \"g.\")\n",
    "plt.show()"
   ]
  },
  {
   "cell_type": "code",
   "execution_count": 115,
   "metadata": {},
   "outputs": [
    {
     "data": {
      "text/plain": [
       "array([ True,  True,  True, False, False,  True,  True, False, False,\n",
       "        True, False, False,  True, False,  True, False, False,  True,\n",
       "       False,  True,  True,  True,  True, False, False, False, False,\n",
       "        True, False, False, False, False,  True,  True,  True, False,\n",
       "       False, False,  True,  True,  True, False, False, False,  True,\n",
       "       False, False,  True,  True,  True, False,  True, False, False,\n",
       "        True, False,  True, False, False, False,  True,  True,  True,\n",
       "        True, False,  True, False, False, False,  True,  True,  True,\n",
       "       False, False,  True,  True, False, False,  True,  True,  True,\n",
       "        True,  True,  True, False, False, False,  True, False, False,\n",
       "        True,  True,  True,  True, False, False,  True, False,  True,\n",
       "       False])"
      ]
     },
     "execution_count": 115,
     "metadata": {},
     "output_type": "execute_result"
    }
   ],
   "source": [
    "y==1"
   ]
  },
  {
   "cell_type": "markdown",
   "metadata": {},
   "source": [
    "### Insert a Polynomial Feature of Degree 3 and run the Linear SVC"
   ]
  },
  {
   "cell_type": "code",
   "execution_count": 68,
   "metadata": {},
   "outputs": [
    {
     "data": {
      "text/plain": [
       "Pipeline(steps=[('poly_features', PolynomialFeatures(degree=3)),\n",
       "                ('scaler', StandardScaler()),\n",
       "                ('svm_clf', LinearSVC(C=10, loss='hinge'))])"
      ]
     },
     "execution_count": 68,
     "metadata": {},
     "output_type": "execute_result"
    }
   ],
   "source": [
    "polynomial_svm_clf = Pipeline([\n",
    "    (\"poly_features\", PolynomialFeatures(degree=3)), \n",
    "    (\"scaler\", StandardScaler()),\n",
    "    (\"svm_clf\", LinearSVC(C=10, loss=\"hinge\"))\n",
    "    ]) \n",
    "polynomial_svm_clf.fit(X, y)"
   ]
  },
  {
   "cell_type": "code",
   "execution_count": 69,
   "metadata": {},
   "outputs": [
    {
     "name": "stdout",
     "output_type": "stream",
     "text": [
      "[1]\n",
      "[0]\n",
      "[0]\n",
      "[0]\n"
     ]
    }
   ],
   "source": [
    "print(polynomial_svm_clf.predict([[0.5, -0.6]]))\n",
    "print(polynomial_svm_clf.predict([[0.6, 1]]))\n",
    "print(polynomial_svm_clf.predict([[1.5, 0.75]]))\n",
    "print(polynomial_svm_clf.predict([[0.5, 0.5]]))"
   ]
  },
  {
   "cell_type": "markdown",
   "metadata": {},
   "source": [
    "### Using the Polynomial Kernel Trick\n",
    "No need to insert the Polynomial Feature"
   ]
  },
  {
   "cell_type": "code",
   "execution_count": 70,
   "metadata": {},
   "outputs": [
    {
     "data": {
      "text/plain": [
       "Pipeline(steps=[('scaler', StandardScaler()),\n",
       "                ('svm_clf', SVC(C=5, coef0=1, kernel='poly'))])"
      ]
     },
     "execution_count": 70,
     "metadata": {},
     "output_type": "execute_result"
    }
   ],
   "source": [
    "from sklearn.svm import SVC \n",
    "\n",
    "poly_kernel_svm_clf = Pipeline([\n",
    "        (\"scaler\", StandardScaler()),\n",
    "        (\"svm_clf\", SVC(kernel=\"poly\", degree=3, coef0=1, C=5)) ])\n",
    "\n",
    "poly_kernel_svm_clf.fit(X, y)"
   ]
  },
  {
   "cell_type": "code",
   "execution_count": 71,
   "metadata": {},
   "outputs": [
    {
     "name": "stdout",
     "output_type": "stream",
     "text": [
      "[1]\n",
      "[0]\n",
      "[0]\n",
      "[0]\n"
     ]
    }
   ],
   "source": [
    "print(polynomial_svm_clf.predict([[0.5, -0.6]]))\n",
    "print(polynomial_svm_clf.predict([[0.6, 1]]))\n",
    "print(polynomial_svm_clf.predict([[1.5, 0.75]]))\n",
    "print(polynomial_svm_clf.predict([[0.5, 0.5]]))"
   ]
  },
  {
   "cell_type": "markdown",
   "metadata": {},
   "source": [
    "## WRITE DECISION BUNDARY CODES"
   ]
  },
  {
   "cell_type": "markdown",
   "metadata": {},
   "source": [
    "### SVM Regression\n",
    "The trick is to reverse the objective: instead of trying to fit the largest possible street between two classes while limiting margin violations, SVM Regression tries to fit as many instances as possible on the street while limiting margin violations (i.e., instances off the street)."
   ]
  },
  {
   "cell_type": "code",
   "execution_count": 72,
   "metadata": {},
   "outputs": [
    {
     "data": {
      "text/plain": [
       "LinearSVR(epsilon=1.5)"
      ]
     },
     "execution_count": 72,
     "metadata": {},
     "output_type": "execute_result"
    }
   ],
   "source": [
    "from sklearn.svm import LinearSVR \n",
    "svm_reg = LinearSVR(epsilon=1.5)\n",
    "svm_reg.fit(X, y)"
   ]
  },
  {
   "cell_type": "code",
   "execution_count": 73,
   "metadata": {},
   "outputs": [
    {
     "data": {
      "text/plain": [
       "array([0.])"
      ]
     },
     "execution_count": 73,
     "metadata": {},
     "output_type": "execute_result"
    }
   ],
   "source": [
    "svm_reg.predict([[5.5, 1.7]])"
   ]
  },
  {
   "cell_type": "markdown",
   "metadata": {},
   "source": [
    "### Poly - SVR"
   ]
  },
  {
   "cell_type": "markdown",
   "metadata": {},
   "source": [
    "The following code produces a polynomial SVR model using Scikit-Learn’s SVR class (which supports the kernel trick). The SVR class is the regression equivalent of the SVC class, and the LinearSVR class is the regression equivalent of the LinearSVC class. \n",
    "The LinearSVR class scales linearly with the size of the training set (just like the LinearSVC class), while the SVR class gets much too slow when the training set grows large (just like the SVC class)."
   ]
  },
  {
   "cell_type": "code",
   "execution_count": 74,
   "metadata": {},
   "outputs": [
    {
     "data": {
      "text/plain": [
       "SVR(C=100, degree=2, kernel='poly')"
      ]
     },
     "execution_count": 74,
     "metadata": {},
     "output_type": "execute_result"
    }
   ],
   "source": [
    "from sklearn.svm import SVR\n",
    "svm_poly_reg = SVR(kernel=\"poly\", degree=2, C=100, epsilon=0.1)\n",
    "svm_poly_reg.fit(X, y)"
   ]
  },
  {
   "cell_type": "code",
   "execution_count": 75,
   "metadata": {},
   "outputs": [
    {
     "data": {
      "text/plain": [
       "array([-3.34525957])"
      ]
     },
     "execution_count": 75,
     "metadata": {},
     "output_type": "execute_result"
    }
   ],
   "source": [
    "svm_poly_reg.predict([[5.5, 1.7]])"
   ]
  },
  {
   "cell_type": "markdown",
   "metadata": {},
   "source": [
    "### Decision Trees"
   ]
  },
  {
   "cell_type": "code",
   "execution_count": 76,
   "metadata": {},
   "outputs": [],
   "source": [
    "from sklearn.datasets import load_iris\n",
    "from sklearn.tree import DecisionTreeClassifier, plot_tree"
   ]
  },
  {
   "cell_type": "code",
   "execution_count": 77,
   "metadata": {},
   "outputs": [
    {
     "data": {
      "text/plain": [
       "DecisionTreeClassifier(max_depth=2)"
      ]
     },
     "execution_count": 77,
     "metadata": {},
     "output_type": "execute_result"
    }
   ],
   "source": [
    "iris = load_iris()\n",
    "X = iris.data[:, 2:] # petal length and width \n",
    "y = iris.target\n",
    "tree_clf = DecisionTreeClassifier(max_depth=2) \n",
    "tree_clf.fit(X, y)"
   ]
  },
  {
   "cell_type": "code",
   "execution_count": 78,
   "metadata": {},
   "outputs": [
    {
     "data": {
      "image/png": "[encoded data removed]",
      "text/plain": [
       "<Figure size 864x576 with 1 Axes>"
      ]
     },
     "metadata": {
      "needs_background": "light"
     },
     "output_type": "display_data"
    }
   ],
   "source": [
    "# Prepare a plot figure with set size.\n",
    "plt.figure(figsize = (12,8))\n",
    "# Plot the decision tree, showing the decisive values and the improvements in Gini impurity along the way.\n",
    "plot_tree(tree_clf, \n",
    "          filled=True      )\n",
    "# Display the tree plot figure.\n",
    "plt.show()"
   ]
  },
  {
   "cell_type": "code",
   "execution_count": 79,
   "metadata": {},
   "outputs": [
    {
     "data": {
      "text/plain": [
       "array([1])"
      ]
     },
     "execution_count": 79,
     "metadata": {},
     "output_type": "execute_result"
    }
   ],
   "source": [
    "tree_clf.predict([[5, 1.5]])"
   ]
  },
  {
   "cell_type": "code",
   "execution_count": 80,
   "metadata": {},
   "outputs": [
    {
     "data": {
      "text/plain": [
       "array([[0.        , 0.90740741, 0.09259259]])"
      ]
     },
     "execution_count": 80,
     "metadata": {},
     "output_type": "execute_result"
    }
   ],
   "source": [
    "tree_clf.predict_proba([[5, 1.5]])"
   ]
  },
  {
   "cell_type": "markdown",
   "metadata": {},
   "source": [
    "### CART Algorithm"
   ]
  },
  {
   "cell_type": "code",
   "execution_count": 81,
   "metadata": {},
   "outputs": [],
   "source": [
    "# ??"
   ]
  },
  {
   "cell_type": "code",
   "execution_count": null,
   "metadata": {},
   "outputs": [],
   "source": []
  },
  {
   "cell_type": "markdown",
   "metadata": {},
   "source": [
    "### Decision Tree Regression"
   ]
  },
  {
   "cell_type": "code",
   "execution_count": 82,
   "metadata": {},
   "outputs": [],
   "source": [
    "from sklearn.tree import DecisionTreeRegressor"
   ]
  },
  {
   "cell_type": "code",
   "execution_count": 83,
   "metadata": {},
   "outputs": [
    {
     "data": {
      "text/plain": [
       "DecisionTreeRegressor(max_depth=2)"
      ]
     },
     "execution_count": 83,
     "metadata": {},
     "output_type": "execute_result"
    }
   ],
   "source": [
    "tree_reg = DecisionTreeRegressor(max_depth=2) \n",
    "tree_reg.fit(X, y)"
   ]
  },
  {
   "cell_type": "code",
   "execution_count": 84,
   "metadata": {},
   "outputs": [
    {
     "data": {
      "text/plain": [
       "array([1.09259259])"
      ]
     },
     "execution_count": 84,
     "metadata": {},
     "output_type": "execute_result"
    }
   ],
   "source": [
    "tree_reg.predict([[5, 1.5]])"
   ]
  },
  {
   "cell_type": "code",
   "execution_count": 85,
   "metadata": {},
   "outputs": [
    {
     "data": {
      "image/png": "[encoded data removed]",
      "text/plain": [
       "<Figure size 864x576 with 1 Axes>"
      ]
     },
     "metadata": {
      "needs_background": "light"
     },
     "output_type": "display_data"
    }
   ],
   "source": [
    "# Prepare a plot figure with set size.\n",
    "plt.figure(figsize = (12,8))\n",
    "# Plot the decision tree, showing the decisive values and the improvements in Gini impurity along the way.\n",
    "plot_tree(tree_reg, \n",
    "          filled=True      )\n",
    "# Display the tree plot figure.\n",
    "plt.show()"
   ]
  },
  {
   "cell_type": "markdown",
   "metadata": {},
   "source": [
    "## Random Forests - Ensemble Learning"
   ]
  },
  {
   "cell_type": "markdown",
   "metadata": {},
   "source": [
    "#### Creating a Voting Classifier"
   ]
  },
  {
   "cell_type": "code",
   "execution_count": 86,
   "metadata": {},
   "outputs": [],
   "source": [
    "from sklearn.ensemble import RandomForestClassifier \n",
    "from sklearn.ensemble import VotingClassifier\n",
    "from sklearn.linear_model import LogisticRegression \n",
    "from sklearn.svm import SVC"
   ]
  },
  {
   "cell_type": "code",
   "execution_count": 87,
   "metadata": {},
   "outputs": [],
   "source": [
    "iris = load_iris()\n",
    "X = iris.data[:, 2:] # petal length and width \n",
    "y = iris.target"
   ]
  },
  {
   "cell_type": "code",
   "execution_count": 88,
   "metadata": {},
   "outputs": [],
   "source": [
    "X_train, X_test, y_train, y_test = train_test_split(X, y, test_size=0.2) "
   ]
  },
  {
   "cell_type": "code",
   "execution_count": 89,
   "metadata": {},
   "outputs": [],
   "source": [
    "# Creating a Logistic Regressor Object, a Random Forest Classifier object and a SV Classifier Object\n",
    "\n",
    "log_clf = LogisticRegression() \n",
    "rnd_clf = RandomForestClassifier() \n",
    "svm_clf = SVC()"
   ]
  },
  {
   "cell_type": "code",
   "execution_count": 90,
   "metadata": {},
   "outputs": [
    {
     "data": {
      "text/plain": [
       "VotingClassifier(estimators=[('lr', LogisticRegression()),\n",
       "                             ('rf', RandomForestClassifier()), ('svc', SVC())])"
      ]
     },
     "execution_count": 90,
     "metadata": {},
     "output_type": "execute_result"
    }
   ],
   "source": [
    "voting_clf = VotingClassifier(\n",
    "    estimators=[('lr', log_clf), ('rf', rnd_clf), ('svc', svm_clf)], voting='hard')\n",
    "voting_clf.fit(X, y)"
   ]
  },
  {
   "cell_type": "code",
   "execution_count": 91,
   "metadata": {},
   "outputs": [
    {
     "name": "stdout",
     "output_type": "stream",
     "text": [
      "LogisticRegression 0.9666666666666667\n",
      "RandomForestClassifier 1.0\n",
      "SVC 0.9333333333333333\n",
      "VotingClassifier 0.9666666666666667\n"
     ]
    }
   ],
   "source": [
    "# Compare the performance of the indovidual classifiers and Voting Classifier by predicting using Test set\n",
    "\n",
    "from sklearn.metrics import accuracy_score\n",
    "for clf in (log_clf, rnd_clf, svm_clf, voting_clf):\n",
    "    clf.fit(X, y)\n",
    "    y_pred = clf.predict(X_test)\n",
    "    print(clf.__class__.__name__, accuracy_score(y_test, y_pred))"
   ]
  },
  {
   "cell_type": "code",
   "execution_count": 92,
   "metadata": {},
   "outputs": [
    {
     "name": "stdout",
     "output_type": "stream",
     "text": [
      "LogisticRegression 0.975\n",
      "RandomForestClassifier 0.9916666666666667\n",
      "SVC 0.9666666666666667\n",
      "VotingClassifier 0.975\n"
     ]
    }
   ],
   "source": [
    "# Compare the performance of the indovidual classifiers and Voting Classifier by predicting using Train set\n",
    "\n",
    "from sklearn.metrics import accuracy_score\n",
    "for clf in (log_clf, rnd_clf, svm_clf, voting_clf):\n",
    "    clf.fit(X_train, y_train)\n",
    "    y_pred = clf.predict(X_train)\n",
    "    print(clf.__class__.__name__, accuracy_score(y_train, y_pred))"
   ]
  },
  {
   "cell_type": "markdown",
   "metadata": {},
   "source": [
    "### Decision Tree Regression"
   ]
  },
  {
   "cell_type": "code",
   "execution_count": 93,
   "metadata": {},
   "outputs": [],
   "source": [
    "from sklearn.tree import DecisionTreeRegressor"
   ]
  },
  {
   "cell_type": "code",
   "execution_count": 94,
   "metadata": {},
   "outputs": [
    {
     "data": {
      "text/plain": [
       "DecisionTreeRegressor(max_depth=2)"
      ]
     },
     "execution_count": 94,
     "metadata": {},
     "output_type": "execute_result"
    }
   ],
   "source": [
    "tree_reg = DecisionTreeRegressor(max_depth=2) \n",
    "tree_reg.fit(X, y)"
   ]
  },
  {
   "cell_type": "code",
   "execution_count": 95,
   "metadata": {},
   "outputs": [
    {
     "data": {
      "text/plain": [
       "array([1.09259259])"
      ]
     },
     "execution_count": 95,
     "metadata": {},
     "output_type": "execute_result"
    }
   ],
   "source": [
    "tree_reg.predict([[5, 1.5]])"
   ]
  },
  {
   "cell_type": "markdown",
   "metadata": {},
   "source": [
    "### Random Forest Classifier"
   ]
  },
  {
   "cell_type": "code",
   "execution_count": 96,
   "metadata": {},
   "outputs": [],
   "source": [
    "from sklearn.ensemble import RandomForestClassifier\n",
    "rnd_clf = RandomForestClassifier(n_estimators=500, max_leaf_nodes=16, n_jobs=-1)\n",
    "rnd_clf.fit(X_train, y_train) \n",
    "y_pred_rf = rnd_clf.predict(X_test)"
   ]
  },
  {
   "cell_type": "code",
   "execution_count": 97,
   "metadata": {},
   "outputs": [],
   "source": [
    "from sklearn.ensemble import BaggingClassifier\n",
    "bag_clf = BaggingClassifier( DecisionTreeClassifier(splitter=\"random\", max_leaf_nodes=16), \n",
    "                            n_estimators=500, max_samples=1.0, bootstrap=True, n_jobs=-1)"
   ]
  },
  {
   "cell_type": "code",
   "execution_count": null,
   "metadata": {},
   "outputs": [],
   "source": []
  },
  {
   "cell_type": "markdown",
   "metadata": {},
   "source": [
    "## Naive Bayes"
   ]
  },
  {
   "cell_type": "markdown",
   "metadata": {},
   "source": [
    "### Gaussian Naive Bayes"
   ]
  },
  {
   "cell_type": "markdown",
   "metadata": {},
   "source": [
    "#### We create a dummy Gaussian Distribution Sample with 2 categories and use a GaussianNB Classifier to Classify it. The assumption is that data from each label is drawn from a simple Gaussian distribution. "
   ]
  },
  {
   "cell_type": "code",
   "execution_count": 98,
   "metadata": {},
   "outputs": [
    {
     "data": {
      "text/plain": [
       "<matplotlib.collections.PathCollection at 0x7fcb7b946610>"
      ]
     },
     "execution_count": 98,
     "metadata": {},
     "output_type": "execute_result"
    },
    {
     "data": {
      "image/png": "[encoded data removed]",
      "text/plain": [
       "<Figure size 432x288 with 1 Axes>"
      ]
     },
     "metadata": {
      "needs_background": "light"
     },
     "output_type": "display_data"
    }
   ],
   "source": [
    "from sklearn.datasets import make_blobs\n",
    "X, y = make_blobs(100, 2, centers=2, random_state=2, cluster_std=1.5) \n",
    "plt.scatter(X[:, 0], X[:, 1], c=y, s=50, cmap='RdBu')"
   ]
  },
  {
   "cell_type": "code",
   "execution_count": 99,
   "metadata": {},
   "outputs": [
    {
     "data": {
      "text/plain": [
       "GaussianNB()"
      ]
     },
     "execution_count": 99,
     "metadata": {},
     "output_type": "execute_result"
    }
   ],
   "source": [
    "# Create the GaussianNB Model object and Fit.\n",
    "\n",
    "from sklearn.naive_bayes import GaussianNB \n",
    "model = GaussianNB()\n",
    "model.fit(X, y)"
   ]
  },
  {
   "cell_type": "code",
   "execution_count": 100,
   "metadata": {},
   "outputs": [],
   "source": [
    "# Create a Test data sample and predict. \n",
    "\n",
    "rng = np.random.RandomState(0)\n",
    "Xnew = [-6, -14] + [14, 18] * rng.rand(2000, 2)\n",
    "ynew = model.predict(Xnew)"
   ]
  },
  {
   "cell_type": "code",
   "execution_count": 101,
   "metadata": {},
   "outputs": [
    {
     "data": {
      "text/plain": [
       "(-5.890554373486014,\n",
       " 7.777566725032841,\n",
       " -13.775943665162341,\n",
       " 3.3634536696825847)"
      ]
     },
     "execution_count": 101,
     "metadata": {},
     "output_type": "execute_result"
    },
    {
     "data": {
      "image/png": "[encoded data removed]",
      "text/plain": [
       "<Figure size 432x288 with 1 Axes>"
      ]
     },
     "metadata": {
      "needs_background": "light"
     },
     "output_type": "display_data"
    }
   ],
   "source": [
    "# Plot this new data to get an idea of where the decision boundary is\n",
    "\n",
    "plt.scatter(X[:, 0], X[:, 1], c=y, s=50, cmap='RdBu')\n",
    "lim = plt.axis()\n",
    "plt.scatter(Xnew[:, 0], Xnew[:, 1], c=ynew, s=20, cmap='RdBu', alpha=0.1)\n",
    "plt.axis(lim)"
   ]
  },
  {
   "cell_type": "code",
   "execution_count": 102,
   "metadata": {},
   "outputs": [
    {
     "data": {
      "text/plain": [
       "array([[0.   , 1.   ],\n",
       "       [0.001, 0.999],\n",
       "       [0.   , 1.   ],\n",
       "       [0.   , 1.   ],\n",
       "       [0.   , 1.   ],\n",
       "       [0.   , 1.   ],\n",
       "       [0.   , 1.   ],\n",
       "       [1.   , 0.   ],\n",
       "       [0.   , 1.   ],\n",
       "       [0.   , 1.   ],\n",
       "       [0.   , 1.   ],\n",
       "       [0.   , 1.   ],\n",
       "       [0.002, 0.998],\n",
       "       [0.   , 1.   ],\n",
       "       [0.94 , 0.06 ],\n",
       "       [0.   , 1.   ],\n",
       "       [0.004, 0.996],\n",
       "       [0.013, 0.987],\n",
       "       [0.   , 1.   ],\n",
       "       [0.   , 1.   ],\n",
       "       [0.984, 0.016],\n",
       "       [1.   , 0.   ],\n",
       "       [0.   , 1.   ],\n",
       "       [1.   , 0.   ],\n",
       "       [1.   , 0.   ],\n",
       "       [0.556, 0.444],\n",
       "       [1.   , 0.   ],\n",
       "       [1.   , 0.   ],\n",
       "       [1.   , 0.   ],\n",
       "       [1.   , 0.   ],\n",
       "       [1.   , 0.   ],\n",
       "       [1.   , 0.   ],\n",
       "       [1.   , 0.   ],\n",
       "       [1.   , 0.   ],\n",
       "       [1.   , 0.   ],\n",
       "       [0.   , 1.   ],\n",
       "       [0.   , 1.   ],\n",
       "       [1.   , 0.   ],\n",
       "       [1.   , 0.   ],\n",
       "       [1.   , 0.   ],\n",
       "       [0.998, 0.002],\n",
       "       [0.   , 1.   ],\n",
       "       [1.   , 0.   ],\n",
       "       [1.   , 0.   ],\n",
       "       [0.   , 1.   ],\n",
       "       [0.   , 1.   ],\n",
       "       [0.   , 1.   ],\n",
       "       [1.   , 0.   ],\n",
       "       [1.   , 0.   ],\n",
       "       [1.   , 0.   ],\n",
       "       [1.   , 0.   ],\n",
       "       [0.   , 1.   ],\n",
       "       [0.04 , 0.96 ],\n",
       "       [0.   , 1.   ],\n",
       "       [0.   , 1.   ],\n",
       "       [0.   , 1.   ],\n",
       "       [0.998, 0.002],\n",
       "       [0.03 , 0.97 ],\n",
       "       [0.   , 1.   ],\n",
       "       [0.   , 1.   ],\n",
       "       [0.001, 0.999],\n",
       "       [0.   , 1.   ],\n",
       "       [0.001, 0.999],\n",
       "       [1.   , 0.   ],\n",
       "       [1.   , 0.   ],\n",
       "       [0.441, 0.559],\n",
       "       [1.   , 0.   ],\n",
       "       [0.   , 1.   ],\n",
       "       [0.   , 1.   ],\n",
       "       [0.227, 0.773],\n",
       "       [0.013, 0.987],\n",
       "       [0.   , 1.   ],\n",
       "       [0.   , 1.   ],\n",
       "       [0.   , 1.   ],\n",
       "       [0.   , 1.   ],\n",
       "       [0.   , 1.   ],\n",
       "       [0.008, 0.992],\n",
       "       [0.   , 1.   ],\n",
       "       [0.   , 1.   ],\n",
       "       [1.   , 0.   ],\n",
       "       [0.022, 0.978],\n",
       "       [0.   , 1.   ],\n",
       "       [0.   , 1.   ],\n",
       "       [1.   , 0.   ],\n",
       "       [1.   , 0.   ],\n",
       "       [1.   , 0.   ],\n",
       "       [1.   , 0.   ],\n",
       "       [1.   , 0.   ],\n",
       "       [0.   , 1.   ],\n",
       "       [1.   , 0.   ],\n",
       "       [0.005, 0.995],\n",
       "       [1.   , 0.   ],\n",
       "       [0.   , 1.   ],\n",
       "       [0.   , 1.   ],\n",
       "       [0.988, 0.012],\n",
       "       [1.   , 0.   ],\n",
       "       [0.   , 1.   ],\n",
       "       [0.001, 0.999],\n",
       "       [1.   , 0.   ],\n",
       "       [0.999, 0.001]])"
      ]
     },
     "execution_count": 102,
     "metadata": {},
     "output_type": "execute_result"
    }
   ],
   "source": [
    "yprob = model.predict_proba(Xnew)\n",
    "yprob[:100].round(3)"
   ]
  },
  {
   "cell_type": "markdown",
   "metadata": {},
   "source": [
    "#### The columns give the posterior probabilities of the first and second label, respectively. If you are looking for estimates of uncertainty in your classification, Bayesian approaches like this can be a useful approach."
   ]
  },
  {
   "cell_type": "markdown",
   "metadata": {},
   "source": [
    "### Multinomial Naive Bayes"
   ]
  },
  {
   "cell_type": "markdown",
   "metadata": {},
   "source": [
    "#### In Multinomial Naiyve Bayes, the features are assumed to be generated from a simple multinomial distribution. The multinomial distribution describes the probability of observing counts among a number of categories, and thus multinomial naive Bayes is most appropriate for features that represent counts or count rates."
   ]
  },
  {
   "cell_type": "code",
   "execution_count": 103,
   "metadata": {},
   "outputs": [
    {
     "data": {
      "text/plain": [
       "['alt.atheism',\n",
       " 'comp.graphics',\n",
       " 'comp.os.ms-windows.misc',\n",
       " 'comp.sys.ibm.pc.hardware',\n",
       " 'comp.sys.mac.hardware',\n",
       " 'comp.windows.x',\n",
       " 'misc.forsale',\n",
       " 'rec.autos',\n",
       " 'rec.motorcycles',\n",
       " 'rec.sport.baseball',\n",
       " 'rec.sport.hockey',\n",
       " 'sci.crypt',\n",
       " 'sci.electronics',\n",
       " 'sci.med',\n",
       " 'sci.space',\n",
       " 'soc.religion.christian',\n",
       " 'talk.politics.guns',\n",
       " 'talk.politics.mideast',\n",
       " 'talk.politics.misc',\n",
       " 'talk.religion.misc']"
      ]
     },
     "execution_count": 103,
     "metadata": {},
     "output_type": "execute_result"
    }
   ],
   "source": [
    "# Here we will use the sparse word count features from the 20 Newsgroups corpus to show how we might \n",
    "# classify these short documents into categories.\n",
    "\n",
    "from sklearn.datasets import fetch_20newsgroups\n",
    "data = fetch_20newsgroups()\n",
    "data.target_names"
   ]
  },
  {
   "cell_type": "code",
   "execution_count": 104,
   "metadata": {},
   "outputs": [],
   "source": [
    "# Select just a few of these categories, and download the training and testing set.\n",
    "\n",
    "categories = ['talk.religion.misc', 'soc.religion.christian', 'sci.space',\n",
    "                  'comp.graphics']\n",
    "train = fetch_20newsgroups(subset='train', categories=categories)\n",
    "test = fetch_20newsgroups(subset='test', categories=categories)"
   ]
  },
  {
   "cell_type": "code",
   "execution_count": 105,
   "metadata": {},
   "outputs": [
    {
     "name": "stdout",
     "output_type": "stream",
     "text": [
      "From: dmcgee@uluhe.soest.hawaii.edu (Don McGee)\n",
      "Subject: Federal Hearing\n",
      "Originator: dmcgee@uluhe\n",
      "Organization: School of Ocean and Earth Science and Technology\n",
      "Distribution: usa\n",
      "Lines: 10\n",
      "\n",
      "\n",
      "Fact or rumor....?  Madalyn Murray O'Hare an atheist who eliminated the\n",
      "use of the bible reading and prayer in public schools 15 years ago is now\n",
      "going to appear before the FCC with a petition to stop the reading of the\n",
      "Gospel on the airways of America.  And she is also campaigning to remove\n",
      "Christmas programs, songs, etc from the public schools.  If it is true\n",
      "then mail to Federal Communications Commission 1919 H Street Washington DC\n",
      "20054 expressing your opposition to her request.  Reference Petition number\n",
      "\n",
      "2493.\n",
      "\n"
     ]
    }
   ],
   "source": [
    "print(train.data[5])"
   ]
  },
  {
   "cell_type": "code",
   "execution_count": 106,
   "metadata": {},
   "outputs": [],
   "source": [
    "# Here we use the TF–IDF vector‐ izer and create a pipeline that attaches it to a \n",
    "# multinomial naive Bayes classifier.\n",
    "\n",
    "from sklearn.feature_extraction.text import TfidfVectorizer \n",
    "from sklearn.naive_bayes import MultinomialNB\n",
    "from sklearn.pipeline import make_pipeline\n",
    "\n",
    "model = make_pipeline(TfidfVectorizer(), MultinomialNB())"
   ]
  },
  {
   "cell_type": "code",
   "execution_count": 107,
   "metadata": {},
   "outputs": [],
   "source": [
    "model.fit(train.data, train.target)\n",
    "labels = model.predict(test.data)"
   ]
  },
  {
   "cell_type": "code",
   "execution_count": 108,
   "metadata": {},
   "outputs": [
    {
     "data": {
      "image/png": "[encoded data removed]",
      "text/plain": [
       "<Figure size 432x288 with 1 Axes>"
      ]
     },
     "metadata": {
      "needs_background": "light"
     },
     "output_type": "display_data"
    }
   ],
   "source": [
    "# Build the confusion matrix between the true and predicted labels for the test data.\n",
    "\n",
    "from sklearn.metrics import confusion_matrix\n",
    "mat = confusion_matrix(test.target, labels)\n",
    "sns.heatmap(mat.T, square=True, annot=True, fmt='d', cbar=False,\n",
    "                xticklabels=train.target_names, yticklabels=train.target_names)\n",
    "plt.xlabel('true label')\n",
    "plt.ylabel('predicted label');"
   ]
  },
  {
   "cell_type": "code",
   "execution_count": 109,
   "metadata": {},
   "outputs": [],
   "source": [
    "def predict_category(s, train=train, model=model): \n",
    "    pred = model.predict([s])\n",
    "    return train.target_names[pred[0]] "
   ]
  },
  {
   "cell_type": "code",
   "execution_count": 110,
   "metadata": {},
   "outputs": [
    {
     "data": {
      "text/plain": [
       "'sci.space'"
      ]
     },
     "execution_count": 110,
     "metadata": {},
     "output_type": "execute_result"
    }
   ],
   "source": [
    "predict_category('Rocket Launch from Kennedy Centre')"
   ]
  },
  {
   "cell_type": "code",
   "execution_count": 111,
   "metadata": {},
   "outputs": [
    {
     "data": {
      "text/plain": [
       "'soc.religion.christian'"
      ]
     },
     "execution_count": 111,
     "metadata": {},
     "output_type": "execute_result"
    }
   ],
   "source": [
    "predict_category('Islam is one of the oldest')"
   ]
  },
  {
   "cell_type": "code",
   "execution_count": 112,
   "metadata": {},
   "outputs": [
    {
     "data": {
      "text/plain": [
       "'comp.graphics'"
      ]
     },
     "execution_count": 112,
     "metadata": {},
     "output_type": "execute_result"
    }
   ],
   "source": [
    "predict_category('Screen resolution is low')"
   ]
  },
  {
   "cell_type": "code",
   "execution_count": null,
   "metadata": {},
   "outputs": [],
   "source": []
  },
  {
   "cell_type": "code",
   "execution_count": null,
   "metadata": {},
   "outputs": [],
   "source": []
  },
  {
   "cell_type": "code",
   "execution_count": null,
   "metadata": {},
   "outputs": [],
   "source": []
  },
  {
   "cell_type": "code",
   "execution_count": null,
   "metadata": {},
   "outputs": [],
   "source": []
  }
 ],
 "metadata": {
  "kernelspec": {
   "display_name": "Python 3",
   "language": "python",
   "name": "python3"
  },
  "language_info": {
   "codemirror_mode": {
    "name": "ipython",
    "version": 3
   },
   "file_extension": ".py",
   "mimetype": "text/x-python",
   "name": "python",
   "nbconvert_exporter": "python",
   "pygments_lexer": "ipython3",
   "version": "3.8.5"
  }
 },
 "nbformat": 4,
 "nbformat_minor": 4
}
